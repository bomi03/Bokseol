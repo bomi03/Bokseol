{
 "cells": [
  {
   "cell_type": "markdown",
   "metadata": {},
   "source": [
    "<h1>국내 여행 로그 데이터(서부권) (2023)</h1>\n",
    "<h2>[데이터 정보]</h2>\n",
    "<ul>\n",
    "<li>2023 12,800명 이상의 데이터 구축</li>\n",
    "<li>Metadata 관련 파일 : 시군구코드.csv, 코드A.csv, 코드B.csv (분석 참고용) </li>\n",
    "<li>분석용 데이터 : 여행객.csv, 동반자정보.csv, 여행.csv, 이동내역.csv, GPS좌표.csv, 이동수단소비내역.csv, 숙박소비내역.csv, 활동내역.csv, 사전소비내역.csv, 활동소비내역.csv, 방문지정보.csv, 관광사진.csv\n",
    "<br> > 참고 : 가독성을 위해 원본 데이터의 파일명(CSV명)을 일부 수정하였고, 분석에 필요하지 않다고 판단한 GPS좌표.csv, 관광사진.csv, 이동내역.csv, 방문지정보.csv는 제외하고 분석을 진행</li>\n",
    "<li> Metadata 관련 파일 설명\n",
    "<br> 1. 시군구코드.csv\n",
    " <br>- 시도코드(2자리), 시군구코드(3자리), 읍면동코드(3자리)를 포함\n",
    " <br>- 시군구코드가 필요한 분석 결과는 해당 CSV 파일을 참고\n",
    "<br> 2. 코드B.csv\n",
    " <br>- 분석용 데이터에서 숫자값으로 입력된 코드들의 실제 한글값을 제공\n",
    " <br>- 해당 분석에서는 시각화 시 가독성을 위해 코드B.csv의 값들을 이용하여 숫자값을 한글값으로 변환하여 사용</li></ul>\n",
    "<h2>[분석 정보]</h2>\n",
    "<ul>\n",
    "<li>원본 데이터 손상 방지를 위해 모든 데이터는 복사본을 만들어서 분석 진행\n",
    "<br> > 예시 : 원본 데이터 프레임이 raw_traveller_master 라면, 분석을 진행하는 데이터 프레임은 traveller_master로 설정</li>\n",
    "<li>각 CSV 파일에서 분석에 필요한 변수들은 사전 작업을 통해 선별함\n",
    "<br>의미 및 순위가 불확실한 변수들도 제외</li>\n",
    "<li>여행객.csv를 제외한 모든 CSV 파일에는 TRAVEL_ID가존재하며, 여행객.csv의 TRAVELER_ID도 TRAVEL_ID의 형식으로 변환 가능하므로, TRAVEL_ID를 기준으로 각 데이터를 통합함</li></ul>\n",
    "\n"
   ]
  },
  {
   "cell_type": "markdown",
   "metadata": {},
   "source": [
    "<hr>\n",
    "<h2>[패키지 및 데이터 로드]</h2>"
   ]
  },
  {
   "cell_type": "code",
   "execution_count": 2149,
   "metadata": {},
   "outputs": [],
   "source": [
    "# 데이터를 분석하는데 필요한 패키지 로드하기 \n",
    "import pandas as pd\n",
    "import numpy as np\n",
    "import seaborn as sns\n",
    "import matplotlib.pyplot as plt\n",
    "import re\n",
    "plt.rcParams.update({'font.family' : 'Malgun Gothic'}) \n",
    "\n",
    "# 숫자 표기 설정\n",
    "pd.options.display.float_format = '{:,.2f}'.format # 지수 없이 숫자로\n",
    "#pd.reset_option('display.float_format') # 지수표기법\n",
    "\n",
    "# 출력 설정 변경 (None : 모든 행,열 출력)\n",
    "pd.set_option('display.max_columns', None)\n",
    "pd.set_option('display.width', 1000)\n",
    "#pd.reset_option('all') # 설정 변경 초기화 "
   ]
  },
  {
   "cell_type": "code",
   "execution_count": 2150,
   "metadata": {},
   "outputs": [],
   "source": [
    "# 분석용 데이터 불러오기\n",
    "raw_traveller_master = pd.read_csv('data/training/original_data/여행객.csv', encoding='UTF-8')\n",
    "raw_companion_info = pd.read_csv('data/training/original_data/동반자정보.csv', encoding='UTF-8')\n",
    "raw_travel = pd.read_csv('data/training/original_data/여행.csv', encoding='UTF-8')\n",
    "raw_mvmn_consume = pd.read_csv('data/training/original_data/이동수단소비내역.csv', encoding='UTF-8')\n",
    "raw_lodge_consume = pd.read_csv('data/training/original_data/숙박소비내역.csv', encoding='UTF-8')\n",
    "raw_activity = pd.read_csv('data/training/original_data/활동내역.csv', encoding='UTF-8')\n",
    "raw_activity_consume = pd.read_csv('data/training/original_data/활동소비내역.csv', encoding='UTF-8')\n",
    "raw_adv_consume = pd.read_csv('data/training/original_data/사전소비내역.csv', encoding='UTF-8')\n",
    "\n",
    "# 복사본 만들기 \n",
    "traveller_master = raw_traveller_master.copy()\n",
    "companion_info = raw_companion_info.copy()\n",
    "travel = raw_travel.copy()\n",
    "mvmn_consume = raw_mvmn_consume.copy()\n",
    "lodge_consume = raw_lodge_consume.copy()\n",
    "activity = raw_activity.copy()\n",
    "activity_consume = raw_activity_consume.copy()\n",
    "adv_consume = raw_adv_consume.copy()"
   ]
  },
  {
   "cell_type": "markdown",
   "metadata": {},
   "source": [
    "<hr>\n",
    "<h2>[한글값 매핑]</h2>"
   ]
  },
  {
   "cell_type": "code",
   "execution_count": 2151,
   "metadata": {},
   "outputs": [],
   "source": [
    "# 코드 'ACT'\n",
    "ACT_mapping = {\n",
    "    1 : '취식',\n",
    "    2 : '쇼핑 / 구매',\n",
    "    3 : '체험 활동 / 입장 및 관람',\n",
    "    4 : '단순 구경 / 산책 / 걷기',\n",
    "    5 : '휴식',\n",
    "    6 : '기타 활동',\n",
    "    7 : '환승/경유',\n",
    "    99 : '없음'\n",
    "}\n",
    "\n",
    "# 코드 'AGE'\n",
    "AGE_mapping = {\n",
    "    1 : '~9세이하',\n",
    "    2 : '10대',\n",
    "    3 : '20대',\n",
    "    4 : '30대',\n",
    "    5 : '40대',\n",
    "    6 : '50대',\n",
    "    7 : '60대',\n",
    "    8 : '70세이상'\n",
    "}\n",
    "\n",
    "# 코드 'GEN'\n",
    "GEN_mapping = {\n",
    "    1 : '남자',\n",
    "    2 : '여자'\n",
    "}\n",
    "\n",
    "# 코드 'HTY'\n",
    "HTY_mapping = {\n",
    "    1 : '호텔',\n",
    "    2 : '모텔/여관',\n",
    "    3 : '펜션',\n",
    "    4 : '콘도미니엄/리조트',\n",
    "    5 : '야영(캠핑,글램핑등)',\n",
    "    6 : '전통 숙박시설',\n",
    "    7 : '게스트하우스',\n",
    "    8 : '민박',\n",
    "    9 : '자연휴양림내 시설',\n",
    "    10 : '가족/친지집',\n",
    "    11 : '기타',\n",
    "    12 : '무박 여행'\n",
    "}\n",
    "\n",
    "# 코드 'JOB'\n",
    "JOB_mapping = {\n",
    "    1 : '관리자',\n",
    "    2 : '전문가 및 관련 종사자',\n",
    "    3 : '사무 종사자',\n",
    "    4 : '서비스 종사자',\n",
    "    5 : '판매 종사자',\n",
    "    6 : '농림어업 숙련 종사자',\n",
    "    7 : '기능원 및 관련 기능 종사자',\n",
    "    8 : '장치․기계 조작 및 조립 종사자',\n",
    "    9 : '단순노무종사자',\n",
    "    10 : '군인',\n",
    "    11 : '전업주부',\n",
    "    12 : '학생',\n",
    "    13 : '기타'\n",
    "}\n",
    "\n",
    "# 코드 'MIS'\n",
    "MIS_mapping = {\n",
    "    1 : '쇼핑',\n",
    "    2 : '테마파크, 놀이시설, 동/식물원 방문',\n",
    "    3 : '역사 유적지 방문',\n",
    "    4 : '시티투어',\n",
    "    5 : '야외 스포츠, 레포츠 활동',\n",
    "    6 : '지역 문화예술/공연/전시시설 관람',\n",
    "    7 : '유흥/오락(나이트라이프)',\n",
    "    8 : '캠핑',\n",
    "    9 : '지역 축제/이벤트 참가',\n",
    "    10 : '온천/스파',\n",
    "    11 : '교육/체험 프로그램 참가',\n",
    "    12 : '드라마 촬영지 방문',\n",
    "    13 : '종교/성지 순례',\n",
    "    21 : 'Well-ness 여행',\n",
    "    22 : 'SNS 인생샷 여행',\n",
    "    23 : '호캉스 여행',\n",
    "    24 : '신규 여행지 발굴',\n",
    "    25 : '반려동물 동반 여행',\n",
    "    26 : '인플루언서 따라하기 여행',\n",
    "    27 : '친환경 여행(플로깅 여행)',\n",
    "    28 : '등반 여행'\n",
    "}\n",
    "\n",
    "# 코드 'TCR'\n",
    "TCR_mapping = {\n",
    "    1 : '배우자',\n",
    "    2 : '자녀',\n",
    "    3 : '부모',\n",
    "    4 : '조부모',\n",
    "    5 : '형제/자매',\n",
    "    6 : '친인척',\n",
    "    7 : '친구',\n",
    "    8 : '연인',\n",
    "    9 : '동료',\n",
    "    10 : '친목 단체/모임(동호회, 종교단체 등)',\n",
    "    11 : '기타'\n",
    "}\n",
    "\n",
    "# 코드 'TMT'\n",
    "TMT_mapping = {\n",
    "    1 : '일상적인 환경 및 역할에서의 탈출, 지루함 탈피',\n",
    "    2 : '쉴 수 있는 기회, 육체 피로 해결 및 정신적인 휴식',\n",
    "    3 : '여행 동반자와의 친밀감 및 유대감 증진',\n",
    "    4 : '진정한 자아 찾기 또는 자신을 되돌아볼 기회 찾기',\n",
    "    5 : 'SNS 사진 등록 등 과시',\n",
    "    6 : '운동, 건강 증진 및 충전',\n",
    "    7 : '새로운 경험 추구',\n",
    "    8 : '역사 탐방, 문화적 경험 등 교육적 동기',\n",
    "    9 : '특별한 목적(칠순여행, 신혼여행, 수학여행, 인센티브여행)',\n",
    "    10 : '기타'\n",
    "}\n",
    "\n",
    "# 코드 'TSY' (자연 VS 도시)\n",
    "TSY_mapping = {\n",
    "    1 : '자연 선호(강)',\n",
    "    2 : '자연 선호(중)',\n",
    "    3 : '자연 선호(약)',\n",
    "    4 : '중립',\n",
    "    5 : '도시 선호(약)',\n",
    "    6 : '도시 선호(중)',\n",
    "    7 : '도시 선호(강)'\n",
    "}\n",
    "\n",
    "# 코드 'TTM'\n",
    "TTM_mapping = {\n",
    "    1 : '1주일',\n",
    "    2 : '한달',\n",
    "    3 : '1년',\n",
    "    4 : '기타'\n",
    "}"
   ]
  },
  {
   "cell_type": "code",
   "execution_count": 2152,
   "metadata": {},
   "outputs": [],
   "source": [
    "# 데이터프레임 변환 함수\n",
    "def convert_codes_to_korean(df, column_name, mapping) : \n",
    "    if column_name in df.columns : \n",
    "        df[column_name] = df[column_name].astype('int64')\n",
    "        df[column_name] = df[column_name].map(mapping)\n",
    "    return df"
   ]
  },
  {
   "cell_type": "markdown",
   "metadata": {},
   "source": [
    "<hr>\n",
    "<h2>[여행객.csv]</h2>"
   ]
  },
  {
   "cell_type": "markdown",
   "metadata": {},
   "source": [
    "<h3>1. 변수 추출 및 검토</h3>"
   ]
  },
  {
   "cell_type": "code",
   "execution_count": 2153,
   "metadata": {},
   "outputs": [
    {
     "name": "stdout",
     "output_type": "stream",
     "text": [
      "  TRAVELER_ID GENDER  AGE_GRP  JOB_NM  TRAVEL_TERM  TRAVEL_LIKE_SGG_1  TRAVEL_LIKE_SGG_2  TRAVEL_LIKE_SGG_3  TRAVEL_STYL_1  TRAVEL_STYL_2  TRAVEL_STYL_3  TRAVEL_STYL_4  TRAVEL_STYL_5  TRAVEL_STYL_6  TRAVEL_STYL_7  TRAVEL_STYL_8 TRAVEL_STATUS_RESIDENCE TRAVEL_STATUS_DESTINATION TRAVEL_STATUS_ACCOMPANY  TRAVEL_MOTIVE  TRAVEL_COMPANIONS_NUM\n",
      "0     g002178      여       20      12            3              50130              50110              26500              1              1              1              3              3              2              6              6                   광주광역시                        전남             2인 여행(가족 외)              1                      1\n",
      "1     g004485      남       40       2            2              48840              48220              26500              1              1              3              6              4              2              7              7                   대전광역시                        전북             2인 여행(가족 외)              1                      1\n",
      "2     g005167      남       20       1            3              46710              45190              47170              2              3              1              4              6              3              1              7                   서울특별시                        전남             2인 여행(가족 외)              7                      1\n",
      "3     g002887      여       30       3            2              42150              42210              28710              2              2              3              2              3              5              2              6                   인천광역시                        대전             2인 여행(가족 외)              2                      1\n",
      "4     g004189      남       20       4            2              42150              50110              26350              2              1              2              4              6              5              6              5                     경기도                        충남             2인 여행(가족 외)              2                      1\n"
     ]
    }
   ],
   "source": [
    "# 필요한 변수 리스트\n",
    "columns_to_keep_traveller = [\n",
    "    'TRAVELER_ID', 'GENDER', 'AGE_GRP', 'JOB_NM', 'TRAVEL_TERM', 'TRAVEL_LIKE_SGG_1', 'TRAVEL_LIKE_SGG_2', 'TRAVEL_LIKE_SGG_3', \n",
    "    'TRAVEL_STYL_1','TRAVEL_STYL_2','TRAVEL_STYL_3','TRAVEL_STYL_4','TRAVEL_STYL_5', 'TRAVEL_STYL_6', 'TRAVEL_STYL_7', 'TRAVEL_STYL_8',\n",
    "    'TRAVEL_STATUS_RESIDENCE', 'TRAVEL_STATUS_DESTINATION', 'TRAVEL_STATUS_ACCOMPANY', 'TRAVEL_MOTIVE_1', 'TRAVEL_COMPANIONS_NUM'\n",
    "    ]\n",
    "\n",
    "# traveller_master에 필요한 변수만 남기고 저장\n",
    "traveller_master = traveller_master[columns_to_keep_traveller]\n",
    "\n",
    "# 변수명 변경\n",
    "traveller_master = traveller_master.rename(columns={'TRAVEL_MOTIVE_1' : 'TRAVEL_MOTIVE'})\n",
    "\n",
    "# 결과 확인\n",
    "print(traveller_master.head())"
   ]
  },
  {
   "cell_type": "code",
   "execution_count": 2154,
   "metadata": {},
   "outputs": [
    {
     "name": "stdout",
     "output_type": "stream",
     "text": [
      "여행객.csv의 행, 열 개수 : \n",
      "(2560, 21)\n"
     ]
    }
   ],
   "source": [
    "# 데이터의 행, 열 개수 출력\n",
    "print('여행객.csv의 행, 열 개수 : ')\n",
    "print(traveller_master.shape)"
   ]
  },
  {
   "cell_type": "code",
   "execution_count": 2155,
   "metadata": {},
   "outputs": [
    {
     "name": "stdout",
     "output_type": "stream",
     "text": [
      "여행객.csv의 구조와 타입 : \n",
      "<class 'pandas.core.frame.DataFrame'>\n",
      "RangeIndex: 2560 entries, 0 to 2559\n",
      "Data columns (total 21 columns):\n",
      " #   Column                     Non-Null Count  Dtype \n",
      "---  ------                     --------------  ----- \n",
      " 0   TRAVELER_ID                2560 non-null   object\n",
      " 1   GENDER                     2560 non-null   object\n",
      " 2   AGE_GRP                    2560 non-null   int64 \n",
      " 3   JOB_NM                     2560 non-null   int64 \n",
      " 4   TRAVEL_TERM                2560 non-null   int64 \n",
      " 5   TRAVEL_LIKE_SGG_1          2560 non-null   int64 \n",
      " 6   TRAVEL_LIKE_SGG_2          2560 non-null   int64 \n",
      " 7   TRAVEL_LIKE_SGG_3          2560 non-null   int64 \n",
      " 8   TRAVEL_STYL_1              2560 non-null   int64 \n",
      " 9   TRAVEL_STYL_2              2560 non-null   int64 \n",
      " 10  TRAVEL_STYL_3              2560 non-null   int64 \n",
      " 11  TRAVEL_STYL_4              2560 non-null   int64 \n",
      " 12  TRAVEL_STYL_5              2560 non-null   int64 \n",
      " 13  TRAVEL_STYL_6              2560 non-null   int64 \n",
      " 14  TRAVEL_STYL_7              2560 non-null   int64 \n",
      " 15  TRAVEL_STYL_8              2560 non-null   int64 \n",
      " 16  TRAVEL_STATUS_RESIDENCE    2560 non-null   object\n",
      " 17  TRAVEL_STATUS_DESTINATION  2560 non-null   object\n",
      " 18  TRAVEL_STATUS_ACCOMPANY    2560 non-null   object\n",
      " 19  TRAVEL_MOTIVE              2560 non-null   int64 \n",
      " 20  TRAVEL_COMPANIONS_NUM      2560 non-null   int64 \n",
      "dtypes: int64(16), object(5)\n",
      "memory usage: 420.1+ KB\n",
      "None\n"
     ]
    }
   ],
   "source": [
    "# 데이터의 구조와 타입 확인\n",
    "print('여행객.csv의 구조와 타입 : ')\n",
    "print(traveller_master.info())"
   ]
  },
  {
   "cell_type": "code",
   "execution_count": 2156,
   "metadata": {},
   "outputs": [
    {
     "name": "stdout",
     "output_type": "stream",
     "text": [
      "여행객.csv의 결측치 : \n",
      "TRAVELER_ID                  0\n",
      "GENDER                       0\n",
      "AGE_GRP                      0\n",
      "JOB_NM                       0\n",
      "TRAVEL_TERM                  0\n",
      "TRAVEL_LIKE_SGG_1            0\n",
      "TRAVEL_LIKE_SGG_2            0\n",
      "TRAVEL_LIKE_SGG_3            0\n",
      "TRAVEL_STYL_1                0\n",
      "TRAVEL_STYL_2                0\n",
      "TRAVEL_STYL_3                0\n",
      "TRAVEL_STYL_4                0\n",
      "TRAVEL_STYL_5                0\n",
      "TRAVEL_STYL_6                0\n",
      "TRAVEL_STYL_7                0\n",
      "TRAVEL_STYL_8                0\n",
      "TRAVEL_STATUS_RESIDENCE      0\n",
      "TRAVEL_STATUS_DESTINATION    0\n",
      "TRAVEL_STATUS_ACCOMPANY      0\n",
      "TRAVEL_MOTIVE                0\n",
      "TRAVEL_COMPANIONS_NUM        0\n",
      "dtype: int64\n"
     ]
    }
   ],
   "source": [
    "# 데이터의 결측치 확인\n",
    "print('여행객.csv의 결측치 : ')\n",
    "print(traveller_master.isnull().sum())"
   ]
  },
  {
   "cell_type": "code",
   "execution_count": 2157,
   "metadata": {},
   "outputs": [
    {
     "data": {
      "text/html": [
       "<div>\n",
       "<style scoped>\n",
       "    .dataframe tbody tr th:only-of-type {\n",
       "        vertical-align: middle;\n",
       "    }\n",
       "\n",
       "    .dataframe tbody tr th {\n",
       "        vertical-align: top;\n",
       "    }\n",
       "\n",
       "    .dataframe thead th {\n",
       "        text-align: right;\n",
       "    }\n",
       "</style>\n",
       "<table border=\"1\" class=\"dataframe\">\n",
       "  <thead>\n",
       "    <tr style=\"text-align: right;\">\n",
       "      <th></th>\n",
       "      <th>TRAVELER_ID</th>\n",
       "      <th>GENDER</th>\n",
       "      <th>AGE_GRP</th>\n",
       "      <th>JOB_NM</th>\n",
       "      <th>TRAVEL_TERM</th>\n",
       "      <th>TRAVEL_LIKE_SGG_1</th>\n",
       "      <th>TRAVEL_LIKE_SGG_2</th>\n",
       "      <th>TRAVEL_LIKE_SGG_3</th>\n",
       "      <th>TRAVEL_STYL_1</th>\n",
       "      <th>TRAVEL_STYL_2</th>\n",
       "      <th>TRAVEL_STYL_3</th>\n",
       "      <th>TRAVEL_STYL_4</th>\n",
       "      <th>TRAVEL_STYL_5</th>\n",
       "      <th>TRAVEL_STYL_6</th>\n",
       "      <th>TRAVEL_STYL_7</th>\n",
       "      <th>TRAVEL_STYL_8</th>\n",
       "      <th>TRAVEL_STATUS_RESIDENCE</th>\n",
       "      <th>TRAVEL_STATUS_DESTINATION</th>\n",
       "      <th>TRAVEL_STATUS_ACCOMPANY</th>\n",
       "      <th>TRAVEL_MOTIVE</th>\n",
       "      <th>TRAVEL_COMPANIONS_NUM</th>\n",
       "    </tr>\n",
       "  </thead>\n",
       "  <tbody>\n",
       "    <tr>\n",
       "      <th>0</th>\n",
       "      <td>g002178</td>\n",
       "      <td>여</td>\n",
       "      <td>20</td>\n",
       "      <td>12</td>\n",
       "      <td>3</td>\n",
       "      <td>50130</td>\n",
       "      <td>50110</td>\n",
       "      <td>26500</td>\n",
       "      <td>1</td>\n",
       "      <td>1</td>\n",
       "      <td>1</td>\n",
       "      <td>3</td>\n",
       "      <td>3</td>\n",
       "      <td>2</td>\n",
       "      <td>6</td>\n",
       "      <td>6</td>\n",
       "      <td>광주광역시</td>\n",
       "      <td>전남</td>\n",
       "      <td>2인 여행(가족 외)</td>\n",
       "      <td>1</td>\n",
       "      <td>1</td>\n",
       "    </tr>\n",
       "    <tr>\n",
       "      <th>1</th>\n",
       "      <td>g004485</td>\n",
       "      <td>남</td>\n",
       "      <td>40</td>\n",
       "      <td>2</td>\n",
       "      <td>2</td>\n",
       "      <td>48840</td>\n",
       "      <td>48220</td>\n",
       "      <td>26500</td>\n",
       "      <td>1</td>\n",
       "      <td>1</td>\n",
       "      <td>3</td>\n",
       "      <td>6</td>\n",
       "      <td>4</td>\n",
       "      <td>2</td>\n",
       "      <td>7</td>\n",
       "      <td>7</td>\n",
       "      <td>대전광역시</td>\n",
       "      <td>전북</td>\n",
       "      <td>2인 여행(가족 외)</td>\n",
       "      <td>1</td>\n",
       "      <td>1</td>\n",
       "    </tr>\n",
       "    <tr>\n",
       "      <th>2</th>\n",
       "      <td>g005167</td>\n",
       "      <td>남</td>\n",
       "      <td>20</td>\n",
       "      <td>1</td>\n",
       "      <td>3</td>\n",
       "      <td>46710</td>\n",
       "      <td>45190</td>\n",
       "      <td>47170</td>\n",
       "      <td>2</td>\n",
       "      <td>3</td>\n",
       "      <td>1</td>\n",
       "      <td>4</td>\n",
       "      <td>6</td>\n",
       "      <td>3</td>\n",
       "      <td>1</td>\n",
       "      <td>7</td>\n",
       "      <td>서울특별시</td>\n",
       "      <td>전남</td>\n",
       "      <td>2인 여행(가족 외)</td>\n",
       "      <td>7</td>\n",
       "      <td>1</td>\n",
       "    </tr>\n",
       "    <tr>\n",
       "      <th>3</th>\n",
       "      <td>g002887</td>\n",
       "      <td>여</td>\n",
       "      <td>30</td>\n",
       "      <td>3</td>\n",
       "      <td>2</td>\n",
       "      <td>42150</td>\n",
       "      <td>42210</td>\n",
       "      <td>28710</td>\n",
       "      <td>2</td>\n",
       "      <td>2</td>\n",
       "      <td>3</td>\n",
       "      <td>2</td>\n",
       "      <td>3</td>\n",
       "      <td>5</td>\n",
       "      <td>2</td>\n",
       "      <td>6</td>\n",
       "      <td>인천광역시</td>\n",
       "      <td>대전</td>\n",
       "      <td>2인 여행(가족 외)</td>\n",
       "      <td>2</td>\n",
       "      <td>1</td>\n",
       "    </tr>\n",
       "    <tr>\n",
       "      <th>4</th>\n",
       "      <td>g004189</td>\n",
       "      <td>남</td>\n",
       "      <td>20</td>\n",
       "      <td>4</td>\n",
       "      <td>2</td>\n",
       "      <td>42150</td>\n",
       "      <td>50110</td>\n",
       "      <td>26350</td>\n",
       "      <td>2</td>\n",
       "      <td>1</td>\n",
       "      <td>2</td>\n",
       "      <td>4</td>\n",
       "      <td>6</td>\n",
       "      <td>5</td>\n",
       "      <td>6</td>\n",
       "      <td>5</td>\n",
       "      <td>경기도</td>\n",
       "      <td>충남</td>\n",
       "      <td>2인 여행(가족 외)</td>\n",
       "      <td>2</td>\n",
       "      <td>1</td>\n",
       "    </tr>\n",
       "  </tbody>\n",
       "</table>\n",
       "</div>"
      ],
      "text/plain": [
       "  TRAVELER_ID GENDER  AGE_GRP  JOB_NM  TRAVEL_TERM  TRAVEL_LIKE_SGG_1  TRAVEL_LIKE_SGG_2  TRAVEL_LIKE_SGG_3  TRAVEL_STYL_1  TRAVEL_STYL_2  TRAVEL_STYL_3  TRAVEL_STYL_4  TRAVEL_STYL_5  TRAVEL_STYL_6  TRAVEL_STYL_7  TRAVEL_STYL_8 TRAVEL_STATUS_RESIDENCE TRAVEL_STATUS_DESTINATION TRAVEL_STATUS_ACCOMPANY  TRAVEL_MOTIVE  TRAVEL_COMPANIONS_NUM\n",
       "0     g002178      여       20      12            3              50130              50110              26500              1              1              1              3              3              2              6              6                   광주광역시                        전남             2인 여행(가족 외)              1                      1\n",
       "1     g004485      남       40       2            2              48840              48220              26500              1              1              3              6              4              2              7              7                   대전광역시                        전북             2인 여행(가족 외)              1                      1\n",
       "2     g005167      남       20       1            3              46710              45190              47170              2              3              1              4              6              3              1              7                   서울특별시                        전남             2인 여행(가족 외)              7                      1\n",
       "3     g002887      여       30       3            2              42150              42210              28710              2              2              3              2              3              5              2              6                   인천광역시                        대전             2인 여행(가족 외)              2                      1\n",
       "4     g004189      남       20       4            2              42150              50110              26350              2              1              2              4              6              5              6              5                     경기도                        충남             2인 여행(가족 외)              2                      1"
      ]
     },
     "execution_count": 2157,
     "metadata": {},
     "output_type": "execute_result"
    }
   ],
   "source": [
    "# 데이터 살펴보기\n",
    "traveller_master.head()"
   ]
  },
  {
   "cell_type": "markdown",
   "metadata": {},
   "source": [
    "<h3>2. 전처리</h3>"
   ]
  },
  {
   "cell_type": "markdown",
   "metadata": {},
   "source": [
    "<h5>1) 모든 CSV 파일 통합을 위해 TRAVELER_ID를 TRAVEL_ID 형식으로 변환</h5>"
   ]
  },
  {
   "cell_type": "code",
   "execution_count": 2158,
   "metadata": {},
   "outputs": [
    {
     "data": {
      "text/html": [
       "<div>\n",
       "<style scoped>\n",
       "    .dataframe tbody tr th:only-of-type {\n",
       "        vertical-align: middle;\n",
       "    }\n",
       "\n",
       "    .dataframe tbody tr th {\n",
       "        vertical-align: top;\n",
       "    }\n",
       "\n",
       "    .dataframe thead th {\n",
       "        text-align: right;\n",
       "    }\n",
       "</style>\n",
       "<table border=\"1\" class=\"dataframe\">\n",
       "  <thead>\n",
       "    <tr style=\"text-align: right;\">\n",
       "      <th></th>\n",
       "      <th>TRAVELER_ID</th>\n",
       "      <th>TRAVEL_ID</th>\n",
       "    </tr>\n",
       "  </thead>\n",
       "  <tbody>\n",
       "    <tr>\n",
       "      <th>0</th>\n",
       "      <td>g002178</td>\n",
       "      <td>g_g002178</td>\n",
       "    </tr>\n",
       "    <tr>\n",
       "      <th>1</th>\n",
       "      <td>g004485</td>\n",
       "      <td>g_g004485</td>\n",
       "    </tr>\n",
       "    <tr>\n",
       "      <th>2</th>\n",
       "      <td>g005167</td>\n",
       "      <td>g_g005167</td>\n",
       "    </tr>\n",
       "    <tr>\n",
       "      <th>3</th>\n",
       "      <td>g002887</td>\n",
       "      <td>g_g002887</td>\n",
       "    </tr>\n",
       "    <tr>\n",
       "      <th>4</th>\n",
       "      <td>g004189</td>\n",
       "      <td>g_g004189</td>\n",
       "    </tr>\n",
       "  </tbody>\n",
       "</table>\n",
       "</div>"
      ],
      "text/plain": [
       "  TRAVELER_ID  TRAVEL_ID\n",
       "0     g002178  g_g002178\n",
       "1     g004485  g_g004485\n",
       "2     g005167  g_g005167\n",
       "3     g002887  g_g002887\n",
       "4     g004189  g_g004189"
      ]
     },
     "execution_count": 2158,
     "metadata": {},
     "output_type": "execute_result"
    }
   ],
   "source": [
    "# TRAVELER_ID의 가장 앞의 알파벳과 _를 추출하여 TRAVELER_ID에 결합하기 위한 함수\n",
    "def modify_travel_id(travel_id):\n",
    "    match = re.match(r'([a-zA-Z])(\\d+)', travel_id)\n",
    "    if match:\n",
    "        return f'{match.group(1)}_{match.group(0)}'\n",
    "    return travel_id\n",
    "\n",
    "# TRAVELER_ID 변환\n",
    "traveller_master['TRAVEL_ID'] = traveller_master['TRAVELER_ID'].apply(modify_travel_id)\n",
    "\n",
    "# 변환 결과 확인\n",
    "traveller_master[['TRAVELER_ID', 'TRAVEL_ID']].head()"
   ]
  },
  {
   "cell_type": "code",
   "execution_count": 2159,
   "metadata": {},
   "outputs": [
    {
     "data": {
      "text/html": [
       "<div>\n",
       "<style scoped>\n",
       "    .dataframe tbody tr th:only-of-type {\n",
       "        vertical-align: middle;\n",
       "    }\n",
       "\n",
       "    .dataframe tbody tr th {\n",
       "        vertical-align: top;\n",
       "    }\n",
       "\n",
       "    .dataframe thead th {\n",
       "        text-align: right;\n",
       "    }\n",
       "</style>\n",
       "<table border=\"1\" class=\"dataframe\">\n",
       "  <thead>\n",
       "    <tr style=\"text-align: right;\">\n",
       "      <th></th>\n",
       "      <th>GENDER</th>\n",
       "      <th>AGE_GRP</th>\n",
       "      <th>JOB_NM</th>\n",
       "      <th>TRAVEL_TERM</th>\n",
       "      <th>TRAVEL_LIKE_SGG_1</th>\n",
       "      <th>TRAVEL_LIKE_SGG_2</th>\n",
       "      <th>TRAVEL_LIKE_SGG_3</th>\n",
       "      <th>TRAVEL_STYL_1</th>\n",
       "      <th>TRAVEL_STYL_2</th>\n",
       "      <th>TRAVEL_STYL_3</th>\n",
       "      <th>TRAVEL_STYL_4</th>\n",
       "      <th>TRAVEL_STYL_5</th>\n",
       "      <th>TRAVEL_STYL_6</th>\n",
       "      <th>TRAVEL_STYL_7</th>\n",
       "      <th>TRAVEL_STYL_8</th>\n",
       "      <th>TRAVEL_STATUS_RESIDENCE</th>\n",
       "      <th>TRAVEL_STATUS_DESTINATION</th>\n",
       "      <th>TRAVEL_STATUS_ACCOMPANY</th>\n",
       "      <th>TRAVEL_MOTIVE</th>\n",
       "      <th>TRAVEL_COMPANIONS_NUM</th>\n",
       "      <th>TRAVEL_ID</th>\n",
       "    </tr>\n",
       "  </thead>\n",
       "  <tbody>\n",
       "    <tr>\n",
       "      <th>0</th>\n",
       "      <td>여</td>\n",
       "      <td>20</td>\n",
       "      <td>12</td>\n",
       "      <td>3</td>\n",
       "      <td>50130</td>\n",
       "      <td>50110</td>\n",
       "      <td>26500</td>\n",
       "      <td>1</td>\n",
       "      <td>1</td>\n",
       "      <td>1</td>\n",
       "      <td>3</td>\n",
       "      <td>3</td>\n",
       "      <td>2</td>\n",
       "      <td>6</td>\n",
       "      <td>6</td>\n",
       "      <td>광주광역시</td>\n",
       "      <td>전남</td>\n",
       "      <td>2인 여행(가족 외)</td>\n",
       "      <td>1</td>\n",
       "      <td>1</td>\n",
       "      <td>g_g002178</td>\n",
       "    </tr>\n",
       "    <tr>\n",
       "      <th>1</th>\n",
       "      <td>남</td>\n",
       "      <td>40</td>\n",
       "      <td>2</td>\n",
       "      <td>2</td>\n",
       "      <td>48840</td>\n",
       "      <td>48220</td>\n",
       "      <td>26500</td>\n",
       "      <td>1</td>\n",
       "      <td>1</td>\n",
       "      <td>3</td>\n",
       "      <td>6</td>\n",
       "      <td>4</td>\n",
       "      <td>2</td>\n",
       "      <td>7</td>\n",
       "      <td>7</td>\n",
       "      <td>대전광역시</td>\n",
       "      <td>전북</td>\n",
       "      <td>2인 여행(가족 외)</td>\n",
       "      <td>1</td>\n",
       "      <td>1</td>\n",
       "      <td>g_g004485</td>\n",
       "    </tr>\n",
       "    <tr>\n",
       "      <th>2</th>\n",
       "      <td>남</td>\n",
       "      <td>20</td>\n",
       "      <td>1</td>\n",
       "      <td>3</td>\n",
       "      <td>46710</td>\n",
       "      <td>45190</td>\n",
       "      <td>47170</td>\n",
       "      <td>2</td>\n",
       "      <td>3</td>\n",
       "      <td>1</td>\n",
       "      <td>4</td>\n",
       "      <td>6</td>\n",
       "      <td>3</td>\n",
       "      <td>1</td>\n",
       "      <td>7</td>\n",
       "      <td>서울특별시</td>\n",
       "      <td>전남</td>\n",
       "      <td>2인 여행(가족 외)</td>\n",
       "      <td>7</td>\n",
       "      <td>1</td>\n",
       "      <td>g_g005167</td>\n",
       "    </tr>\n",
       "    <tr>\n",
       "      <th>3</th>\n",
       "      <td>여</td>\n",
       "      <td>30</td>\n",
       "      <td>3</td>\n",
       "      <td>2</td>\n",
       "      <td>42150</td>\n",
       "      <td>42210</td>\n",
       "      <td>28710</td>\n",
       "      <td>2</td>\n",
       "      <td>2</td>\n",
       "      <td>3</td>\n",
       "      <td>2</td>\n",
       "      <td>3</td>\n",
       "      <td>5</td>\n",
       "      <td>2</td>\n",
       "      <td>6</td>\n",
       "      <td>인천광역시</td>\n",
       "      <td>대전</td>\n",
       "      <td>2인 여행(가족 외)</td>\n",
       "      <td>2</td>\n",
       "      <td>1</td>\n",
       "      <td>g_g002887</td>\n",
       "    </tr>\n",
       "    <tr>\n",
       "      <th>4</th>\n",
       "      <td>남</td>\n",
       "      <td>20</td>\n",
       "      <td>4</td>\n",
       "      <td>2</td>\n",
       "      <td>42150</td>\n",
       "      <td>50110</td>\n",
       "      <td>26350</td>\n",
       "      <td>2</td>\n",
       "      <td>1</td>\n",
       "      <td>2</td>\n",
       "      <td>4</td>\n",
       "      <td>6</td>\n",
       "      <td>5</td>\n",
       "      <td>6</td>\n",
       "      <td>5</td>\n",
       "      <td>경기도</td>\n",
       "      <td>충남</td>\n",
       "      <td>2인 여행(가족 외)</td>\n",
       "      <td>2</td>\n",
       "      <td>1</td>\n",
       "      <td>g_g004189</td>\n",
       "    </tr>\n",
       "  </tbody>\n",
       "</table>\n",
       "</div>"
      ],
      "text/plain": [
       "  GENDER  AGE_GRP  JOB_NM  TRAVEL_TERM  TRAVEL_LIKE_SGG_1  TRAVEL_LIKE_SGG_2  TRAVEL_LIKE_SGG_3  TRAVEL_STYL_1  TRAVEL_STYL_2  TRAVEL_STYL_3  TRAVEL_STYL_4  TRAVEL_STYL_5  TRAVEL_STYL_6  TRAVEL_STYL_7  TRAVEL_STYL_8 TRAVEL_STATUS_RESIDENCE TRAVEL_STATUS_DESTINATION TRAVEL_STATUS_ACCOMPANY  TRAVEL_MOTIVE  TRAVEL_COMPANIONS_NUM  TRAVEL_ID\n",
       "0      여       20      12            3              50130              50110              26500              1              1              1              3              3              2              6              6                   광주광역시                        전남             2인 여행(가족 외)              1                      1  g_g002178\n",
       "1      남       40       2            2              48840              48220              26500              1              1              3              6              4              2              7              7                   대전광역시                        전북             2인 여행(가족 외)              1                      1  g_g004485\n",
       "2      남       20       1            3              46710              45190              47170              2              3              1              4              6              3              1              7                   서울특별시                        전남             2인 여행(가족 외)              7                      1  g_g005167\n",
       "3      여       30       3            2              42150              42210              28710              2              2              3              2              3              5              2              6                   인천광역시                        대전             2인 여행(가족 외)              2                      1  g_g002887\n",
       "4      남       20       4            2              42150              50110              26350              2              1              2              4              6              5              6              5                     경기도                        충남             2인 여행(가족 외)              2                      1  g_g004189"
      ]
     },
     "execution_count": 2159,
     "metadata": {},
     "output_type": "execute_result"
    }
   ],
   "source": [
    "# TRAVELER_ID 컬럼 삭제\n",
    "traveller_master.drop(columns=['TRAVELER_ID'], inplace=True)\n",
    "\n",
    "# 결과 확인\n",
    "traveller_master.head()"
   ]
  },
  {
   "cell_type": "markdown",
   "metadata": {},
   "source": [
    "<h5>2) JOB_NM 변수 코드 'JOB' 매핑</h5>"
   ]
  },
  {
   "cell_type": "code",
   "execution_count": 2160,
   "metadata": {},
   "outputs": [
    {
     "data": {
      "text/html": [
       "<div>\n",
       "<style scoped>\n",
       "    .dataframe tbody tr th:only-of-type {\n",
       "        vertical-align: middle;\n",
       "    }\n",
       "\n",
       "    .dataframe tbody tr th {\n",
       "        vertical-align: top;\n",
       "    }\n",
       "\n",
       "    .dataframe thead th {\n",
       "        text-align: right;\n",
       "    }\n",
       "</style>\n",
       "<table border=\"1\" class=\"dataframe\">\n",
       "  <thead>\n",
       "    <tr style=\"text-align: right;\">\n",
       "      <th></th>\n",
       "      <th>GENDER</th>\n",
       "      <th>AGE_GRP</th>\n",
       "      <th>JOB_NM</th>\n",
       "      <th>TRAVEL_TERM</th>\n",
       "      <th>TRAVEL_LIKE_SGG_1</th>\n",
       "      <th>TRAVEL_LIKE_SGG_2</th>\n",
       "      <th>TRAVEL_LIKE_SGG_3</th>\n",
       "      <th>TRAVEL_STYL_1</th>\n",
       "      <th>TRAVEL_STYL_2</th>\n",
       "      <th>TRAVEL_STYL_3</th>\n",
       "      <th>TRAVEL_STYL_4</th>\n",
       "      <th>TRAVEL_STYL_5</th>\n",
       "      <th>TRAVEL_STYL_6</th>\n",
       "      <th>TRAVEL_STYL_7</th>\n",
       "      <th>TRAVEL_STYL_8</th>\n",
       "      <th>TRAVEL_STATUS_RESIDENCE</th>\n",
       "      <th>TRAVEL_STATUS_DESTINATION</th>\n",
       "      <th>TRAVEL_STATUS_ACCOMPANY</th>\n",
       "      <th>TRAVEL_MOTIVE</th>\n",
       "      <th>TRAVEL_COMPANIONS_NUM</th>\n",
       "      <th>TRAVEL_ID</th>\n",
       "    </tr>\n",
       "  </thead>\n",
       "  <tbody>\n",
       "    <tr>\n",
       "      <th>0</th>\n",
       "      <td>여</td>\n",
       "      <td>20</td>\n",
       "      <td>학생</td>\n",
       "      <td>3</td>\n",
       "      <td>50130</td>\n",
       "      <td>50110</td>\n",
       "      <td>26500</td>\n",
       "      <td>1</td>\n",
       "      <td>1</td>\n",
       "      <td>1</td>\n",
       "      <td>3</td>\n",
       "      <td>3</td>\n",
       "      <td>2</td>\n",
       "      <td>6</td>\n",
       "      <td>6</td>\n",
       "      <td>광주광역시</td>\n",
       "      <td>전남</td>\n",
       "      <td>2인 여행(가족 외)</td>\n",
       "      <td>1</td>\n",
       "      <td>1</td>\n",
       "      <td>g_g002178</td>\n",
       "    </tr>\n",
       "    <tr>\n",
       "      <th>1</th>\n",
       "      <td>남</td>\n",
       "      <td>40</td>\n",
       "      <td>전문가 및 관련 종사자</td>\n",
       "      <td>2</td>\n",
       "      <td>48840</td>\n",
       "      <td>48220</td>\n",
       "      <td>26500</td>\n",
       "      <td>1</td>\n",
       "      <td>1</td>\n",
       "      <td>3</td>\n",
       "      <td>6</td>\n",
       "      <td>4</td>\n",
       "      <td>2</td>\n",
       "      <td>7</td>\n",
       "      <td>7</td>\n",
       "      <td>대전광역시</td>\n",
       "      <td>전북</td>\n",
       "      <td>2인 여행(가족 외)</td>\n",
       "      <td>1</td>\n",
       "      <td>1</td>\n",
       "      <td>g_g004485</td>\n",
       "    </tr>\n",
       "    <tr>\n",
       "      <th>2</th>\n",
       "      <td>남</td>\n",
       "      <td>20</td>\n",
       "      <td>관리자</td>\n",
       "      <td>3</td>\n",
       "      <td>46710</td>\n",
       "      <td>45190</td>\n",
       "      <td>47170</td>\n",
       "      <td>2</td>\n",
       "      <td>3</td>\n",
       "      <td>1</td>\n",
       "      <td>4</td>\n",
       "      <td>6</td>\n",
       "      <td>3</td>\n",
       "      <td>1</td>\n",
       "      <td>7</td>\n",
       "      <td>서울특별시</td>\n",
       "      <td>전남</td>\n",
       "      <td>2인 여행(가족 외)</td>\n",
       "      <td>7</td>\n",
       "      <td>1</td>\n",
       "      <td>g_g005167</td>\n",
       "    </tr>\n",
       "    <tr>\n",
       "      <th>3</th>\n",
       "      <td>여</td>\n",
       "      <td>30</td>\n",
       "      <td>사무 종사자</td>\n",
       "      <td>2</td>\n",
       "      <td>42150</td>\n",
       "      <td>42210</td>\n",
       "      <td>28710</td>\n",
       "      <td>2</td>\n",
       "      <td>2</td>\n",
       "      <td>3</td>\n",
       "      <td>2</td>\n",
       "      <td>3</td>\n",
       "      <td>5</td>\n",
       "      <td>2</td>\n",
       "      <td>6</td>\n",
       "      <td>인천광역시</td>\n",
       "      <td>대전</td>\n",
       "      <td>2인 여행(가족 외)</td>\n",
       "      <td>2</td>\n",
       "      <td>1</td>\n",
       "      <td>g_g002887</td>\n",
       "    </tr>\n",
       "    <tr>\n",
       "      <th>4</th>\n",
       "      <td>남</td>\n",
       "      <td>20</td>\n",
       "      <td>서비스 종사자</td>\n",
       "      <td>2</td>\n",
       "      <td>42150</td>\n",
       "      <td>50110</td>\n",
       "      <td>26350</td>\n",
       "      <td>2</td>\n",
       "      <td>1</td>\n",
       "      <td>2</td>\n",
       "      <td>4</td>\n",
       "      <td>6</td>\n",
       "      <td>5</td>\n",
       "      <td>6</td>\n",
       "      <td>5</td>\n",
       "      <td>경기도</td>\n",
       "      <td>충남</td>\n",
       "      <td>2인 여행(가족 외)</td>\n",
       "      <td>2</td>\n",
       "      <td>1</td>\n",
       "      <td>g_g004189</td>\n",
       "    </tr>\n",
       "  </tbody>\n",
       "</table>\n",
       "</div>"
      ],
      "text/plain": [
       "  GENDER  AGE_GRP        JOB_NM  TRAVEL_TERM  TRAVEL_LIKE_SGG_1  TRAVEL_LIKE_SGG_2  TRAVEL_LIKE_SGG_3  TRAVEL_STYL_1  TRAVEL_STYL_2  TRAVEL_STYL_3  TRAVEL_STYL_4  TRAVEL_STYL_5  TRAVEL_STYL_6  TRAVEL_STYL_7  TRAVEL_STYL_8 TRAVEL_STATUS_RESIDENCE TRAVEL_STATUS_DESTINATION TRAVEL_STATUS_ACCOMPANY  TRAVEL_MOTIVE  TRAVEL_COMPANIONS_NUM  TRAVEL_ID\n",
       "0      여       20            학생            3              50130              50110              26500              1              1              1              3              3              2              6              6                   광주광역시                        전남             2인 여행(가족 외)              1                      1  g_g002178\n",
       "1      남       40  전문가 및 관련 종사자            2              48840              48220              26500              1              1              3              6              4              2              7              7                   대전광역시                        전북             2인 여행(가족 외)              1                      1  g_g004485\n",
       "2      남       20           관리자            3              46710              45190              47170              2              3              1              4              6              3              1              7                   서울특별시                        전남             2인 여행(가족 외)              7                      1  g_g005167\n",
       "3      여       30        사무 종사자            2              42150              42210              28710              2              2              3              2              3              5              2              6                   인천광역시                        대전             2인 여행(가족 외)              2                      1  g_g002887\n",
       "4      남       20       서비스 종사자            2              42150              50110              26350              2              1              2              4              6              5              6              5                     경기도                        충남             2인 여행(가족 외)              2                      1  g_g004189"
      ]
     },
     "execution_count": 2160,
     "metadata": {},
     "output_type": "execute_result"
    }
   ],
   "source": [
    "traveller_master = convert_codes_to_korean(traveller_master, 'JOB_NM', JOB_mapping)\n",
    "\n",
    "# 결과 확인\n",
    "traveller_master.head()"
   ]
  },
  {
   "cell_type": "markdown",
   "metadata": {},
   "source": [
    "<h5>3) TRAVEL_TERM 변수 코드 'TTM' 매핑</h5>"
   ]
  },
  {
   "cell_type": "code",
   "execution_count": 2161,
   "metadata": {},
   "outputs": [
    {
     "data": {
      "text/html": [
       "<div>\n",
       "<style scoped>\n",
       "    .dataframe tbody tr th:only-of-type {\n",
       "        vertical-align: middle;\n",
       "    }\n",
       "\n",
       "    .dataframe tbody tr th {\n",
       "        vertical-align: top;\n",
       "    }\n",
       "\n",
       "    .dataframe thead th {\n",
       "        text-align: right;\n",
       "    }\n",
       "</style>\n",
       "<table border=\"1\" class=\"dataframe\">\n",
       "  <thead>\n",
       "    <tr style=\"text-align: right;\">\n",
       "      <th></th>\n",
       "      <th>GENDER</th>\n",
       "      <th>AGE_GRP</th>\n",
       "      <th>JOB_NM</th>\n",
       "      <th>TRAVEL_TERM</th>\n",
       "      <th>TRAVEL_LIKE_SGG_1</th>\n",
       "      <th>TRAVEL_LIKE_SGG_2</th>\n",
       "      <th>TRAVEL_LIKE_SGG_3</th>\n",
       "      <th>TRAVEL_STYL_1</th>\n",
       "      <th>TRAVEL_STYL_2</th>\n",
       "      <th>TRAVEL_STYL_3</th>\n",
       "      <th>TRAVEL_STYL_4</th>\n",
       "      <th>TRAVEL_STYL_5</th>\n",
       "      <th>TRAVEL_STYL_6</th>\n",
       "      <th>TRAVEL_STYL_7</th>\n",
       "      <th>TRAVEL_STYL_8</th>\n",
       "      <th>TRAVEL_STATUS_RESIDENCE</th>\n",
       "      <th>TRAVEL_STATUS_DESTINATION</th>\n",
       "      <th>TRAVEL_STATUS_ACCOMPANY</th>\n",
       "      <th>TRAVEL_MOTIVE</th>\n",
       "      <th>TRAVEL_COMPANIONS_NUM</th>\n",
       "      <th>TRAVEL_ID</th>\n",
       "    </tr>\n",
       "  </thead>\n",
       "  <tbody>\n",
       "    <tr>\n",
       "      <th>0</th>\n",
       "      <td>여</td>\n",
       "      <td>20</td>\n",
       "      <td>학생</td>\n",
       "      <td>1년</td>\n",
       "      <td>50130</td>\n",
       "      <td>50110</td>\n",
       "      <td>26500</td>\n",
       "      <td>1</td>\n",
       "      <td>1</td>\n",
       "      <td>1</td>\n",
       "      <td>3</td>\n",
       "      <td>3</td>\n",
       "      <td>2</td>\n",
       "      <td>6</td>\n",
       "      <td>6</td>\n",
       "      <td>광주광역시</td>\n",
       "      <td>전남</td>\n",
       "      <td>2인 여행(가족 외)</td>\n",
       "      <td>1</td>\n",
       "      <td>1</td>\n",
       "      <td>g_g002178</td>\n",
       "    </tr>\n",
       "    <tr>\n",
       "      <th>1</th>\n",
       "      <td>남</td>\n",
       "      <td>40</td>\n",
       "      <td>전문가 및 관련 종사자</td>\n",
       "      <td>한달</td>\n",
       "      <td>48840</td>\n",
       "      <td>48220</td>\n",
       "      <td>26500</td>\n",
       "      <td>1</td>\n",
       "      <td>1</td>\n",
       "      <td>3</td>\n",
       "      <td>6</td>\n",
       "      <td>4</td>\n",
       "      <td>2</td>\n",
       "      <td>7</td>\n",
       "      <td>7</td>\n",
       "      <td>대전광역시</td>\n",
       "      <td>전북</td>\n",
       "      <td>2인 여행(가족 외)</td>\n",
       "      <td>1</td>\n",
       "      <td>1</td>\n",
       "      <td>g_g004485</td>\n",
       "    </tr>\n",
       "    <tr>\n",
       "      <th>2</th>\n",
       "      <td>남</td>\n",
       "      <td>20</td>\n",
       "      <td>관리자</td>\n",
       "      <td>1년</td>\n",
       "      <td>46710</td>\n",
       "      <td>45190</td>\n",
       "      <td>47170</td>\n",
       "      <td>2</td>\n",
       "      <td>3</td>\n",
       "      <td>1</td>\n",
       "      <td>4</td>\n",
       "      <td>6</td>\n",
       "      <td>3</td>\n",
       "      <td>1</td>\n",
       "      <td>7</td>\n",
       "      <td>서울특별시</td>\n",
       "      <td>전남</td>\n",
       "      <td>2인 여행(가족 외)</td>\n",
       "      <td>7</td>\n",
       "      <td>1</td>\n",
       "      <td>g_g005167</td>\n",
       "    </tr>\n",
       "    <tr>\n",
       "      <th>3</th>\n",
       "      <td>여</td>\n",
       "      <td>30</td>\n",
       "      <td>사무 종사자</td>\n",
       "      <td>한달</td>\n",
       "      <td>42150</td>\n",
       "      <td>42210</td>\n",
       "      <td>28710</td>\n",
       "      <td>2</td>\n",
       "      <td>2</td>\n",
       "      <td>3</td>\n",
       "      <td>2</td>\n",
       "      <td>3</td>\n",
       "      <td>5</td>\n",
       "      <td>2</td>\n",
       "      <td>6</td>\n",
       "      <td>인천광역시</td>\n",
       "      <td>대전</td>\n",
       "      <td>2인 여행(가족 외)</td>\n",
       "      <td>2</td>\n",
       "      <td>1</td>\n",
       "      <td>g_g002887</td>\n",
       "    </tr>\n",
       "    <tr>\n",
       "      <th>4</th>\n",
       "      <td>남</td>\n",
       "      <td>20</td>\n",
       "      <td>서비스 종사자</td>\n",
       "      <td>한달</td>\n",
       "      <td>42150</td>\n",
       "      <td>50110</td>\n",
       "      <td>26350</td>\n",
       "      <td>2</td>\n",
       "      <td>1</td>\n",
       "      <td>2</td>\n",
       "      <td>4</td>\n",
       "      <td>6</td>\n",
       "      <td>5</td>\n",
       "      <td>6</td>\n",
       "      <td>5</td>\n",
       "      <td>경기도</td>\n",
       "      <td>충남</td>\n",
       "      <td>2인 여행(가족 외)</td>\n",
       "      <td>2</td>\n",
       "      <td>1</td>\n",
       "      <td>g_g004189</td>\n",
       "    </tr>\n",
       "  </tbody>\n",
       "</table>\n",
       "</div>"
      ],
      "text/plain": [
       "  GENDER  AGE_GRP        JOB_NM TRAVEL_TERM  TRAVEL_LIKE_SGG_1  TRAVEL_LIKE_SGG_2  TRAVEL_LIKE_SGG_3  TRAVEL_STYL_1  TRAVEL_STYL_2  TRAVEL_STYL_3  TRAVEL_STYL_4  TRAVEL_STYL_5  TRAVEL_STYL_6  TRAVEL_STYL_7  TRAVEL_STYL_8 TRAVEL_STATUS_RESIDENCE TRAVEL_STATUS_DESTINATION TRAVEL_STATUS_ACCOMPANY  TRAVEL_MOTIVE  TRAVEL_COMPANIONS_NUM  TRAVEL_ID\n",
       "0      여       20            학생          1년              50130              50110              26500              1              1              1              3              3              2              6              6                   광주광역시                        전남             2인 여행(가족 외)              1                      1  g_g002178\n",
       "1      남       40  전문가 및 관련 종사자          한달              48840              48220              26500              1              1              3              6              4              2              7              7                   대전광역시                        전북             2인 여행(가족 외)              1                      1  g_g004485\n",
       "2      남       20           관리자          1년              46710              45190              47170              2              3              1              4              6              3              1              7                   서울특별시                        전남             2인 여행(가족 외)              7                      1  g_g005167\n",
       "3      여       30        사무 종사자          한달              42150              42210              28710              2              2              3              2              3              5              2              6                   인천광역시                        대전             2인 여행(가족 외)              2                      1  g_g002887\n",
       "4      남       20       서비스 종사자          한달              42150              50110              26350              2              1              2              4              6              5              6              5                     경기도                        충남             2인 여행(가족 외)              2                      1  g_g004189"
      ]
     },
     "execution_count": 2161,
     "metadata": {},
     "output_type": "execute_result"
    }
   ],
   "source": [
    "traveller_master = convert_codes_to_korean(traveller_master, 'TRAVEL_TERM', TTM_mapping)\n",
    "\n",
    "# 결과 확인\n",
    "traveller_master.head()"
   ]
  },
  {
   "cell_type": "markdown",
   "metadata": {},
   "source": [
    "<h5>4) TRAVEL_STYL_1~8 변수 코드 'TSY' 매핑</h5>"
   ]
  },
  {
   "cell_type": "code",
   "execution_count": 2162,
   "metadata": {},
   "outputs": [
    {
     "data": {
      "text/html": [
       "<div>\n",
       "<style scoped>\n",
       "    .dataframe tbody tr th:only-of-type {\n",
       "        vertical-align: middle;\n",
       "    }\n",
       "\n",
       "    .dataframe tbody tr th {\n",
       "        vertical-align: top;\n",
       "    }\n",
       "\n",
       "    .dataframe thead th {\n",
       "        text-align: right;\n",
       "    }\n",
       "</style>\n",
       "<table border=\"1\" class=\"dataframe\">\n",
       "  <thead>\n",
       "    <tr style=\"text-align: right;\">\n",
       "      <th></th>\n",
       "      <th>GENDER</th>\n",
       "      <th>AGE_GRP</th>\n",
       "      <th>JOB_NM</th>\n",
       "      <th>TRAVEL_TERM</th>\n",
       "      <th>TRAVEL_LIKE_SGG_1</th>\n",
       "      <th>TRAVEL_LIKE_SGG_2</th>\n",
       "      <th>TRAVEL_LIKE_SGG_3</th>\n",
       "      <th>TRAVEL_STYL_1</th>\n",
       "      <th>TRAVEL_STYL_2</th>\n",
       "      <th>TRAVEL_STYL_3</th>\n",
       "      <th>TRAVEL_STYL_4</th>\n",
       "      <th>TRAVEL_STYL_5</th>\n",
       "      <th>TRAVEL_STYL_6</th>\n",
       "      <th>TRAVEL_STYL_7</th>\n",
       "      <th>TRAVEL_STYL_8</th>\n",
       "      <th>TRAVEL_STATUS_RESIDENCE</th>\n",
       "      <th>TRAVEL_STATUS_DESTINATION</th>\n",
       "      <th>TRAVEL_STATUS_ACCOMPANY</th>\n",
       "      <th>TRAVEL_MOTIVE</th>\n",
       "      <th>TRAVEL_COMPANIONS_NUM</th>\n",
       "      <th>TRAVEL_ID</th>\n",
       "    </tr>\n",
       "  </thead>\n",
       "  <tbody>\n",
       "    <tr>\n",
       "      <th>0</th>\n",
       "      <td>여</td>\n",
       "      <td>20</td>\n",
       "      <td>학생</td>\n",
       "      <td>1년</td>\n",
       "      <td>50130</td>\n",
       "      <td>50110</td>\n",
       "      <td>26500</td>\n",
       "      <td>자연 선호(강)</td>\n",
       "      <td>자연 선호(강)</td>\n",
       "      <td>자연 선호(강)</td>\n",
       "      <td>자연 선호(약)</td>\n",
       "      <td>자연 선호(약)</td>\n",
       "      <td>자연 선호(중)</td>\n",
       "      <td>도시 선호(중)</td>\n",
       "      <td>도시 선호(중)</td>\n",
       "      <td>광주광역시</td>\n",
       "      <td>전남</td>\n",
       "      <td>2인 여행(가족 외)</td>\n",
       "      <td>1</td>\n",
       "      <td>1</td>\n",
       "      <td>g_g002178</td>\n",
       "    </tr>\n",
       "    <tr>\n",
       "      <th>1</th>\n",
       "      <td>남</td>\n",
       "      <td>40</td>\n",
       "      <td>전문가 및 관련 종사자</td>\n",
       "      <td>한달</td>\n",
       "      <td>48840</td>\n",
       "      <td>48220</td>\n",
       "      <td>26500</td>\n",
       "      <td>자연 선호(강)</td>\n",
       "      <td>자연 선호(강)</td>\n",
       "      <td>자연 선호(약)</td>\n",
       "      <td>도시 선호(중)</td>\n",
       "      <td>중립</td>\n",
       "      <td>자연 선호(중)</td>\n",
       "      <td>도시 선호(강)</td>\n",
       "      <td>도시 선호(강)</td>\n",
       "      <td>대전광역시</td>\n",
       "      <td>전북</td>\n",
       "      <td>2인 여행(가족 외)</td>\n",
       "      <td>1</td>\n",
       "      <td>1</td>\n",
       "      <td>g_g004485</td>\n",
       "    </tr>\n",
       "    <tr>\n",
       "      <th>2</th>\n",
       "      <td>남</td>\n",
       "      <td>20</td>\n",
       "      <td>관리자</td>\n",
       "      <td>1년</td>\n",
       "      <td>46710</td>\n",
       "      <td>45190</td>\n",
       "      <td>47170</td>\n",
       "      <td>자연 선호(중)</td>\n",
       "      <td>자연 선호(약)</td>\n",
       "      <td>자연 선호(강)</td>\n",
       "      <td>중립</td>\n",
       "      <td>도시 선호(중)</td>\n",
       "      <td>자연 선호(약)</td>\n",
       "      <td>자연 선호(강)</td>\n",
       "      <td>도시 선호(강)</td>\n",
       "      <td>서울특별시</td>\n",
       "      <td>전남</td>\n",
       "      <td>2인 여행(가족 외)</td>\n",
       "      <td>7</td>\n",
       "      <td>1</td>\n",
       "      <td>g_g005167</td>\n",
       "    </tr>\n",
       "    <tr>\n",
       "      <th>3</th>\n",
       "      <td>여</td>\n",
       "      <td>30</td>\n",
       "      <td>사무 종사자</td>\n",
       "      <td>한달</td>\n",
       "      <td>42150</td>\n",
       "      <td>42210</td>\n",
       "      <td>28710</td>\n",
       "      <td>자연 선호(중)</td>\n",
       "      <td>자연 선호(중)</td>\n",
       "      <td>자연 선호(약)</td>\n",
       "      <td>자연 선호(중)</td>\n",
       "      <td>자연 선호(약)</td>\n",
       "      <td>도시 선호(약)</td>\n",
       "      <td>자연 선호(중)</td>\n",
       "      <td>도시 선호(중)</td>\n",
       "      <td>인천광역시</td>\n",
       "      <td>대전</td>\n",
       "      <td>2인 여행(가족 외)</td>\n",
       "      <td>2</td>\n",
       "      <td>1</td>\n",
       "      <td>g_g002887</td>\n",
       "    </tr>\n",
       "    <tr>\n",
       "      <th>4</th>\n",
       "      <td>남</td>\n",
       "      <td>20</td>\n",
       "      <td>서비스 종사자</td>\n",
       "      <td>한달</td>\n",
       "      <td>42150</td>\n",
       "      <td>50110</td>\n",
       "      <td>26350</td>\n",
       "      <td>자연 선호(중)</td>\n",
       "      <td>자연 선호(강)</td>\n",
       "      <td>자연 선호(중)</td>\n",
       "      <td>중립</td>\n",
       "      <td>도시 선호(중)</td>\n",
       "      <td>도시 선호(약)</td>\n",
       "      <td>도시 선호(중)</td>\n",
       "      <td>도시 선호(약)</td>\n",
       "      <td>경기도</td>\n",
       "      <td>충남</td>\n",
       "      <td>2인 여행(가족 외)</td>\n",
       "      <td>2</td>\n",
       "      <td>1</td>\n",
       "      <td>g_g004189</td>\n",
       "    </tr>\n",
       "  </tbody>\n",
       "</table>\n",
       "</div>"
      ],
      "text/plain": [
       "  GENDER  AGE_GRP        JOB_NM TRAVEL_TERM  TRAVEL_LIKE_SGG_1  TRAVEL_LIKE_SGG_2  TRAVEL_LIKE_SGG_3 TRAVEL_STYL_1 TRAVEL_STYL_2 TRAVEL_STYL_3 TRAVEL_STYL_4 TRAVEL_STYL_5 TRAVEL_STYL_6 TRAVEL_STYL_7 TRAVEL_STYL_8 TRAVEL_STATUS_RESIDENCE TRAVEL_STATUS_DESTINATION TRAVEL_STATUS_ACCOMPANY  TRAVEL_MOTIVE  TRAVEL_COMPANIONS_NUM  TRAVEL_ID\n",
       "0      여       20            학생          1년              50130              50110              26500      자연 선호(강)      자연 선호(강)      자연 선호(강)      자연 선호(약)      자연 선호(약)      자연 선호(중)      도시 선호(중)      도시 선호(중)                   광주광역시                        전남             2인 여행(가족 외)              1                      1  g_g002178\n",
       "1      남       40  전문가 및 관련 종사자          한달              48840              48220              26500      자연 선호(강)      자연 선호(강)      자연 선호(약)      도시 선호(중)            중립      자연 선호(중)      도시 선호(강)      도시 선호(강)                   대전광역시                        전북             2인 여행(가족 외)              1                      1  g_g004485\n",
       "2      남       20           관리자          1년              46710              45190              47170      자연 선호(중)      자연 선호(약)      자연 선호(강)            중립      도시 선호(중)      자연 선호(약)      자연 선호(강)      도시 선호(강)                   서울특별시                        전남             2인 여행(가족 외)              7                      1  g_g005167\n",
       "3      여       30        사무 종사자          한달              42150              42210              28710      자연 선호(중)      자연 선호(중)      자연 선호(약)      자연 선호(중)      자연 선호(약)      도시 선호(약)      자연 선호(중)      도시 선호(중)                   인천광역시                        대전             2인 여행(가족 외)              2                      1  g_g002887\n",
       "4      남       20       서비스 종사자          한달              42150              50110              26350      자연 선호(중)      자연 선호(강)      자연 선호(중)            중립      도시 선호(중)      도시 선호(약)      도시 선호(중)      도시 선호(약)                     경기도                        충남             2인 여행(가족 외)              2                      1  g_g004189"
      ]
     },
     "execution_count": 2162,
     "metadata": {},
     "output_type": "execute_result"
    }
   ],
   "source": [
    "traveller_master = convert_codes_to_korean(traveller_master, 'TRAVEL_STYL_1', TSY_mapping)\n",
    "traveller_master = convert_codes_to_korean(traveller_master, 'TRAVEL_STYL_2', TSY_mapping)\n",
    "traveller_master = convert_codes_to_korean(traveller_master, 'TRAVEL_STYL_3', TSY_mapping)\n",
    "traveller_master = convert_codes_to_korean(traveller_master, 'TRAVEL_STYL_4', TSY_mapping)\n",
    "traveller_master = convert_codes_to_korean(traveller_master, 'TRAVEL_STYL_5', TSY_mapping)\n",
    "traveller_master = convert_codes_to_korean(traveller_master, 'TRAVEL_STYL_6', TSY_mapping)\n",
    "traveller_master = convert_codes_to_korean(traveller_master, 'TRAVEL_STYL_7', TSY_mapping)\n",
    "traveller_master = convert_codes_to_korean(traveller_master, 'TRAVEL_STYL_8', TSY_mapping)\n",
    "\n",
    "# 결과 확인\n",
    "traveller_master.head()"
   ]
  },
  {
   "cell_type": "markdown",
   "metadata": {},
   "source": [
    "<h5>5) TRAVEL_MOTIVE 변수 코드 'TMT' 매핑</h5>"
   ]
  },
  {
   "cell_type": "code",
   "execution_count": 2163,
   "metadata": {},
   "outputs": [
    {
     "data": {
      "text/html": [
       "<div>\n",
       "<style scoped>\n",
       "    .dataframe tbody tr th:only-of-type {\n",
       "        vertical-align: middle;\n",
       "    }\n",
       "\n",
       "    .dataframe tbody tr th {\n",
       "        vertical-align: top;\n",
       "    }\n",
       "\n",
       "    .dataframe thead th {\n",
       "        text-align: right;\n",
       "    }\n",
       "</style>\n",
       "<table border=\"1\" class=\"dataframe\">\n",
       "  <thead>\n",
       "    <tr style=\"text-align: right;\">\n",
       "      <th></th>\n",
       "      <th>GENDER</th>\n",
       "      <th>AGE_GRP</th>\n",
       "      <th>JOB_NM</th>\n",
       "      <th>TRAVEL_TERM</th>\n",
       "      <th>TRAVEL_LIKE_SGG_1</th>\n",
       "      <th>TRAVEL_LIKE_SGG_2</th>\n",
       "      <th>TRAVEL_LIKE_SGG_3</th>\n",
       "      <th>TRAVEL_STYL_1</th>\n",
       "      <th>TRAVEL_STYL_2</th>\n",
       "      <th>TRAVEL_STYL_3</th>\n",
       "      <th>TRAVEL_STYL_4</th>\n",
       "      <th>TRAVEL_STYL_5</th>\n",
       "      <th>TRAVEL_STYL_6</th>\n",
       "      <th>TRAVEL_STYL_7</th>\n",
       "      <th>TRAVEL_STYL_8</th>\n",
       "      <th>TRAVEL_STATUS_RESIDENCE</th>\n",
       "      <th>TRAVEL_STATUS_DESTINATION</th>\n",
       "      <th>TRAVEL_STATUS_ACCOMPANY</th>\n",
       "      <th>TRAVEL_MOTIVE</th>\n",
       "      <th>TRAVEL_COMPANIONS_NUM</th>\n",
       "      <th>TRAVEL_ID</th>\n",
       "    </tr>\n",
       "  </thead>\n",
       "  <tbody>\n",
       "    <tr>\n",
       "      <th>0</th>\n",
       "      <td>여</td>\n",
       "      <td>20</td>\n",
       "      <td>학생</td>\n",
       "      <td>1년</td>\n",
       "      <td>50130</td>\n",
       "      <td>50110</td>\n",
       "      <td>26500</td>\n",
       "      <td>자연 선호(강)</td>\n",
       "      <td>자연 선호(강)</td>\n",
       "      <td>자연 선호(강)</td>\n",
       "      <td>자연 선호(약)</td>\n",
       "      <td>자연 선호(약)</td>\n",
       "      <td>자연 선호(중)</td>\n",
       "      <td>도시 선호(중)</td>\n",
       "      <td>도시 선호(중)</td>\n",
       "      <td>광주광역시</td>\n",
       "      <td>전남</td>\n",
       "      <td>2인 여행(가족 외)</td>\n",
       "      <td>일상적인 환경 및 역할에서의 탈출, 지루함 탈피</td>\n",
       "      <td>1</td>\n",
       "      <td>g_g002178</td>\n",
       "    </tr>\n",
       "    <tr>\n",
       "      <th>1</th>\n",
       "      <td>남</td>\n",
       "      <td>40</td>\n",
       "      <td>전문가 및 관련 종사자</td>\n",
       "      <td>한달</td>\n",
       "      <td>48840</td>\n",
       "      <td>48220</td>\n",
       "      <td>26500</td>\n",
       "      <td>자연 선호(강)</td>\n",
       "      <td>자연 선호(강)</td>\n",
       "      <td>자연 선호(약)</td>\n",
       "      <td>도시 선호(중)</td>\n",
       "      <td>중립</td>\n",
       "      <td>자연 선호(중)</td>\n",
       "      <td>도시 선호(강)</td>\n",
       "      <td>도시 선호(강)</td>\n",
       "      <td>대전광역시</td>\n",
       "      <td>전북</td>\n",
       "      <td>2인 여행(가족 외)</td>\n",
       "      <td>일상적인 환경 및 역할에서의 탈출, 지루함 탈피</td>\n",
       "      <td>1</td>\n",
       "      <td>g_g004485</td>\n",
       "    </tr>\n",
       "    <tr>\n",
       "      <th>2</th>\n",
       "      <td>남</td>\n",
       "      <td>20</td>\n",
       "      <td>관리자</td>\n",
       "      <td>1년</td>\n",
       "      <td>46710</td>\n",
       "      <td>45190</td>\n",
       "      <td>47170</td>\n",
       "      <td>자연 선호(중)</td>\n",
       "      <td>자연 선호(약)</td>\n",
       "      <td>자연 선호(강)</td>\n",
       "      <td>중립</td>\n",
       "      <td>도시 선호(중)</td>\n",
       "      <td>자연 선호(약)</td>\n",
       "      <td>자연 선호(강)</td>\n",
       "      <td>도시 선호(강)</td>\n",
       "      <td>서울특별시</td>\n",
       "      <td>전남</td>\n",
       "      <td>2인 여행(가족 외)</td>\n",
       "      <td>새로운 경험 추구</td>\n",
       "      <td>1</td>\n",
       "      <td>g_g005167</td>\n",
       "    </tr>\n",
       "    <tr>\n",
       "      <th>3</th>\n",
       "      <td>여</td>\n",
       "      <td>30</td>\n",
       "      <td>사무 종사자</td>\n",
       "      <td>한달</td>\n",
       "      <td>42150</td>\n",
       "      <td>42210</td>\n",
       "      <td>28710</td>\n",
       "      <td>자연 선호(중)</td>\n",
       "      <td>자연 선호(중)</td>\n",
       "      <td>자연 선호(약)</td>\n",
       "      <td>자연 선호(중)</td>\n",
       "      <td>자연 선호(약)</td>\n",
       "      <td>도시 선호(약)</td>\n",
       "      <td>자연 선호(중)</td>\n",
       "      <td>도시 선호(중)</td>\n",
       "      <td>인천광역시</td>\n",
       "      <td>대전</td>\n",
       "      <td>2인 여행(가족 외)</td>\n",
       "      <td>쉴 수 있는 기회, 육체 피로 해결 및 정신적인 휴식</td>\n",
       "      <td>1</td>\n",
       "      <td>g_g002887</td>\n",
       "    </tr>\n",
       "    <tr>\n",
       "      <th>4</th>\n",
       "      <td>남</td>\n",
       "      <td>20</td>\n",
       "      <td>서비스 종사자</td>\n",
       "      <td>한달</td>\n",
       "      <td>42150</td>\n",
       "      <td>50110</td>\n",
       "      <td>26350</td>\n",
       "      <td>자연 선호(중)</td>\n",
       "      <td>자연 선호(강)</td>\n",
       "      <td>자연 선호(중)</td>\n",
       "      <td>중립</td>\n",
       "      <td>도시 선호(중)</td>\n",
       "      <td>도시 선호(약)</td>\n",
       "      <td>도시 선호(중)</td>\n",
       "      <td>도시 선호(약)</td>\n",
       "      <td>경기도</td>\n",
       "      <td>충남</td>\n",
       "      <td>2인 여행(가족 외)</td>\n",
       "      <td>쉴 수 있는 기회, 육체 피로 해결 및 정신적인 휴식</td>\n",
       "      <td>1</td>\n",
       "      <td>g_g004189</td>\n",
       "    </tr>\n",
       "  </tbody>\n",
       "</table>\n",
       "</div>"
      ],
      "text/plain": [
       "  GENDER  AGE_GRP        JOB_NM TRAVEL_TERM  TRAVEL_LIKE_SGG_1  TRAVEL_LIKE_SGG_2  TRAVEL_LIKE_SGG_3 TRAVEL_STYL_1 TRAVEL_STYL_2 TRAVEL_STYL_3 TRAVEL_STYL_4 TRAVEL_STYL_5 TRAVEL_STYL_6 TRAVEL_STYL_7 TRAVEL_STYL_8 TRAVEL_STATUS_RESIDENCE TRAVEL_STATUS_DESTINATION TRAVEL_STATUS_ACCOMPANY                  TRAVEL_MOTIVE  TRAVEL_COMPANIONS_NUM  TRAVEL_ID\n",
       "0      여       20            학생          1년              50130              50110              26500      자연 선호(강)      자연 선호(강)      자연 선호(강)      자연 선호(약)      자연 선호(약)      자연 선호(중)      도시 선호(중)      도시 선호(중)                   광주광역시                        전남             2인 여행(가족 외)     일상적인 환경 및 역할에서의 탈출, 지루함 탈피                      1  g_g002178\n",
       "1      남       40  전문가 및 관련 종사자          한달              48840              48220              26500      자연 선호(강)      자연 선호(강)      자연 선호(약)      도시 선호(중)            중립      자연 선호(중)      도시 선호(강)      도시 선호(강)                   대전광역시                        전북             2인 여행(가족 외)     일상적인 환경 및 역할에서의 탈출, 지루함 탈피                      1  g_g004485\n",
       "2      남       20           관리자          1년              46710              45190              47170      자연 선호(중)      자연 선호(약)      자연 선호(강)            중립      도시 선호(중)      자연 선호(약)      자연 선호(강)      도시 선호(강)                   서울특별시                        전남             2인 여행(가족 외)                      새로운 경험 추구                      1  g_g005167\n",
       "3      여       30        사무 종사자          한달              42150              42210              28710      자연 선호(중)      자연 선호(중)      자연 선호(약)      자연 선호(중)      자연 선호(약)      도시 선호(약)      자연 선호(중)      도시 선호(중)                   인천광역시                        대전             2인 여행(가족 외)  쉴 수 있는 기회, 육체 피로 해결 및 정신적인 휴식                      1  g_g002887\n",
       "4      남       20       서비스 종사자          한달              42150              50110              26350      자연 선호(중)      자연 선호(강)      자연 선호(중)            중립      도시 선호(중)      도시 선호(약)      도시 선호(중)      도시 선호(약)                     경기도                        충남             2인 여행(가족 외)  쉴 수 있는 기회, 육체 피로 해결 및 정신적인 휴식                      1  g_g004189"
      ]
     },
     "execution_count": 2163,
     "metadata": {},
     "output_type": "execute_result"
    }
   ],
   "source": [
    "traveller_master = convert_codes_to_korean(traveller_master, 'TRAVEL_MOTIVE', TMT_mapping)\n",
    "\n",
    "# 결과 확인\n",
    "traveller_master.head()"
   ]
  },
  {
   "cell_type": "markdown",
   "metadata": {},
   "source": [
    "<h3>3. 전처리 후 확인</h3>"
   ]
  },
  {
   "cell_type": "code",
   "execution_count": 2164,
   "metadata": {},
   "outputs": [
    {
     "name": "stdout",
     "output_type": "stream",
     "text": [
      "중복된 TRAVEL_ID가 없습니다.\n"
     ]
    }
   ],
   "source": [
    "# TRAVEL_ID 중복 여부 확인\n",
    "duplicates = traveller_master[traveller_master.duplicated(subset='TRAVEL_ID', keep=False)]\n",
    "\n",
    "# 중복된 항목이 있는 경우\n",
    "if not duplicates.empty:\n",
    "    print(\"중복된 TRAVEL_ID가 있습니다.\")\n",
    "    print(duplicates)\n",
    "else:\n",
    "    print(\"중복된 TRAVEL_ID가 없습니다.\")"
   ]
  },
  {
   "cell_type": "code",
   "execution_count": 2165,
   "metadata": {},
   "outputs": [
    {
     "name": "stdout",
     "output_type": "stream",
     "text": [
      "여행객.csv의 구조와 타입 : \n",
      "<class 'pandas.core.frame.DataFrame'>\n",
      "RangeIndex: 2560 entries, 0 to 2559\n",
      "Data columns (total 21 columns):\n",
      " #   Column                     Non-Null Count  Dtype \n",
      "---  ------                     --------------  ----- \n",
      " 0   GENDER                     2560 non-null   object\n",
      " 1   AGE_GRP                    2560 non-null   int64 \n",
      " 2   JOB_NM                     2560 non-null   object\n",
      " 3   TRAVEL_TERM                2560 non-null   object\n",
      " 4   TRAVEL_LIKE_SGG_1          2560 non-null   int64 \n",
      " 5   TRAVEL_LIKE_SGG_2          2560 non-null   int64 \n",
      " 6   TRAVEL_LIKE_SGG_3          2560 non-null   int64 \n",
      " 7   TRAVEL_STYL_1              2560 non-null   object\n",
      " 8   TRAVEL_STYL_2              2560 non-null   object\n",
      " 9   TRAVEL_STYL_3              2560 non-null   object\n",
      " 10  TRAVEL_STYL_4              2560 non-null   object\n",
      " 11  TRAVEL_STYL_5              2560 non-null   object\n",
      " 12  TRAVEL_STYL_6              2560 non-null   object\n",
      " 13  TRAVEL_STYL_7              2560 non-null   object\n",
      " 14  TRAVEL_STYL_8              2560 non-null   object\n",
      " 15  TRAVEL_STATUS_RESIDENCE    2560 non-null   object\n",
      " 16  TRAVEL_STATUS_DESTINATION  2560 non-null   object\n",
      " 17  TRAVEL_STATUS_ACCOMPANY    2560 non-null   object\n",
      " 18  TRAVEL_MOTIVE              2560 non-null   object\n",
      " 19  TRAVEL_COMPANIONS_NUM      2560 non-null   int64 \n",
      " 20  TRAVEL_ID                  2560 non-null   object\n",
      "dtypes: int64(5), object(16)\n",
      "memory usage: 420.1+ KB\n",
      "None\n"
     ]
    }
   ],
   "source": [
    "# 데이터의 구조와 타입 확인\n",
    "print('여행객.csv의 구조와 타입 : ')\n",
    "print(traveller_master.info())"
   ]
  },
  {
   "cell_type": "code",
   "execution_count": 2166,
   "metadata": {},
   "outputs": [
    {
     "name": "stdout",
     "output_type": "stream",
     "text": [
      "여행객.csv의 결측치 : \n",
      "GENDER                       0\n",
      "AGE_GRP                      0\n",
      "JOB_NM                       0\n",
      "TRAVEL_TERM                  0\n",
      "TRAVEL_LIKE_SGG_1            0\n",
      "TRAVEL_LIKE_SGG_2            0\n",
      "TRAVEL_LIKE_SGG_3            0\n",
      "TRAVEL_STYL_1                0\n",
      "TRAVEL_STYL_2                0\n",
      "TRAVEL_STYL_3                0\n",
      "TRAVEL_STYL_4                0\n",
      "TRAVEL_STYL_5                0\n",
      "TRAVEL_STYL_6                0\n",
      "TRAVEL_STYL_7                0\n",
      "TRAVEL_STYL_8                0\n",
      "TRAVEL_STATUS_RESIDENCE      0\n",
      "TRAVEL_STATUS_DESTINATION    0\n",
      "TRAVEL_STATUS_ACCOMPANY      0\n",
      "TRAVEL_MOTIVE                0\n",
      "TRAVEL_COMPANIONS_NUM        0\n",
      "TRAVEL_ID                    0\n",
      "dtype: int64\n"
     ]
    }
   ],
   "source": [
    "# 데이터의 결측치 확인\n",
    "print('여행객.csv의 결측치 : ')\n",
    "print(traveller_master.isnull().sum())"
   ]
  },
  {
   "cell_type": "code",
   "execution_count": 2167,
   "metadata": {},
   "outputs": [
    {
     "data": {
      "text/html": [
       "<div>\n",
       "<style scoped>\n",
       "    .dataframe tbody tr th:only-of-type {\n",
       "        vertical-align: middle;\n",
       "    }\n",
       "\n",
       "    .dataframe tbody tr th {\n",
       "        vertical-align: top;\n",
       "    }\n",
       "\n",
       "    .dataframe thead th {\n",
       "        text-align: right;\n",
       "    }\n",
       "</style>\n",
       "<table border=\"1\" class=\"dataframe\">\n",
       "  <thead>\n",
       "    <tr style=\"text-align: right;\">\n",
       "      <th></th>\n",
       "      <th>GENDER</th>\n",
       "      <th>AGE_GRP</th>\n",
       "      <th>JOB_NM</th>\n",
       "      <th>TRAVEL_TERM</th>\n",
       "      <th>TRAVEL_LIKE_SGG_1</th>\n",
       "      <th>TRAVEL_LIKE_SGG_2</th>\n",
       "      <th>TRAVEL_LIKE_SGG_3</th>\n",
       "      <th>TRAVEL_STYL_1</th>\n",
       "      <th>TRAVEL_STYL_2</th>\n",
       "      <th>TRAVEL_STYL_3</th>\n",
       "      <th>TRAVEL_STYL_4</th>\n",
       "      <th>TRAVEL_STYL_5</th>\n",
       "      <th>TRAVEL_STYL_6</th>\n",
       "      <th>TRAVEL_STYL_7</th>\n",
       "      <th>TRAVEL_STYL_8</th>\n",
       "      <th>TRAVEL_STATUS_RESIDENCE</th>\n",
       "      <th>TRAVEL_STATUS_DESTINATION</th>\n",
       "      <th>TRAVEL_STATUS_ACCOMPANY</th>\n",
       "      <th>TRAVEL_MOTIVE</th>\n",
       "      <th>TRAVEL_COMPANIONS_NUM</th>\n",
       "      <th>TRAVEL_ID</th>\n",
       "    </tr>\n",
       "  </thead>\n",
       "  <tbody>\n",
       "    <tr>\n",
       "      <th>0</th>\n",
       "      <td>여</td>\n",
       "      <td>20</td>\n",
       "      <td>학생</td>\n",
       "      <td>1년</td>\n",
       "      <td>50130</td>\n",
       "      <td>50110</td>\n",
       "      <td>26500</td>\n",
       "      <td>자연 선호(강)</td>\n",
       "      <td>자연 선호(강)</td>\n",
       "      <td>자연 선호(강)</td>\n",
       "      <td>자연 선호(약)</td>\n",
       "      <td>자연 선호(약)</td>\n",
       "      <td>자연 선호(중)</td>\n",
       "      <td>도시 선호(중)</td>\n",
       "      <td>도시 선호(중)</td>\n",
       "      <td>광주광역시</td>\n",
       "      <td>전남</td>\n",
       "      <td>2인 여행(가족 외)</td>\n",
       "      <td>일상적인 환경 및 역할에서의 탈출, 지루함 탈피</td>\n",
       "      <td>1</td>\n",
       "      <td>g_g002178</td>\n",
       "    </tr>\n",
       "    <tr>\n",
       "      <th>1</th>\n",
       "      <td>남</td>\n",
       "      <td>40</td>\n",
       "      <td>전문가 및 관련 종사자</td>\n",
       "      <td>한달</td>\n",
       "      <td>48840</td>\n",
       "      <td>48220</td>\n",
       "      <td>26500</td>\n",
       "      <td>자연 선호(강)</td>\n",
       "      <td>자연 선호(강)</td>\n",
       "      <td>자연 선호(약)</td>\n",
       "      <td>도시 선호(중)</td>\n",
       "      <td>중립</td>\n",
       "      <td>자연 선호(중)</td>\n",
       "      <td>도시 선호(강)</td>\n",
       "      <td>도시 선호(강)</td>\n",
       "      <td>대전광역시</td>\n",
       "      <td>전북</td>\n",
       "      <td>2인 여행(가족 외)</td>\n",
       "      <td>일상적인 환경 및 역할에서의 탈출, 지루함 탈피</td>\n",
       "      <td>1</td>\n",
       "      <td>g_g004485</td>\n",
       "    </tr>\n",
       "    <tr>\n",
       "      <th>2</th>\n",
       "      <td>남</td>\n",
       "      <td>20</td>\n",
       "      <td>관리자</td>\n",
       "      <td>1년</td>\n",
       "      <td>46710</td>\n",
       "      <td>45190</td>\n",
       "      <td>47170</td>\n",
       "      <td>자연 선호(중)</td>\n",
       "      <td>자연 선호(약)</td>\n",
       "      <td>자연 선호(강)</td>\n",
       "      <td>중립</td>\n",
       "      <td>도시 선호(중)</td>\n",
       "      <td>자연 선호(약)</td>\n",
       "      <td>자연 선호(강)</td>\n",
       "      <td>도시 선호(강)</td>\n",
       "      <td>서울특별시</td>\n",
       "      <td>전남</td>\n",
       "      <td>2인 여행(가족 외)</td>\n",
       "      <td>새로운 경험 추구</td>\n",
       "      <td>1</td>\n",
       "      <td>g_g005167</td>\n",
       "    </tr>\n",
       "    <tr>\n",
       "      <th>3</th>\n",
       "      <td>여</td>\n",
       "      <td>30</td>\n",
       "      <td>사무 종사자</td>\n",
       "      <td>한달</td>\n",
       "      <td>42150</td>\n",
       "      <td>42210</td>\n",
       "      <td>28710</td>\n",
       "      <td>자연 선호(중)</td>\n",
       "      <td>자연 선호(중)</td>\n",
       "      <td>자연 선호(약)</td>\n",
       "      <td>자연 선호(중)</td>\n",
       "      <td>자연 선호(약)</td>\n",
       "      <td>도시 선호(약)</td>\n",
       "      <td>자연 선호(중)</td>\n",
       "      <td>도시 선호(중)</td>\n",
       "      <td>인천광역시</td>\n",
       "      <td>대전</td>\n",
       "      <td>2인 여행(가족 외)</td>\n",
       "      <td>쉴 수 있는 기회, 육체 피로 해결 및 정신적인 휴식</td>\n",
       "      <td>1</td>\n",
       "      <td>g_g002887</td>\n",
       "    </tr>\n",
       "    <tr>\n",
       "      <th>4</th>\n",
       "      <td>남</td>\n",
       "      <td>20</td>\n",
       "      <td>서비스 종사자</td>\n",
       "      <td>한달</td>\n",
       "      <td>42150</td>\n",
       "      <td>50110</td>\n",
       "      <td>26350</td>\n",
       "      <td>자연 선호(중)</td>\n",
       "      <td>자연 선호(강)</td>\n",
       "      <td>자연 선호(중)</td>\n",
       "      <td>중립</td>\n",
       "      <td>도시 선호(중)</td>\n",
       "      <td>도시 선호(약)</td>\n",
       "      <td>도시 선호(중)</td>\n",
       "      <td>도시 선호(약)</td>\n",
       "      <td>경기도</td>\n",
       "      <td>충남</td>\n",
       "      <td>2인 여행(가족 외)</td>\n",
       "      <td>쉴 수 있는 기회, 육체 피로 해결 및 정신적인 휴식</td>\n",
       "      <td>1</td>\n",
       "      <td>g_g004189</td>\n",
       "    </tr>\n",
       "  </tbody>\n",
       "</table>\n",
       "</div>"
      ],
      "text/plain": [
       "  GENDER  AGE_GRP        JOB_NM TRAVEL_TERM  TRAVEL_LIKE_SGG_1  TRAVEL_LIKE_SGG_2  TRAVEL_LIKE_SGG_3 TRAVEL_STYL_1 TRAVEL_STYL_2 TRAVEL_STYL_3 TRAVEL_STYL_4 TRAVEL_STYL_5 TRAVEL_STYL_6 TRAVEL_STYL_7 TRAVEL_STYL_8 TRAVEL_STATUS_RESIDENCE TRAVEL_STATUS_DESTINATION TRAVEL_STATUS_ACCOMPANY                  TRAVEL_MOTIVE  TRAVEL_COMPANIONS_NUM  TRAVEL_ID\n",
       "0      여       20            학생          1년              50130              50110              26500      자연 선호(강)      자연 선호(강)      자연 선호(강)      자연 선호(약)      자연 선호(약)      자연 선호(중)      도시 선호(중)      도시 선호(중)                   광주광역시                        전남             2인 여행(가족 외)     일상적인 환경 및 역할에서의 탈출, 지루함 탈피                      1  g_g002178\n",
       "1      남       40  전문가 및 관련 종사자          한달              48840              48220              26500      자연 선호(강)      자연 선호(강)      자연 선호(약)      도시 선호(중)            중립      자연 선호(중)      도시 선호(강)      도시 선호(강)                   대전광역시                        전북             2인 여행(가족 외)     일상적인 환경 및 역할에서의 탈출, 지루함 탈피                      1  g_g004485\n",
       "2      남       20           관리자          1년              46710              45190              47170      자연 선호(중)      자연 선호(약)      자연 선호(강)            중립      도시 선호(중)      자연 선호(약)      자연 선호(강)      도시 선호(강)                   서울특별시                        전남             2인 여행(가족 외)                      새로운 경험 추구                      1  g_g005167\n",
       "3      여       30        사무 종사자          한달              42150              42210              28710      자연 선호(중)      자연 선호(중)      자연 선호(약)      자연 선호(중)      자연 선호(약)      도시 선호(약)      자연 선호(중)      도시 선호(중)                   인천광역시                        대전             2인 여행(가족 외)  쉴 수 있는 기회, 육체 피로 해결 및 정신적인 휴식                      1  g_g002887\n",
       "4      남       20       서비스 종사자          한달              42150              50110              26350      자연 선호(중)      자연 선호(강)      자연 선호(중)            중립      도시 선호(중)      도시 선호(약)      도시 선호(중)      도시 선호(약)                     경기도                        충남             2인 여행(가족 외)  쉴 수 있는 기회, 육체 피로 해결 및 정신적인 휴식                      1  g_g004189"
      ]
     },
     "execution_count": 2167,
     "metadata": {},
     "output_type": "execute_result"
    }
   ],
   "source": [
    "# 데이터 살펴보기\n",
    "traveller_master.head()"
   ]
  },
  {
   "cell_type": "markdown",
   "metadata": {},
   "source": [
    "<h3>4. 전처리 CSV 저장</h3>"
   ]
  },
  {
   "cell_type": "code",
   "execution_count": 2168,
   "metadata": {},
   "outputs": [],
   "source": [
    "traveller_master.to_csv('data/training/preprocessing_data/여행객_전처리.csv',index=False)"
   ]
  },
  {
   "cell_type": "markdown",
   "metadata": {},
   "source": [
    "<hr>\n",
    "<h2>[동반자정보.csv]</h2>"
   ]
  },
  {
   "cell_type": "markdown",
   "metadata": {},
   "source": [
    "<h3>1. 변수 추출 및 검토</h3>"
   ]
  },
  {
   "cell_type": "code",
   "execution_count": 2169,
   "metadata": {},
   "outputs": [
    {
     "name": "stdout",
     "output_type": "stream",
     "text": [
      "   TRAVEL_ID  REL_CD  COMPANION_GENDER  COMPANION_AGE_GRP\n",
      "0  e_e000005       1                 1                  4\n",
      "1  e_e000191       1                 2                  5\n",
      "2  e_e000191      11                 2                  5\n",
      "3  e_e000191      11                 2                  8\n",
      "4  e_e000191      11                 1                  6\n"
     ]
    }
   ],
   "source": [
    "# 필요한 변수 리스트\n",
    "columns_to_keep_companion = [\n",
    "    'TRAVEL_ID', 'REL_CD', 'COMPANION_GENDER', 'COMPANION_AGE_GRP'\n",
    "    ]\n",
    "\n",
    "# companion_info에 필요한 변수만 남기고 저장\n",
    "companion_info = companion_info[columns_to_keep_companion]\n",
    "\n",
    "# 결과 확인\n",
    "print(companion_info.head())"
   ]
  },
  {
   "cell_type": "code",
   "execution_count": 2170,
   "metadata": {},
   "outputs": [
    {
     "name": "stdout",
     "output_type": "stream",
     "text": [
      "동반자정보.csv의 행, 열 개수 : \n",
      "(3808, 4)\n"
     ]
    }
   ],
   "source": [
    "# 데이터의 행, 열 개수 출력\n",
    "print('동반자정보.csv의 행, 열 개수 : ')\n",
    "print(companion_info.shape)"
   ]
  },
  {
   "cell_type": "code",
   "execution_count": 2171,
   "metadata": {},
   "outputs": [
    {
     "name": "stdout",
     "output_type": "stream",
     "text": [
      "동반자정보.csv의 구조와 타입 : \n",
      "<class 'pandas.core.frame.DataFrame'>\n",
      "RangeIndex: 3808 entries, 0 to 3807\n",
      "Data columns (total 4 columns):\n",
      " #   Column             Non-Null Count  Dtype \n",
      "---  ------             --------------  ----- \n",
      " 0   TRAVEL_ID          3808 non-null   object\n",
      " 1   REL_CD             3808 non-null   int64 \n",
      " 2   COMPANION_GENDER   3808 non-null   int64 \n",
      " 3   COMPANION_AGE_GRP  3808 non-null   int64 \n",
      "dtypes: int64(3), object(1)\n",
      "memory usage: 119.1+ KB\n",
      "None\n"
     ]
    }
   ],
   "source": [
    "# 데이터의 구조와 타입 확인\n",
    "print('동반자정보.csv의 구조와 타입 : ')\n",
    "print(companion_info.info())"
   ]
  },
  {
   "cell_type": "code",
   "execution_count": 2172,
   "metadata": {},
   "outputs": [
    {
     "name": "stdout",
     "output_type": "stream",
     "text": [
      "동반자정보.csv의 결측치 : \n",
      "TRAVEL_ID            0\n",
      "REL_CD               0\n",
      "COMPANION_GENDER     0\n",
      "COMPANION_AGE_GRP    0\n",
      "dtype: int64\n"
     ]
    }
   ],
   "source": [
    "# 데이터의 결측치 확인\n",
    "print('동반자정보.csv의 결측치 : ')\n",
    "print(companion_info.isnull().sum())"
   ]
  },
  {
   "cell_type": "code",
   "execution_count": 2173,
   "metadata": {},
   "outputs": [
    {
     "data": {
      "text/html": [
       "<div>\n",
       "<style scoped>\n",
       "    .dataframe tbody tr th:only-of-type {\n",
       "        vertical-align: middle;\n",
       "    }\n",
       "\n",
       "    .dataframe tbody tr th {\n",
       "        vertical-align: top;\n",
       "    }\n",
       "\n",
       "    .dataframe thead th {\n",
       "        text-align: right;\n",
       "    }\n",
       "</style>\n",
       "<table border=\"1\" class=\"dataframe\">\n",
       "  <thead>\n",
       "    <tr style=\"text-align: right;\">\n",
       "      <th></th>\n",
       "      <th>TRAVEL_ID</th>\n",
       "      <th>REL_CD</th>\n",
       "      <th>COMPANION_GENDER</th>\n",
       "      <th>COMPANION_AGE_GRP</th>\n",
       "    </tr>\n",
       "  </thead>\n",
       "  <tbody>\n",
       "    <tr>\n",
       "      <th>0</th>\n",
       "      <td>e_e000005</td>\n",
       "      <td>1</td>\n",
       "      <td>1</td>\n",
       "      <td>4</td>\n",
       "    </tr>\n",
       "    <tr>\n",
       "      <th>1</th>\n",
       "      <td>e_e000191</td>\n",
       "      <td>1</td>\n",
       "      <td>2</td>\n",
       "      <td>5</td>\n",
       "    </tr>\n",
       "    <tr>\n",
       "      <th>2</th>\n",
       "      <td>e_e000191</td>\n",
       "      <td>11</td>\n",
       "      <td>2</td>\n",
       "      <td>5</td>\n",
       "    </tr>\n",
       "    <tr>\n",
       "      <th>3</th>\n",
       "      <td>e_e000191</td>\n",
       "      <td>11</td>\n",
       "      <td>2</td>\n",
       "      <td>8</td>\n",
       "    </tr>\n",
       "    <tr>\n",
       "      <th>4</th>\n",
       "      <td>e_e000191</td>\n",
       "      <td>11</td>\n",
       "      <td>1</td>\n",
       "      <td>6</td>\n",
       "    </tr>\n",
       "  </tbody>\n",
       "</table>\n",
       "</div>"
      ],
      "text/plain": [
       "   TRAVEL_ID  REL_CD  COMPANION_GENDER  COMPANION_AGE_GRP\n",
       "0  e_e000005       1                 1                  4\n",
       "1  e_e000191       1                 2                  5\n",
       "2  e_e000191      11                 2                  5\n",
       "3  e_e000191      11                 2                  8\n",
       "4  e_e000191      11                 1                  6"
      ]
     },
     "execution_count": 2173,
     "metadata": {},
     "output_type": "execute_result"
    }
   ],
   "source": [
    "# 데이터 살펴보기\n",
    "companion_info.head()"
   ]
  },
  {
   "cell_type": "markdown",
   "metadata": {},
   "source": [
    "<h3>2. 전처리</h3>"
   ]
  },
  {
   "cell_type": "markdown",
   "metadata": {},
   "source": [
    "<h5>1) REL_CD 변수 코드 'TCR' 매핑</h5>"
   ]
  },
  {
   "cell_type": "code",
   "execution_count": 2174,
   "metadata": {},
   "outputs": [
    {
     "data": {
      "text/html": [
       "<div>\n",
       "<style scoped>\n",
       "    .dataframe tbody tr th:only-of-type {\n",
       "        vertical-align: middle;\n",
       "    }\n",
       "\n",
       "    .dataframe tbody tr th {\n",
       "        vertical-align: top;\n",
       "    }\n",
       "\n",
       "    .dataframe thead th {\n",
       "        text-align: right;\n",
       "    }\n",
       "</style>\n",
       "<table border=\"1\" class=\"dataframe\">\n",
       "  <thead>\n",
       "    <tr style=\"text-align: right;\">\n",
       "      <th></th>\n",
       "      <th>TRAVEL_ID</th>\n",
       "      <th>REL_CD</th>\n",
       "      <th>COMPANION_GENDER</th>\n",
       "      <th>COMPANION_AGE_GRP</th>\n",
       "    </tr>\n",
       "  </thead>\n",
       "  <tbody>\n",
       "    <tr>\n",
       "      <th>0</th>\n",
       "      <td>e_e000005</td>\n",
       "      <td>배우자</td>\n",
       "      <td>1</td>\n",
       "      <td>4</td>\n",
       "    </tr>\n",
       "    <tr>\n",
       "      <th>1</th>\n",
       "      <td>e_e000191</td>\n",
       "      <td>배우자</td>\n",
       "      <td>2</td>\n",
       "      <td>5</td>\n",
       "    </tr>\n",
       "    <tr>\n",
       "      <th>2</th>\n",
       "      <td>e_e000191</td>\n",
       "      <td>기타</td>\n",
       "      <td>2</td>\n",
       "      <td>5</td>\n",
       "    </tr>\n",
       "    <tr>\n",
       "      <th>3</th>\n",
       "      <td>e_e000191</td>\n",
       "      <td>기타</td>\n",
       "      <td>2</td>\n",
       "      <td>8</td>\n",
       "    </tr>\n",
       "    <tr>\n",
       "      <th>4</th>\n",
       "      <td>e_e000191</td>\n",
       "      <td>기타</td>\n",
       "      <td>1</td>\n",
       "      <td>6</td>\n",
       "    </tr>\n",
       "  </tbody>\n",
       "</table>\n",
       "</div>"
      ],
      "text/plain": [
       "   TRAVEL_ID REL_CD  COMPANION_GENDER  COMPANION_AGE_GRP\n",
       "0  e_e000005    배우자                 1                  4\n",
       "1  e_e000191    배우자                 2                  5\n",
       "2  e_e000191     기타                 2                  5\n",
       "3  e_e000191     기타                 2                  8\n",
       "4  e_e000191     기타                 1                  6"
      ]
     },
     "execution_count": 2174,
     "metadata": {},
     "output_type": "execute_result"
    }
   ],
   "source": [
    "companion_info = convert_codes_to_korean(companion_info, 'REL_CD', TCR_mapping)\n",
    "\n",
    "# 결과 확인\n",
    "companion_info.head()"
   ]
  },
  {
   "cell_type": "markdown",
   "metadata": {},
   "source": [
    "<h5>2) COMPANION_GENDER 변수 코드 'GEN' 매핑</h5>"
   ]
  },
  {
   "cell_type": "code",
   "execution_count": 2175,
   "metadata": {},
   "outputs": [
    {
     "data": {
      "text/html": [
       "<div>\n",
       "<style scoped>\n",
       "    .dataframe tbody tr th:only-of-type {\n",
       "        vertical-align: middle;\n",
       "    }\n",
       "\n",
       "    .dataframe tbody tr th {\n",
       "        vertical-align: top;\n",
       "    }\n",
       "\n",
       "    .dataframe thead th {\n",
       "        text-align: right;\n",
       "    }\n",
       "</style>\n",
       "<table border=\"1\" class=\"dataframe\">\n",
       "  <thead>\n",
       "    <tr style=\"text-align: right;\">\n",
       "      <th></th>\n",
       "      <th>TRAVEL_ID</th>\n",
       "      <th>REL_CD</th>\n",
       "      <th>COMPANION_GENDER</th>\n",
       "      <th>COMPANION_AGE_GRP</th>\n",
       "    </tr>\n",
       "  </thead>\n",
       "  <tbody>\n",
       "    <tr>\n",
       "      <th>0</th>\n",
       "      <td>e_e000005</td>\n",
       "      <td>배우자</td>\n",
       "      <td>남자</td>\n",
       "      <td>4</td>\n",
       "    </tr>\n",
       "    <tr>\n",
       "      <th>1</th>\n",
       "      <td>e_e000191</td>\n",
       "      <td>배우자</td>\n",
       "      <td>여자</td>\n",
       "      <td>5</td>\n",
       "    </tr>\n",
       "    <tr>\n",
       "      <th>2</th>\n",
       "      <td>e_e000191</td>\n",
       "      <td>기타</td>\n",
       "      <td>여자</td>\n",
       "      <td>5</td>\n",
       "    </tr>\n",
       "    <tr>\n",
       "      <th>3</th>\n",
       "      <td>e_e000191</td>\n",
       "      <td>기타</td>\n",
       "      <td>여자</td>\n",
       "      <td>8</td>\n",
       "    </tr>\n",
       "    <tr>\n",
       "      <th>4</th>\n",
       "      <td>e_e000191</td>\n",
       "      <td>기타</td>\n",
       "      <td>남자</td>\n",
       "      <td>6</td>\n",
       "    </tr>\n",
       "  </tbody>\n",
       "</table>\n",
       "</div>"
      ],
      "text/plain": [
       "   TRAVEL_ID REL_CD COMPANION_GENDER  COMPANION_AGE_GRP\n",
       "0  e_e000005    배우자               남자                  4\n",
       "1  e_e000191    배우자               여자                  5\n",
       "2  e_e000191     기타               여자                  5\n",
       "3  e_e000191     기타               여자                  8\n",
       "4  e_e000191     기타               남자                  6"
      ]
     },
     "execution_count": 2175,
     "metadata": {},
     "output_type": "execute_result"
    }
   ],
   "source": [
    "companion_info = convert_codes_to_korean(companion_info, 'COMPANION_GENDER', GEN_mapping)\n",
    "\n",
    "# 결과 확인\n",
    "companion_info.head()"
   ]
  },
  {
   "cell_type": "markdown",
   "metadata": {},
   "source": [
    "<h5>3) COMPANION_AGE_GRP 변수 코드 'AGE' 매핑</h5>"
   ]
  },
  {
   "cell_type": "code",
   "execution_count": 2176,
   "metadata": {},
   "outputs": [
    {
     "data": {
      "text/html": [
       "<div>\n",
       "<style scoped>\n",
       "    .dataframe tbody tr th:only-of-type {\n",
       "        vertical-align: middle;\n",
       "    }\n",
       "\n",
       "    .dataframe tbody tr th {\n",
       "        vertical-align: top;\n",
       "    }\n",
       "\n",
       "    .dataframe thead th {\n",
       "        text-align: right;\n",
       "    }\n",
       "</style>\n",
       "<table border=\"1\" class=\"dataframe\">\n",
       "  <thead>\n",
       "    <tr style=\"text-align: right;\">\n",
       "      <th></th>\n",
       "      <th>TRAVEL_ID</th>\n",
       "      <th>REL_CD</th>\n",
       "      <th>COMPANION_GENDER</th>\n",
       "      <th>COMPANION_AGE_GRP</th>\n",
       "    </tr>\n",
       "  </thead>\n",
       "  <tbody>\n",
       "    <tr>\n",
       "      <th>0</th>\n",
       "      <td>e_e000005</td>\n",
       "      <td>배우자</td>\n",
       "      <td>남자</td>\n",
       "      <td>30대</td>\n",
       "    </tr>\n",
       "    <tr>\n",
       "      <th>1</th>\n",
       "      <td>e_e000191</td>\n",
       "      <td>배우자</td>\n",
       "      <td>여자</td>\n",
       "      <td>40대</td>\n",
       "    </tr>\n",
       "    <tr>\n",
       "      <th>2</th>\n",
       "      <td>e_e000191</td>\n",
       "      <td>기타</td>\n",
       "      <td>여자</td>\n",
       "      <td>40대</td>\n",
       "    </tr>\n",
       "    <tr>\n",
       "      <th>3</th>\n",
       "      <td>e_e000191</td>\n",
       "      <td>기타</td>\n",
       "      <td>여자</td>\n",
       "      <td>70세이상</td>\n",
       "    </tr>\n",
       "    <tr>\n",
       "      <th>4</th>\n",
       "      <td>e_e000191</td>\n",
       "      <td>기타</td>\n",
       "      <td>남자</td>\n",
       "      <td>50대</td>\n",
       "    </tr>\n",
       "  </tbody>\n",
       "</table>\n",
       "</div>"
      ],
      "text/plain": [
       "   TRAVEL_ID REL_CD COMPANION_GENDER COMPANION_AGE_GRP\n",
       "0  e_e000005    배우자               남자               30대\n",
       "1  e_e000191    배우자               여자               40대\n",
       "2  e_e000191     기타               여자               40대\n",
       "3  e_e000191     기타               여자             70세이상\n",
       "4  e_e000191     기타               남자               50대"
      ]
     },
     "execution_count": 2176,
     "metadata": {},
     "output_type": "execute_result"
    }
   ],
   "source": [
    "companion_info = convert_codes_to_korean(companion_info, 'COMPANION_AGE_GRP', AGE_mapping)\n",
    "\n",
    "# 결과 확인\n",
    "companion_info.head()"
   ]
  },
  {
   "cell_type": "markdown",
   "metadata": {},
   "source": [
    "<h3>3. 전처리 후 확인</h3>"
   ]
  },
  {
   "cell_type": "code",
   "execution_count": 2177,
   "metadata": {},
   "outputs": [
    {
     "name": "stdout",
     "output_type": "stream",
     "text": [
      "중복된 TRAVEL_ID가 있습니다.\n",
      "      TRAVEL_ID REL_CD COMPANION_GENDER COMPANION_AGE_GRP\n",
      "1     e_e000191    배우자               여자               40대\n",
      "2     e_e000191     기타               여자               40대\n",
      "3     e_e000191     기타               여자             70세이상\n",
      "4     e_e000191     기타               남자               50대\n",
      "6     e_e000668     자녀               남자               10대\n",
      "...         ...    ...              ...               ...\n",
      "3795  g_g013084     부모               남자               60대\n",
      "3796  g_g013084     부모               여자               60대\n",
      "3797  g_g013087  형제/자매               여자               20대\n",
      "3798  g_g013087     부모               여자               50대\n",
      "3799  g_g013087  형제/자매               여자               10대\n",
      "\n",
      "[2609 rows x 4 columns]\n"
     ]
    }
   ],
   "source": [
    "# TRAVEL_ID 중복 여부 확인\n",
    "duplicates = companion_info[companion_info.duplicated(subset='TRAVEL_ID', keep=False)]\n",
    "\n",
    "# 중복된 항목이 있는 경우\n",
    "if not duplicates.empty:\n",
    "    print(\"중복된 TRAVEL_ID가 있습니다.\")\n",
    "    print(duplicates)\n",
    "else:\n",
    "    print(\"중복된 TRAVEL_ID가 없습니다.\")"
   ]
  },
  {
   "cell_type": "code",
   "execution_count": 2178,
   "metadata": {},
   "outputs": [
    {
     "name": "stdout",
     "output_type": "stream",
     "text": [
      "동반자정보.csv의 구조와 타입 : \n",
      "<class 'pandas.core.frame.DataFrame'>\n",
      "RangeIndex: 3808 entries, 0 to 3807\n",
      "Data columns (total 4 columns):\n",
      " #   Column             Non-Null Count  Dtype \n",
      "---  ------             --------------  ----- \n",
      " 0   TRAVEL_ID          3808 non-null   object\n",
      " 1   REL_CD             3808 non-null   object\n",
      " 2   COMPANION_GENDER   3808 non-null   object\n",
      " 3   COMPANION_AGE_GRP  3808 non-null   object\n",
      "dtypes: object(4)\n",
      "memory usage: 119.1+ KB\n",
      "None\n"
     ]
    }
   ],
   "source": [
    "# 데이터의 구조와 타입 확인\n",
    "print('동반자정보.csv의 구조와 타입 : ')\n",
    "print(companion_info.info())"
   ]
  },
  {
   "cell_type": "code",
   "execution_count": 2179,
   "metadata": {},
   "outputs": [
    {
     "name": "stdout",
     "output_type": "stream",
     "text": [
      "동반자정보.csv의 결측치 : \n",
      "TRAVEL_ID            0\n",
      "REL_CD               0\n",
      "COMPANION_GENDER     0\n",
      "COMPANION_AGE_GRP    0\n",
      "dtype: int64\n"
     ]
    }
   ],
   "source": [
    "# 데이터의 결측치 확인\n",
    "print('동반자정보.csv의 결측치 : ')\n",
    "print(companion_info.isnull().sum())"
   ]
  },
  {
   "cell_type": "code",
   "execution_count": 2180,
   "metadata": {},
   "outputs": [
    {
     "data": {
      "text/html": [
       "<div>\n",
       "<style scoped>\n",
       "    .dataframe tbody tr th:only-of-type {\n",
       "        vertical-align: middle;\n",
       "    }\n",
       "\n",
       "    .dataframe tbody tr th {\n",
       "        vertical-align: top;\n",
       "    }\n",
       "\n",
       "    .dataframe thead th {\n",
       "        text-align: right;\n",
       "    }\n",
       "</style>\n",
       "<table border=\"1\" class=\"dataframe\">\n",
       "  <thead>\n",
       "    <tr style=\"text-align: right;\">\n",
       "      <th></th>\n",
       "      <th>TRAVEL_ID</th>\n",
       "      <th>REL_CD</th>\n",
       "      <th>COMPANION_GENDER</th>\n",
       "      <th>COMPANION_AGE_GRP</th>\n",
       "    </tr>\n",
       "  </thead>\n",
       "  <tbody>\n",
       "    <tr>\n",
       "      <th>0</th>\n",
       "      <td>e_e000005</td>\n",
       "      <td>배우자</td>\n",
       "      <td>남자</td>\n",
       "      <td>30대</td>\n",
       "    </tr>\n",
       "    <tr>\n",
       "      <th>1</th>\n",
       "      <td>e_e000191</td>\n",
       "      <td>배우자</td>\n",
       "      <td>여자</td>\n",
       "      <td>40대</td>\n",
       "    </tr>\n",
       "    <tr>\n",
       "      <th>2</th>\n",
       "      <td>e_e000191</td>\n",
       "      <td>기타</td>\n",
       "      <td>여자</td>\n",
       "      <td>40대</td>\n",
       "    </tr>\n",
       "    <tr>\n",
       "      <th>3</th>\n",
       "      <td>e_e000191</td>\n",
       "      <td>기타</td>\n",
       "      <td>여자</td>\n",
       "      <td>70세이상</td>\n",
       "    </tr>\n",
       "    <tr>\n",
       "      <th>4</th>\n",
       "      <td>e_e000191</td>\n",
       "      <td>기타</td>\n",
       "      <td>남자</td>\n",
       "      <td>50대</td>\n",
       "    </tr>\n",
       "  </tbody>\n",
       "</table>\n",
       "</div>"
      ],
      "text/plain": [
       "   TRAVEL_ID REL_CD COMPANION_GENDER COMPANION_AGE_GRP\n",
       "0  e_e000005    배우자               남자               30대\n",
       "1  e_e000191    배우자               여자               40대\n",
       "2  e_e000191     기타               여자               40대\n",
       "3  e_e000191     기타               여자             70세이상\n",
       "4  e_e000191     기타               남자               50대"
      ]
     },
     "execution_count": 2180,
     "metadata": {},
     "output_type": "execute_result"
    }
   ],
   "source": [
    "# 데이터 살펴보기\n",
    "companion_info.head()"
   ]
  },
  {
   "cell_type": "markdown",
   "metadata": {},
   "source": [
    "<h3>4. 전처리 CSV 저장</h3>"
   ]
  },
  {
   "cell_type": "code",
   "execution_count": 2181,
   "metadata": {},
   "outputs": [],
   "source": [
    "companion_info.to_csv('data/training/preprocessing_data/동반자_전처리.csv',index=False)"
   ]
  },
  {
   "cell_type": "markdown",
   "metadata": {},
   "source": [
    "<hr>\n",
    "<h2>[여행.csv]</h2>"
   ]
  },
  {
   "cell_type": "markdown",
   "metadata": {},
   "source": [
    "<h3>1. 변수 추출 및 검토</h3>"
   ]
  },
  {
   "cell_type": "code",
   "execution_count": 2182,
   "metadata": {},
   "outputs": [
    {
     "name": "stdout",
     "output_type": "stream",
     "text": [
      "   TRAVEL_ID TRAVEL_PURPOSE TRAVEL_START_YMD TRAVEL_END_YMD TRAVEL_MISSION_CHECK\n",
      "0  e_e000005         5;2;23       2023-04-29     2023-05-03               5;2;23\n",
      "1  e_e000043    10;12;21;27       2023-04-28     2023-05-01                4;6;2\n",
      "2  e_e000191             21       2023-04-28     2023-05-01             24;13;27\n",
      "3  e_e000316  21;22;24;26;6       2023-05-27     2023-05-30              22;26;6\n",
      "4  e_e000668              2       2023-05-20     2023-05-21                2;1;4\n"
     ]
    }
   ],
   "source": [
    "# 필요한 변수 리스트\n",
    "columns_to_keep_travel = [\n",
    "    'TRAVEL_ID', 'TRAVEL_PURPOSE', 'TRAVEL_START_YMD', 'TRAVEL_END_YMD', 'TRAVEL_MISSION_CHECK'\n",
    "    ]\n",
    "\n",
    "# travel에 필요한 변수만 남기고 저장\n",
    "travel = travel[columns_to_keep_travel]\n",
    "\n",
    "# 결과 확인\n",
    "print(travel.head())"
   ]
  },
  {
   "cell_type": "code",
   "execution_count": 2183,
   "metadata": {},
   "outputs": [
    {
     "name": "stdout",
     "output_type": "stream",
     "text": [
      "여행.csv의 행, 열 개수 : \n",
      "(2560, 5)\n"
     ]
    }
   ],
   "source": [
    "# 데이터의 행, 열 개수 출력\n",
    "print('여행.csv의 행, 열 개수 : ')\n",
    "print(travel.shape)"
   ]
  },
  {
   "cell_type": "code",
   "execution_count": 2184,
   "metadata": {},
   "outputs": [
    {
     "name": "stdout",
     "output_type": "stream",
     "text": [
      "여행.csv의 구조와 타입 : \n",
      "<class 'pandas.core.frame.DataFrame'>\n",
      "RangeIndex: 2560 entries, 0 to 2559\n",
      "Data columns (total 5 columns):\n",
      " #   Column                Non-Null Count  Dtype \n",
      "---  ------                --------------  ----- \n",
      " 0   TRAVEL_ID             2560 non-null   object\n",
      " 1   TRAVEL_PURPOSE        2560 non-null   object\n",
      " 2   TRAVEL_START_YMD      2560 non-null   object\n",
      " 3   TRAVEL_END_YMD        2560 non-null   object\n",
      " 4   TRAVEL_MISSION_CHECK  2560 non-null   object\n",
      "dtypes: object(5)\n",
      "memory usage: 100.1+ KB\n",
      "None\n"
     ]
    }
   ],
   "source": [
    "# 데이터의 구조와 타입 확인\n",
    "print('여행.csv의 구조와 타입 : ')\n",
    "print(travel.info())"
   ]
  },
  {
   "cell_type": "code",
   "execution_count": 2185,
   "metadata": {},
   "outputs": [
    {
     "name": "stdout",
     "output_type": "stream",
     "text": [
      "여행.csv의 결측치 : \n",
      "TRAVEL_ID               0\n",
      "TRAVEL_PURPOSE          0\n",
      "TRAVEL_START_YMD        0\n",
      "TRAVEL_END_YMD          0\n",
      "TRAVEL_MISSION_CHECK    0\n",
      "dtype: int64\n"
     ]
    }
   ],
   "source": [
    "# 데이터의 결측치 확인\n",
    "print('여행.csv의 결측치 : ')\n",
    "print(travel.isnull().sum())"
   ]
  },
  {
   "cell_type": "code",
   "execution_count": 2186,
   "metadata": {},
   "outputs": [
    {
     "data": {
      "text/html": [
       "<div>\n",
       "<style scoped>\n",
       "    .dataframe tbody tr th:only-of-type {\n",
       "        vertical-align: middle;\n",
       "    }\n",
       "\n",
       "    .dataframe tbody tr th {\n",
       "        vertical-align: top;\n",
       "    }\n",
       "\n",
       "    .dataframe thead th {\n",
       "        text-align: right;\n",
       "    }\n",
       "</style>\n",
       "<table border=\"1\" class=\"dataframe\">\n",
       "  <thead>\n",
       "    <tr style=\"text-align: right;\">\n",
       "      <th></th>\n",
       "      <th>TRAVEL_ID</th>\n",
       "      <th>TRAVEL_PURPOSE</th>\n",
       "      <th>TRAVEL_START_YMD</th>\n",
       "      <th>TRAVEL_END_YMD</th>\n",
       "      <th>TRAVEL_MISSION_CHECK</th>\n",
       "    </tr>\n",
       "  </thead>\n",
       "  <tbody>\n",
       "    <tr>\n",
       "      <th>0</th>\n",
       "      <td>e_e000005</td>\n",
       "      <td>5;2;23</td>\n",
       "      <td>2023-04-29</td>\n",
       "      <td>2023-05-03</td>\n",
       "      <td>5;2;23</td>\n",
       "    </tr>\n",
       "    <tr>\n",
       "      <th>1</th>\n",
       "      <td>e_e000043</td>\n",
       "      <td>10;12;21;27</td>\n",
       "      <td>2023-04-28</td>\n",
       "      <td>2023-05-01</td>\n",
       "      <td>4;6;2</td>\n",
       "    </tr>\n",
       "    <tr>\n",
       "      <th>2</th>\n",
       "      <td>e_e000191</td>\n",
       "      <td>21</td>\n",
       "      <td>2023-04-28</td>\n",
       "      <td>2023-05-01</td>\n",
       "      <td>24;13;27</td>\n",
       "    </tr>\n",
       "    <tr>\n",
       "      <th>3</th>\n",
       "      <td>e_e000316</td>\n",
       "      <td>21;22;24;26;6</td>\n",
       "      <td>2023-05-27</td>\n",
       "      <td>2023-05-30</td>\n",
       "      <td>22;26;6</td>\n",
       "    </tr>\n",
       "    <tr>\n",
       "      <th>4</th>\n",
       "      <td>e_e000668</td>\n",
       "      <td>2</td>\n",
       "      <td>2023-05-20</td>\n",
       "      <td>2023-05-21</td>\n",
       "      <td>2;1;4</td>\n",
       "    </tr>\n",
       "  </tbody>\n",
       "</table>\n",
       "</div>"
      ],
      "text/plain": [
       "   TRAVEL_ID TRAVEL_PURPOSE TRAVEL_START_YMD TRAVEL_END_YMD TRAVEL_MISSION_CHECK\n",
       "0  e_e000005         5;2;23       2023-04-29     2023-05-03               5;2;23\n",
       "1  e_e000043    10;12;21;27       2023-04-28     2023-05-01                4;6;2\n",
       "2  e_e000191             21       2023-04-28     2023-05-01             24;13;27\n",
       "3  e_e000316  21;22;24;26;6       2023-05-27     2023-05-30              22;26;6\n",
       "4  e_e000668              2       2023-05-20     2023-05-21                2;1;4"
      ]
     },
     "execution_count": 2186,
     "metadata": {},
     "output_type": "execute_result"
    }
   ],
   "source": [
    "# 데이터 살펴보기\n",
    "travel.head()"
   ]
  },
  {
   "cell_type": "markdown",
   "metadata": {},
   "source": [
    "<h3>2. 전처리</h3>"
   ]
  },
  {
   "cell_type": "markdown",
   "metadata": {},
   "source": [
    "<h5>1) TRAVEL_PURPOSE 변수 코드 'MIS' 매핑</h5>"
   ]
  },
  {
   "cell_type": "code",
   "execution_count": 2187,
   "metadata": {},
   "outputs": [],
   "source": [
    "# TRAVEL_PURPOSE 변수의 값이 세미콜론으로 분리되어 있으므로, 세미콜론 기준으로 분리하고 매핑 적용하는 함수\n",
    "def convert_colon_to_korean(df, column_name, mapping):\n",
    "    if column_name in df.columns:\n",
    "        # 세미콜론으로 분리된 값들을 매핑 처리\n",
    "        df[column_name] = df[column_name].apply(\n",
    "            lambda x: ';'.join([mapping.get(int(i), str(i)) for i in x.split(';')])\n",
    "        )\n",
    "    return df"
   ]
  },
  {
   "cell_type": "code",
   "execution_count": 2188,
   "metadata": {},
   "outputs": [
    {
     "data": {
      "text/html": [
       "<div>\n",
       "<style scoped>\n",
       "    .dataframe tbody tr th:only-of-type {\n",
       "        vertical-align: middle;\n",
       "    }\n",
       "\n",
       "    .dataframe tbody tr th {\n",
       "        vertical-align: top;\n",
       "    }\n",
       "\n",
       "    .dataframe thead th {\n",
       "        text-align: right;\n",
       "    }\n",
       "</style>\n",
       "<table border=\"1\" class=\"dataframe\">\n",
       "  <thead>\n",
       "    <tr style=\"text-align: right;\">\n",
       "      <th></th>\n",
       "      <th>TRAVEL_ID</th>\n",
       "      <th>TRAVEL_PURPOSE</th>\n",
       "      <th>TRAVEL_START_YMD</th>\n",
       "      <th>TRAVEL_END_YMD</th>\n",
       "      <th>TRAVEL_MISSION_CHECK</th>\n",
       "    </tr>\n",
       "  </thead>\n",
       "  <tbody>\n",
       "    <tr>\n",
       "      <th>0</th>\n",
       "      <td>e_e000005</td>\n",
       "      <td>야외 스포츠, 레포츠 활동;테마파크, 놀이시설, 동/식물원 방문;호캉스 여행</td>\n",
       "      <td>2023-04-29</td>\n",
       "      <td>2023-05-03</td>\n",
       "      <td>5;2;23</td>\n",
       "    </tr>\n",
       "    <tr>\n",
       "      <th>1</th>\n",
       "      <td>e_e000043</td>\n",
       "      <td>온천/스파;드라마 촬영지 방문;Well-ness 여행;친환경 여행(플로깅 여행)</td>\n",
       "      <td>2023-04-28</td>\n",
       "      <td>2023-05-01</td>\n",
       "      <td>4;6;2</td>\n",
       "    </tr>\n",
       "    <tr>\n",
       "      <th>2</th>\n",
       "      <td>e_e000191</td>\n",
       "      <td>Well-ness 여행</td>\n",
       "      <td>2023-04-28</td>\n",
       "      <td>2023-05-01</td>\n",
       "      <td>24;13;27</td>\n",
       "    </tr>\n",
       "    <tr>\n",
       "      <th>3</th>\n",
       "      <td>e_e000316</td>\n",
       "      <td>Well-ness 여행;SNS 인생샷 여행;신규 여행지 발굴;인플루언서 따라하기 여...</td>\n",
       "      <td>2023-05-27</td>\n",
       "      <td>2023-05-30</td>\n",
       "      <td>22;26;6</td>\n",
       "    </tr>\n",
       "    <tr>\n",
       "      <th>4</th>\n",
       "      <td>e_e000668</td>\n",
       "      <td>테마파크, 놀이시설, 동/식물원 방문</td>\n",
       "      <td>2023-05-20</td>\n",
       "      <td>2023-05-21</td>\n",
       "      <td>2;1;4</td>\n",
       "    </tr>\n",
       "  </tbody>\n",
       "</table>\n",
       "</div>"
      ],
      "text/plain": [
       "   TRAVEL_ID                                     TRAVEL_PURPOSE TRAVEL_START_YMD TRAVEL_END_YMD TRAVEL_MISSION_CHECK\n",
       "0  e_e000005         야외 스포츠, 레포츠 활동;테마파크, 놀이시설, 동/식물원 방문;호캉스 여행       2023-04-29     2023-05-03               5;2;23\n",
       "1  e_e000043       온천/스파;드라마 촬영지 방문;Well-ness 여행;친환경 여행(플로깅 여행)       2023-04-28     2023-05-01                4;6;2\n",
       "2  e_e000191                                       Well-ness 여행       2023-04-28     2023-05-01             24;13;27\n",
       "3  e_e000316  Well-ness 여행;SNS 인생샷 여행;신규 여행지 발굴;인플루언서 따라하기 여...       2023-05-27     2023-05-30              22;26;6\n",
       "4  e_e000668                               테마파크, 놀이시설, 동/식물원 방문       2023-05-20     2023-05-21                2;1;4"
      ]
     },
     "execution_count": 2188,
     "metadata": {},
     "output_type": "execute_result"
    }
   ],
   "source": [
    "travel = convert_colon_to_korean(travel, 'TRAVEL_PURPOSE', MIS_mapping)\n",
    "\n",
    "# 결과 확인\n",
    "travel.head()"
   ]
  },
  {
   "cell_type": "markdown",
   "metadata": {},
   "source": [
    "<h5>2) TRAVEL_MISSION_CHECK 변수 코드 'MIS' 매핑</h5>"
   ]
  },
  {
   "cell_type": "code",
   "execution_count": 2189,
   "metadata": {},
   "outputs": [
    {
     "data": {
      "text/html": [
       "<div>\n",
       "<style scoped>\n",
       "    .dataframe tbody tr th:only-of-type {\n",
       "        vertical-align: middle;\n",
       "    }\n",
       "\n",
       "    .dataframe tbody tr th {\n",
       "        vertical-align: top;\n",
       "    }\n",
       "\n",
       "    .dataframe thead th {\n",
       "        text-align: right;\n",
       "    }\n",
       "</style>\n",
       "<table border=\"1\" class=\"dataframe\">\n",
       "  <thead>\n",
       "    <tr style=\"text-align: right;\">\n",
       "      <th></th>\n",
       "      <th>TRAVEL_ID</th>\n",
       "      <th>TRAVEL_PURPOSE</th>\n",
       "      <th>TRAVEL_START_YMD</th>\n",
       "      <th>TRAVEL_END_YMD</th>\n",
       "      <th>TRAVEL_MISSION_CHECK</th>\n",
       "    </tr>\n",
       "  </thead>\n",
       "  <tbody>\n",
       "    <tr>\n",
       "      <th>0</th>\n",
       "      <td>e_e000005</td>\n",
       "      <td>야외 스포츠, 레포츠 활동;테마파크, 놀이시설, 동/식물원 방문;호캉스 여행</td>\n",
       "      <td>2023-04-29</td>\n",
       "      <td>2023-05-03</td>\n",
       "      <td>야외 스포츠, 레포츠 활동;테마파크, 놀이시설, 동/식물원 방문;호캉스 여행</td>\n",
       "    </tr>\n",
       "    <tr>\n",
       "      <th>1</th>\n",
       "      <td>e_e000043</td>\n",
       "      <td>온천/스파;드라마 촬영지 방문;Well-ness 여행;친환경 여행(플로깅 여행)</td>\n",
       "      <td>2023-04-28</td>\n",
       "      <td>2023-05-01</td>\n",
       "      <td>시티투어;지역 문화예술/공연/전시시설 관람;테마파크, 놀이시설, 동/식물원 방문</td>\n",
       "    </tr>\n",
       "    <tr>\n",
       "      <th>2</th>\n",
       "      <td>e_e000191</td>\n",
       "      <td>Well-ness 여행</td>\n",
       "      <td>2023-04-28</td>\n",
       "      <td>2023-05-01</td>\n",
       "      <td>신규 여행지 발굴;종교/성지 순례;친환경 여행(플로깅 여행)</td>\n",
       "    </tr>\n",
       "    <tr>\n",
       "      <th>3</th>\n",
       "      <td>e_e000316</td>\n",
       "      <td>Well-ness 여행;SNS 인생샷 여행;신규 여행지 발굴;인플루언서 따라하기 여...</td>\n",
       "      <td>2023-05-27</td>\n",
       "      <td>2023-05-30</td>\n",
       "      <td>SNS 인생샷 여행;인플루언서 따라하기 여행;지역 문화예술/공연/전시시설 관람</td>\n",
       "    </tr>\n",
       "    <tr>\n",
       "      <th>4</th>\n",
       "      <td>e_e000668</td>\n",
       "      <td>테마파크, 놀이시설, 동/식물원 방문</td>\n",
       "      <td>2023-05-20</td>\n",
       "      <td>2023-05-21</td>\n",
       "      <td>테마파크, 놀이시설, 동/식물원 방문;쇼핑;시티투어</td>\n",
       "    </tr>\n",
       "  </tbody>\n",
       "</table>\n",
       "</div>"
      ],
      "text/plain": [
       "   TRAVEL_ID                                     TRAVEL_PURPOSE TRAVEL_START_YMD TRAVEL_END_YMD                          TRAVEL_MISSION_CHECK\n",
       "0  e_e000005         야외 스포츠, 레포츠 활동;테마파크, 놀이시설, 동/식물원 방문;호캉스 여행       2023-04-29     2023-05-03    야외 스포츠, 레포츠 활동;테마파크, 놀이시설, 동/식물원 방문;호캉스 여행\n",
       "1  e_e000043       온천/스파;드라마 촬영지 방문;Well-ness 여행;친환경 여행(플로깅 여행)       2023-04-28     2023-05-01  시티투어;지역 문화예술/공연/전시시설 관람;테마파크, 놀이시설, 동/식물원 방문\n",
       "2  e_e000191                                       Well-ness 여행       2023-04-28     2023-05-01             신규 여행지 발굴;종교/성지 순례;친환경 여행(플로깅 여행)\n",
       "3  e_e000316  Well-ness 여행;SNS 인생샷 여행;신규 여행지 발굴;인플루언서 따라하기 여...       2023-05-27     2023-05-30   SNS 인생샷 여행;인플루언서 따라하기 여행;지역 문화예술/공연/전시시설 관람\n",
       "4  e_e000668                               테마파크, 놀이시설, 동/식물원 방문       2023-05-20     2023-05-21                  테마파크, 놀이시설, 동/식물원 방문;쇼핑;시티투어"
      ]
     },
     "execution_count": 2189,
     "metadata": {},
     "output_type": "execute_result"
    }
   ],
   "source": [
    "travel = convert_colon_to_korean(travel, 'TRAVEL_MISSION_CHECK', MIS_mapping)\n",
    "\n",
    "# 결과 확인\n",
    "travel.head()"
   ]
  },
  {
   "cell_type": "markdown",
   "metadata": {},
   "source": [
    "<h3>3. 전처리 후 확인</h3>"
   ]
  },
  {
   "cell_type": "code",
   "execution_count": 2190,
   "metadata": {},
   "outputs": [
    {
     "name": "stdout",
     "output_type": "stream",
     "text": [
      "중복된 TRAVEL_ID가 없습니다.\n"
     ]
    }
   ],
   "source": [
    "# TRAVEL_ID 중복 여부 확인\n",
    "duplicates = travel[travel.duplicated(subset='TRAVEL_ID', keep=False)]\n",
    "\n",
    "# 중복된 항목이 있는 경우\n",
    "if not duplicates.empty:\n",
    "    print(\"중복된 TRAVEL_ID가 있습니다.\")\n",
    "    print(duplicates)\n",
    "else:\n",
    "    print(\"중복된 TRAVEL_ID가 없습니다.\")"
   ]
  },
  {
   "cell_type": "code",
   "execution_count": 2191,
   "metadata": {},
   "outputs": [
    {
     "name": "stdout",
     "output_type": "stream",
     "text": [
      "여행.csv의 구조와 타입 : \n",
      "<class 'pandas.core.frame.DataFrame'>\n",
      "RangeIndex: 2560 entries, 0 to 2559\n",
      "Data columns (total 5 columns):\n",
      " #   Column                Non-Null Count  Dtype \n",
      "---  ------                --------------  ----- \n",
      " 0   TRAVEL_ID             2560 non-null   object\n",
      " 1   TRAVEL_PURPOSE        2560 non-null   object\n",
      " 2   TRAVEL_START_YMD      2560 non-null   object\n",
      " 3   TRAVEL_END_YMD        2560 non-null   object\n",
      " 4   TRAVEL_MISSION_CHECK  2560 non-null   object\n",
      "dtypes: object(5)\n",
      "memory usage: 100.1+ KB\n",
      "None\n"
     ]
    }
   ],
   "source": [
    "# 데이터의 구조와 타입 확인\n",
    "print('여행.csv의 구조와 타입 : ')\n",
    "print(travel.info())"
   ]
  },
  {
   "cell_type": "code",
   "execution_count": 2192,
   "metadata": {},
   "outputs": [
    {
     "name": "stdout",
     "output_type": "stream",
     "text": [
      "여행.csv의 결측치 : \n",
      "TRAVEL_ID               0\n",
      "TRAVEL_PURPOSE          0\n",
      "TRAVEL_START_YMD        0\n",
      "TRAVEL_END_YMD          0\n",
      "TRAVEL_MISSION_CHECK    0\n",
      "dtype: int64\n"
     ]
    }
   ],
   "source": [
    "# 데이터의 결측치 확인\n",
    "print('여행.csv의 결측치 : ')\n",
    "print(travel.isnull().sum())"
   ]
  },
  {
   "cell_type": "code",
   "execution_count": 2193,
   "metadata": {},
   "outputs": [
    {
     "data": {
      "text/html": [
       "<div>\n",
       "<style scoped>\n",
       "    .dataframe tbody tr th:only-of-type {\n",
       "        vertical-align: middle;\n",
       "    }\n",
       "\n",
       "    .dataframe tbody tr th {\n",
       "        vertical-align: top;\n",
       "    }\n",
       "\n",
       "    .dataframe thead th {\n",
       "        text-align: right;\n",
       "    }\n",
       "</style>\n",
       "<table border=\"1\" class=\"dataframe\">\n",
       "  <thead>\n",
       "    <tr style=\"text-align: right;\">\n",
       "      <th></th>\n",
       "      <th>TRAVEL_ID</th>\n",
       "      <th>TRAVEL_PURPOSE</th>\n",
       "      <th>TRAVEL_START_YMD</th>\n",
       "      <th>TRAVEL_END_YMD</th>\n",
       "      <th>TRAVEL_MISSION_CHECK</th>\n",
       "    </tr>\n",
       "  </thead>\n",
       "  <tbody>\n",
       "    <tr>\n",
       "      <th>0</th>\n",
       "      <td>e_e000005</td>\n",
       "      <td>야외 스포츠, 레포츠 활동;테마파크, 놀이시설, 동/식물원 방문;호캉스 여행</td>\n",
       "      <td>2023-04-29</td>\n",
       "      <td>2023-05-03</td>\n",
       "      <td>야외 스포츠, 레포츠 활동;테마파크, 놀이시설, 동/식물원 방문;호캉스 여행</td>\n",
       "    </tr>\n",
       "    <tr>\n",
       "      <th>1</th>\n",
       "      <td>e_e000043</td>\n",
       "      <td>온천/스파;드라마 촬영지 방문;Well-ness 여행;친환경 여행(플로깅 여행)</td>\n",
       "      <td>2023-04-28</td>\n",
       "      <td>2023-05-01</td>\n",
       "      <td>시티투어;지역 문화예술/공연/전시시설 관람;테마파크, 놀이시설, 동/식물원 방문</td>\n",
       "    </tr>\n",
       "    <tr>\n",
       "      <th>2</th>\n",
       "      <td>e_e000191</td>\n",
       "      <td>Well-ness 여행</td>\n",
       "      <td>2023-04-28</td>\n",
       "      <td>2023-05-01</td>\n",
       "      <td>신규 여행지 발굴;종교/성지 순례;친환경 여행(플로깅 여행)</td>\n",
       "    </tr>\n",
       "    <tr>\n",
       "      <th>3</th>\n",
       "      <td>e_e000316</td>\n",
       "      <td>Well-ness 여행;SNS 인생샷 여행;신규 여행지 발굴;인플루언서 따라하기 여...</td>\n",
       "      <td>2023-05-27</td>\n",
       "      <td>2023-05-30</td>\n",
       "      <td>SNS 인생샷 여행;인플루언서 따라하기 여행;지역 문화예술/공연/전시시설 관람</td>\n",
       "    </tr>\n",
       "    <tr>\n",
       "      <th>4</th>\n",
       "      <td>e_e000668</td>\n",
       "      <td>테마파크, 놀이시설, 동/식물원 방문</td>\n",
       "      <td>2023-05-20</td>\n",
       "      <td>2023-05-21</td>\n",
       "      <td>테마파크, 놀이시설, 동/식물원 방문;쇼핑;시티투어</td>\n",
       "    </tr>\n",
       "  </tbody>\n",
       "</table>\n",
       "</div>"
      ],
      "text/plain": [
       "   TRAVEL_ID                                     TRAVEL_PURPOSE TRAVEL_START_YMD TRAVEL_END_YMD                          TRAVEL_MISSION_CHECK\n",
       "0  e_e000005         야외 스포츠, 레포츠 활동;테마파크, 놀이시설, 동/식물원 방문;호캉스 여행       2023-04-29     2023-05-03    야외 스포츠, 레포츠 활동;테마파크, 놀이시설, 동/식물원 방문;호캉스 여행\n",
       "1  e_e000043       온천/스파;드라마 촬영지 방문;Well-ness 여행;친환경 여행(플로깅 여행)       2023-04-28     2023-05-01  시티투어;지역 문화예술/공연/전시시설 관람;테마파크, 놀이시설, 동/식물원 방문\n",
       "2  e_e000191                                       Well-ness 여행       2023-04-28     2023-05-01             신규 여행지 발굴;종교/성지 순례;친환경 여행(플로깅 여행)\n",
       "3  e_e000316  Well-ness 여행;SNS 인생샷 여행;신규 여행지 발굴;인플루언서 따라하기 여...       2023-05-27     2023-05-30   SNS 인생샷 여행;인플루언서 따라하기 여행;지역 문화예술/공연/전시시설 관람\n",
       "4  e_e000668                               테마파크, 놀이시설, 동/식물원 방문       2023-05-20     2023-05-21                  테마파크, 놀이시설, 동/식물원 방문;쇼핑;시티투어"
      ]
     },
     "execution_count": 2193,
     "metadata": {},
     "output_type": "execute_result"
    }
   ],
   "source": [
    "# 데이터 살펴보기\n",
    "travel.head()"
   ]
  },
  {
   "cell_type": "markdown",
   "metadata": {},
   "source": [
    "<h3>4. 전처리 CSV 저장</h3>"
   ]
  },
  {
   "cell_type": "code",
   "execution_count": 2194,
   "metadata": {},
   "outputs": [],
   "source": [
    "travel.to_csv('data/training/preprocessing_data/여행_전처리.csv',index=False)"
   ]
  },
  {
   "cell_type": "markdown",
   "metadata": {},
   "source": [
    "<hr>\n",
    "<h2>[이동수단소비내역.csv]</h2>"
   ]
  },
  {
   "cell_type": "code",
   "execution_count": 2195,
   "metadata": {},
   "outputs": [
    {
     "name": "stdout",
     "output_type": "stream",
     "text": [
      "   TRAVEL_ID        MVMN_SE_NM  PAYMENT_AMT_WON\n",
      "0  g_g007947  렌터카(승용/승합/버스 등등)             1500\n",
      "1  g_g000552                기타             1500\n",
      "2  g_g000419           시외/고속버스             2000\n",
      "3  g_g010747                택시             2000\n",
      "4  g_g007226           시내/마을버스             2500\n"
     ]
    }
   ],
   "source": [
    "# 필요한 변수 리스트\n",
    "columns_to_keep_mvmn_consume = [\n",
    "    'TRAVEL_ID', 'MVMN_SE_NM', 'PAYMENT_AMT_WON'\n",
    "    ]\n",
    "\n",
    "# mvmn_consume에 필요한 변수만 남기고 저장\n",
    "mvmn_consume = mvmn_consume[columns_to_keep_mvmn_consume]\n",
    "\n",
    "# 결과 확인\n",
    "print(mvmn_consume.head())"
   ]
  },
  {
   "cell_type": "markdown",
   "metadata": {},
   "source": [
    "<h3>1. 변수 추출 및 검토</h3>"
   ]
  },
  {
   "cell_type": "code",
   "execution_count": 2196,
   "metadata": {},
   "outputs": [
    {
     "name": "stdout",
     "output_type": "stream",
     "text": [
      "이동수단소비내역.csv의 행, 열 개수 : \n",
      "(5419, 3)\n"
     ]
    }
   ],
   "source": [
    "# 데이터의 행, 열 개수 출력\n",
    "print('이동수단소비내역.csv의 행, 열 개수 : ')\n",
    "print(mvmn_consume.shape)"
   ]
  },
  {
   "cell_type": "code",
   "execution_count": 2197,
   "metadata": {},
   "outputs": [
    {
     "name": "stdout",
     "output_type": "stream",
     "text": [
      "이동수단소비내역.csv의 구조와 타입 : \n",
      "<class 'pandas.core.frame.DataFrame'>\n",
      "RangeIndex: 5419 entries, 0 to 5418\n",
      "Data columns (total 3 columns):\n",
      " #   Column           Non-Null Count  Dtype \n",
      "---  ------           --------------  ----- \n",
      " 0   TRAVEL_ID        5419 non-null   object\n",
      " 1   MVMN_SE_NM       5419 non-null   object\n",
      " 2   PAYMENT_AMT_WON  5419 non-null   int64 \n",
      "dtypes: int64(1), object(2)\n",
      "memory usage: 127.1+ KB\n",
      "None\n"
     ]
    }
   ],
   "source": [
    "# 데이터의 구조와 타입 확인\n",
    "print('이동수단소비내역.csv의 구조와 타입 : ')\n",
    "print(mvmn_consume.info())"
   ]
  },
  {
   "cell_type": "code",
   "execution_count": 2198,
   "metadata": {},
   "outputs": [
    {
     "name": "stdout",
     "output_type": "stream",
     "text": [
      "이동수단소비내역.csv의 결측치 : \n",
      "TRAVEL_ID          0\n",
      "MVMN_SE_NM         0\n",
      "PAYMENT_AMT_WON    0\n",
      "dtype: int64\n"
     ]
    }
   ],
   "source": [
    "# 데이터의 결측치 확인\n",
    "print('이동수단소비내역.csv의 결측치 : ')\n",
    "print(mvmn_consume.isnull().sum())"
   ]
  },
  {
   "cell_type": "code",
   "execution_count": 2199,
   "metadata": {},
   "outputs": [
    {
     "data": {
      "text/html": [
       "<div>\n",
       "<style scoped>\n",
       "    .dataframe tbody tr th:only-of-type {\n",
       "        vertical-align: middle;\n",
       "    }\n",
       "\n",
       "    .dataframe tbody tr th {\n",
       "        vertical-align: top;\n",
       "    }\n",
       "\n",
       "    .dataframe thead th {\n",
       "        text-align: right;\n",
       "    }\n",
       "</style>\n",
       "<table border=\"1\" class=\"dataframe\">\n",
       "  <thead>\n",
       "    <tr style=\"text-align: right;\">\n",
       "      <th></th>\n",
       "      <th>TRAVEL_ID</th>\n",
       "      <th>MVMN_SE_NM</th>\n",
       "      <th>PAYMENT_AMT_WON</th>\n",
       "    </tr>\n",
       "  </thead>\n",
       "  <tbody>\n",
       "    <tr>\n",
       "      <th>0</th>\n",
       "      <td>g_g007947</td>\n",
       "      <td>렌터카(승용/승합/버스 등등)</td>\n",
       "      <td>1500</td>\n",
       "    </tr>\n",
       "    <tr>\n",
       "      <th>1</th>\n",
       "      <td>g_g000552</td>\n",
       "      <td>기타</td>\n",
       "      <td>1500</td>\n",
       "    </tr>\n",
       "    <tr>\n",
       "      <th>2</th>\n",
       "      <td>g_g000419</td>\n",
       "      <td>시외/고속버스</td>\n",
       "      <td>2000</td>\n",
       "    </tr>\n",
       "    <tr>\n",
       "      <th>3</th>\n",
       "      <td>g_g010747</td>\n",
       "      <td>택시</td>\n",
       "      <td>2000</td>\n",
       "    </tr>\n",
       "    <tr>\n",
       "      <th>4</th>\n",
       "      <td>g_g007226</td>\n",
       "      <td>시내/마을버스</td>\n",
       "      <td>2500</td>\n",
       "    </tr>\n",
       "  </tbody>\n",
       "</table>\n",
       "</div>"
      ],
      "text/plain": [
       "   TRAVEL_ID        MVMN_SE_NM  PAYMENT_AMT_WON\n",
       "0  g_g007947  렌터카(승용/승합/버스 등등)             1500\n",
       "1  g_g000552                기타             1500\n",
       "2  g_g000419           시외/고속버스             2000\n",
       "3  g_g010747                택시             2000\n",
       "4  g_g007226           시내/마을버스             2500"
      ]
     },
     "execution_count": 2199,
     "metadata": {},
     "output_type": "execute_result"
    }
   ],
   "source": [
    "# 데이터 살펴보기\n",
    "mvmn_consume.head()"
   ]
  },
  {
   "cell_type": "markdown",
   "metadata": {},
   "source": [
    "<h3>2. 전처리</h3>"
   ]
  },
  {
   "cell_type": "markdown",
   "metadata": {},
   "source": [
    "<h5>1) 이동수단 소비내역인 걸 나타내기 위해서 변수명 변경"
   ]
  },
  {
   "cell_type": "code",
   "execution_count": 2200,
   "metadata": {},
   "outputs": [
    {
     "data": {
      "text/html": [
       "<div>\n",
       "<style scoped>\n",
       "    .dataframe tbody tr th:only-of-type {\n",
       "        vertical-align: middle;\n",
       "    }\n",
       "\n",
       "    .dataframe tbody tr th {\n",
       "        vertical-align: top;\n",
       "    }\n",
       "\n",
       "    .dataframe thead th {\n",
       "        text-align: right;\n",
       "    }\n",
       "</style>\n",
       "<table border=\"1\" class=\"dataframe\">\n",
       "  <thead>\n",
       "    <tr style=\"text-align: right;\">\n",
       "      <th></th>\n",
       "      <th>TRAVEL_ID</th>\n",
       "      <th>MVMN_SE_NM</th>\n",
       "      <th>MVMN_WON</th>\n",
       "    </tr>\n",
       "  </thead>\n",
       "  <tbody>\n",
       "    <tr>\n",
       "      <th>0</th>\n",
       "      <td>g_g007947</td>\n",
       "      <td>렌터카(승용/승합/버스 등등)</td>\n",
       "      <td>1500</td>\n",
       "    </tr>\n",
       "    <tr>\n",
       "      <th>1</th>\n",
       "      <td>g_g000552</td>\n",
       "      <td>기타</td>\n",
       "      <td>1500</td>\n",
       "    </tr>\n",
       "    <tr>\n",
       "      <th>2</th>\n",
       "      <td>g_g000419</td>\n",
       "      <td>시외/고속버스</td>\n",
       "      <td>2000</td>\n",
       "    </tr>\n",
       "    <tr>\n",
       "      <th>3</th>\n",
       "      <td>g_g010747</td>\n",
       "      <td>택시</td>\n",
       "      <td>2000</td>\n",
       "    </tr>\n",
       "    <tr>\n",
       "      <th>4</th>\n",
       "      <td>g_g007226</td>\n",
       "      <td>시내/마을버스</td>\n",
       "      <td>2500</td>\n",
       "    </tr>\n",
       "  </tbody>\n",
       "</table>\n",
       "</div>"
      ],
      "text/plain": [
       "   TRAVEL_ID        MVMN_SE_NM  MVMN_WON\n",
       "0  g_g007947  렌터카(승용/승합/버스 등등)      1500\n",
       "1  g_g000552                기타      1500\n",
       "2  g_g000419           시외/고속버스      2000\n",
       "3  g_g010747                택시      2000\n",
       "4  g_g007226           시내/마을버스      2500"
      ]
     },
     "execution_count": 2200,
     "metadata": {},
     "output_type": "execute_result"
    }
   ],
   "source": [
    "mvmn_consume = mvmn_consume.rename(columns = {'PAYMENT_AMT_WON' : 'MVMN_WON'})\n",
    "\n",
    "# 결과 확인\n",
    "mvmn_consume.head()"
   ]
  },
  {
   "cell_type": "markdown",
   "metadata": {},
   "source": [
    "<h5>2) 추가적인 분석에 사용하기 위해 TRAVEL_ID별 주요이동수단 구하기"
   ]
  },
  {
   "cell_type": "code",
   "execution_count": 2201,
   "metadata": {},
   "outputs": [
    {
     "name": "stdout",
     "output_type": "stream",
     "text": [
      "   TRAVEL_ID     MAJOR_TRANSPORT\n",
      "0  e_e000005  [자가용(승용/승합/트럭 등등)]\n",
      "1  e_e000043  [자가용(승용/승합/트럭 등등)]\n",
      "2  e_e000191  [자가용(승용/승합/트럭 등등)]\n",
      "3  e_e000316                [택시]\n",
      "4  e_e000668  [자가용(승용/승합/트럭 등등)]\n"
     ]
    }
   ],
   "source": [
    "# TRAVEL_ID별로 이동수단 빈도 계산\n",
    "mvmn_consume_count = mvmn_consume.groupby(['TRAVEL_ID', 'MVMN_SE_NM']).size().reset_index(name='COUNT')\n",
    "\n",
    "# TRAVEL_ID별로 가장 많이 사용된 이동수단 추출\n",
    "mvmn_consume_major_transport = mvmn_consume_count.groupby('TRAVEL_ID').apply(\n",
    "    lambda x: x[x['COUNT'] == x['COUNT'].max()]['MVMN_SE_NM'].tolist()  # 빈도수가 동일한 이동수단을 리스트로 결합\n",
    ").reset_index(name='MAJOR_TRANSPORT')\n",
    "\n",
    "# 결과 확인\n",
    "print(mvmn_consume_major_transport.head())"
   ]
  },
  {
   "cell_type": "markdown",
   "metadata": {},
   "source": [
    "<h5>3) TRAVEL_ID가 중복되는 경우 이동수단 소비내역 전처리 - pivot_table"
   ]
  },
  {
   "cell_type": "code",
   "execution_count": 2202,
   "metadata": {},
   "outputs": [
    {
     "name": "stdout",
     "output_type": "stream",
     "text": [
      "중복된 TRAVEL_ID가 있습니다.\n"
     ]
    }
   ],
   "source": [
    "# TRAVEL_ID 중복 여부 확인\n",
    "duplicates = mvmn_consume[mvmn_consume.duplicated(subset='TRAVEL_ID', keep=False)]\n",
    "\n",
    "# 중복된 항목이 있는 경우\n",
    "if not duplicates.empty:\n",
    "    print(\"중복된 TRAVEL_ID가 있습니다.\")\n",
    "else:\n",
    "    print(\"중복된 TRAVEL_ID가 없습니다.\")"
   ]
  },
  {
   "cell_type": "markdown",
   "metadata": {},
   "source": [
    "pivot_table 형식으로 변환하여, 이후 파생변수 추가 등 추가적인 분석을 쉽게 할 수 있도록 함"
   ]
  },
  {
   "cell_type": "code",
   "execution_count": 2203,
   "metadata": {},
   "outputs": [
    {
     "name": "stdout",
     "output_type": "stream",
     "text": [
      "MVMN_SE_NM  KTX/SRT(고속열차)  관광버스  기타  렌터카(승용/승합/버스 등등)  배/선박  버스 + 지하철  새마을/무궁화열차  시내/마을버스  시외/고속버스  자가용(승용/승합/트럭 등등)  자전거  지하철  캠핑카(자차 및 렌탈)     택시  항공기\n",
      "TRAVEL_ID                                                                                                                                               \n",
      "e_e000005               0     0   0                 0     0         0          0        0        0            112300    0    0             0      0    0\n",
      "e_e000043               0     0   0                 0     0         0          0        0        0             42925    0    0             0      0    0\n",
      "e_e000191               0     0   0                 0     0         0          0        0        0             98000    0    0             0      0    0\n",
      "e_e000316          140000     0   0                 0     0         0          0    40000        0              9000    0    0             0  15300    0\n",
      "e_e000668               0     0   0                 0     0         0          0        0        0             86400    0    0             0      0    0\n"
     ]
    }
   ],
   "source": [
    "# MVMN_SE_NM을 문자열 형식으로 변환\n",
    "mvmn_consume['MVMN_SE_NM'] = mvmn_consume['MVMN_SE_NM'].astype(str)\n",
    "\n",
    "# pivot_table 생성\n",
    "mvmn_consume_pivot = mvmn_consume.pivot_table(\n",
    "    index='TRAVEL_ID', \n",
    "    columns='MVMN_SE_NM', \n",
    "    values='MVMN_WON', \n",
    "    aggfunc='sum', \n",
    "    fill_value=0  # 결측값은 0으로\n",
    ")\n",
    "\n",
    "# 결과 확인\n",
    "print(mvmn_consume_pivot.head())"
   ]
  },
  {
   "cell_type": "markdown",
   "metadata": {},
   "source": [
    "2)에서 구했던 주요이동수단과 병합하여 mvmn_consume_new 데이터프레임 생성"
   ]
  },
  {
   "cell_type": "code",
   "execution_count": 2204,
   "metadata": {},
   "outputs": [
    {
     "name": "stdout",
     "output_type": "stream",
     "text": [
      "   TRAVEL_ID  KTX/SRT(고속열차)  관광버스  기타  렌터카(승용/승합/버스 등등)  배/선박  버스 + 지하철  새마을/무궁화열차  시내/마을버스  시외/고속버스  자가용(승용/승합/트럭 등등)  자전거  지하철  캠핑카(자차 및 렌탈)     택시  항공기     MAJOR_TRANSPORT\n",
      "0  e_e000005              0     0   0                 0     0         0          0        0        0            112300    0    0             0      0    0  [자가용(승용/승합/트럭 등등)]\n",
      "1  e_e000043              0     0   0                 0     0         0          0        0        0             42925    0    0             0      0    0  [자가용(승용/승합/트럭 등등)]\n",
      "2  e_e000191              0     0   0                 0     0         0          0        0        0             98000    0    0             0      0    0  [자가용(승용/승합/트럭 등등)]\n",
      "3  e_e000316         140000     0   0                 0     0         0          0    40000        0              9000    0    0             0  15300    0                [택시]\n",
      "4  e_e000668              0     0   0                 0     0         0          0        0        0             86400    0    0             0      0    0  [자가용(승용/승합/트럭 등등)]\n"
     ]
    }
   ],
   "source": [
    "# 주요 이동수단과 피벗 테이블 병합\n",
    "mvmn_consume_new_pivot = pd.merge(\n",
    "    mvmn_consume_pivot.reset_index(),  # 피벗 테이블을 병합하기 위해 인덱스를 초기화\n",
    "    mvmn_consume_major_transport,     # 주요 이동수단 데이터프레임\n",
    "    on='TRAVEL_ID',                   # 공통 키: TRAVEL_ID\n",
    "    how='left'                        # 병합 방식: 왼쪽 (피벗 테이블 기준)\n",
    ")\n",
    "\n",
    "# 결과 확인\n",
    "print(mvmn_consume_new_pivot.head())"
   ]
  },
  {
   "cell_type": "markdown",
   "metadata": {},
   "source": [
    "<h5>4) 추가적인 분석에 사용하기 위해 TRAVEL_ID별 이동수단총소비액 파생변수 추가"
   ]
  },
  {
   "cell_type": "code",
   "execution_count": 2205,
   "metadata": {},
   "outputs": [
    {
     "name": "stdout",
     "output_type": "stream",
     "text": [
      "   TRAVEL_ID  KTX/SRT(고속열차)  관광버스  기타  렌터카(승용/승합/버스 등등)  배/선박  버스 + 지하철  새마을/무궁화열차  시내/마을버스  시외/고속버스  자가용(승용/승합/트럭 등등)  자전거  지하철  캠핑카(자차 및 렌탈)     택시  항공기     MAJOR_TRANSPORT  TOTAL_MVMN_WON\n",
      "0  e_e000005              0     0   0                 0     0         0          0        0        0            112300    0    0             0      0    0  [자가용(승용/승합/트럭 등등)]          112300\n",
      "1  e_e000043              0     0   0                 0     0         0          0        0        0             42925    0    0             0      0    0  [자가용(승용/승합/트럭 등등)]           42925\n",
      "2  e_e000191              0     0   0                 0     0         0          0        0        0             98000    0    0             0      0    0  [자가용(승용/승합/트럭 등등)]           98000\n",
      "3  e_e000316         140000     0   0                 0     0         0          0    40000        0              9000    0    0             0  15300    0                [택시]          204300\n",
      "4  e_e000668              0     0   0                 0     0         0          0        0        0             86400    0    0             0      0    0  [자가용(승용/승합/트럭 등등)]           86400\n"
     ]
    }
   ],
   "source": [
    "# TRAVEL_ID별로 이동수단의 총 소비액 계산\n",
    "mvmn_consume_total = mvmn_consume.groupby('TRAVEL_ID')['MVMN_WON'].sum().reset_index(name='TOTAL_MVMN_WON')\n",
    "\n",
    "# mvmn_consume_new_pivot 병합\n",
    "mvmn_consume_new_pivot = mvmn_consume_new_pivot.merge(mvmn_consume_total, on='TRAVEL_ID', how='left')\n",
    "\n",
    "# 결과 확인\n",
    "print(mvmn_consume_new_pivot.head())"
   ]
  },
  {
   "cell_type": "markdown",
   "metadata": {},
   "source": [
    "merge 후 결과의 가독성을 높이기 위해 TRAVEL_ID, MAJOR_TRANSPORT, TORAL_MVMN_WON 만 추출"
   ]
  },
  {
   "cell_type": "code",
   "execution_count": 2206,
   "metadata": {},
   "outputs": [
    {
     "name": "stdout",
     "output_type": "stream",
     "text": [
      "      TRAVEL_ID                      MAJOR_TRANSPORT  TOTAL_MVMN_WON\n",
      "0     e_e000005                   [자가용(승용/승합/트럭 등등)]          112300\n",
      "1     e_e000043                   [자가용(승용/승합/트럭 등등)]           42925\n",
      "2     e_e000191                   [자가용(승용/승합/트럭 등등)]           98000\n",
      "3     e_e000316                                 [택시]          204300\n",
      "4     e_e000668                   [자가용(승용/승합/트럭 등등)]           86400\n",
      "...         ...                                  ...             ...\n",
      "2365  g_g013127                   [자가용(승용/승합/트럭 등등)]           45500\n",
      "2366  g_g013128  [KTX/SRT(고속열차), 새마을/무궁화열차, 시내/마을버스]           35400\n",
      "2367  g_g013131                   [자가용(승용/승합/트럭 등등)]           30000\n",
      "2368  h_h001459                   [자가용(승용/승합/트럭 등등)]           69800\n",
      "2369  h_h003280                   [자가용(승용/승합/트럭 등등)]           36300\n",
      "\n",
      "[2370 rows x 3 columns]\n"
     ]
    }
   ],
   "source": [
    "mvmn_consume_new = mvmn_consume_new_pivot[['TRAVEL_ID', 'MAJOR_TRANSPORT', 'TOTAL_MVMN_WON']]\n",
    "print(mvmn_consume_new)"
   ]
  },
  {
   "cell_type": "markdown",
   "metadata": {},
   "source": [
    "<h3>3. 전처리 후 확인</h3>"
   ]
  },
  {
   "cell_type": "code",
   "execution_count": 2207,
   "metadata": {},
   "outputs": [
    {
     "name": "stdout",
     "output_type": "stream",
     "text": [
      "중복된 TRAVEL_ID가 없습니다.\n"
     ]
    }
   ],
   "source": [
    "# TRAVEL_ID 중복 여부 확인\n",
    "duplicates = mvmn_consume_new[mvmn_consume_new.duplicated(subset='TRAVEL_ID', keep=False)]\n",
    "\n",
    "# 중복된 항목이 있는 경우\n",
    "if not duplicates.empty:\n",
    "    print(\"중복된 TRAVEL_ID가 있습니다.\")\n",
    "else:\n",
    "    print(\"중복된 TRAVEL_ID가 없습니다.\")"
   ]
  },
  {
   "cell_type": "code",
   "execution_count": 2208,
   "metadata": {},
   "outputs": [
    {
     "name": "stdout",
     "output_type": "stream",
     "text": [
      "이동수단소비내역.csv의 구조와 타입 : \n",
      "<class 'pandas.core.frame.DataFrame'>\n",
      "RangeIndex: 2370 entries, 0 to 2369\n",
      "Data columns (total 3 columns):\n",
      " #   Column           Non-Null Count  Dtype \n",
      "---  ------           --------------  ----- \n",
      " 0   TRAVEL_ID        2370 non-null   object\n",
      " 1   MAJOR_TRANSPORT  2370 non-null   object\n",
      " 2   TOTAL_MVMN_WON   2370 non-null   int64 \n",
      "dtypes: int64(1), object(2)\n",
      "memory usage: 55.7+ KB\n",
      "None\n"
     ]
    }
   ],
   "source": [
    "# 데이터의 구조와 타입 확인\n",
    "print('이동수단소비내역.csv의 구조와 타입 : ')\n",
    "print(mvmn_consume_new.info())"
   ]
  },
  {
   "cell_type": "code",
   "execution_count": 2209,
   "metadata": {},
   "outputs": [
    {
     "name": "stdout",
     "output_type": "stream",
     "text": [
      "이동수단소비내역.csv의 결측치 : \n",
      "TRAVEL_ID          0\n",
      "MAJOR_TRANSPORT    0\n",
      "TOTAL_MVMN_WON     0\n",
      "dtype: int64\n"
     ]
    }
   ],
   "source": [
    "# 데이터의 결측치 확인\n",
    "print('이동수단소비내역.csv의 결측치 : ')\n",
    "print(mvmn_consume_new.isnull().sum())"
   ]
  },
  {
   "cell_type": "code",
   "execution_count": 2210,
   "metadata": {},
   "outputs": [
    {
     "data": {
      "text/html": [
       "<div>\n",
       "<style scoped>\n",
       "    .dataframe tbody tr th:only-of-type {\n",
       "        vertical-align: middle;\n",
       "    }\n",
       "\n",
       "    .dataframe tbody tr th {\n",
       "        vertical-align: top;\n",
       "    }\n",
       "\n",
       "    .dataframe thead th {\n",
       "        text-align: right;\n",
       "    }\n",
       "</style>\n",
       "<table border=\"1\" class=\"dataframe\">\n",
       "  <thead>\n",
       "    <tr style=\"text-align: right;\">\n",
       "      <th></th>\n",
       "      <th>TRAVEL_ID</th>\n",
       "      <th>MAJOR_TRANSPORT</th>\n",
       "      <th>TOTAL_MVMN_WON</th>\n",
       "    </tr>\n",
       "  </thead>\n",
       "  <tbody>\n",
       "    <tr>\n",
       "      <th>0</th>\n",
       "      <td>e_e000005</td>\n",
       "      <td>[자가용(승용/승합/트럭 등등)]</td>\n",
       "      <td>112300</td>\n",
       "    </tr>\n",
       "    <tr>\n",
       "      <th>1</th>\n",
       "      <td>e_e000043</td>\n",
       "      <td>[자가용(승용/승합/트럭 등등)]</td>\n",
       "      <td>42925</td>\n",
       "    </tr>\n",
       "    <tr>\n",
       "      <th>2</th>\n",
       "      <td>e_e000191</td>\n",
       "      <td>[자가용(승용/승합/트럭 등등)]</td>\n",
       "      <td>98000</td>\n",
       "    </tr>\n",
       "    <tr>\n",
       "      <th>3</th>\n",
       "      <td>e_e000316</td>\n",
       "      <td>[택시]</td>\n",
       "      <td>204300</td>\n",
       "    </tr>\n",
       "    <tr>\n",
       "      <th>4</th>\n",
       "      <td>e_e000668</td>\n",
       "      <td>[자가용(승용/승합/트럭 등등)]</td>\n",
       "      <td>86400</td>\n",
       "    </tr>\n",
       "  </tbody>\n",
       "</table>\n",
       "</div>"
      ],
      "text/plain": [
       "   TRAVEL_ID     MAJOR_TRANSPORT  TOTAL_MVMN_WON\n",
       "0  e_e000005  [자가용(승용/승합/트럭 등등)]          112300\n",
       "1  e_e000043  [자가용(승용/승합/트럭 등등)]           42925\n",
       "2  e_e000191  [자가용(승용/승합/트럭 등등)]           98000\n",
       "3  e_e000316                [택시]          204300\n",
       "4  e_e000668  [자가용(승용/승합/트럭 등등)]           86400"
      ]
     },
     "execution_count": 2210,
     "metadata": {},
     "output_type": "execute_result"
    }
   ],
   "source": [
    "# 데이터 살펴보기\n",
    "mvmn_consume_new.head()"
   ]
  },
  {
   "cell_type": "markdown",
   "metadata": {},
   "source": [
    "<h3>4. 전처리 CSV 저장</h3>"
   ]
  },
  {
   "cell_type": "code",
   "execution_count": 2211,
   "metadata": {},
   "outputs": [],
   "source": [
    "mvmn_consume_new_pivot.to_csv('data/training/preprocessing_data/이동수단소비내역_pivot_전처리.csv',index=False)"
   ]
  },
  {
   "cell_type": "code",
   "execution_count": 2212,
   "metadata": {},
   "outputs": [],
   "source": [
    "mvmn_consume_new.to_csv('data/training/preprocessing_data/이동수단소비내역_전처리.csv',index=False)"
   ]
  },
  {
   "cell_type": "markdown",
   "metadata": {},
   "source": [
    "<hr>\n",
    "<h2>[숙박소비내역.csv]</h2>"
   ]
  },
  {
   "cell_type": "markdown",
   "metadata": {},
   "source": [
    "<h3>1. 변수 추출 및 검토</h3>"
   ]
  },
  {
   "cell_type": "code",
   "execution_count": 2213,
   "metadata": {},
   "outputs": [
    {
     "name": "stdout",
     "output_type": "stream",
     "text": [
      "   TRAVEL_ID  LODGING_TYPE_CD  PAYMENT_AMT_WON\n",
      "0  g_g000950                3           108000\n",
      "1  g_g003956                9            66000\n",
      "2  g_g005377                5           120000\n",
      "3  g_g000638                7            32000\n",
      "4  g_g000773                4            80000\n"
     ]
    }
   ],
   "source": [
    "# 필요한 변수 리스트\n",
    "columns_to_keep_lodge_consume = [\n",
    "    'TRAVEL_ID', 'LODGING_TYPE_CD', 'PAYMENT_AMT_WON'\n",
    "    ]\n",
    "\n",
    "# lodge_consume.shape에 필요한 변수만 남기고 저장\n",
    "lodge_consume = lodge_consume[columns_to_keep_lodge_consume]\n",
    "\n",
    "# 결과 확인\n",
    "print(lodge_consume.head())"
   ]
  },
  {
   "cell_type": "code",
   "execution_count": 2214,
   "metadata": {},
   "outputs": [
    {
     "name": "stdout",
     "output_type": "stream",
     "text": [
      "숙박소비내역.csv의 행, 열 개수 : \n",
      "(1333, 3)\n"
     ]
    }
   ],
   "source": [
    "# 데이터의 행, 열 개수 출력\n",
    "print('숙박소비내역.csv의 행, 열 개수 : ')\n",
    "print(lodge_consume.shape)"
   ]
  },
  {
   "cell_type": "code",
   "execution_count": 2215,
   "metadata": {},
   "outputs": [
    {
     "name": "stdout",
     "output_type": "stream",
     "text": [
      "숙박소비내역.csv의 구조와 타입 : \n",
      "<class 'pandas.core.frame.DataFrame'>\n",
      "RangeIndex: 1333 entries, 0 to 1332\n",
      "Data columns (total 3 columns):\n",
      " #   Column           Non-Null Count  Dtype \n",
      "---  ------           --------------  ----- \n",
      " 0   TRAVEL_ID        1333 non-null   object\n",
      " 1   LODGING_TYPE_CD  1333 non-null   int64 \n",
      " 2   PAYMENT_AMT_WON  1333 non-null   int64 \n",
      "dtypes: int64(2), object(1)\n",
      "memory usage: 31.4+ KB\n",
      "None\n"
     ]
    }
   ],
   "source": [
    "# 데이터의 구조와 타입 확인\n",
    "print('숙박소비내역.csv의 구조와 타입 : ')\n",
    "print(lodge_consume.info())"
   ]
  },
  {
   "cell_type": "code",
   "execution_count": 2216,
   "metadata": {},
   "outputs": [
    {
     "name": "stdout",
     "output_type": "stream",
     "text": [
      "숙박소비내역.csv의 결측치 : \n",
      "TRAVEL_ID          0\n",
      "LODGING_TYPE_CD    0\n",
      "PAYMENT_AMT_WON    0\n",
      "dtype: int64\n"
     ]
    }
   ],
   "source": [
    "# 데이터의 결측치 확인\n",
    "print('숙박소비내역.csv의 결측치 : ')\n",
    "print(lodge_consume.isnull().sum())"
   ]
  },
  {
   "cell_type": "code",
   "execution_count": 2217,
   "metadata": {},
   "outputs": [
    {
     "data": {
      "text/html": [
       "<div>\n",
       "<style scoped>\n",
       "    .dataframe tbody tr th:only-of-type {\n",
       "        vertical-align: middle;\n",
       "    }\n",
       "\n",
       "    .dataframe tbody tr th {\n",
       "        vertical-align: top;\n",
       "    }\n",
       "\n",
       "    .dataframe thead th {\n",
       "        text-align: right;\n",
       "    }\n",
       "</style>\n",
       "<table border=\"1\" class=\"dataframe\">\n",
       "  <thead>\n",
       "    <tr style=\"text-align: right;\">\n",
       "      <th></th>\n",
       "      <th>TRAVEL_ID</th>\n",
       "      <th>LODGING_TYPE_CD</th>\n",
       "      <th>PAYMENT_AMT_WON</th>\n",
       "    </tr>\n",
       "  </thead>\n",
       "  <tbody>\n",
       "    <tr>\n",
       "      <th>0</th>\n",
       "      <td>g_g000950</td>\n",
       "      <td>3</td>\n",
       "      <td>108000</td>\n",
       "    </tr>\n",
       "    <tr>\n",
       "      <th>1</th>\n",
       "      <td>g_g003956</td>\n",
       "      <td>9</td>\n",
       "      <td>66000</td>\n",
       "    </tr>\n",
       "    <tr>\n",
       "      <th>2</th>\n",
       "      <td>g_g005377</td>\n",
       "      <td>5</td>\n",
       "      <td>120000</td>\n",
       "    </tr>\n",
       "    <tr>\n",
       "      <th>3</th>\n",
       "      <td>g_g000638</td>\n",
       "      <td>7</td>\n",
       "      <td>32000</td>\n",
       "    </tr>\n",
       "    <tr>\n",
       "      <th>4</th>\n",
       "      <td>g_g000773</td>\n",
       "      <td>4</td>\n",
       "      <td>80000</td>\n",
       "    </tr>\n",
       "  </tbody>\n",
       "</table>\n",
       "</div>"
      ],
      "text/plain": [
       "   TRAVEL_ID  LODGING_TYPE_CD  PAYMENT_AMT_WON\n",
       "0  g_g000950                3           108000\n",
       "1  g_g003956                9            66000\n",
       "2  g_g005377                5           120000\n",
       "3  g_g000638                7            32000\n",
       "4  g_g000773                4            80000"
      ]
     },
     "execution_count": 2217,
     "metadata": {},
     "output_type": "execute_result"
    }
   ],
   "source": [
    "# 데이터 살펴보기\n",
    "lodge_consume.head()"
   ]
  },
  {
   "cell_type": "markdown",
   "metadata": {},
   "source": [
    "<h3>2. 전처리</h3>"
   ]
  },
  {
   "cell_type": "markdown",
   "metadata": {},
   "source": [
    "<h5>1) LODGING_TYPE_CD 변수 코드 'HTY' 매핑</h5>"
   ]
  },
  {
   "cell_type": "code",
   "execution_count": 2218,
   "metadata": {},
   "outputs": [
    {
     "data": {
      "text/html": [
       "<div>\n",
       "<style scoped>\n",
       "    .dataframe tbody tr th:only-of-type {\n",
       "        vertical-align: middle;\n",
       "    }\n",
       "\n",
       "    .dataframe tbody tr th {\n",
       "        vertical-align: top;\n",
       "    }\n",
       "\n",
       "    .dataframe thead th {\n",
       "        text-align: right;\n",
       "    }\n",
       "</style>\n",
       "<table border=\"1\" class=\"dataframe\">\n",
       "  <thead>\n",
       "    <tr style=\"text-align: right;\">\n",
       "      <th></th>\n",
       "      <th>TRAVEL_ID</th>\n",
       "      <th>LODGING_TYPE_CD</th>\n",
       "      <th>PAYMENT_AMT_WON</th>\n",
       "    </tr>\n",
       "  </thead>\n",
       "  <tbody>\n",
       "    <tr>\n",
       "      <th>0</th>\n",
       "      <td>g_g000950</td>\n",
       "      <td>펜션</td>\n",
       "      <td>108000</td>\n",
       "    </tr>\n",
       "    <tr>\n",
       "      <th>1</th>\n",
       "      <td>g_g003956</td>\n",
       "      <td>자연휴양림내 시설</td>\n",
       "      <td>66000</td>\n",
       "    </tr>\n",
       "    <tr>\n",
       "      <th>2</th>\n",
       "      <td>g_g005377</td>\n",
       "      <td>야영(캠핑,글램핑등)</td>\n",
       "      <td>120000</td>\n",
       "    </tr>\n",
       "    <tr>\n",
       "      <th>3</th>\n",
       "      <td>g_g000638</td>\n",
       "      <td>게스트하우스</td>\n",
       "      <td>32000</td>\n",
       "    </tr>\n",
       "    <tr>\n",
       "      <th>4</th>\n",
       "      <td>g_g000773</td>\n",
       "      <td>콘도미니엄/리조트</td>\n",
       "      <td>80000</td>\n",
       "    </tr>\n",
       "  </tbody>\n",
       "</table>\n",
       "</div>"
      ],
      "text/plain": [
       "   TRAVEL_ID LODGING_TYPE_CD  PAYMENT_AMT_WON\n",
       "0  g_g000950              펜션           108000\n",
       "1  g_g003956       자연휴양림내 시설            66000\n",
       "2  g_g005377     야영(캠핑,글램핑등)           120000\n",
       "3  g_g000638          게스트하우스            32000\n",
       "4  g_g000773       콘도미니엄/리조트            80000"
      ]
     },
     "execution_count": 2218,
     "metadata": {},
     "output_type": "execute_result"
    }
   ],
   "source": [
    "lodge_consume = convert_codes_to_korean(lodge_consume, 'LODGING_TYPE_CD', HTY_mapping)\n",
    "\n",
    "# 결과 확인\n",
    "lodge_consume.head()"
   ]
  },
  {
   "cell_type": "markdown",
   "metadata": {},
   "source": [
    "<h5>2) 숙박 소비내역인 걸 나타내기 위해서 변수명 변경</h5>"
   ]
  },
  {
   "cell_type": "code",
   "execution_count": 2219,
   "metadata": {},
   "outputs": [
    {
     "data": {
      "text/html": [
       "<div>\n",
       "<style scoped>\n",
       "    .dataframe tbody tr th:only-of-type {\n",
       "        vertical-align: middle;\n",
       "    }\n",
       "\n",
       "    .dataframe tbody tr th {\n",
       "        vertical-align: top;\n",
       "    }\n",
       "\n",
       "    .dataframe thead th {\n",
       "        text-align: right;\n",
       "    }\n",
       "</style>\n",
       "<table border=\"1\" class=\"dataframe\">\n",
       "  <thead>\n",
       "    <tr style=\"text-align: right;\">\n",
       "      <th></th>\n",
       "      <th>TRAVEL_ID</th>\n",
       "      <th>LODGING_TYPE_CD</th>\n",
       "      <th>LODGE_WON</th>\n",
       "    </tr>\n",
       "  </thead>\n",
       "  <tbody>\n",
       "    <tr>\n",
       "      <th>0</th>\n",
       "      <td>g_g000950</td>\n",
       "      <td>펜션</td>\n",
       "      <td>108000</td>\n",
       "    </tr>\n",
       "    <tr>\n",
       "      <th>1</th>\n",
       "      <td>g_g003956</td>\n",
       "      <td>자연휴양림내 시설</td>\n",
       "      <td>66000</td>\n",
       "    </tr>\n",
       "    <tr>\n",
       "      <th>2</th>\n",
       "      <td>g_g005377</td>\n",
       "      <td>야영(캠핑,글램핑등)</td>\n",
       "      <td>120000</td>\n",
       "    </tr>\n",
       "    <tr>\n",
       "      <th>3</th>\n",
       "      <td>g_g000638</td>\n",
       "      <td>게스트하우스</td>\n",
       "      <td>32000</td>\n",
       "    </tr>\n",
       "    <tr>\n",
       "      <th>4</th>\n",
       "      <td>g_g000773</td>\n",
       "      <td>콘도미니엄/리조트</td>\n",
       "      <td>80000</td>\n",
       "    </tr>\n",
       "  </tbody>\n",
       "</table>\n",
       "</div>"
      ],
      "text/plain": [
       "   TRAVEL_ID LODGING_TYPE_CD  LODGE_WON\n",
       "0  g_g000950              펜션     108000\n",
       "1  g_g003956       자연휴양림내 시설      66000\n",
       "2  g_g005377     야영(캠핑,글램핑등)     120000\n",
       "3  g_g000638          게스트하우스      32000\n",
       "4  g_g000773       콘도미니엄/리조트      80000"
      ]
     },
     "execution_count": 2219,
     "metadata": {},
     "output_type": "execute_result"
    }
   ],
   "source": [
    "lodge_consume = lodge_consume.rename(columns = {'PAYMENT_AMT_WON' : 'LODGE_WON'})\n",
    "\n",
    "# 결과 확인\n",
    "lodge_consume.head()"
   ]
  },
  {
   "cell_type": "markdown",
   "metadata": {},
   "source": [
    "<h5>3) 추가적인 분석에 사용하기 위해 TRAVEL_ID별 주요숙소유형 구하기"
   ]
  },
  {
   "cell_type": "code",
   "execution_count": 2220,
   "metadata": {},
   "outputs": [
    {
     "name": "stdout",
     "output_type": "stream",
     "text": [
      "   TRAVEL_ID        MAJOR_LODGE_TYPE\n",
      "0  e_e000005  [모텔/여관, 콘도미니엄/리조트, 호텔]\n",
      "1  e_e000191                    [펜션]\n",
      "2  e_e000316                 [모텔/여관]\n",
      "3  e_e004870             [자연휴양림내 시설]\n",
      "4  f_f000001           [야영(캠핑,글램핑등)]\n"
     ]
    }
   ],
   "source": [
    "# TRAVEL_ID별로 숙소유형 빈도 계산\n",
    "lodging_count = lodge_consume.groupby(['TRAVEL_ID', 'LODGING_TYPE_CD']).size().reset_index(name='COUNT')\n",
    "\n",
    "# TRAVEL_ID별로 가장 많이 사용된 숙소유형 추출\n",
    "lodge_major_type = lodging_count.groupby('TRAVEL_ID').apply(\n",
    "    lambda x: x[x['COUNT'] == x['COUNT'].max()]['LODGING_TYPE_CD'].tolist()  # 빈도수가 동일한 숙소 유형을 리스트로 결합\n",
    ").reset_index(name='MAJOR_LODGE_TYPE')\n",
    "\n",
    "# 결과 확인\n",
    "print(lodge_major_type.head())"
   ]
  },
  {
   "cell_type": "markdown",
   "metadata": {},
   "source": [
    "<h5>4) TRAVEL_ID가 중복되는 경우 숙소 소비내역 전처리 - pivot_table"
   ]
  },
  {
   "cell_type": "code",
   "execution_count": 2221,
   "metadata": {},
   "outputs": [
    {
     "name": "stdout",
     "output_type": "stream",
     "text": [
      "중복된 TRAVEL_ID가 있습니다.\n"
     ]
    }
   ],
   "source": [
    "# TRAVEL_ID 중복 여부 확인\n",
    "duplicates = lodge_consume[lodge_consume.duplicated(subset='TRAVEL_ID', keep=False)]\n",
    "\n",
    "# 중복된 항목이 있는 경우\n",
    "if not duplicates.empty:\n",
    "    print(\"중복된 TRAVEL_ID가 있습니다.\")\n",
    "else:\n",
    "    print(\"중복된 TRAVEL_ID가 없습니다.\")"
   ]
  },
  {
   "cell_type": "markdown",
   "metadata": {},
   "source": [
    "pivot_table 형식으로 변환하여, 이후 파생변수 추가 등 추가적인 분석을 쉽게 할 수 있도록 함"
   ]
  },
  {
   "cell_type": "code",
   "execution_count": 2222,
   "metadata": {},
   "outputs": [
    {
     "name": "stdout",
     "output_type": "stream",
     "text": [
      "LODGING_TYPE_CD  가족/친지집  게스트하우스  기타   모텔/여관  민박  야영(캠핑,글램핑등)  자연휴양림내 시설  전통 숙박시설  콘도미니엄/리조트      펜션     호텔\n",
      "TRAVEL_ID                                                                                                 \n",
      "e_e000005             0       0   0   87000   0            0          0        0     121440       0  90000\n",
      "e_e000191             0       0   0       0   0            0          0        0          0  240000      0\n",
      "e_e000316             0       0   0  131095   0            0          0        0          0       0      0\n",
      "e_e004870             0       0   0       0   0            0     260000        0          0       0      0\n",
      "f_f000001             0       0   0       0   0       100000          0        0          0       0      0\n"
     ]
    }
   ],
   "source": [
    "# pivot_table 생성\n",
    "lodge_consume_pivot = lodge_consume.pivot_table(\n",
    "    index='TRAVEL_ID', \n",
    "    columns='LODGING_TYPE_CD', \n",
    "    values='LODGE_WON', \n",
    "    aggfunc='sum', \n",
    "    fill_value=0  # 결측값은 0으로\n",
    ")\n",
    "\n",
    "# 결과 확인\n",
    "print(lodge_consume_pivot.head())"
   ]
  },
  {
   "cell_type": "markdown",
   "metadata": {},
   "source": [
    "3)에서 구했던 주요숙소유형과 병합하여 lodge_consume_new 데이터프레임 생성"
   ]
  },
  {
   "cell_type": "code",
   "execution_count": 2223,
   "metadata": {},
   "outputs": [
    {
     "name": "stdout",
     "output_type": "stream",
     "text": [
      "   TRAVEL_ID  가족/친지집  게스트하우스  기타   모텔/여관  민박  야영(캠핑,글램핑등)  자연휴양림내 시설  전통 숙박시설  콘도미니엄/리조트      펜션     호텔        MAJOR_LODGE_TYPE\n",
      "0  e_e000005       0       0   0   87000   0            0          0        0     121440       0  90000  [모텔/여관, 콘도미니엄/리조트, 호텔]\n",
      "1  e_e000191       0       0   0       0   0            0          0        0          0  240000      0                    [펜션]\n",
      "2  e_e000316       0       0   0  131095   0            0          0        0          0       0      0                 [모텔/여관]\n",
      "3  e_e004870       0       0   0       0   0            0     260000        0          0       0      0             [자연휴양림내 시설]\n",
      "4  f_f000001       0       0   0       0   0       100000          0        0          0       0      0           [야영(캠핑,글램핑등)]\n"
     ]
    }
   ],
   "source": [
    "# 주요 이동수단과 피벗 테이블 병합\n",
    "lodge_consume_new_pivot = pd.merge(\n",
    "    lodge_consume_pivot.reset_index(),  # 피벗 테이블을 병합하기 위해 인덱스를 초기화\n",
    "    lodge_major_type,     # 주요 이동수단 데이터프레임\n",
    "    on='TRAVEL_ID',                   # 공통 키: TRAVEL_ID\n",
    "    how='left'                        # 병합 방식: 왼쪽 (피벗 테이블 기준)\n",
    ")\n",
    "\n",
    "# 결과 확인\n",
    "print(lodge_consume_new_pivot.head())"
   ]
  },
  {
   "cell_type": "markdown",
   "metadata": {},
   "source": [
    "<h5>4) 추가적인 분석에 사용하기 위해 TRAVEL_ID별 숙소총소비액 파생변수 추가"
   ]
  },
  {
   "cell_type": "code",
   "execution_count": 2224,
   "metadata": {},
   "outputs": [
    {
     "name": "stdout",
     "output_type": "stream",
     "text": [
      "   TRAVEL_ID  가족/친지집  게스트하우스  기타   모텔/여관  민박  야영(캠핑,글램핑등)  자연휴양림내 시설  전통 숙박시설  콘도미니엄/리조트      펜션     호텔        MAJOR_LODGE_TYPE  TOTAL_LODGE_WON\n",
      "0  e_e000005       0       0   0   87000   0            0          0        0     121440       0  90000  [모텔/여관, 콘도미니엄/리조트, 호텔]           298440\n",
      "1  e_e000191       0       0   0       0   0            0          0        0          0  240000      0                    [펜션]           240000\n",
      "2  e_e000316       0       0   0  131095   0            0          0        0          0       0      0                 [모텔/여관]           131095\n",
      "3  e_e004870       0       0   0       0   0            0     260000        0          0       0      0             [자연휴양림내 시설]           260000\n",
      "4  f_f000001       0       0   0       0   0       100000          0        0          0       0      0           [야영(캠핑,글램핑등)]           100000\n"
     ]
    }
   ],
   "source": [
    "# TRAVEL_ID별로 숙소 총 소비액 계산\n",
    "lodge_consume_total = lodge_consume.groupby('TRAVEL_ID')['LODGE_WON'].sum().reset_index(name='TOTAL_LODGE_WON')\n",
    "\n",
    "# lodge_consume_new_pivot와 병합\n",
    "lodge_consume_new_pivot = lodge_consume_new_pivot.merge(lodge_consume_total, on='TRAVEL_ID', how='left')\n",
    "\n",
    "# 결과 확인\n",
    "print(lodge_consume_new_pivot.head())"
   ]
  },
  {
   "cell_type": "markdown",
   "metadata": {},
   "source": [
    "merge 후 결과의 가독성을 높이기 위해 TRAVEL_ID, MAJOR_LODGE_TYPE, TORAL_LODGE_WON 만 추출"
   ]
  },
  {
   "cell_type": "code",
   "execution_count": 2225,
   "metadata": {},
   "outputs": [
    {
     "name": "stdout",
     "output_type": "stream",
     "text": [
      "   TRAVEL_ID        MAJOR_LODGE_TYPE  TOTAL_LODGE_WON\n",
      "0  e_e000005  [모텔/여관, 콘도미니엄/리조트, 호텔]           298440\n",
      "1  e_e000191                    [펜션]           240000\n",
      "2  e_e000316                 [모텔/여관]           131095\n",
      "3  e_e004870             [자연휴양림내 시설]           260000\n",
      "4  f_f000001           [야영(캠핑,글램핑등)]           100000\n"
     ]
    }
   ],
   "source": [
    "lodge_consume_new = lodge_consume_new_pivot[['TRAVEL_ID', 'MAJOR_LODGE_TYPE', 'TOTAL_LODGE_WON']]\n",
    "\n",
    "# 결과 확인\n",
    "print(lodge_consume_new.head())"
   ]
  },
  {
   "cell_type": "markdown",
   "metadata": {},
   "source": [
    "<h3>3. 전처리 후 확인</h3>"
   ]
  },
  {
   "cell_type": "code",
   "execution_count": 2226,
   "metadata": {},
   "outputs": [
    {
     "name": "stdout",
     "output_type": "stream",
     "text": [
      "중복된 TRAVEL_ID가 없습니다.\n"
     ]
    }
   ],
   "source": [
    "# TRAVEL_ID 중복 여부 확인\n",
    "duplicates = lodge_consume_new[lodge_consume_new.duplicated(subset='TRAVEL_ID', keep=False)]\n",
    "\n",
    "# 중복된 항목이 있는 경우\n",
    "if not duplicates.empty:\n",
    "    print(\"중복된 TRAVEL_ID가 있습니다.\")\n",
    "else:\n",
    "    print(\"중복된 TRAVEL_ID가 없습니다.\")"
   ]
  },
  {
   "cell_type": "code",
   "execution_count": 2227,
   "metadata": {},
   "outputs": [
    {
     "name": "stdout",
     "output_type": "stream",
     "text": [
      "숙박소비내역.csv의 구조와 타입 : \n",
      "<class 'pandas.core.frame.DataFrame'>\n",
      "RangeIndex: 1118 entries, 0 to 1117\n",
      "Data columns (total 3 columns):\n",
      " #   Column            Non-Null Count  Dtype \n",
      "---  ------            --------------  ----- \n",
      " 0   TRAVEL_ID         1118 non-null   object\n",
      " 1   MAJOR_LODGE_TYPE  1118 non-null   object\n",
      " 2   TOTAL_LODGE_WON   1118 non-null   int64 \n",
      "dtypes: int64(1), object(2)\n",
      "memory usage: 26.3+ KB\n",
      "None\n"
     ]
    }
   ],
   "source": [
    "# 데이터의 구조와 타입 확인\n",
    "print('숙박소비내역.csv의 구조와 타입 : ')\n",
    "print(lodge_consume_new.info())"
   ]
  },
  {
   "cell_type": "code",
   "execution_count": 2228,
   "metadata": {},
   "outputs": [
    {
     "name": "stdout",
     "output_type": "stream",
     "text": [
      "숙박소비내역.csv의 결측치 : \n",
      "TRAVEL_ID           0\n",
      "MAJOR_LODGE_TYPE    0\n",
      "TOTAL_LODGE_WON     0\n",
      "dtype: int64\n"
     ]
    }
   ],
   "source": [
    "# 데이터의 결측치 확인\n",
    "print('숙박소비내역.csv의 결측치 : ')\n",
    "print(lodge_consume_new.isnull().sum())"
   ]
  },
  {
   "cell_type": "code",
   "execution_count": 2229,
   "metadata": {},
   "outputs": [
    {
     "data": {
      "text/html": [
       "<div>\n",
       "<style scoped>\n",
       "    .dataframe tbody tr th:only-of-type {\n",
       "        vertical-align: middle;\n",
       "    }\n",
       "\n",
       "    .dataframe tbody tr th {\n",
       "        vertical-align: top;\n",
       "    }\n",
       "\n",
       "    .dataframe thead th {\n",
       "        text-align: right;\n",
       "    }\n",
       "</style>\n",
       "<table border=\"1\" class=\"dataframe\">\n",
       "  <thead>\n",
       "    <tr style=\"text-align: right;\">\n",
       "      <th></th>\n",
       "      <th>TRAVEL_ID</th>\n",
       "      <th>MAJOR_LODGE_TYPE</th>\n",
       "      <th>TOTAL_LODGE_WON</th>\n",
       "    </tr>\n",
       "  </thead>\n",
       "  <tbody>\n",
       "    <tr>\n",
       "      <th>0</th>\n",
       "      <td>e_e000005</td>\n",
       "      <td>[모텔/여관, 콘도미니엄/리조트, 호텔]</td>\n",
       "      <td>298440</td>\n",
       "    </tr>\n",
       "    <tr>\n",
       "      <th>1</th>\n",
       "      <td>e_e000191</td>\n",
       "      <td>[펜션]</td>\n",
       "      <td>240000</td>\n",
       "    </tr>\n",
       "    <tr>\n",
       "      <th>2</th>\n",
       "      <td>e_e000316</td>\n",
       "      <td>[모텔/여관]</td>\n",
       "      <td>131095</td>\n",
       "    </tr>\n",
       "    <tr>\n",
       "      <th>3</th>\n",
       "      <td>e_e004870</td>\n",
       "      <td>[자연휴양림내 시설]</td>\n",
       "      <td>260000</td>\n",
       "    </tr>\n",
       "    <tr>\n",
       "      <th>4</th>\n",
       "      <td>f_f000001</td>\n",
       "      <td>[야영(캠핑,글램핑등)]</td>\n",
       "      <td>100000</td>\n",
       "    </tr>\n",
       "  </tbody>\n",
       "</table>\n",
       "</div>"
      ],
      "text/plain": [
       "   TRAVEL_ID        MAJOR_LODGE_TYPE  TOTAL_LODGE_WON\n",
       "0  e_e000005  [모텔/여관, 콘도미니엄/리조트, 호텔]           298440\n",
       "1  e_e000191                    [펜션]           240000\n",
       "2  e_e000316                 [모텔/여관]           131095\n",
       "3  e_e004870             [자연휴양림내 시설]           260000\n",
       "4  f_f000001           [야영(캠핑,글램핑등)]           100000"
      ]
     },
     "execution_count": 2229,
     "metadata": {},
     "output_type": "execute_result"
    }
   ],
   "source": [
    "# 데이터 살펴보기\n",
    "lodge_consume_new.head()"
   ]
  },
  {
   "cell_type": "markdown",
   "metadata": {},
   "source": [
    "<h3>4. 전처리 CSV 저장</h3>"
   ]
  },
  {
   "cell_type": "code",
   "execution_count": 2230,
   "metadata": {},
   "outputs": [],
   "source": [
    "lodge_consume_new_pivot.to_csv('data/training/preprocessing_data/숙박소비내역_pivot_전처리.csv',index=False)"
   ]
  },
  {
   "cell_type": "code",
   "execution_count": 2231,
   "metadata": {},
   "outputs": [],
   "source": [
    "lodge_consume_new.to_csv('data/training/preprocessing_data/숙박소비내역_전처리.csv',index=False)"
   ]
  },
  {
   "cell_type": "markdown",
   "metadata": {},
   "source": [
    "<hr>\n",
    "<h2>[활동내역.csv]</h2>"
   ]
  },
  {
   "cell_type": "markdown",
   "metadata": {},
   "source": [
    "<h3>1. 변수 추출 및 검토</h3>"
   ]
  },
  {
   "cell_type": "code",
   "execution_count": 2232,
   "metadata": {},
   "outputs": [
    {
     "name": "stdout",
     "output_type": "stream",
     "text": [
      "   TRAVEL_ID  ACTIVITY_TYPE_CD\n",
      "0  e_e000005                 1\n",
      "1  e_e000005                 1\n",
      "2  e_e000005                 1\n",
      "3  e_e000005                 1\n",
      "4  e_e000005                 1\n"
     ]
    }
   ],
   "source": [
    "# 필요한 변수 리스트\n",
    "columns_to_keep_activity = [\n",
    "    'TRAVEL_ID', 'ACTIVITY_TYPE_CD'\n",
    "    ]\n",
    "\n",
    "# activity에 필요한 변수만 남기고 저장\n",
    "activity = activity[columns_to_keep_activity]\n",
    "\n",
    "# 결과 확인\n",
    "print(activity.head())"
   ]
  },
  {
   "cell_type": "code",
   "execution_count": 2233,
   "metadata": {},
   "outputs": [
    {
     "name": "stdout",
     "output_type": "stream",
     "text": [
      "활동내역.csv의 행, 열 개수 : \n",
      "(32218, 2)\n"
     ]
    }
   ],
   "source": [
    "# 데이터의 행, 열 개수 출력\n",
    "print('활동내역.csv의 행, 열 개수 : ')\n",
    "print(activity.shape)"
   ]
  },
  {
   "cell_type": "code",
   "execution_count": 2234,
   "metadata": {},
   "outputs": [
    {
     "name": "stdout",
     "output_type": "stream",
     "text": [
      "활동내역.csv의 구조와 타입 : \n",
      "<class 'pandas.core.frame.DataFrame'>\n",
      "RangeIndex: 32218 entries, 0 to 32217\n",
      "Data columns (total 2 columns):\n",
      " #   Column            Non-Null Count  Dtype \n",
      "---  ------            --------------  ----- \n",
      " 0   TRAVEL_ID         32218 non-null  object\n",
      " 1   ACTIVITY_TYPE_CD  32218 non-null  int64 \n",
      "dtypes: int64(1), object(1)\n",
      "memory usage: 503.5+ KB\n",
      "None\n"
     ]
    }
   ],
   "source": [
    "# 데이터의 구조와 타입 확인\n",
    "print('활동내역.csv의 구조와 타입 : ')\n",
    "print(activity.info())"
   ]
  },
  {
   "cell_type": "code",
   "execution_count": 2235,
   "metadata": {},
   "outputs": [
    {
     "name": "stdout",
     "output_type": "stream",
     "text": [
      "활동내역.csv의 결측치 : \n",
      "TRAVEL_ID           0\n",
      "ACTIVITY_TYPE_CD    0\n",
      "dtype: int64\n"
     ]
    }
   ],
   "source": [
    "# 데이터의 결측치 확인\n",
    "print('활동내역.csv의 결측치 : ')\n",
    "print(activity.isnull().sum())"
   ]
  },
  {
   "cell_type": "code",
   "execution_count": 2236,
   "metadata": {},
   "outputs": [
    {
     "data": {
      "text/html": [
       "<div>\n",
       "<style scoped>\n",
       "    .dataframe tbody tr th:only-of-type {\n",
       "        vertical-align: middle;\n",
       "    }\n",
       "\n",
       "    .dataframe tbody tr th {\n",
       "        vertical-align: top;\n",
       "    }\n",
       "\n",
       "    .dataframe thead th {\n",
       "        text-align: right;\n",
       "    }\n",
       "</style>\n",
       "<table border=\"1\" class=\"dataframe\">\n",
       "  <thead>\n",
       "    <tr style=\"text-align: right;\">\n",
       "      <th></th>\n",
       "      <th>TRAVEL_ID</th>\n",
       "      <th>ACTIVITY_TYPE_CD</th>\n",
       "    </tr>\n",
       "  </thead>\n",
       "  <tbody>\n",
       "    <tr>\n",
       "      <th>0</th>\n",
       "      <td>e_e000005</td>\n",
       "      <td>1</td>\n",
       "    </tr>\n",
       "    <tr>\n",
       "      <th>1</th>\n",
       "      <td>e_e000005</td>\n",
       "      <td>1</td>\n",
       "    </tr>\n",
       "    <tr>\n",
       "      <th>2</th>\n",
       "      <td>e_e000005</td>\n",
       "      <td>1</td>\n",
       "    </tr>\n",
       "    <tr>\n",
       "      <th>3</th>\n",
       "      <td>e_e000005</td>\n",
       "      <td>1</td>\n",
       "    </tr>\n",
       "    <tr>\n",
       "      <th>4</th>\n",
       "      <td>e_e000005</td>\n",
       "      <td>1</td>\n",
       "    </tr>\n",
       "  </tbody>\n",
       "</table>\n",
       "</div>"
      ],
      "text/plain": [
       "   TRAVEL_ID  ACTIVITY_TYPE_CD\n",
       "0  e_e000005                 1\n",
       "1  e_e000005                 1\n",
       "2  e_e000005                 1\n",
       "3  e_e000005                 1\n",
       "4  e_e000005                 1"
      ]
     },
     "execution_count": 2236,
     "metadata": {},
     "output_type": "execute_result"
    }
   ],
   "source": [
    "# 데이터 살펴보기\n",
    "activity.head()"
   ]
  },
  {
   "cell_type": "markdown",
   "metadata": {},
   "source": [
    "<h3>2. 전처리</h3>"
   ]
  },
  {
   "cell_type": "markdown",
   "metadata": {},
   "source": [
    "<h5>1) ACTIVITY_TYPE_CD 변수 코드 'ACT' 매핑</h5>"
   ]
  },
  {
   "cell_type": "code",
   "execution_count": 2237,
   "metadata": {},
   "outputs": [
    {
     "data": {
      "text/html": [
       "<div>\n",
       "<style scoped>\n",
       "    .dataframe tbody tr th:only-of-type {\n",
       "        vertical-align: middle;\n",
       "    }\n",
       "\n",
       "    .dataframe tbody tr th {\n",
       "        vertical-align: top;\n",
       "    }\n",
       "\n",
       "    .dataframe thead th {\n",
       "        text-align: right;\n",
       "    }\n",
       "</style>\n",
       "<table border=\"1\" class=\"dataframe\">\n",
       "  <thead>\n",
       "    <tr style=\"text-align: right;\">\n",
       "      <th></th>\n",
       "      <th>TRAVEL_ID</th>\n",
       "      <th>ACTIVITY_TYPE_CD</th>\n",
       "    </tr>\n",
       "  </thead>\n",
       "  <tbody>\n",
       "    <tr>\n",
       "      <th>0</th>\n",
       "      <td>e_e000005</td>\n",
       "      <td>취식</td>\n",
       "    </tr>\n",
       "    <tr>\n",
       "      <th>1</th>\n",
       "      <td>e_e000005</td>\n",
       "      <td>취식</td>\n",
       "    </tr>\n",
       "    <tr>\n",
       "      <th>2</th>\n",
       "      <td>e_e000005</td>\n",
       "      <td>취식</td>\n",
       "    </tr>\n",
       "    <tr>\n",
       "      <th>3</th>\n",
       "      <td>e_e000005</td>\n",
       "      <td>취식</td>\n",
       "    </tr>\n",
       "    <tr>\n",
       "      <th>4</th>\n",
       "      <td>e_e000005</td>\n",
       "      <td>취식</td>\n",
       "    </tr>\n",
       "  </tbody>\n",
       "</table>\n",
       "</div>"
      ],
      "text/plain": [
       "   TRAVEL_ID ACTIVITY_TYPE_CD\n",
       "0  e_e000005               취식\n",
       "1  e_e000005               취식\n",
       "2  e_e000005               취식\n",
       "3  e_e000005               취식\n",
       "4  e_e000005               취식"
      ]
     },
     "execution_count": 2237,
     "metadata": {},
     "output_type": "execute_result"
    }
   ],
   "source": [
    "activity = convert_codes_to_korean(activity, 'ACTIVITY_TYPE_CD', ACT_mapping)\n",
    "\n",
    "# 결과 확인\n",
    "activity.head()"
   ]
  },
  {
   "cell_type": "markdown",
   "metadata": {},
   "source": [
    "<h5>2) 추가적인 분석에 사용하기 위해 TRAVEL_ID별 주요활동유형 구하기"
   ]
  },
  {
   "cell_type": "code",
   "execution_count": 2238,
   "metadata": {},
   "outputs": [
    {
     "name": "stdout",
     "output_type": "stream",
     "text": [
      "   TRAVEL_ID MAJOR_ACTIVITY_TYPE\n",
      "0  e_e000005                [취식]\n",
      "1  e_e000043   [단순 구경 / 산책 / 걷기]\n",
      "2  e_e000191                [취식]\n",
      "3  e_e000316                [취식]\n",
      "4  e_e000668           [쇼핑 / 구매]\n"
     ]
    }
   ],
   "source": [
    "# TRAVEL_ID별로 활동유형 빈도 계산\n",
    "activity_count = activity.groupby(['TRAVEL_ID', 'ACTIVITY_TYPE_CD']).size().reset_index(name='COUNT')\n",
    "\n",
    "# TRAVEL_ID별로 가장 많은 활동유형 추출\n",
    "activity_new = activity_count.groupby('TRAVEL_ID').apply(\n",
    "    lambda x: x[x['COUNT'] == x['COUNT'].max()]['ACTIVITY_TYPE_CD'].tolist()  # 빈도수가 동일한 활동유형을 리스트로 결합\n",
    ").reset_index(name='MAJOR_ACTIVITY_TYPE')\n",
    "\n",
    "# 결과 확인\n",
    "print(activity_new.head())"
   ]
  },
  {
   "cell_type": "markdown",
   "metadata": {},
   "source": [
    "<h3>3. 전처리 후 확인</h3>"
   ]
  },
  {
   "cell_type": "code",
   "execution_count": 2239,
   "metadata": {},
   "outputs": [
    {
     "name": "stdout",
     "output_type": "stream",
     "text": [
      "중복된 TRAVEL_ID가 없습니다.\n"
     ]
    }
   ],
   "source": [
    "# TRAVEL_ID 중복 여부 확인\n",
    "duplicates = activity_new[activity_new.duplicated(subset='TRAVEL_ID', keep=False)]\n",
    "\n",
    "# 중복된 항목이 있는 경우\n",
    "if not duplicates.empty:\n",
    "    print(\"중복된 TRAVEL_ID가 있습니다.\")\n",
    "else:\n",
    "    print(\"중복된 TRAVEL_ID가 없습니다.\")"
   ]
  },
  {
   "cell_type": "code",
   "execution_count": 2240,
   "metadata": {},
   "outputs": [
    {
     "name": "stdout",
     "output_type": "stream",
     "text": [
      "활동내역.csv의 구조와 타입 : \n",
      "<class 'pandas.core.frame.DataFrame'>\n",
      "RangeIndex: 2560 entries, 0 to 2559\n",
      "Data columns (total 2 columns):\n",
      " #   Column               Non-Null Count  Dtype \n",
      "---  ------               --------------  ----- \n",
      " 0   TRAVEL_ID            2560 non-null   object\n",
      " 1   MAJOR_ACTIVITY_TYPE  2560 non-null   object\n",
      "dtypes: object(2)\n",
      "memory usage: 40.1+ KB\n",
      "None\n"
     ]
    }
   ],
   "source": [
    "# 데이터의 구조와 타입 확인\n",
    "print('활동내역.csv의 구조와 타입 : ')\n",
    "print(activity_new.info())"
   ]
  },
  {
   "cell_type": "code",
   "execution_count": 2241,
   "metadata": {},
   "outputs": [
    {
     "name": "stdout",
     "output_type": "stream",
     "text": [
      "활동내역.csv의 결측치 : \n",
      "TRAVEL_ID              0\n",
      "MAJOR_ACTIVITY_TYPE    0\n",
      "dtype: int64\n"
     ]
    }
   ],
   "source": [
    "# 데이터의 결측치 확인\n",
    "print('활동내역.csv의 결측치 : ')\n",
    "print(activity_new.isnull().sum())"
   ]
  },
  {
   "cell_type": "code",
   "execution_count": 2242,
   "metadata": {},
   "outputs": [
    {
     "data": {
      "text/html": [
       "<div>\n",
       "<style scoped>\n",
       "    .dataframe tbody tr th:only-of-type {\n",
       "        vertical-align: middle;\n",
       "    }\n",
       "\n",
       "    .dataframe tbody tr th {\n",
       "        vertical-align: top;\n",
       "    }\n",
       "\n",
       "    .dataframe thead th {\n",
       "        text-align: right;\n",
       "    }\n",
       "</style>\n",
       "<table border=\"1\" class=\"dataframe\">\n",
       "  <thead>\n",
       "    <tr style=\"text-align: right;\">\n",
       "      <th></th>\n",
       "      <th>TRAVEL_ID</th>\n",
       "      <th>MAJOR_ACTIVITY_TYPE</th>\n",
       "    </tr>\n",
       "  </thead>\n",
       "  <tbody>\n",
       "    <tr>\n",
       "      <th>0</th>\n",
       "      <td>e_e000005</td>\n",
       "      <td>[취식]</td>\n",
       "    </tr>\n",
       "    <tr>\n",
       "      <th>1</th>\n",
       "      <td>e_e000043</td>\n",
       "      <td>[단순 구경 / 산책 / 걷기]</td>\n",
       "    </tr>\n",
       "    <tr>\n",
       "      <th>2</th>\n",
       "      <td>e_e000191</td>\n",
       "      <td>[취식]</td>\n",
       "    </tr>\n",
       "    <tr>\n",
       "      <th>3</th>\n",
       "      <td>e_e000316</td>\n",
       "      <td>[취식]</td>\n",
       "    </tr>\n",
       "    <tr>\n",
       "      <th>4</th>\n",
       "      <td>e_e000668</td>\n",
       "      <td>[쇼핑 / 구매]</td>\n",
       "    </tr>\n",
       "  </tbody>\n",
       "</table>\n",
       "</div>"
      ],
      "text/plain": [
       "   TRAVEL_ID MAJOR_ACTIVITY_TYPE\n",
       "0  e_e000005                [취식]\n",
       "1  e_e000043   [단순 구경 / 산책 / 걷기]\n",
       "2  e_e000191                [취식]\n",
       "3  e_e000316                [취식]\n",
       "4  e_e000668           [쇼핑 / 구매]"
      ]
     },
     "execution_count": 2242,
     "metadata": {},
     "output_type": "execute_result"
    }
   ],
   "source": [
    "# 데이터 살펴보기\n",
    "activity_new.head()"
   ]
  },
  {
   "cell_type": "markdown",
   "metadata": {},
   "source": [
    "<h3>4. 전처리 CSV 저장</h3>"
   ]
  },
  {
   "cell_type": "code",
   "execution_count": 2243,
   "metadata": {},
   "outputs": [],
   "source": [
    "activity_new.to_csv('data/training/preprocessing_data/활동내역_전처리.csv',index=False)"
   ]
  },
  {
   "cell_type": "markdown",
   "metadata": {},
   "source": [
    "<hr>\n",
    "<h2>[활동소비내역.csv]</h2>"
   ]
  },
  {
   "cell_type": "markdown",
   "metadata": {},
   "source": [
    "<h3>1. 변수 추출 및 검토</h3>"
   ]
  },
  {
   "cell_type": "code",
   "execution_count": 2244,
   "metadata": {},
   "outputs": [
    {
     "name": "stdout",
     "output_type": "stream",
     "text": [
      "   TRAVEL_ID  PAYMENT_AMT_WON\n",
      "0  g_g000540             0.00\n",
      "1  g_g001133        24,000.00\n",
      "2  g_g001133        12,000.00\n",
      "3  g_g000638        14,000.00\n",
      "4  g_g002127        22,000.00\n"
     ]
    }
   ],
   "source": [
    "# 필요한 변수 리스트\n",
    "columns_to_keep_activity_consume = [\n",
    "    'TRAVEL_ID', 'PAYMENT_AMT_WON'\n",
    "    ]\n",
    "\n",
    "# activity_counsume에 필요한 변수만 남기고 저장\n",
    "activity_consume = activity_consume[columns_to_keep_activity_consume]\n",
    "\n",
    "# 결과 확인\n",
    "print(activity_consume.head())"
   ]
  },
  {
   "cell_type": "code",
   "execution_count": 2245,
   "metadata": {},
   "outputs": [
    {
     "name": "stdout",
     "output_type": "stream",
     "text": [
      "활동소비내역.csv의 행, 열 개수 : \n",
      "(15841, 2)\n"
     ]
    }
   ],
   "source": [
    "# 데이터의 행, 열 개수 출력\n",
    "print('활동소비내역.csv의 행, 열 개수 : ')\n",
    "print(activity_consume.shape)"
   ]
  },
  {
   "cell_type": "code",
   "execution_count": 2246,
   "metadata": {},
   "outputs": [
    {
     "name": "stdout",
     "output_type": "stream",
     "text": [
      "활동소비내역.csv의 구조와 타입 : \n",
      "<class 'pandas.core.frame.DataFrame'>\n",
      "RangeIndex: 15841 entries, 0 to 15840\n",
      "Data columns (total 2 columns):\n",
      " #   Column           Non-Null Count  Dtype  \n",
      "---  ------           --------------  -----  \n",
      " 0   TRAVEL_ID        15841 non-null  object \n",
      " 1   PAYMENT_AMT_WON  15839 non-null  float64\n",
      "dtypes: float64(1), object(1)\n",
      "memory usage: 247.6+ KB\n",
      "None\n"
     ]
    }
   ],
   "source": [
    "# 데이터의 구조와 타입 확인\n",
    "print('활동소비내역.csv의 구조와 타입 : ')\n",
    "print(activity_consume.info())"
   ]
  },
  {
   "cell_type": "code",
   "execution_count": 2247,
   "metadata": {},
   "outputs": [
    {
     "name": "stdout",
     "output_type": "stream",
     "text": [
      "활동소비내역.csv의 결측치 : \n",
      "TRAVEL_ID          0\n",
      "PAYMENT_AMT_WON    2\n",
      "dtype: int64\n"
     ]
    }
   ],
   "source": [
    "# 데이터의 결측치 확인\n",
    "print('활동소비내역.csv의 결측치 : ')\n",
    "print(activity_consume.isnull().sum())"
   ]
  },
  {
   "cell_type": "code",
   "execution_count": 2248,
   "metadata": {},
   "outputs": [
    {
     "name": "stdout",
     "output_type": "stream",
     "text": [
      "      TRAVEL_ID  PAYMENT_AMT_WON\n",
      "4875  g_g002220              NaN\n",
      "7996  g_g004485              NaN\n"
     ]
    }
   ],
   "source": [
    "# 결측치가 있는 행을 확인\n",
    "missing_data_rows = activity_consume[activity_consume.isnull().any(axis=1)]\n",
    "\n",
    "# 결측치가 있는 행 출력\n",
    "print(missing_data_rows)"
   ]
  },
  {
   "cell_type": "code",
   "execution_count": 2249,
   "metadata": {},
   "outputs": [
    {
     "name": "stdout",
     "output_type": "stream",
     "text": [
      "활동소비내역.csv의 결측치 : \n",
      "TRAVEL_ID          0\n",
      "PAYMENT_AMT_WON    0\n",
      "dtype: int64\n"
     ]
    }
   ],
   "source": [
    "# 결측치 제거 \n",
    "activity_consume.dropna(inplace=True)\n",
    "\n",
    "# 결측치 제거 확인\n",
    "print('활동소비내역.csv의 결측치 : ')\n",
    "print(activity_consume.isnull().sum())"
   ]
  },
  {
   "cell_type": "markdown",
   "metadata": {},
   "source": [
    "> 결측치 분석 결과 : 원본 데이터 확인한 결과, 결측치는 두 가지 이유로 발생\n",
    "<br> 1. 행이 모두 비어 있는 경우\n",
    "<br> 2. 통합권이라서 다른 데이터에 값이 포함되어 있는 경우\n",
    "<br> 따라서, 해당 결측치는 드롭(drop) 처리 함"
   ]
  },
  {
   "cell_type": "code",
   "execution_count": 2250,
   "metadata": {},
   "outputs": [
    {
     "data": {
      "text/html": [
       "<div>\n",
       "<style scoped>\n",
       "    .dataframe tbody tr th:only-of-type {\n",
       "        vertical-align: middle;\n",
       "    }\n",
       "\n",
       "    .dataframe tbody tr th {\n",
       "        vertical-align: top;\n",
       "    }\n",
       "\n",
       "    .dataframe thead th {\n",
       "        text-align: right;\n",
       "    }\n",
       "</style>\n",
       "<table border=\"1\" class=\"dataframe\">\n",
       "  <thead>\n",
       "    <tr style=\"text-align: right;\">\n",
       "      <th></th>\n",
       "      <th>TRAVEL_ID</th>\n",
       "      <th>PAYMENT_AMT_WON</th>\n",
       "    </tr>\n",
       "  </thead>\n",
       "  <tbody>\n",
       "    <tr>\n",
       "      <th>0</th>\n",
       "      <td>g_g000540</td>\n",
       "      <td>0.00</td>\n",
       "    </tr>\n",
       "    <tr>\n",
       "      <th>1</th>\n",
       "      <td>g_g001133</td>\n",
       "      <td>24,000.00</td>\n",
       "    </tr>\n",
       "    <tr>\n",
       "      <th>2</th>\n",
       "      <td>g_g001133</td>\n",
       "      <td>12,000.00</td>\n",
       "    </tr>\n",
       "    <tr>\n",
       "      <th>3</th>\n",
       "      <td>g_g000638</td>\n",
       "      <td>14,000.00</td>\n",
       "    </tr>\n",
       "    <tr>\n",
       "      <th>4</th>\n",
       "      <td>g_g002127</td>\n",
       "      <td>22,000.00</td>\n",
       "    </tr>\n",
       "  </tbody>\n",
       "</table>\n",
       "</div>"
      ],
      "text/plain": [
       "   TRAVEL_ID  PAYMENT_AMT_WON\n",
       "0  g_g000540             0.00\n",
       "1  g_g001133        24,000.00\n",
       "2  g_g001133        12,000.00\n",
       "3  g_g000638        14,000.00\n",
       "4  g_g002127        22,000.00"
      ]
     },
     "execution_count": 2250,
     "metadata": {},
     "output_type": "execute_result"
    }
   ],
   "source": [
    "# 데이터 살펴보기\n",
    "activity_consume.head()"
   ]
  },
  {
   "cell_type": "markdown",
   "metadata": {},
   "source": [
    "<h3>2. 전처리</h3>"
   ]
  },
  {
   "cell_type": "markdown",
   "metadata": {},
   "source": [
    "<h5>1) 활동 소비내역인 걸 나타내기 위해서 변수명 변경"
   ]
  },
  {
   "cell_type": "code",
   "execution_count": 2251,
   "metadata": {},
   "outputs": [
    {
     "data": {
      "text/html": [
       "<div>\n",
       "<style scoped>\n",
       "    .dataframe tbody tr th:only-of-type {\n",
       "        vertical-align: middle;\n",
       "    }\n",
       "\n",
       "    .dataframe tbody tr th {\n",
       "        vertical-align: top;\n",
       "    }\n",
       "\n",
       "    .dataframe thead th {\n",
       "        text-align: right;\n",
       "    }\n",
       "</style>\n",
       "<table border=\"1\" class=\"dataframe\">\n",
       "  <thead>\n",
       "    <tr style=\"text-align: right;\">\n",
       "      <th></th>\n",
       "      <th>TRAVEL_ID</th>\n",
       "      <th>ACTIVITY_WON</th>\n",
       "    </tr>\n",
       "  </thead>\n",
       "  <tbody>\n",
       "    <tr>\n",
       "      <th>0</th>\n",
       "      <td>g_g000540</td>\n",
       "      <td>0.00</td>\n",
       "    </tr>\n",
       "    <tr>\n",
       "      <th>1</th>\n",
       "      <td>g_g001133</td>\n",
       "      <td>24,000.00</td>\n",
       "    </tr>\n",
       "    <tr>\n",
       "      <th>2</th>\n",
       "      <td>g_g001133</td>\n",
       "      <td>12,000.00</td>\n",
       "    </tr>\n",
       "    <tr>\n",
       "      <th>3</th>\n",
       "      <td>g_g000638</td>\n",
       "      <td>14,000.00</td>\n",
       "    </tr>\n",
       "    <tr>\n",
       "      <th>4</th>\n",
       "      <td>g_g002127</td>\n",
       "      <td>22,000.00</td>\n",
       "    </tr>\n",
       "  </tbody>\n",
       "</table>\n",
       "</div>"
      ],
      "text/plain": [
       "   TRAVEL_ID  ACTIVITY_WON\n",
       "0  g_g000540          0.00\n",
       "1  g_g001133     24,000.00\n",
       "2  g_g001133     12,000.00\n",
       "3  g_g000638     14,000.00\n",
       "4  g_g002127     22,000.00"
      ]
     },
     "execution_count": 2251,
     "metadata": {},
     "output_type": "execute_result"
    }
   ],
   "source": [
    "activity_consume = activity_consume.rename(columns = {'PAYMENT_AMT_WON' : 'ACTIVITY_WON'})\n",
    "\n",
    "# 결과 확인\n",
    "activity_consume.head()"
   ]
  },
  {
   "cell_type": "markdown",
   "metadata": {},
   "source": [
    "<h5>2) 추가적인 분석에 사용하기 위해 TRAVEL_ID별 활동총소비액 파생변수 추가"
   ]
  },
  {
   "cell_type": "code",
   "execution_count": 2252,
   "metadata": {},
   "outputs": [
    {
     "name": "stdout",
     "output_type": "stream",
     "text": [
      "   TRAVEL_ID  TOTAL_ACTIVITY_WON\n",
      "0  g_g000540           86,200.00\n",
      "1  g_g001133          284,600.00\n",
      "2  g_g000638          341,480.00\n",
      "3  g_g002127          210,350.00\n",
      "4  g_g006975          359,796.00\n"
     ]
    }
   ],
   "source": [
    "# 결과를 저장하기 위한 activity_consume_new 데이터프레임 준비\n",
    "activity_consume_new = activity_consume.drop(columns=['ACTIVITY_WON']).drop_duplicates(subset=['TRAVEL_ID'])\n",
    "\n",
    "# TRAVEL_ID별로 이동수단의 총 소비액 계산\n",
    "activity_consume_total = activity_consume.groupby('TRAVEL_ID')['ACTIVITY_WON'].sum().reset_index(name='TOTAL_ACTIVITY_WON')\n",
    "\n",
    "# activity_consume_new 라는 새로운 데이터프레임에 저장\n",
    "activity_consume_new = activity_consume_new.merge(activity_consume_total, on='TRAVEL_ID', how='left')\n",
    "\n",
    "# 결과 확인\n",
    "print(activity_consume_new.head())"
   ]
  },
  {
   "cell_type": "markdown",
   "metadata": {},
   "source": [
    "<h3>3. 전처리 후 확인</h3>"
   ]
  },
  {
   "cell_type": "code",
   "execution_count": 2253,
   "metadata": {},
   "outputs": [
    {
     "name": "stdout",
     "output_type": "stream",
     "text": [
      "중복된 TRAVEL_ID가 없습니다.\n"
     ]
    }
   ],
   "source": [
    "# TRAVEL_ID 중복 여부 확인\n",
    "duplicates = activity_consume_new[activity_consume_new.duplicated(subset='TRAVEL_ID', keep=False)]\n",
    "\n",
    "# 중복된 항목이 있는 경우\n",
    "if not duplicates.empty:\n",
    "    print(\"중복된 TRAVEL_ID가 있습니다.\")\n",
    "else:\n",
    "    print(\"중복된 TRAVEL_ID가 없습니다.\")"
   ]
  },
  {
   "cell_type": "code",
   "execution_count": 2254,
   "metadata": {},
   "outputs": [
    {
     "name": "stdout",
     "output_type": "stream",
     "text": [
      "활동소비내역.csv의 구조와 타입 : \n",
      "<class 'pandas.core.frame.DataFrame'>\n",
      "RangeIndex: 2547 entries, 0 to 2546\n",
      "Data columns (total 2 columns):\n",
      " #   Column              Non-Null Count  Dtype  \n",
      "---  ------              --------------  -----  \n",
      " 0   TRAVEL_ID           2547 non-null   object \n",
      " 1   TOTAL_ACTIVITY_WON  2547 non-null   float64\n",
      "dtypes: float64(1), object(1)\n",
      "memory usage: 39.9+ KB\n",
      "None\n"
     ]
    }
   ],
   "source": [
    "# 데이터의 구조와 타입 확인\n",
    "print('활동소비내역.csv의 구조와 타입 : ')\n",
    "print(activity_consume_new.info())"
   ]
  },
  {
   "cell_type": "code",
   "execution_count": 2255,
   "metadata": {},
   "outputs": [
    {
     "name": "stdout",
     "output_type": "stream",
     "text": [
      "활동소비내역.csv의 결측치 : \n",
      "TRAVEL_ID             0\n",
      "TOTAL_ACTIVITY_WON    0\n",
      "dtype: int64\n"
     ]
    }
   ],
   "source": [
    "# 데이터의 결측치 확인\n",
    "print('활동소비내역.csv의 결측치 : ')\n",
    "print(activity_consume_new.isnull().sum())"
   ]
  },
  {
   "cell_type": "code",
   "execution_count": 2256,
   "metadata": {},
   "outputs": [
    {
     "data": {
      "text/html": [
       "<div>\n",
       "<style scoped>\n",
       "    .dataframe tbody tr th:only-of-type {\n",
       "        vertical-align: middle;\n",
       "    }\n",
       "\n",
       "    .dataframe tbody tr th {\n",
       "        vertical-align: top;\n",
       "    }\n",
       "\n",
       "    .dataframe thead th {\n",
       "        text-align: right;\n",
       "    }\n",
       "</style>\n",
       "<table border=\"1\" class=\"dataframe\">\n",
       "  <thead>\n",
       "    <tr style=\"text-align: right;\">\n",
       "      <th></th>\n",
       "      <th>TRAVEL_ID</th>\n",
       "      <th>TOTAL_ACTIVITY_WON</th>\n",
       "    </tr>\n",
       "  </thead>\n",
       "  <tbody>\n",
       "    <tr>\n",
       "      <th>0</th>\n",
       "      <td>g_g000540</td>\n",
       "      <td>86,200.00</td>\n",
       "    </tr>\n",
       "    <tr>\n",
       "      <th>1</th>\n",
       "      <td>g_g001133</td>\n",
       "      <td>284,600.00</td>\n",
       "    </tr>\n",
       "    <tr>\n",
       "      <th>2</th>\n",
       "      <td>g_g000638</td>\n",
       "      <td>341,480.00</td>\n",
       "    </tr>\n",
       "    <tr>\n",
       "      <th>3</th>\n",
       "      <td>g_g002127</td>\n",
       "      <td>210,350.00</td>\n",
       "    </tr>\n",
       "    <tr>\n",
       "      <th>4</th>\n",
       "      <td>g_g006975</td>\n",
       "      <td>359,796.00</td>\n",
       "    </tr>\n",
       "  </tbody>\n",
       "</table>\n",
       "</div>"
      ],
      "text/plain": [
       "   TRAVEL_ID  TOTAL_ACTIVITY_WON\n",
       "0  g_g000540           86,200.00\n",
       "1  g_g001133          284,600.00\n",
       "2  g_g000638          341,480.00\n",
       "3  g_g002127          210,350.00\n",
       "4  g_g006975          359,796.00"
      ]
     },
     "execution_count": 2256,
     "metadata": {},
     "output_type": "execute_result"
    }
   ],
   "source": [
    "# 데이터 살펴보기\n",
    "activity_consume_new.head()"
   ]
  },
  {
   "cell_type": "markdown",
   "metadata": {},
   "source": [
    "<h3>4. 전처리 CSV 저장</h3>"
   ]
  },
  {
   "cell_type": "code",
   "execution_count": 2257,
   "metadata": {},
   "outputs": [],
   "source": [
    "activity_consume_new.to_csv('data/training/preprocessing_data/활동소비내역_전처리.csv',index=False)"
   ]
  },
  {
   "cell_type": "markdown",
   "metadata": {},
   "source": [
    "<hr>\n",
    "<h2>[사전소비내역.csv]</h2>"
   ]
  },
  {
   "cell_type": "markdown",
   "metadata": {},
   "source": [
    "<h3>1. 변수 추출 및 검토</h3>"
   ]
  },
  {
   "cell_type": "code",
   "execution_count": 2258,
   "metadata": {},
   "outputs": [
    {
     "name": "stdout",
     "output_type": "stream",
     "text": [
      "   TRAVEL_ID   ADV_NM  PAYMENT_AMT_WON\n",
      "0  g_g001280  플로깅용 집게             4000\n",
      "1  g_g004822     빵 커피             4000\n",
      "2  g_g001276    햇반 라면             6000\n",
      "3  g_g000249       간식             7000\n",
      "4  g_g000365       공차            10000\n"
     ]
    }
   ],
   "source": [
    "# 필요한 변수 리스트\n",
    "columns_to_keep_adv_consume = [\n",
    "    'TRAVEL_ID', 'ADV_NM', 'PAYMENT_AMT_WON'\n",
    "    ]\n",
    "\n",
    "# adv_consume에 필요한 변수만 남기고 저장\n",
    "adv_consume = adv_consume[columns_to_keep_adv_consume]\n",
    "\n",
    "# 결과 확인\n",
    "print(adv_consume.head())"
   ]
  },
  {
   "cell_type": "code",
   "execution_count": 2259,
   "metadata": {},
   "outputs": [
    {
     "name": "stdout",
     "output_type": "stream",
     "text": [
      "사전소비내역.csv의 행, 열 개수 : \n",
      "(534, 3)\n"
     ]
    }
   ],
   "source": [
    "# 데이터의 행, 열 개수 출력\n",
    "print('사전소비내역.csv의 행, 열 개수 : ')\n",
    "print(adv_consume.shape)"
   ]
  },
  {
   "cell_type": "code",
   "execution_count": 2260,
   "metadata": {},
   "outputs": [
    {
     "name": "stdout",
     "output_type": "stream",
     "text": [
      "사전소비내역.csv의 구조와 타입 : \n",
      "<class 'pandas.core.frame.DataFrame'>\n",
      "RangeIndex: 534 entries, 0 to 533\n",
      "Data columns (total 3 columns):\n",
      " #   Column           Non-Null Count  Dtype \n",
      "---  ------           --------------  ----- \n",
      " 0   TRAVEL_ID        534 non-null    object\n",
      " 1   ADV_NM           534 non-null    object\n",
      " 2   PAYMENT_AMT_WON  534 non-null    int64 \n",
      "dtypes: int64(1), object(2)\n",
      "memory usage: 12.6+ KB\n",
      "None\n"
     ]
    }
   ],
   "source": [
    "# 데이터의 구조와 타입 확인\n",
    "print('사전소비내역.csv의 구조와 타입 : ')\n",
    "print(adv_consume.info())"
   ]
  },
  {
   "cell_type": "code",
   "execution_count": 2261,
   "metadata": {},
   "outputs": [
    {
     "name": "stdout",
     "output_type": "stream",
     "text": [
      "사전소비내역.csv의 결측치 : \n",
      "TRAVEL_ID          0\n",
      "ADV_NM             0\n",
      "PAYMENT_AMT_WON    0\n",
      "dtype: int64\n"
     ]
    }
   ],
   "source": [
    "# 데이터의 결측치 확인\n",
    "print('사전소비내역.csv의 결측치 : ')\n",
    "print(adv_consume.isnull().sum())"
   ]
  },
  {
   "cell_type": "code",
   "execution_count": 2262,
   "metadata": {},
   "outputs": [
    {
     "data": {
      "text/html": [
       "<div>\n",
       "<style scoped>\n",
       "    .dataframe tbody tr th:only-of-type {\n",
       "        vertical-align: middle;\n",
       "    }\n",
       "\n",
       "    .dataframe tbody tr th {\n",
       "        vertical-align: top;\n",
       "    }\n",
       "\n",
       "    .dataframe thead th {\n",
       "        text-align: right;\n",
       "    }\n",
       "</style>\n",
       "<table border=\"1\" class=\"dataframe\">\n",
       "  <thead>\n",
       "    <tr style=\"text-align: right;\">\n",
       "      <th></th>\n",
       "      <th>TRAVEL_ID</th>\n",
       "      <th>ADV_NM</th>\n",
       "      <th>PAYMENT_AMT_WON</th>\n",
       "    </tr>\n",
       "  </thead>\n",
       "  <tbody>\n",
       "    <tr>\n",
       "      <th>0</th>\n",
       "      <td>g_g001280</td>\n",
       "      <td>플로깅용 집게</td>\n",
       "      <td>4000</td>\n",
       "    </tr>\n",
       "    <tr>\n",
       "      <th>1</th>\n",
       "      <td>g_g004822</td>\n",
       "      <td>빵 커피</td>\n",
       "      <td>4000</td>\n",
       "    </tr>\n",
       "    <tr>\n",
       "      <th>2</th>\n",
       "      <td>g_g001276</td>\n",
       "      <td>햇반 라면</td>\n",
       "      <td>6000</td>\n",
       "    </tr>\n",
       "    <tr>\n",
       "      <th>3</th>\n",
       "      <td>g_g000249</td>\n",
       "      <td>간식</td>\n",
       "      <td>7000</td>\n",
       "    </tr>\n",
       "    <tr>\n",
       "      <th>4</th>\n",
       "      <td>g_g000365</td>\n",
       "      <td>공차</td>\n",
       "      <td>10000</td>\n",
       "    </tr>\n",
       "  </tbody>\n",
       "</table>\n",
       "</div>"
      ],
      "text/plain": [
       "   TRAVEL_ID   ADV_NM  PAYMENT_AMT_WON\n",
       "0  g_g001280  플로깅용 집게             4000\n",
       "1  g_g004822     빵 커피             4000\n",
       "2  g_g001276    햇반 라면             6000\n",
       "3  g_g000249       간식             7000\n",
       "4  g_g000365       공차            10000"
      ]
     },
     "execution_count": 2262,
     "metadata": {},
     "output_type": "execute_result"
    }
   ],
   "source": [
    "# 데이터 살펴보기\n",
    "adv_consume.head()"
   ]
  },
  {
   "cell_type": "markdown",
   "metadata": {},
   "source": [
    "<h3>2. 전처리</h3>"
   ]
  },
  {
   "cell_type": "markdown",
   "metadata": {},
   "source": [
    "<h5>1) 사전 소비내역인 걸 나타내기 위해서 변수명 변경"
   ]
  },
  {
   "cell_type": "code",
   "execution_count": 2263,
   "metadata": {},
   "outputs": [
    {
     "data": {
      "text/html": [
       "<div>\n",
       "<style scoped>\n",
       "    .dataframe tbody tr th:only-of-type {\n",
       "        vertical-align: middle;\n",
       "    }\n",
       "\n",
       "    .dataframe tbody tr th {\n",
       "        vertical-align: top;\n",
       "    }\n",
       "\n",
       "    .dataframe thead th {\n",
       "        text-align: right;\n",
       "    }\n",
       "</style>\n",
       "<table border=\"1\" class=\"dataframe\">\n",
       "  <thead>\n",
       "    <tr style=\"text-align: right;\">\n",
       "      <th></th>\n",
       "      <th>TRAVEL_ID</th>\n",
       "      <th>ADV_NM</th>\n",
       "      <th>ADV_WON</th>\n",
       "    </tr>\n",
       "  </thead>\n",
       "  <tbody>\n",
       "    <tr>\n",
       "      <th>0</th>\n",
       "      <td>g_g001280</td>\n",
       "      <td>플로깅용 집게</td>\n",
       "      <td>4000</td>\n",
       "    </tr>\n",
       "    <tr>\n",
       "      <th>1</th>\n",
       "      <td>g_g004822</td>\n",
       "      <td>빵 커피</td>\n",
       "      <td>4000</td>\n",
       "    </tr>\n",
       "    <tr>\n",
       "      <th>2</th>\n",
       "      <td>g_g001276</td>\n",
       "      <td>햇반 라면</td>\n",
       "      <td>6000</td>\n",
       "    </tr>\n",
       "    <tr>\n",
       "      <th>3</th>\n",
       "      <td>g_g000249</td>\n",
       "      <td>간식</td>\n",
       "      <td>7000</td>\n",
       "    </tr>\n",
       "    <tr>\n",
       "      <th>4</th>\n",
       "      <td>g_g000365</td>\n",
       "      <td>공차</td>\n",
       "      <td>10000</td>\n",
       "    </tr>\n",
       "  </tbody>\n",
       "</table>\n",
       "</div>"
      ],
      "text/plain": [
       "   TRAVEL_ID   ADV_NM  ADV_WON\n",
       "0  g_g001280  플로깅용 집게     4000\n",
       "1  g_g004822     빵 커피     4000\n",
       "2  g_g001276    햇반 라면     6000\n",
       "3  g_g000249       간식     7000\n",
       "4  g_g000365       공차    10000"
      ]
     },
     "execution_count": 2263,
     "metadata": {},
     "output_type": "execute_result"
    }
   ],
   "source": [
    "adv_consume = adv_consume.rename(columns = {'PAYMENT_AMT_WON' : 'ADV_WON'})\n",
    "\n",
    "# 결과 확인\n",
    "adv_consume.head()"
   ]
  },
  {
   "cell_type": "markdown",
   "metadata": {},
   "source": [
    "<h5>2) 추가적인 분석에 사용하기 위해 TRAVEL_ID별 구매내역 리스트 형태로 저장"
   ]
  },
  {
   "cell_type": "code",
   "execution_count": 2264,
   "metadata": {},
   "outputs": [
    {
     "name": "stdout",
     "output_type": "stream",
     "text": [
      "   TRAVEL_ID                 ADV_NM\n",
      "0  e_e000191        [햇반.라면.술.버섯.음료]\n",
      "1  e_e000668                   [김밥]\n",
      "2  e_e002195                  [기차표]\n",
      "3  f_f000001                 [돼지고기]\n",
      "4  f_f002508  [버베큐 소스 삼겹살 양파 꼬치 피망]\n"
     ]
    }
   ],
   "source": [
    "# TRAVEL_ID별로 구매내역 리스트로 결합\n",
    "adv_consume_list = adv_consume.groupby('TRAVEL_ID')['ADV_NM'].apply(list).reset_index(name='ADV_NM')\n",
    "\n",
    "# 결과 확인\n",
    "print(adv_consume_list.head())"
   ]
  },
  {
   "cell_type": "markdown",
   "metadata": {},
   "source": [
    "<h5>3) 추가적인 분석에 사용하기 위해 TRAVEL_ID별 사전총소비액 파생변수 추가"
   ]
  },
  {
   "cell_type": "code",
   "execution_count": 2265,
   "metadata": {},
   "outputs": [
    {
     "name": "stdout",
     "output_type": "stream",
     "text": [
      "중복된 TRAVEL_ID가 있습니다.\n"
     ]
    }
   ],
   "source": [
    "# TRAVEL_ID 중복 여부 확인\n",
    "duplicates = adv_consume[adv_consume.duplicated(subset='TRAVEL_ID', keep=False)]\n",
    "\n",
    "# 중복된 항목이 있는 경우\n",
    "if not duplicates.empty:\n",
    "    print(\"중복된 TRAVEL_ID가 있습니다.\")\n",
    "else:\n",
    "    print(\"중복된 TRAVEL_ID가 없습니다.\")"
   ]
  },
  {
   "cell_type": "code",
   "execution_count": 2266,
   "metadata": {},
   "outputs": [
    {
     "name": "stdout",
     "output_type": "stream",
     "text": [
      "   TRAVEL_ID                 ADV_NM  TOTAL_ADV_WON\n",
      "0  e_e000191        [햇반.라면.술.버섯.음료]          32850\n",
      "1  e_e000668                   [김밥]          14000\n",
      "2  e_e002195                  [기차표]          81800\n",
      "3  f_f000001                 [돼지고기]         163500\n",
      "4  f_f002508  [버베큐 소스 삼겹살 양파 꼬치 피망]          80000\n"
     ]
    }
   ],
   "source": [
    "# TRAVEL_ID별로 사전 총 소비액 계산\n",
    "adv_consume_total = adv_consume.groupby('TRAVEL_ID')['ADV_WON'].sum().reset_index(name='TOTAL_ADV_WON')\n",
    "\n",
    "# adv_consume_list와 병합\n",
    "adv_consume_new = pd.merge(adv_consume_list, adv_consume_total, on='TRAVEL_ID', how='left')\n",
    "\n",
    "# 결과 확인\n",
    "print(adv_consume_new.head())"
   ]
  },
  {
   "cell_type": "markdown",
   "metadata": {},
   "source": [
    "<h3>3. 전처리 후 확인</h3>"
   ]
  },
  {
   "cell_type": "code",
   "execution_count": 2267,
   "metadata": {},
   "outputs": [
    {
     "name": "stdout",
     "output_type": "stream",
     "text": [
      "중복된 TRAVEL_ID가 없습니다.\n"
     ]
    }
   ],
   "source": [
    "# TRAVEL_ID 중복 여부 확인\n",
    "duplicates = adv_consume_new[adv_consume_new.duplicated(subset='TRAVEL_ID', keep=False)]\n",
    "\n",
    "# 중복된 항목이 있는 경우\n",
    "if not duplicates.empty:\n",
    "    print(\"중복된 TRAVEL_ID가 있습니다.\")\n",
    "else:\n",
    "    print(\"중복된 TRAVEL_ID가 없습니다.\")"
   ]
  },
  {
   "cell_type": "code",
   "execution_count": 2268,
   "metadata": {},
   "outputs": [
    {
     "name": "stdout",
     "output_type": "stream",
     "text": [
      "사전소비내역.csv의 구조와 타입 : \n",
      "<class 'pandas.core.frame.DataFrame'>\n",
      "RangeIndex: 460 entries, 0 to 459\n",
      "Data columns (total 3 columns):\n",
      " #   Column         Non-Null Count  Dtype \n",
      "---  ------         --------------  ----- \n",
      " 0   TRAVEL_ID      460 non-null    object\n",
      " 1   ADV_NM         460 non-null    object\n",
      " 2   TOTAL_ADV_WON  460 non-null    int64 \n",
      "dtypes: int64(1), object(2)\n",
      "memory usage: 10.9+ KB\n",
      "None\n"
     ]
    }
   ],
   "source": [
    "# 데이터의 구조와 타입 확인\n",
    "print('사전소비내역.csv의 구조와 타입 : ')\n",
    "print(adv_consume_new.info())"
   ]
  },
  {
   "cell_type": "code",
   "execution_count": 2269,
   "metadata": {},
   "outputs": [
    {
     "name": "stdout",
     "output_type": "stream",
     "text": [
      "사전소비내역.csv의 결측치 : \n",
      "TRAVEL_ID        0\n",
      "ADV_NM           0\n",
      "TOTAL_ADV_WON    0\n",
      "dtype: int64\n"
     ]
    }
   ],
   "source": [
    "# 데이터의 결측치 확인\n",
    "print('사전소비내역.csv의 결측치 : ')\n",
    "print(adv_consume_new.isnull().sum())"
   ]
  },
  {
   "cell_type": "code",
   "execution_count": 2270,
   "metadata": {},
   "outputs": [
    {
     "data": {
      "text/html": [
       "<div>\n",
       "<style scoped>\n",
       "    .dataframe tbody tr th:only-of-type {\n",
       "        vertical-align: middle;\n",
       "    }\n",
       "\n",
       "    .dataframe tbody tr th {\n",
       "        vertical-align: top;\n",
       "    }\n",
       "\n",
       "    .dataframe thead th {\n",
       "        text-align: right;\n",
       "    }\n",
       "</style>\n",
       "<table border=\"1\" class=\"dataframe\">\n",
       "  <thead>\n",
       "    <tr style=\"text-align: right;\">\n",
       "      <th></th>\n",
       "      <th>TRAVEL_ID</th>\n",
       "      <th>ADV_NM</th>\n",
       "      <th>TOTAL_ADV_WON</th>\n",
       "    </tr>\n",
       "  </thead>\n",
       "  <tbody>\n",
       "    <tr>\n",
       "      <th>0</th>\n",
       "      <td>e_e000191</td>\n",
       "      <td>[햇반.라면.술.버섯.음료]</td>\n",
       "      <td>32850</td>\n",
       "    </tr>\n",
       "    <tr>\n",
       "      <th>1</th>\n",
       "      <td>e_e000668</td>\n",
       "      <td>[김밥]</td>\n",
       "      <td>14000</td>\n",
       "    </tr>\n",
       "    <tr>\n",
       "      <th>2</th>\n",
       "      <td>e_e002195</td>\n",
       "      <td>[기차표]</td>\n",
       "      <td>81800</td>\n",
       "    </tr>\n",
       "    <tr>\n",
       "      <th>3</th>\n",
       "      <td>f_f000001</td>\n",
       "      <td>[돼지고기]</td>\n",
       "      <td>163500</td>\n",
       "    </tr>\n",
       "    <tr>\n",
       "      <th>4</th>\n",
       "      <td>f_f002508</td>\n",
       "      <td>[버베큐 소스 삼겹살 양파 꼬치 피망]</td>\n",
       "      <td>80000</td>\n",
       "    </tr>\n",
       "  </tbody>\n",
       "</table>\n",
       "</div>"
      ],
      "text/plain": [
       "   TRAVEL_ID                 ADV_NM  TOTAL_ADV_WON\n",
       "0  e_e000191        [햇반.라면.술.버섯.음료]          32850\n",
       "1  e_e000668                   [김밥]          14000\n",
       "2  e_e002195                  [기차표]          81800\n",
       "3  f_f000001                 [돼지고기]         163500\n",
       "4  f_f002508  [버베큐 소스 삼겹살 양파 꼬치 피망]          80000"
      ]
     },
     "execution_count": 2270,
     "metadata": {},
     "output_type": "execute_result"
    }
   ],
   "source": [
    "# 데이터 살펴보기\n",
    "adv_consume_new.head()"
   ]
  },
  {
   "cell_type": "markdown",
   "metadata": {},
   "source": [
    "<h3>4. 전처리 CSV 저장</h3>"
   ]
  },
  {
   "cell_type": "code",
   "execution_count": 2271,
   "metadata": {},
   "outputs": [],
   "source": [
    "adv_consume_new.to_csv('data/training/preprocessing_data/사전소비내역_전처리.csv',index=False)"
   ]
  },
  {
   "cell_type": "markdown",
   "metadata": {},
   "source": [
    "<hr>\n",
    "<h3>[데이터 병합]</h3>"
   ]
  },
  {
   "cell_type": "code",
   "execution_count": 2272,
   "metadata": {},
   "outputs": [
    {
     "data": {
      "text/html": [
       "<div>\n",
       "<style scoped>\n",
       "    .dataframe tbody tr th:only-of-type {\n",
       "        vertical-align: middle;\n",
       "    }\n",
       "\n",
       "    .dataframe tbody tr th {\n",
       "        vertical-align: top;\n",
       "    }\n",
       "\n",
       "    .dataframe thead th {\n",
       "        text-align: right;\n",
       "    }\n",
       "</style>\n",
       "<table border=\"1\" class=\"dataframe\">\n",
       "  <thead>\n",
       "    <tr style=\"text-align: right;\">\n",
       "      <th></th>\n",
       "      <th>GENDER</th>\n",
       "      <th>AGE_GRP</th>\n",
       "      <th>JOB_NM</th>\n",
       "      <th>TRAVEL_TERM</th>\n",
       "      <th>TRAVEL_LIKE_SGG_1</th>\n",
       "      <th>TRAVEL_LIKE_SGG_2</th>\n",
       "      <th>TRAVEL_LIKE_SGG_3</th>\n",
       "      <th>TRAVEL_STYL_1</th>\n",
       "      <th>TRAVEL_STYL_2</th>\n",
       "      <th>TRAVEL_STYL_3</th>\n",
       "      <th>TRAVEL_STYL_4</th>\n",
       "      <th>TRAVEL_STYL_5</th>\n",
       "      <th>TRAVEL_STYL_6</th>\n",
       "      <th>TRAVEL_STYL_7</th>\n",
       "      <th>TRAVEL_STYL_8</th>\n",
       "      <th>TRAVEL_STATUS_RESIDENCE</th>\n",
       "      <th>TRAVEL_STATUS_DESTINATION</th>\n",
       "      <th>TRAVEL_STATUS_ACCOMPANY</th>\n",
       "      <th>TRAVEL_MOTIVE</th>\n",
       "      <th>TRAVEL_COMPANIONS_NUM</th>\n",
       "      <th>TRAVEL_ID</th>\n",
       "      <th>REL_CD</th>\n",
       "      <th>COMPANION_GENDER</th>\n",
       "      <th>COMPANION_AGE_GRP</th>\n",
       "      <th>TRAVEL_PURPOSE</th>\n",
       "      <th>TRAVEL_START_YMD</th>\n",
       "      <th>TRAVEL_END_YMD</th>\n",
       "      <th>TRAVEL_MISSION_CHECK</th>\n",
       "      <th>MAJOR_TRANSPORT</th>\n",
       "      <th>TOTAL_MVMN_WON</th>\n",
       "      <th>MAJOR_LODGE_TYPE</th>\n",
       "      <th>TOTAL_LODGE_WON</th>\n",
       "      <th>MAJOR_ACTIVITY_TYPE</th>\n",
       "      <th>TOTAL_ACTIVITY_WON</th>\n",
       "      <th>ADV_NM</th>\n",
       "      <th>TOTAL_ADV_WON</th>\n",
       "    </tr>\n",
       "  </thead>\n",
       "  <tbody>\n",
       "    <tr>\n",
       "      <th>0</th>\n",
       "      <td>여</td>\n",
       "      <td>20</td>\n",
       "      <td>학생</td>\n",
       "      <td>1년</td>\n",
       "      <td>50130</td>\n",
       "      <td>50110</td>\n",
       "      <td>26500</td>\n",
       "      <td>자연 선호(강)</td>\n",
       "      <td>자연 선호(강)</td>\n",
       "      <td>자연 선호(강)</td>\n",
       "      <td>자연 선호(약)</td>\n",
       "      <td>자연 선호(약)</td>\n",
       "      <td>자연 선호(중)</td>\n",
       "      <td>도시 선호(중)</td>\n",
       "      <td>도시 선호(중)</td>\n",
       "      <td>광주광역시</td>\n",
       "      <td>전남</td>\n",
       "      <td>2인 여행(가족 외)</td>\n",
       "      <td>일상적인 환경 및 역할에서의 탈출, 지루함 탈피</td>\n",
       "      <td>1</td>\n",
       "      <td>g_g002178</td>\n",
       "      <td>연인</td>\n",
       "      <td>남자</td>\n",
       "      <td>20대</td>\n",
       "      <td>쇼핑;SNS 인생샷 여행;시티투어</td>\n",
       "      <td>2023-06-14</td>\n",
       "      <td>2023-06-16</td>\n",
       "      <td>시티투어;쇼핑;SNS 인생샷 여행</td>\n",
       "      <td>[자가용(승용/승합/트럭 등등)]</td>\n",
       "      <td>10,000.00</td>\n",
       "      <td>[호텔]</td>\n",
       "      <td>0.00</td>\n",
       "      <td>[휴식]</td>\n",
       "      <td>71,700.00</td>\n",
       "      <td>NaN</td>\n",
       "      <td>NaN</td>\n",
       "    </tr>\n",
       "    <tr>\n",
       "      <th>1</th>\n",
       "      <td>남</td>\n",
       "      <td>40</td>\n",
       "      <td>전문가 및 관련 종사자</td>\n",
       "      <td>한달</td>\n",
       "      <td>48840</td>\n",
       "      <td>48220</td>\n",
       "      <td>26500</td>\n",
       "      <td>자연 선호(강)</td>\n",
       "      <td>자연 선호(강)</td>\n",
       "      <td>자연 선호(약)</td>\n",
       "      <td>도시 선호(중)</td>\n",
       "      <td>중립</td>\n",
       "      <td>자연 선호(중)</td>\n",
       "      <td>도시 선호(강)</td>\n",
       "      <td>도시 선호(강)</td>\n",
       "      <td>대전광역시</td>\n",
       "      <td>전북</td>\n",
       "      <td>2인 여행(가족 외)</td>\n",
       "      <td>일상적인 환경 및 역할에서의 탈출, 지루함 탈피</td>\n",
       "      <td>1</td>\n",
       "      <td>g_g004485</td>\n",
       "      <td>연인</td>\n",
       "      <td>남자</td>\n",
       "      <td>30대</td>\n",
       "      <td>쇼핑;역사 유적지 방문;역사 유적지 방문;지역 문화예술/공연/전시시설 관람;유흥/오...</td>\n",
       "      <td>2023-07-28</td>\n",
       "      <td>2023-07-30</td>\n",
       "      <td>쇼핑;역사 유적지 방문;지역 문화예술/공연/전시시설 관람</td>\n",
       "      <td>[자가용(승용/승합/트럭 등등)]</td>\n",
       "      <td>32,600.00</td>\n",
       "      <td>NaN</td>\n",
       "      <td>NaN</td>\n",
       "      <td>[체험 활동 / 입장 및 관람]</td>\n",
       "      <td>273,800.00</td>\n",
       "      <td>NaN</td>\n",
       "      <td>NaN</td>\n",
       "    </tr>\n",
       "    <tr>\n",
       "      <th>2</th>\n",
       "      <td>남</td>\n",
       "      <td>20</td>\n",
       "      <td>관리자</td>\n",
       "      <td>1년</td>\n",
       "      <td>46710</td>\n",
       "      <td>45190</td>\n",
       "      <td>47170</td>\n",
       "      <td>자연 선호(중)</td>\n",
       "      <td>자연 선호(약)</td>\n",
       "      <td>자연 선호(강)</td>\n",
       "      <td>중립</td>\n",
       "      <td>도시 선호(중)</td>\n",
       "      <td>자연 선호(약)</td>\n",
       "      <td>자연 선호(강)</td>\n",
       "      <td>도시 선호(강)</td>\n",
       "      <td>서울특별시</td>\n",
       "      <td>전남</td>\n",
       "      <td>2인 여행(가족 외)</td>\n",
       "      <td>새로운 경험 추구</td>\n",
       "      <td>1</td>\n",
       "      <td>g_g005167</td>\n",
       "      <td>연인</td>\n",
       "      <td>여자</td>\n",
       "      <td>20대</td>\n",
       "      <td>테마파크, 놀이시설, 동/식물원 방문;Well-ness 여행;SNS 인생샷 여행;신...</td>\n",
       "      <td>2023-09-07</td>\n",
       "      <td>2023-09-10</td>\n",
       "      <td>SNS 인생샷 여행;신규 여행지 발굴;역사 유적지 방문</td>\n",
       "      <td>[자가용(승용/승합/트럭 등등)]</td>\n",
       "      <td>138,400.00</td>\n",
       "      <td>[호텔]</td>\n",
       "      <td>110,000.00</td>\n",
       "      <td>[취식]</td>\n",
       "      <td>450,200.00</td>\n",
       "      <td>NaN</td>\n",
       "      <td>NaN</td>\n",
       "    </tr>\n",
       "    <tr>\n",
       "      <th>3</th>\n",
       "      <td>여</td>\n",
       "      <td>30</td>\n",
       "      <td>사무 종사자</td>\n",
       "      <td>한달</td>\n",
       "      <td>42150</td>\n",
       "      <td>42210</td>\n",
       "      <td>28710</td>\n",
       "      <td>자연 선호(중)</td>\n",
       "      <td>자연 선호(중)</td>\n",
       "      <td>자연 선호(약)</td>\n",
       "      <td>자연 선호(중)</td>\n",
       "      <td>자연 선호(약)</td>\n",
       "      <td>도시 선호(약)</td>\n",
       "      <td>자연 선호(중)</td>\n",
       "      <td>도시 선호(중)</td>\n",
       "      <td>인천광역시</td>\n",
       "      <td>대전</td>\n",
       "      <td>2인 여행(가족 외)</td>\n",
       "      <td>쉴 수 있는 기회, 육체 피로 해결 및 정신적인 휴식</td>\n",
       "      <td>1</td>\n",
       "      <td>g_g002887</td>\n",
       "      <td>배우자</td>\n",
       "      <td>여자</td>\n",
       "      <td>30대</td>\n",
       "      <td>쇼핑;시티투어;지역 축제/이벤트 참가;SNS 인생샷 여행;호캉스 여행</td>\n",
       "      <td>2023-07-01</td>\n",
       "      <td>2023-07-03</td>\n",
       "      <td>쇼핑;지역 축제/이벤트 참가;호캉스 여행</td>\n",
       "      <td>[자가용(승용/승합/트럭 등등)]</td>\n",
       "      <td>70,000.00</td>\n",
       "      <td>[호텔]</td>\n",
       "      <td>0.00</td>\n",
       "      <td>[쇼핑 / 구매, 취식]</td>\n",
       "      <td>119,100.00</td>\n",
       "      <td>NaN</td>\n",
       "      <td>NaN</td>\n",
       "    </tr>\n",
       "    <tr>\n",
       "      <th>4</th>\n",
       "      <td>남</td>\n",
       "      <td>20</td>\n",
       "      <td>서비스 종사자</td>\n",
       "      <td>한달</td>\n",
       "      <td>42150</td>\n",
       "      <td>50110</td>\n",
       "      <td>26350</td>\n",
       "      <td>자연 선호(중)</td>\n",
       "      <td>자연 선호(강)</td>\n",
       "      <td>자연 선호(중)</td>\n",
       "      <td>중립</td>\n",
       "      <td>도시 선호(중)</td>\n",
       "      <td>도시 선호(약)</td>\n",
       "      <td>도시 선호(중)</td>\n",
       "      <td>도시 선호(약)</td>\n",
       "      <td>경기도</td>\n",
       "      <td>충남</td>\n",
       "      <td>2인 여행(가족 외)</td>\n",
       "      <td>쉴 수 있는 기회, 육체 피로 해결 및 정신적인 휴식</td>\n",
       "      <td>1</td>\n",
       "      <td>g_g004189</td>\n",
       "      <td>연인</td>\n",
       "      <td>남자</td>\n",
       "      <td>20대</td>\n",
       "      <td>SNS 인생샷 여행;야외 스포츠, 레포츠 활동;유흥/오락(나이트라이프)</td>\n",
       "      <td>2023-07-18</td>\n",
       "      <td>2023-07-20</td>\n",
       "      <td>Well-ness 여행;야외 스포츠, 레포츠 활동;SNS 인생샷 여행</td>\n",
       "      <td>[자가용(승용/승합/트럭 등등)]</td>\n",
       "      <td>52,083.00</td>\n",
       "      <td>[펜션]</td>\n",
       "      <td>84,600.00</td>\n",
       "      <td>[취식]</td>\n",
       "      <td>120,450.00</td>\n",
       "      <td>NaN</td>\n",
       "      <td>NaN</td>\n",
       "    </tr>\n",
       "    <tr>\n",
       "      <th>...</th>\n",
       "      <td>...</td>\n",
       "      <td>...</td>\n",
       "      <td>...</td>\n",
       "      <td>...</td>\n",
       "      <td>...</td>\n",
       "      <td>...</td>\n",
       "      <td>...</td>\n",
       "      <td>...</td>\n",
       "      <td>...</td>\n",
       "      <td>...</td>\n",
       "      <td>...</td>\n",
       "      <td>...</td>\n",
       "      <td>...</td>\n",
       "      <td>...</td>\n",
       "      <td>...</td>\n",
       "      <td>...</td>\n",
       "      <td>...</td>\n",
       "      <td>...</td>\n",
       "      <td>...</td>\n",
       "      <td>...</td>\n",
       "      <td>...</td>\n",
       "      <td>...</td>\n",
       "      <td>...</td>\n",
       "      <td>...</td>\n",
       "      <td>...</td>\n",
       "      <td>...</td>\n",
       "      <td>...</td>\n",
       "      <td>...</td>\n",
       "      <td>...</td>\n",
       "      <td>...</td>\n",
       "      <td>...</td>\n",
       "      <td>...</td>\n",
       "      <td>...</td>\n",
       "      <td>...</td>\n",
       "      <td>...</td>\n",
       "      <td>...</td>\n",
       "    </tr>\n",
       "    <tr>\n",
       "      <th>4289</th>\n",
       "      <td>남</td>\n",
       "      <td>30</td>\n",
       "      <td>전문가 및 관련 종사자</td>\n",
       "      <td>1년</td>\n",
       "      <td>44180</td>\n",
       "      <td>44825</td>\n",
       "      <td>44150</td>\n",
       "      <td>자연 선호(중)</td>\n",
       "      <td>자연 선호(중)</td>\n",
       "      <td>자연 선호(중)</td>\n",
       "      <td>중립</td>\n",
       "      <td>도시 선호(중)</td>\n",
       "      <td>중립</td>\n",
       "      <td>자연 선호(중)</td>\n",
       "      <td>중립</td>\n",
       "      <td>세종특별자치시</td>\n",
       "      <td>충북</td>\n",
       "      <td>자녀 동반 여행</td>\n",
       "      <td>새로운 경험 추구</td>\n",
       "      <td>3</td>\n",
       "      <td>g_g012655</td>\n",
       "      <td>배우자</td>\n",
       "      <td>여자</td>\n",
       "      <td>30대</td>\n",
       "      <td>테마파크, 놀이시설, 동/식물원 방문;SNS 인생샷 여행;시티투어;지역 문화예술/공...</td>\n",
       "      <td>2023-09-23</td>\n",
       "      <td>2023-09-24</td>\n",
       "      <td>테마파크, 놀이시설, 동/식물원 방문;시티투어;Well-ness 여행</td>\n",
       "      <td>NaN</td>\n",
       "      <td>NaN</td>\n",
       "      <td>NaN</td>\n",
       "      <td>NaN</td>\n",
       "      <td>[체험 활동 / 입장 및 관람]</td>\n",
       "      <td>127,930.00</td>\n",
       "      <td>NaN</td>\n",
       "      <td>NaN</td>\n",
       "    </tr>\n",
       "    <tr>\n",
       "      <th>4290</th>\n",
       "      <td>남</td>\n",
       "      <td>30</td>\n",
       "      <td>전문가 및 관련 종사자</td>\n",
       "      <td>1년</td>\n",
       "      <td>44180</td>\n",
       "      <td>44825</td>\n",
       "      <td>44150</td>\n",
       "      <td>자연 선호(중)</td>\n",
       "      <td>자연 선호(중)</td>\n",
       "      <td>자연 선호(중)</td>\n",
       "      <td>중립</td>\n",
       "      <td>도시 선호(중)</td>\n",
       "      <td>중립</td>\n",
       "      <td>자연 선호(중)</td>\n",
       "      <td>중립</td>\n",
       "      <td>세종특별자치시</td>\n",
       "      <td>충북</td>\n",
       "      <td>자녀 동반 여행</td>\n",
       "      <td>새로운 경험 추구</td>\n",
       "      <td>3</td>\n",
       "      <td>g_g012655</td>\n",
       "      <td>자녀</td>\n",
       "      <td>남자</td>\n",
       "      <td>~9세이하</td>\n",
       "      <td>테마파크, 놀이시설, 동/식물원 방문;SNS 인생샷 여행;시티투어;지역 문화예술/공...</td>\n",
       "      <td>2023-09-23</td>\n",
       "      <td>2023-09-24</td>\n",
       "      <td>테마파크, 놀이시설, 동/식물원 방문;시티투어;Well-ness 여행</td>\n",
       "      <td>NaN</td>\n",
       "      <td>NaN</td>\n",
       "      <td>NaN</td>\n",
       "      <td>NaN</td>\n",
       "      <td>[체험 활동 / 입장 및 관람]</td>\n",
       "      <td>127,930.00</td>\n",
       "      <td>NaN</td>\n",
       "      <td>NaN</td>\n",
       "    </tr>\n",
       "    <tr>\n",
       "      <th>4291</th>\n",
       "      <td>남</td>\n",
       "      <td>30</td>\n",
       "      <td>전문가 및 관련 종사자</td>\n",
       "      <td>1년</td>\n",
       "      <td>44180</td>\n",
       "      <td>44825</td>\n",
       "      <td>44150</td>\n",
       "      <td>자연 선호(중)</td>\n",
       "      <td>자연 선호(중)</td>\n",
       "      <td>자연 선호(중)</td>\n",
       "      <td>중립</td>\n",
       "      <td>도시 선호(중)</td>\n",
       "      <td>중립</td>\n",
       "      <td>자연 선호(중)</td>\n",
       "      <td>중립</td>\n",
       "      <td>세종특별자치시</td>\n",
       "      <td>충북</td>\n",
       "      <td>자녀 동반 여행</td>\n",
       "      <td>새로운 경험 추구</td>\n",
       "      <td>3</td>\n",
       "      <td>g_g012655</td>\n",
       "      <td>자녀</td>\n",
       "      <td>남자</td>\n",
       "      <td>~9세이하</td>\n",
       "      <td>테마파크, 놀이시설, 동/식물원 방문;SNS 인생샷 여행;시티투어;지역 문화예술/공...</td>\n",
       "      <td>2023-09-23</td>\n",
       "      <td>2023-09-24</td>\n",
       "      <td>테마파크, 놀이시설, 동/식물원 방문;시티투어;Well-ness 여행</td>\n",
       "      <td>NaN</td>\n",
       "      <td>NaN</td>\n",
       "      <td>NaN</td>\n",
       "      <td>NaN</td>\n",
       "      <td>[체험 활동 / 입장 및 관람]</td>\n",
       "      <td>127,930.00</td>\n",
       "      <td>NaN</td>\n",
       "      <td>NaN</td>\n",
       "    </tr>\n",
       "    <tr>\n",
       "      <th>4292</th>\n",
       "      <td>남</td>\n",
       "      <td>20</td>\n",
       "      <td>학생</td>\n",
       "      <td>1년</td>\n",
       "      <td>50130</td>\n",
       "      <td>47130</td>\n",
       "      <td>26500</td>\n",
       "      <td>도시 선호(약)</td>\n",
       "      <td>자연 선호(중)</td>\n",
       "      <td>자연 선호(중)</td>\n",
       "      <td>중립</td>\n",
       "      <td>도시 선호(중)</td>\n",
       "      <td>중립</td>\n",
       "      <td>자연 선호(중)</td>\n",
       "      <td>도시 선호(중)</td>\n",
       "      <td>서울특별시</td>\n",
       "      <td>대전</td>\n",
       "      <td>2인 여행(가족 외)</td>\n",
       "      <td>새로운 경험 추구</td>\n",
       "      <td>1</td>\n",
       "      <td>g_g012604</td>\n",
       "      <td>친구</td>\n",
       "      <td>여자</td>\n",
       "      <td>20대</td>\n",
       "      <td>쇼핑;온천/스파;Well-ness 여행;SNS 인생샷 여행;유흥/오락(나이트라이프)</td>\n",
       "      <td>2023-09-16</td>\n",
       "      <td>2023-09-17</td>\n",
       "      <td>쇼핑;온천/스파;인플루언서 따라하기 여행</td>\n",
       "      <td>[버스 + 지하철]</td>\n",
       "      <td>15,350.00</td>\n",
       "      <td>NaN</td>\n",
       "      <td>NaN</td>\n",
       "      <td>[취식, 환승/경유]</td>\n",
       "      <td>183,400.00</td>\n",
       "      <td>NaN</td>\n",
       "      <td>NaN</td>\n",
       "    </tr>\n",
       "    <tr>\n",
       "      <th>4293</th>\n",
       "      <td>여</td>\n",
       "      <td>20</td>\n",
       "      <td>학생</td>\n",
       "      <td>1년</td>\n",
       "      <td>26500</td>\n",
       "      <td>11110</td>\n",
       "      <td>50130</td>\n",
       "      <td>도시 선호(약)</td>\n",
       "      <td>자연 선호(약)</td>\n",
       "      <td>자연 선호(중)</td>\n",
       "      <td>중립</td>\n",
       "      <td>자연 선호(중)</td>\n",
       "      <td>도시 선호(중)</td>\n",
       "      <td>도시 선호(중)</td>\n",
       "      <td>자연 선호(중)</td>\n",
       "      <td>대전광역시</td>\n",
       "      <td>전북</td>\n",
       "      <td>2인 가족 여행</td>\n",
       "      <td>쉴 수 있는 기회, 육체 피로 해결 및 정신적인 휴식</td>\n",
       "      <td>1</td>\n",
       "      <td>g_g006402</td>\n",
       "      <td>부모</td>\n",
       "      <td>여자</td>\n",
       "      <td>50대</td>\n",
       "      <td>쇼핑;시티투어;지역 문화예술/공연/전시시설 관람</td>\n",
       "      <td>2023-08-15</td>\n",
       "      <td>2023-08-16</td>\n",
       "      <td>역사 유적지 방문;시티투어;쇼핑</td>\n",
       "      <td>[자가용(승용/승합/트럭 등등)]</td>\n",
       "      <td>41,220.00</td>\n",
       "      <td>NaN</td>\n",
       "      <td>NaN</td>\n",
       "      <td>[쇼핑 / 구매]</td>\n",
       "      <td>150,300.00</td>\n",
       "      <td>NaN</td>\n",
       "      <td>NaN</td>\n",
       "    </tr>\n",
       "  </tbody>\n",
       "</table>\n",
       "<p>4294 rows × 36 columns</p>\n",
       "</div>"
      ],
      "text/plain": [
       "     GENDER  AGE_GRP        JOB_NM TRAVEL_TERM  TRAVEL_LIKE_SGG_1  TRAVEL_LIKE_SGG_2  TRAVEL_LIKE_SGG_3 TRAVEL_STYL_1 TRAVEL_STYL_2 TRAVEL_STYL_3 TRAVEL_STYL_4 TRAVEL_STYL_5 TRAVEL_STYL_6 TRAVEL_STYL_7 TRAVEL_STYL_8 TRAVEL_STATUS_RESIDENCE TRAVEL_STATUS_DESTINATION TRAVEL_STATUS_ACCOMPANY                  TRAVEL_MOTIVE  TRAVEL_COMPANIONS_NUM  TRAVEL_ID REL_CD COMPANION_GENDER COMPANION_AGE_GRP                                     TRAVEL_PURPOSE TRAVEL_START_YMD TRAVEL_END_YMD                    TRAVEL_MISSION_CHECK     MAJOR_TRANSPORT  TOTAL_MVMN_WON MAJOR_LODGE_TYPE  TOTAL_LODGE_WON MAJOR_ACTIVITY_TYPE  TOTAL_ACTIVITY_WON ADV_NM  TOTAL_ADV_WON\n",
       "0         여       20            학생          1년              50130              50110              26500      자연 선호(강)      자연 선호(강)      자연 선호(강)      자연 선호(약)      자연 선호(약)      자연 선호(중)      도시 선호(중)      도시 선호(중)                   광주광역시                        전남             2인 여행(가족 외)     일상적인 환경 및 역할에서의 탈출, 지루함 탈피                      1  g_g002178     연인               남자               20대                                 쇼핑;SNS 인생샷 여행;시티투어       2023-06-14     2023-06-16                      시티투어;쇼핑;SNS 인생샷 여행  [자가용(승용/승합/트럭 등등)]       10,000.00             [호텔]             0.00                [휴식]           71,700.00    NaN            NaN\n",
       "1         남       40  전문가 및 관련 종사자          한달              48840              48220              26500      자연 선호(강)      자연 선호(강)      자연 선호(약)      도시 선호(중)            중립      자연 선호(중)      도시 선호(강)      도시 선호(강)                   대전광역시                        전북             2인 여행(가족 외)     일상적인 환경 및 역할에서의 탈출, 지루함 탈피                      1  g_g004485     연인               남자               30대  쇼핑;역사 유적지 방문;역사 유적지 방문;지역 문화예술/공연/전시시설 관람;유흥/오...       2023-07-28     2023-07-30         쇼핑;역사 유적지 방문;지역 문화예술/공연/전시시설 관람  [자가용(승용/승합/트럭 등등)]       32,600.00              NaN              NaN   [체험 활동 / 입장 및 관람]          273,800.00    NaN            NaN\n",
       "2         남       20           관리자          1년              46710              45190              47170      자연 선호(중)      자연 선호(약)      자연 선호(강)            중립      도시 선호(중)      자연 선호(약)      자연 선호(강)      도시 선호(강)                   서울특별시                        전남             2인 여행(가족 외)                      새로운 경험 추구                      1  g_g005167     연인               여자               20대  테마파크, 놀이시설, 동/식물원 방문;Well-ness 여행;SNS 인생샷 여행;신...       2023-09-07     2023-09-10          SNS 인생샷 여행;신규 여행지 발굴;역사 유적지 방문  [자가용(승용/승합/트럭 등등)]      138,400.00             [호텔]       110,000.00                [취식]          450,200.00    NaN            NaN\n",
       "3         여       30        사무 종사자          한달              42150              42210              28710      자연 선호(중)      자연 선호(중)      자연 선호(약)      자연 선호(중)      자연 선호(약)      도시 선호(약)      자연 선호(중)      도시 선호(중)                   인천광역시                        대전             2인 여행(가족 외)  쉴 수 있는 기회, 육체 피로 해결 및 정신적인 휴식                      1  g_g002887    배우자               여자               30대             쇼핑;시티투어;지역 축제/이벤트 참가;SNS 인생샷 여행;호캉스 여행       2023-07-01     2023-07-03                  쇼핑;지역 축제/이벤트 참가;호캉스 여행  [자가용(승용/승합/트럭 등등)]       70,000.00             [호텔]             0.00       [쇼핑 / 구매, 취식]          119,100.00    NaN            NaN\n",
       "4         남       20       서비스 종사자          한달              42150              50110              26350      자연 선호(중)      자연 선호(강)      자연 선호(중)            중립      도시 선호(중)      도시 선호(약)      도시 선호(중)      도시 선호(약)                     경기도                        충남             2인 여행(가족 외)  쉴 수 있는 기회, 육체 피로 해결 및 정신적인 휴식                      1  g_g004189     연인               남자               20대            SNS 인생샷 여행;야외 스포츠, 레포츠 활동;유흥/오락(나이트라이프)       2023-07-18     2023-07-20  Well-ness 여행;야외 스포츠, 레포츠 활동;SNS 인생샷 여행  [자가용(승용/승합/트럭 등등)]       52,083.00             [펜션]        84,600.00                [취식]          120,450.00    NaN            NaN\n",
       "...     ...      ...           ...         ...                ...                ...                ...           ...           ...           ...           ...           ...           ...           ...           ...                     ...                       ...                     ...                            ...                    ...        ...    ...              ...               ...                                                ...              ...            ...                                     ...                 ...             ...              ...              ...                 ...                 ...    ...            ...\n",
       "4289      남       30  전문가 및 관련 종사자          1년              44180              44825              44150      자연 선호(중)      자연 선호(중)      자연 선호(중)            중립      도시 선호(중)            중립      자연 선호(중)            중립                 세종특별자치시                        충북                자녀 동반 여행                      새로운 경험 추구                      3  g_g012655    배우자               여자               30대  테마파크, 놀이시설, 동/식물원 방문;SNS 인생샷 여행;시티투어;지역 문화예술/공...       2023-09-23     2023-09-24  테마파크, 놀이시설, 동/식물원 방문;시티투어;Well-ness 여행                 NaN             NaN              NaN              NaN   [체험 활동 / 입장 및 관람]          127,930.00    NaN            NaN\n",
       "4290      남       30  전문가 및 관련 종사자          1년              44180              44825              44150      자연 선호(중)      자연 선호(중)      자연 선호(중)            중립      도시 선호(중)            중립      자연 선호(중)            중립                 세종특별자치시                        충북                자녀 동반 여행                      새로운 경험 추구                      3  g_g012655     자녀               남자             ~9세이하  테마파크, 놀이시설, 동/식물원 방문;SNS 인생샷 여행;시티투어;지역 문화예술/공...       2023-09-23     2023-09-24  테마파크, 놀이시설, 동/식물원 방문;시티투어;Well-ness 여행                 NaN             NaN              NaN              NaN   [체험 활동 / 입장 및 관람]          127,930.00    NaN            NaN\n",
       "4291      남       30  전문가 및 관련 종사자          1년              44180              44825              44150      자연 선호(중)      자연 선호(중)      자연 선호(중)            중립      도시 선호(중)            중립      자연 선호(중)            중립                 세종특별자치시                        충북                자녀 동반 여행                      새로운 경험 추구                      3  g_g012655     자녀               남자             ~9세이하  테마파크, 놀이시설, 동/식물원 방문;SNS 인생샷 여행;시티투어;지역 문화예술/공...       2023-09-23     2023-09-24  테마파크, 놀이시설, 동/식물원 방문;시티투어;Well-ness 여행                 NaN             NaN              NaN              NaN   [체험 활동 / 입장 및 관람]          127,930.00    NaN            NaN\n",
       "4292      남       20            학생          1년              50130              47130              26500      도시 선호(약)      자연 선호(중)      자연 선호(중)            중립      도시 선호(중)            중립      자연 선호(중)      도시 선호(중)                   서울특별시                        대전             2인 여행(가족 외)                      새로운 경험 추구                      1  g_g012604     친구               여자               20대     쇼핑;온천/스파;Well-ness 여행;SNS 인생샷 여행;유흥/오락(나이트라이프)       2023-09-16     2023-09-17                  쇼핑;온천/스파;인플루언서 따라하기 여행          [버스 + 지하철]       15,350.00              NaN              NaN         [취식, 환승/경유]          183,400.00    NaN            NaN\n",
       "4293      여       20            학생          1년              26500              11110              50130      도시 선호(약)      자연 선호(약)      자연 선호(중)            중립      자연 선호(중)      도시 선호(중)      도시 선호(중)      자연 선호(중)                   대전광역시                        전북                2인 가족 여행  쉴 수 있는 기회, 육체 피로 해결 및 정신적인 휴식                      1  g_g006402     부모               여자               50대                         쇼핑;시티투어;지역 문화예술/공연/전시시설 관람       2023-08-15     2023-08-16                       역사 유적지 방문;시티투어;쇼핑  [자가용(승용/승합/트럭 등등)]       41,220.00              NaN              NaN           [쇼핑 / 구매]          150,300.00    NaN            NaN\n",
       "\n",
       "[4294 rows x 36 columns]"
      ]
     },
     "execution_count": 2272,
     "metadata": {},
     "output_type": "execute_result"
    }
   ],
   "source": [
    "# 첫 번째 merge\n",
    "travel_log_fir = pd.merge(traveller_master, companion_info, on='TRAVEL_ID', how='left')\n",
    "# 두 번째 merge\n",
    "travel_log_fir = pd.merge(travel_log_fir, travel, on='TRAVEL_ID', how='left')\n",
    "# 세 번째 merge\n",
    "travel_log_fir = pd.merge(travel_log_fir, mvmn_consume_new, on='TRAVEL_ID', how='left')\n",
    "# 네 번째 merge\n",
    "travel_log_fir = pd.merge(travel_log_fir, lodge_consume_new, on='TRAVEL_ID', how='left')\n",
    "# 다섯 번째 merge\n",
    "travel_log_fir = pd.merge(travel_log_fir, activity_new, on='TRAVEL_ID', how='left')\n",
    "# 여섯 번째 merge\n",
    "travel_log_fir = pd.merge(travel_log_fir, activity_consume_new, on='TRAVEL_ID', how='left')\n",
    "# 일곱 번째 merge\n",
    "travel_log_fir = pd.merge(travel_log_fir, adv_consume_new, on='TRAVEL_ID', how='left')\n",
    "\n",
    "# 결과 확인\n",
    "travel_log_fir"
   ]
  },
  {
   "cell_type": "markdown",
   "metadata": {},
   "source": [
    "<h3>1. 병합한 데이터 검토</h3>"
   ]
  },
  {
   "cell_type": "markdown",
   "metadata": {},
   "source": [
    "1. 결측치 확인"
   ]
  },
  {
   "cell_type": "code",
   "execution_count": 2273,
   "metadata": {},
   "outputs": [
    {
     "name": "stdout",
     "output_type": "stream",
     "text": [
      "merge 데이터의 행, 열 개수 : \n",
      "(4294, 36)\n"
     ]
    }
   ],
   "source": [
    "# 데이터의 행, 열 개수 출력\n",
    "print('merge 데이터의 행, 열 개수 : ')\n",
    "print(travel_log_fir.shape)"
   ]
  },
  {
   "cell_type": "code",
   "execution_count": 2274,
   "metadata": {},
   "outputs": [
    {
     "name": "stdout",
     "output_type": "stream",
     "text": [
      "merge 데이터의 구조와 타입 : \n",
      "<class 'pandas.core.frame.DataFrame'>\n",
      "RangeIndex: 4294 entries, 0 to 4293\n",
      "Data columns (total 36 columns):\n",
      " #   Column                     Non-Null Count  Dtype  \n",
      "---  ------                     --------------  -----  \n",
      " 0   GENDER                     4294 non-null   object \n",
      " 1   AGE_GRP                    4294 non-null   int64  \n",
      " 2   JOB_NM                     4294 non-null   object \n",
      " 3   TRAVEL_TERM                4294 non-null   object \n",
      " 4   TRAVEL_LIKE_SGG_1          4294 non-null   int64  \n",
      " 5   TRAVEL_LIKE_SGG_2          4294 non-null   int64  \n",
      " 6   TRAVEL_LIKE_SGG_3          4294 non-null   int64  \n",
      " 7   TRAVEL_STYL_1              4294 non-null   object \n",
      " 8   TRAVEL_STYL_2              4294 non-null   object \n",
      " 9   TRAVEL_STYL_3              4294 non-null   object \n",
      " 10  TRAVEL_STYL_4              4294 non-null   object \n",
      " 11  TRAVEL_STYL_5              4294 non-null   object \n",
      " 12  TRAVEL_STYL_6              4294 non-null   object \n",
      " 13  TRAVEL_STYL_7              4294 non-null   object \n",
      " 14  TRAVEL_STYL_8              4294 non-null   object \n",
      " 15  TRAVEL_STATUS_RESIDENCE    4294 non-null   object \n",
      " 16  TRAVEL_STATUS_DESTINATION  4294 non-null   object \n",
      " 17  TRAVEL_STATUS_ACCOMPANY    4294 non-null   object \n",
      " 18  TRAVEL_MOTIVE              4294 non-null   object \n",
      " 19  TRAVEL_COMPANIONS_NUM      4294 non-null   int64  \n",
      " 20  TRAVEL_ID                  4294 non-null   object \n",
      " 21  REL_CD                     3808 non-null   object \n",
      " 22  COMPANION_GENDER           3808 non-null   object \n",
      " 23  COMPANION_AGE_GRP          3808 non-null   object \n",
      " 24  TRAVEL_PURPOSE             4294 non-null   object \n",
      " 25  TRAVEL_START_YMD           4294 non-null   object \n",
      " 26  TRAVEL_END_YMD             4294 non-null   object \n",
      " 27  TRAVEL_MISSION_CHECK       4294 non-null   object \n",
      " 28  MAJOR_TRANSPORT            3971 non-null   object \n",
      " 29  TOTAL_MVMN_WON             3971 non-null   float64\n",
      " 30  MAJOR_LODGE_TYPE           2062 non-null   object \n",
      " 31  TOTAL_LODGE_WON            2062 non-null   float64\n",
      " 32  MAJOR_ACTIVITY_TYPE        4294 non-null   object \n",
      " 33  TOTAL_ACTIVITY_WON         4256 non-null   float64\n",
      " 34  ADV_NM                     890 non-null    object \n",
      " 35  TOTAL_ADV_WON              890 non-null    float64\n",
      "dtypes: float64(4), int64(5), object(27)\n",
      "memory usage: 1.2+ MB\n",
      "None\n"
     ]
    }
   ],
   "source": [
    "# 데이터의 구조와 타입 확인\n",
    "print('merge 데이터의 구조와 타입 : ')\n",
    "print(travel_log_fir.info())"
   ]
  },
  {
   "cell_type": "code",
   "execution_count": 2275,
   "metadata": {},
   "outputs": [
    {
     "name": "stdout",
     "output_type": "stream",
     "text": [
      "merge 데이터.csv의 결측치 : \n",
      "GENDER                          0\n",
      "AGE_GRP                         0\n",
      "JOB_NM                          0\n",
      "TRAVEL_TERM                     0\n",
      "TRAVEL_LIKE_SGG_1               0\n",
      "TRAVEL_LIKE_SGG_2               0\n",
      "TRAVEL_LIKE_SGG_3               0\n",
      "TRAVEL_STYL_1                   0\n",
      "TRAVEL_STYL_2                   0\n",
      "TRAVEL_STYL_3                   0\n",
      "TRAVEL_STYL_4                   0\n",
      "TRAVEL_STYL_5                   0\n",
      "TRAVEL_STYL_6                   0\n",
      "TRAVEL_STYL_7                   0\n",
      "TRAVEL_STYL_8                   0\n",
      "TRAVEL_STATUS_RESIDENCE         0\n",
      "TRAVEL_STATUS_DESTINATION       0\n",
      "TRAVEL_STATUS_ACCOMPANY         0\n",
      "TRAVEL_MOTIVE                   0\n",
      "TRAVEL_COMPANIONS_NUM           0\n",
      "TRAVEL_ID                       0\n",
      "REL_CD                        486\n",
      "COMPANION_GENDER              486\n",
      "COMPANION_AGE_GRP             486\n",
      "TRAVEL_PURPOSE                  0\n",
      "TRAVEL_START_YMD                0\n",
      "TRAVEL_END_YMD                  0\n",
      "TRAVEL_MISSION_CHECK            0\n",
      "MAJOR_TRANSPORT               323\n",
      "TOTAL_MVMN_WON                323\n",
      "MAJOR_LODGE_TYPE             2232\n",
      "TOTAL_LODGE_WON              2232\n",
      "MAJOR_ACTIVITY_TYPE             0\n",
      "TOTAL_ACTIVITY_WON             38\n",
      "ADV_NM                       3404\n",
      "TOTAL_ADV_WON                3404\n",
      "dtype: int64\n"
     ]
    }
   ],
   "source": [
    "# 데이터의 결측치 확인\n",
    "print('merge 데이터.csv의 결측치 : ')\n",
    "print(travel_log_fir.isnull().sum())"
   ]
  },
  {
   "cell_type": "code",
   "execution_count": 2276,
   "metadata": {},
   "outputs": [
    {
     "name": "stdout",
     "output_type": "stream",
     "text": [
      "결측치가 있는 컬럼들: \n",
      "REL_CD                 486\n",
      "COMPANION_GENDER       486\n",
      "COMPANION_AGE_GRP      486\n",
      "MAJOR_TRANSPORT        323\n",
      "TOTAL_MVMN_WON         323\n",
      "MAJOR_LODGE_TYPE      2232\n",
      "TOTAL_LODGE_WON       2232\n",
      "TOTAL_ACTIVITY_WON      38\n",
      "ADV_NM                3404\n",
      "TOTAL_ADV_WON         3404\n",
      "dtype: int64\n"
     ]
    }
   ],
   "source": [
    "# 결측치가 있는 컬럼만 출력\n",
    "null_columns = travel_log_fir.isnull().sum()\n",
    "null_columns = null_columns[null_columns > 0]\n",
    "print('결측치가 있는 컬럼들: ')\n",
    "print(null_columns)"
   ]
  },
  {
   "cell_type": "markdown",
   "metadata": {},
   "source": [
    "> 결측치 분석 결과 1 : REL_CD, COMPANION_GENDER, COMPANION_AGE_GRP의 경우 동반자정보와 관련된 변수임\n",
    "<br> 따라서, 해당 변수들의 결측치 발생 이유를 분석하기 위해 '나홀로 여행'인지 검증 필요"
   ]
  },
  {
   "cell_type": "markdown",
   "metadata": {},
   "source": [
    "> 결측치 분석 결과 2 : MAJOR_TRANSPORT, TOTAL_MVMN_WON의 경우 이동수단소비내역.csv에서는 결측치가 없었지만, 현재 결측치가 323개 존재하는 것으로 보아 병합과정에서 추가 된 TRAVEL_ID 값 중 응답하지 않은 TRAVEL_ID가 있는 것으로 보임\n",
    "<br> 이 결측치를 모두 제거(drop)하고 분석을 진행하기에는 데이터 손실이 크므로, \n",
    "<br> MAJOR_TRANSPORT의 결측치는 없음으로 대체하고, \n",
    "<br> TOTAL_MVMN_WON의 결측치를 현재 TOTAL_MVMN_WON의 평균값으로 대체"
   ]
  },
  {
   "cell_type": "markdown",
   "metadata": {},
   "source": [
    "> 결측치 분석 결과 3 : TOTAL_ACTIVITY_WON의 결측치를 현재 TOTAL_ACTIVITY_WON의 평균값으로 대체"
   ]
  },
  {
   "cell_type": "markdown",
   "metadata": {},
   "source": [
    "> 결측치 분석 결과 4 : MAJOR_LODGE_TYPE, TOTAL_LODGE_WON의 경우 숙박소비내역.csv에서는 결측치가 없었지만, 현재 결측치가 2232개 존재하는 것으로 보아 병합과정에서 추가 된 TRAVEL_ID 값 중 응답하지 않은 TRAVEL_ID가 있는 것으로 보임\n",
    "<br>  결측치를 모두 제거(drop)하고 분석을 진행하기에는 데이터 손실이 크고 전체 행인 4294개의 절반 정도를 차지하므로\n",
    "<br> 숙박소비내역.csv는 병합(merge) 하지 않고, 숙박소비내역.csv에서 분석을 따로 진행함"
   ]
  },
  {
   "cell_type": "markdown",
   "metadata": {},
   "source": [
    "> 결측치 분석 결과 5 : ADV_NM, TOTAL_ADV_WON의 경우 사전소비내역.csv에서는 결측치가 존재하지 않았으나, 현재 결측치가 3404개 존재하는 것으로 보아 병합과정에서 추가 된 일부 TRAVEL_ID 값 중 응답하지 않은 TRAVEL_ID가 있는 것으로 보임\n",
    "<br> 하지만, 이 결측치가 사전소비내역이 발생하지 않은 경우인지, 아니면 사전소비내역이 존재하지만 응답하지 않은 경우인지는 명확히 판단하기 어려움\n",
    "<br> 또한, 전체 행인 4294개 중 3404개의 결측치가 발생하여 분석에 유의미한 영향을 미치기 어렵다고 판단됨\n",
    "<br> 따라서, 사전소비내역.csv는 분석에서 완전히 제외하고 이후 분석에서 다루지 않기로 결정함"
   ]
  },
  {
   "cell_type": "markdown",
   "metadata": {},
   "source": [
    "<h3>2. 분석 결과 반영하여 최종 병합 및 전처리</h3>"
   ]
  },
  {
   "cell_type": "code",
   "execution_count": 2277,
   "metadata": {},
   "outputs": [
    {
     "data": {
      "text/html": [
       "<div>\n",
       "<style scoped>\n",
       "    .dataframe tbody tr th:only-of-type {\n",
       "        vertical-align: middle;\n",
       "    }\n",
       "\n",
       "    .dataframe tbody tr th {\n",
       "        vertical-align: top;\n",
       "    }\n",
       "\n",
       "    .dataframe thead th {\n",
       "        text-align: right;\n",
       "    }\n",
       "</style>\n",
       "<table border=\"1\" class=\"dataframe\">\n",
       "  <thead>\n",
       "    <tr style=\"text-align: right;\">\n",
       "      <th></th>\n",
       "      <th>GENDER</th>\n",
       "      <th>AGE_GRP</th>\n",
       "      <th>JOB_NM</th>\n",
       "      <th>TRAVEL_TERM</th>\n",
       "      <th>TRAVEL_LIKE_SGG_1</th>\n",
       "      <th>TRAVEL_LIKE_SGG_2</th>\n",
       "      <th>TRAVEL_LIKE_SGG_3</th>\n",
       "      <th>TRAVEL_STYL_1</th>\n",
       "      <th>TRAVEL_STYL_2</th>\n",
       "      <th>TRAVEL_STYL_3</th>\n",
       "      <th>TRAVEL_STYL_4</th>\n",
       "      <th>TRAVEL_STYL_5</th>\n",
       "      <th>TRAVEL_STYL_6</th>\n",
       "      <th>TRAVEL_STYL_7</th>\n",
       "      <th>TRAVEL_STYL_8</th>\n",
       "      <th>TRAVEL_STATUS_RESIDENCE</th>\n",
       "      <th>TRAVEL_STATUS_DESTINATION</th>\n",
       "      <th>TRAVEL_STATUS_ACCOMPANY</th>\n",
       "      <th>TRAVEL_MOTIVE</th>\n",
       "      <th>TRAVEL_COMPANIONS_NUM</th>\n",
       "      <th>TRAVEL_ID</th>\n",
       "      <th>REL_CD</th>\n",
       "      <th>COMPANION_GENDER</th>\n",
       "      <th>COMPANION_AGE_GRP</th>\n",
       "      <th>TRAVEL_PURPOSE</th>\n",
       "      <th>TRAVEL_START_YMD</th>\n",
       "      <th>TRAVEL_END_YMD</th>\n",
       "      <th>TRAVEL_MISSION_CHECK</th>\n",
       "      <th>MAJOR_TRANSPORT</th>\n",
       "      <th>TOTAL_MVMN_WON</th>\n",
       "      <th>MAJOR_ACTIVITY_TYPE</th>\n",
       "      <th>TOTAL_ACTIVITY_WON</th>\n",
       "    </tr>\n",
       "  </thead>\n",
       "  <tbody>\n",
       "    <tr>\n",
       "      <th>0</th>\n",
       "      <td>여</td>\n",
       "      <td>20</td>\n",
       "      <td>학생</td>\n",
       "      <td>1년</td>\n",
       "      <td>50130</td>\n",
       "      <td>50110</td>\n",
       "      <td>26500</td>\n",
       "      <td>자연 선호(강)</td>\n",
       "      <td>자연 선호(강)</td>\n",
       "      <td>자연 선호(강)</td>\n",
       "      <td>자연 선호(약)</td>\n",
       "      <td>자연 선호(약)</td>\n",
       "      <td>자연 선호(중)</td>\n",
       "      <td>도시 선호(중)</td>\n",
       "      <td>도시 선호(중)</td>\n",
       "      <td>광주광역시</td>\n",
       "      <td>전남</td>\n",
       "      <td>2인 여행(가족 외)</td>\n",
       "      <td>일상적인 환경 및 역할에서의 탈출, 지루함 탈피</td>\n",
       "      <td>1</td>\n",
       "      <td>g_g002178</td>\n",
       "      <td>연인</td>\n",
       "      <td>남자</td>\n",
       "      <td>20대</td>\n",
       "      <td>쇼핑;SNS 인생샷 여행;시티투어</td>\n",
       "      <td>2023-06-14</td>\n",
       "      <td>2023-06-16</td>\n",
       "      <td>시티투어;쇼핑;SNS 인생샷 여행</td>\n",
       "      <td>[자가용(승용/승합/트럭 등등)]</td>\n",
       "      <td>10,000.00</td>\n",
       "      <td>[휴식]</td>\n",
       "      <td>71,700.00</td>\n",
       "    </tr>\n",
       "    <tr>\n",
       "      <th>1</th>\n",
       "      <td>남</td>\n",
       "      <td>40</td>\n",
       "      <td>전문가 및 관련 종사자</td>\n",
       "      <td>한달</td>\n",
       "      <td>48840</td>\n",
       "      <td>48220</td>\n",
       "      <td>26500</td>\n",
       "      <td>자연 선호(강)</td>\n",
       "      <td>자연 선호(강)</td>\n",
       "      <td>자연 선호(약)</td>\n",
       "      <td>도시 선호(중)</td>\n",
       "      <td>중립</td>\n",
       "      <td>자연 선호(중)</td>\n",
       "      <td>도시 선호(강)</td>\n",
       "      <td>도시 선호(강)</td>\n",
       "      <td>대전광역시</td>\n",
       "      <td>전북</td>\n",
       "      <td>2인 여행(가족 외)</td>\n",
       "      <td>일상적인 환경 및 역할에서의 탈출, 지루함 탈피</td>\n",
       "      <td>1</td>\n",
       "      <td>g_g004485</td>\n",
       "      <td>연인</td>\n",
       "      <td>남자</td>\n",
       "      <td>30대</td>\n",
       "      <td>쇼핑;역사 유적지 방문;역사 유적지 방문;지역 문화예술/공연/전시시설 관람;유흥/오...</td>\n",
       "      <td>2023-07-28</td>\n",
       "      <td>2023-07-30</td>\n",
       "      <td>쇼핑;역사 유적지 방문;지역 문화예술/공연/전시시설 관람</td>\n",
       "      <td>[자가용(승용/승합/트럭 등등)]</td>\n",
       "      <td>32,600.00</td>\n",
       "      <td>[체험 활동 / 입장 및 관람]</td>\n",
       "      <td>273,800.00</td>\n",
       "    </tr>\n",
       "    <tr>\n",
       "      <th>2</th>\n",
       "      <td>남</td>\n",
       "      <td>20</td>\n",
       "      <td>관리자</td>\n",
       "      <td>1년</td>\n",
       "      <td>46710</td>\n",
       "      <td>45190</td>\n",
       "      <td>47170</td>\n",
       "      <td>자연 선호(중)</td>\n",
       "      <td>자연 선호(약)</td>\n",
       "      <td>자연 선호(강)</td>\n",
       "      <td>중립</td>\n",
       "      <td>도시 선호(중)</td>\n",
       "      <td>자연 선호(약)</td>\n",
       "      <td>자연 선호(강)</td>\n",
       "      <td>도시 선호(강)</td>\n",
       "      <td>서울특별시</td>\n",
       "      <td>전남</td>\n",
       "      <td>2인 여행(가족 외)</td>\n",
       "      <td>새로운 경험 추구</td>\n",
       "      <td>1</td>\n",
       "      <td>g_g005167</td>\n",
       "      <td>연인</td>\n",
       "      <td>여자</td>\n",
       "      <td>20대</td>\n",
       "      <td>테마파크, 놀이시설, 동/식물원 방문;Well-ness 여행;SNS 인생샷 여행;신...</td>\n",
       "      <td>2023-09-07</td>\n",
       "      <td>2023-09-10</td>\n",
       "      <td>SNS 인생샷 여행;신규 여행지 발굴;역사 유적지 방문</td>\n",
       "      <td>[자가용(승용/승합/트럭 등등)]</td>\n",
       "      <td>138,400.00</td>\n",
       "      <td>[취식]</td>\n",
       "      <td>450,200.00</td>\n",
       "    </tr>\n",
       "    <tr>\n",
       "      <th>3</th>\n",
       "      <td>여</td>\n",
       "      <td>30</td>\n",
       "      <td>사무 종사자</td>\n",
       "      <td>한달</td>\n",
       "      <td>42150</td>\n",
       "      <td>42210</td>\n",
       "      <td>28710</td>\n",
       "      <td>자연 선호(중)</td>\n",
       "      <td>자연 선호(중)</td>\n",
       "      <td>자연 선호(약)</td>\n",
       "      <td>자연 선호(중)</td>\n",
       "      <td>자연 선호(약)</td>\n",
       "      <td>도시 선호(약)</td>\n",
       "      <td>자연 선호(중)</td>\n",
       "      <td>도시 선호(중)</td>\n",
       "      <td>인천광역시</td>\n",
       "      <td>대전</td>\n",
       "      <td>2인 여행(가족 외)</td>\n",
       "      <td>쉴 수 있는 기회, 육체 피로 해결 및 정신적인 휴식</td>\n",
       "      <td>1</td>\n",
       "      <td>g_g002887</td>\n",
       "      <td>배우자</td>\n",
       "      <td>여자</td>\n",
       "      <td>30대</td>\n",
       "      <td>쇼핑;시티투어;지역 축제/이벤트 참가;SNS 인생샷 여행;호캉스 여행</td>\n",
       "      <td>2023-07-01</td>\n",
       "      <td>2023-07-03</td>\n",
       "      <td>쇼핑;지역 축제/이벤트 참가;호캉스 여행</td>\n",
       "      <td>[자가용(승용/승합/트럭 등등)]</td>\n",
       "      <td>70,000.00</td>\n",
       "      <td>[쇼핑 / 구매, 취식]</td>\n",
       "      <td>119,100.00</td>\n",
       "    </tr>\n",
       "    <tr>\n",
       "      <th>4</th>\n",
       "      <td>남</td>\n",
       "      <td>20</td>\n",
       "      <td>서비스 종사자</td>\n",
       "      <td>한달</td>\n",
       "      <td>42150</td>\n",
       "      <td>50110</td>\n",
       "      <td>26350</td>\n",
       "      <td>자연 선호(중)</td>\n",
       "      <td>자연 선호(강)</td>\n",
       "      <td>자연 선호(중)</td>\n",
       "      <td>중립</td>\n",
       "      <td>도시 선호(중)</td>\n",
       "      <td>도시 선호(약)</td>\n",
       "      <td>도시 선호(중)</td>\n",
       "      <td>도시 선호(약)</td>\n",
       "      <td>경기도</td>\n",
       "      <td>충남</td>\n",
       "      <td>2인 여행(가족 외)</td>\n",
       "      <td>쉴 수 있는 기회, 육체 피로 해결 및 정신적인 휴식</td>\n",
       "      <td>1</td>\n",
       "      <td>g_g004189</td>\n",
       "      <td>연인</td>\n",
       "      <td>남자</td>\n",
       "      <td>20대</td>\n",
       "      <td>SNS 인생샷 여행;야외 스포츠, 레포츠 활동;유흥/오락(나이트라이프)</td>\n",
       "      <td>2023-07-18</td>\n",
       "      <td>2023-07-20</td>\n",
       "      <td>Well-ness 여행;야외 스포츠, 레포츠 활동;SNS 인생샷 여행</td>\n",
       "      <td>[자가용(승용/승합/트럭 등등)]</td>\n",
       "      <td>52,083.00</td>\n",
       "      <td>[취식]</td>\n",
       "      <td>120,450.00</td>\n",
       "    </tr>\n",
       "    <tr>\n",
       "      <th>...</th>\n",
       "      <td>...</td>\n",
       "      <td>...</td>\n",
       "      <td>...</td>\n",
       "      <td>...</td>\n",
       "      <td>...</td>\n",
       "      <td>...</td>\n",
       "      <td>...</td>\n",
       "      <td>...</td>\n",
       "      <td>...</td>\n",
       "      <td>...</td>\n",
       "      <td>...</td>\n",
       "      <td>...</td>\n",
       "      <td>...</td>\n",
       "      <td>...</td>\n",
       "      <td>...</td>\n",
       "      <td>...</td>\n",
       "      <td>...</td>\n",
       "      <td>...</td>\n",
       "      <td>...</td>\n",
       "      <td>...</td>\n",
       "      <td>...</td>\n",
       "      <td>...</td>\n",
       "      <td>...</td>\n",
       "      <td>...</td>\n",
       "      <td>...</td>\n",
       "      <td>...</td>\n",
       "      <td>...</td>\n",
       "      <td>...</td>\n",
       "      <td>...</td>\n",
       "      <td>...</td>\n",
       "      <td>...</td>\n",
       "      <td>...</td>\n",
       "    </tr>\n",
       "    <tr>\n",
       "      <th>4289</th>\n",
       "      <td>남</td>\n",
       "      <td>30</td>\n",
       "      <td>전문가 및 관련 종사자</td>\n",
       "      <td>1년</td>\n",
       "      <td>44180</td>\n",
       "      <td>44825</td>\n",
       "      <td>44150</td>\n",
       "      <td>자연 선호(중)</td>\n",
       "      <td>자연 선호(중)</td>\n",
       "      <td>자연 선호(중)</td>\n",
       "      <td>중립</td>\n",
       "      <td>도시 선호(중)</td>\n",
       "      <td>중립</td>\n",
       "      <td>자연 선호(중)</td>\n",
       "      <td>중립</td>\n",
       "      <td>세종특별자치시</td>\n",
       "      <td>충북</td>\n",
       "      <td>자녀 동반 여행</td>\n",
       "      <td>새로운 경험 추구</td>\n",
       "      <td>3</td>\n",
       "      <td>g_g012655</td>\n",
       "      <td>배우자</td>\n",
       "      <td>여자</td>\n",
       "      <td>30대</td>\n",
       "      <td>테마파크, 놀이시설, 동/식물원 방문;SNS 인생샷 여행;시티투어;지역 문화예술/공...</td>\n",
       "      <td>2023-09-23</td>\n",
       "      <td>2023-09-24</td>\n",
       "      <td>테마파크, 놀이시설, 동/식물원 방문;시티투어;Well-ness 여행</td>\n",
       "      <td>NaN</td>\n",
       "      <td>NaN</td>\n",
       "      <td>[체험 활동 / 입장 및 관람]</td>\n",
       "      <td>127,930.00</td>\n",
       "    </tr>\n",
       "    <tr>\n",
       "      <th>4290</th>\n",
       "      <td>남</td>\n",
       "      <td>30</td>\n",
       "      <td>전문가 및 관련 종사자</td>\n",
       "      <td>1년</td>\n",
       "      <td>44180</td>\n",
       "      <td>44825</td>\n",
       "      <td>44150</td>\n",
       "      <td>자연 선호(중)</td>\n",
       "      <td>자연 선호(중)</td>\n",
       "      <td>자연 선호(중)</td>\n",
       "      <td>중립</td>\n",
       "      <td>도시 선호(중)</td>\n",
       "      <td>중립</td>\n",
       "      <td>자연 선호(중)</td>\n",
       "      <td>중립</td>\n",
       "      <td>세종특별자치시</td>\n",
       "      <td>충북</td>\n",
       "      <td>자녀 동반 여행</td>\n",
       "      <td>새로운 경험 추구</td>\n",
       "      <td>3</td>\n",
       "      <td>g_g012655</td>\n",
       "      <td>자녀</td>\n",
       "      <td>남자</td>\n",
       "      <td>~9세이하</td>\n",
       "      <td>테마파크, 놀이시설, 동/식물원 방문;SNS 인생샷 여행;시티투어;지역 문화예술/공...</td>\n",
       "      <td>2023-09-23</td>\n",
       "      <td>2023-09-24</td>\n",
       "      <td>테마파크, 놀이시설, 동/식물원 방문;시티투어;Well-ness 여행</td>\n",
       "      <td>NaN</td>\n",
       "      <td>NaN</td>\n",
       "      <td>[체험 활동 / 입장 및 관람]</td>\n",
       "      <td>127,930.00</td>\n",
       "    </tr>\n",
       "    <tr>\n",
       "      <th>4291</th>\n",
       "      <td>남</td>\n",
       "      <td>30</td>\n",
       "      <td>전문가 및 관련 종사자</td>\n",
       "      <td>1년</td>\n",
       "      <td>44180</td>\n",
       "      <td>44825</td>\n",
       "      <td>44150</td>\n",
       "      <td>자연 선호(중)</td>\n",
       "      <td>자연 선호(중)</td>\n",
       "      <td>자연 선호(중)</td>\n",
       "      <td>중립</td>\n",
       "      <td>도시 선호(중)</td>\n",
       "      <td>중립</td>\n",
       "      <td>자연 선호(중)</td>\n",
       "      <td>중립</td>\n",
       "      <td>세종특별자치시</td>\n",
       "      <td>충북</td>\n",
       "      <td>자녀 동반 여행</td>\n",
       "      <td>새로운 경험 추구</td>\n",
       "      <td>3</td>\n",
       "      <td>g_g012655</td>\n",
       "      <td>자녀</td>\n",
       "      <td>남자</td>\n",
       "      <td>~9세이하</td>\n",
       "      <td>테마파크, 놀이시설, 동/식물원 방문;SNS 인생샷 여행;시티투어;지역 문화예술/공...</td>\n",
       "      <td>2023-09-23</td>\n",
       "      <td>2023-09-24</td>\n",
       "      <td>테마파크, 놀이시설, 동/식물원 방문;시티투어;Well-ness 여행</td>\n",
       "      <td>NaN</td>\n",
       "      <td>NaN</td>\n",
       "      <td>[체험 활동 / 입장 및 관람]</td>\n",
       "      <td>127,930.00</td>\n",
       "    </tr>\n",
       "    <tr>\n",
       "      <th>4292</th>\n",
       "      <td>남</td>\n",
       "      <td>20</td>\n",
       "      <td>학생</td>\n",
       "      <td>1년</td>\n",
       "      <td>50130</td>\n",
       "      <td>47130</td>\n",
       "      <td>26500</td>\n",
       "      <td>도시 선호(약)</td>\n",
       "      <td>자연 선호(중)</td>\n",
       "      <td>자연 선호(중)</td>\n",
       "      <td>중립</td>\n",
       "      <td>도시 선호(중)</td>\n",
       "      <td>중립</td>\n",
       "      <td>자연 선호(중)</td>\n",
       "      <td>도시 선호(중)</td>\n",
       "      <td>서울특별시</td>\n",
       "      <td>대전</td>\n",
       "      <td>2인 여행(가족 외)</td>\n",
       "      <td>새로운 경험 추구</td>\n",
       "      <td>1</td>\n",
       "      <td>g_g012604</td>\n",
       "      <td>친구</td>\n",
       "      <td>여자</td>\n",
       "      <td>20대</td>\n",
       "      <td>쇼핑;온천/스파;Well-ness 여행;SNS 인생샷 여행;유흥/오락(나이트라이프)</td>\n",
       "      <td>2023-09-16</td>\n",
       "      <td>2023-09-17</td>\n",
       "      <td>쇼핑;온천/스파;인플루언서 따라하기 여행</td>\n",
       "      <td>[버스 + 지하철]</td>\n",
       "      <td>15,350.00</td>\n",
       "      <td>[취식, 환승/경유]</td>\n",
       "      <td>183,400.00</td>\n",
       "    </tr>\n",
       "    <tr>\n",
       "      <th>4293</th>\n",
       "      <td>여</td>\n",
       "      <td>20</td>\n",
       "      <td>학생</td>\n",
       "      <td>1년</td>\n",
       "      <td>26500</td>\n",
       "      <td>11110</td>\n",
       "      <td>50130</td>\n",
       "      <td>도시 선호(약)</td>\n",
       "      <td>자연 선호(약)</td>\n",
       "      <td>자연 선호(중)</td>\n",
       "      <td>중립</td>\n",
       "      <td>자연 선호(중)</td>\n",
       "      <td>도시 선호(중)</td>\n",
       "      <td>도시 선호(중)</td>\n",
       "      <td>자연 선호(중)</td>\n",
       "      <td>대전광역시</td>\n",
       "      <td>전북</td>\n",
       "      <td>2인 가족 여행</td>\n",
       "      <td>쉴 수 있는 기회, 육체 피로 해결 및 정신적인 휴식</td>\n",
       "      <td>1</td>\n",
       "      <td>g_g006402</td>\n",
       "      <td>부모</td>\n",
       "      <td>여자</td>\n",
       "      <td>50대</td>\n",
       "      <td>쇼핑;시티투어;지역 문화예술/공연/전시시설 관람</td>\n",
       "      <td>2023-08-15</td>\n",
       "      <td>2023-08-16</td>\n",
       "      <td>역사 유적지 방문;시티투어;쇼핑</td>\n",
       "      <td>[자가용(승용/승합/트럭 등등)]</td>\n",
       "      <td>41,220.00</td>\n",
       "      <td>[쇼핑 / 구매]</td>\n",
       "      <td>150,300.00</td>\n",
       "    </tr>\n",
       "  </tbody>\n",
       "</table>\n",
       "<p>4294 rows × 32 columns</p>\n",
       "</div>"
      ],
      "text/plain": [
       "     GENDER  AGE_GRP        JOB_NM TRAVEL_TERM  TRAVEL_LIKE_SGG_1  TRAVEL_LIKE_SGG_2  TRAVEL_LIKE_SGG_3 TRAVEL_STYL_1 TRAVEL_STYL_2 TRAVEL_STYL_3 TRAVEL_STYL_4 TRAVEL_STYL_5 TRAVEL_STYL_6 TRAVEL_STYL_7 TRAVEL_STYL_8 TRAVEL_STATUS_RESIDENCE TRAVEL_STATUS_DESTINATION TRAVEL_STATUS_ACCOMPANY                  TRAVEL_MOTIVE  TRAVEL_COMPANIONS_NUM  TRAVEL_ID REL_CD COMPANION_GENDER COMPANION_AGE_GRP                                     TRAVEL_PURPOSE TRAVEL_START_YMD TRAVEL_END_YMD                    TRAVEL_MISSION_CHECK     MAJOR_TRANSPORT  TOTAL_MVMN_WON MAJOR_ACTIVITY_TYPE  TOTAL_ACTIVITY_WON\n",
       "0         여       20            학생          1년              50130              50110              26500      자연 선호(강)      자연 선호(강)      자연 선호(강)      자연 선호(약)      자연 선호(약)      자연 선호(중)      도시 선호(중)      도시 선호(중)                   광주광역시                        전남             2인 여행(가족 외)     일상적인 환경 및 역할에서의 탈출, 지루함 탈피                      1  g_g002178     연인               남자               20대                                 쇼핑;SNS 인생샷 여행;시티투어       2023-06-14     2023-06-16                      시티투어;쇼핑;SNS 인생샷 여행  [자가용(승용/승합/트럭 등등)]       10,000.00                [휴식]           71,700.00\n",
       "1         남       40  전문가 및 관련 종사자          한달              48840              48220              26500      자연 선호(강)      자연 선호(강)      자연 선호(약)      도시 선호(중)            중립      자연 선호(중)      도시 선호(강)      도시 선호(강)                   대전광역시                        전북             2인 여행(가족 외)     일상적인 환경 및 역할에서의 탈출, 지루함 탈피                      1  g_g004485     연인               남자               30대  쇼핑;역사 유적지 방문;역사 유적지 방문;지역 문화예술/공연/전시시설 관람;유흥/오...       2023-07-28     2023-07-30         쇼핑;역사 유적지 방문;지역 문화예술/공연/전시시설 관람  [자가용(승용/승합/트럭 등등)]       32,600.00   [체험 활동 / 입장 및 관람]          273,800.00\n",
       "2         남       20           관리자          1년              46710              45190              47170      자연 선호(중)      자연 선호(약)      자연 선호(강)            중립      도시 선호(중)      자연 선호(약)      자연 선호(강)      도시 선호(강)                   서울특별시                        전남             2인 여행(가족 외)                      새로운 경험 추구                      1  g_g005167     연인               여자               20대  테마파크, 놀이시설, 동/식물원 방문;Well-ness 여행;SNS 인생샷 여행;신...       2023-09-07     2023-09-10          SNS 인생샷 여행;신규 여행지 발굴;역사 유적지 방문  [자가용(승용/승합/트럭 등등)]      138,400.00                [취식]          450,200.00\n",
       "3         여       30        사무 종사자          한달              42150              42210              28710      자연 선호(중)      자연 선호(중)      자연 선호(약)      자연 선호(중)      자연 선호(약)      도시 선호(약)      자연 선호(중)      도시 선호(중)                   인천광역시                        대전             2인 여행(가족 외)  쉴 수 있는 기회, 육체 피로 해결 및 정신적인 휴식                      1  g_g002887    배우자               여자               30대             쇼핑;시티투어;지역 축제/이벤트 참가;SNS 인생샷 여행;호캉스 여행       2023-07-01     2023-07-03                  쇼핑;지역 축제/이벤트 참가;호캉스 여행  [자가용(승용/승합/트럭 등등)]       70,000.00       [쇼핑 / 구매, 취식]          119,100.00\n",
       "4         남       20       서비스 종사자          한달              42150              50110              26350      자연 선호(중)      자연 선호(강)      자연 선호(중)            중립      도시 선호(중)      도시 선호(약)      도시 선호(중)      도시 선호(약)                     경기도                        충남             2인 여행(가족 외)  쉴 수 있는 기회, 육체 피로 해결 및 정신적인 휴식                      1  g_g004189     연인               남자               20대            SNS 인생샷 여행;야외 스포츠, 레포츠 활동;유흥/오락(나이트라이프)       2023-07-18     2023-07-20  Well-ness 여행;야외 스포츠, 레포츠 활동;SNS 인생샷 여행  [자가용(승용/승합/트럭 등등)]       52,083.00                [취식]          120,450.00\n",
       "...     ...      ...           ...         ...                ...                ...                ...           ...           ...           ...           ...           ...           ...           ...           ...                     ...                       ...                     ...                            ...                    ...        ...    ...              ...               ...                                                ...              ...            ...                                     ...                 ...             ...                 ...                 ...\n",
       "4289      남       30  전문가 및 관련 종사자          1년              44180              44825              44150      자연 선호(중)      자연 선호(중)      자연 선호(중)            중립      도시 선호(중)            중립      자연 선호(중)            중립                 세종특별자치시                        충북                자녀 동반 여행                      새로운 경험 추구                      3  g_g012655    배우자               여자               30대  테마파크, 놀이시설, 동/식물원 방문;SNS 인생샷 여행;시티투어;지역 문화예술/공...       2023-09-23     2023-09-24  테마파크, 놀이시설, 동/식물원 방문;시티투어;Well-ness 여행                 NaN             NaN   [체험 활동 / 입장 및 관람]          127,930.00\n",
       "4290      남       30  전문가 및 관련 종사자          1년              44180              44825              44150      자연 선호(중)      자연 선호(중)      자연 선호(중)            중립      도시 선호(중)            중립      자연 선호(중)            중립                 세종특별자치시                        충북                자녀 동반 여행                      새로운 경험 추구                      3  g_g012655     자녀               남자             ~9세이하  테마파크, 놀이시설, 동/식물원 방문;SNS 인생샷 여행;시티투어;지역 문화예술/공...       2023-09-23     2023-09-24  테마파크, 놀이시설, 동/식물원 방문;시티투어;Well-ness 여행                 NaN             NaN   [체험 활동 / 입장 및 관람]          127,930.00\n",
       "4291      남       30  전문가 및 관련 종사자          1년              44180              44825              44150      자연 선호(중)      자연 선호(중)      자연 선호(중)            중립      도시 선호(중)            중립      자연 선호(중)            중립                 세종특별자치시                        충북                자녀 동반 여행                      새로운 경험 추구                      3  g_g012655     자녀               남자             ~9세이하  테마파크, 놀이시설, 동/식물원 방문;SNS 인생샷 여행;시티투어;지역 문화예술/공...       2023-09-23     2023-09-24  테마파크, 놀이시설, 동/식물원 방문;시티투어;Well-ness 여행                 NaN             NaN   [체험 활동 / 입장 및 관람]          127,930.00\n",
       "4292      남       20            학생          1년              50130              47130              26500      도시 선호(약)      자연 선호(중)      자연 선호(중)            중립      도시 선호(중)            중립      자연 선호(중)      도시 선호(중)                   서울특별시                        대전             2인 여행(가족 외)                      새로운 경험 추구                      1  g_g012604     친구               여자               20대     쇼핑;온천/스파;Well-ness 여행;SNS 인생샷 여행;유흥/오락(나이트라이프)       2023-09-16     2023-09-17                  쇼핑;온천/스파;인플루언서 따라하기 여행          [버스 + 지하철]       15,350.00         [취식, 환승/경유]          183,400.00\n",
       "4293      여       20            학생          1년              26500              11110              50130      도시 선호(약)      자연 선호(약)      자연 선호(중)            중립      자연 선호(중)      도시 선호(중)      도시 선호(중)      자연 선호(중)                   대전광역시                        전북                2인 가족 여행  쉴 수 있는 기회, 육체 피로 해결 및 정신적인 휴식                      1  g_g006402     부모               여자               50대                         쇼핑;시티투어;지역 문화예술/공연/전시시설 관람       2023-08-15     2023-08-16                       역사 유적지 방문;시티투어;쇼핑  [자가용(승용/승합/트럭 등등)]       41,220.00           [쇼핑 / 구매]          150,300.00\n",
       "\n",
       "[4294 rows x 32 columns]"
      ]
     },
     "execution_count": 2277,
     "metadata": {},
     "output_type": "execute_result"
    }
   ],
   "source": [
    "# 숙박소비내역.csv, 사전소비내역.csv 제외하고 merge\n",
    "# 첫 번째 merge\n",
    "travel_log = pd.merge(traveller_master, companion_info, on='TRAVEL_ID', how='left')\n",
    "# 두 번째 merge\n",
    "travel_log = pd.merge(travel_log, travel, on='TRAVEL_ID', how='left')\n",
    "# 세 번째 merge\n",
    "travel_log = pd.merge(travel_log, mvmn_consume_new, on='TRAVEL_ID', how='left')\n",
    "# 네 번째 merge\n",
    "travel_log = pd.merge(travel_log, activity_new, on='TRAVEL_ID', how='left')\n",
    "# 다섯 번째 merge\n",
    "travel_log = pd.merge(travel_log, activity_consume_new, on='TRAVEL_ID', how='left')\n",
    "\n",
    "# 결과 확인\n",
    "travel_log"
   ]
  },
  {
   "cell_type": "markdown",
   "metadata": {},
   "source": [
    "1. 이상치 확인 - 총소비액 변수들 이상치 확인"
   ]
  },
  {
   "cell_type": "markdown",
   "metadata": {},
   "source": [
    "<1> TOTAL_MVMN_WON"
   ]
  },
  {
   "cell_type": "code",
   "execution_count": 2278,
   "metadata": {},
   "outputs": [
    {
     "data": {
      "image/png": "[encoded data removed]",
      "text/plain": [
       "<Figure size 1000x600 with 1 Axes>"
      ]
     },
     "metadata": {},
     "output_type": "display_data"
    }
   ],
   "source": [
    "# Boxplot 그리기\n",
    "plt.figure(figsize=(10, 6))\n",
    "sns.boxplot(data=travel_log, x='TOTAL_MVMN_WON')\n",
    "plt.title('TOTAL_MVMN_WON의 Boxplot')\n",
    "plt.xlabel('TOTAL_MVMN_WON')\n",
    "plt.show()"
   ]
  },
  {
   "cell_type": "markdown",
   "metadata": {},
   "source": [
    "> BOXPLOT의 이상치 기준인 1.5IQR을 넘어서는 수치는 많지만, 해당 수치들은 대부분 모여 있으며 분석에 필요한 데이터들이므로, 600000 이상의 데이터만 제거하기로 결정함"
   ]
  },
  {
   "cell_type": "code",
   "execution_count": 2279,
   "metadata": {},
   "outputs": [
    {
     "data": {
      "image/png": "[encoded data removed]",
      "text/plain": [
       "<Figure size 1000x600 with 1 Axes>"
      ]
     },
     "metadata": {},
     "output_type": "display_data"
    }
   ],
   "source": [
    "# 'TOTAL_MVMN_WON' 값이 600,000을 넘는 행을 제거\n",
    "travel_log = travel_log[travel_log['TOTAL_MVMN_WON'] <= 600000]\n",
    "\n",
    "# Boxplot 그리기\n",
    "plt.figure(figsize=(10, 6))\n",
    "sns.boxplot(data=travel_log, x='TOTAL_MVMN_WON')\n",
    "plt.title('TOTAL_MVMN_WON의 Boxplot')\n",
    "plt.xlabel('TOTAL_MVMN_WON')\n",
    "plt.show()\n"
   ]
  },
  {
   "cell_type": "markdown",
   "metadata": {},
   "source": [
    "<2> TOTAL_ACTIVITY_WON"
   ]
  },
  {
   "cell_type": "code",
   "execution_count": 2280,
   "metadata": {},
   "outputs": [
    {
     "data": {
      "image/png": "[encoded data removed]",
      "text/plain": [
       "<Figure size 1000x600 with 1 Axes>"
      ]
     },
     "metadata": {},
     "output_type": "display_data"
    }
   ],
   "source": [
    "# Boxplot 그리기\n",
    "plt.figure(figsize=(10, 6))\n",
    "sns.boxplot(data=travel_log, x='TOTAL_ACTIVITY_WON')\n",
    "plt.title('TOTAL_ACTIVITY_WON의 Boxplot')\n",
    "plt.xlabel('TOTAL_ACTIVITY_WON')\n",
    "plt.show()"
   ]
  },
  {
   "cell_type": "markdown",
   "metadata": {},
   "source": [
    "> BOXPLOT의 이상치 기준인 1.5IQR을 넘어서는 수치는 많지만, 해당 수치들은 대부분 모여 있으며 분석에 필요한 데이터들이므로, 현재 x축 단위인 1e6 기준으로 1.5 이상의 데이터만 제거하기로 결정함"
   ]
  },
  {
   "cell_type": "code",
   "execution_count": 2281,
   "metadata": {},
   "outputs": [
    {
     "name": "stderr",
     "output_type": "stream",
     "text": [
      "C:\\Users\\kimbomi\\AppData\\Local\\Temp\\ipykernel_15140\\469682411.py:2: SettingWithCopyWarning: \n",
      "A value is trying to be set on a copy of a slice from a DataFrame.\n",
      "Try using .loc[row_indexer,col_indexer] = value instead\n",
      "\n",
      "See the caveats in the documentation: https://pandas.pydata.org/pandas-docs/stable/user_guide/indexing.html#returning-a-view-versus-a-copy\n",
      "  travel_log['TOTAL_ACTIVITY_WON'] = travel_log['TOTAL_ACTIVITY_WON'] / 1e6\n"
     ]
    },
    {
     "data": {
      "image/png": "[encoded data removed]",
      "text/plain": [
       "<Figure size 1000x600 with 1 Axes>"
      ]
     },
     "metadata": {},
     "output_type": "display_data"
    }
   ],
   "source": [
    "# 'TOTAL_ACTIVITY_WON' 값을 1,000,000으로 나누어 백만 단위로 변환\n",
    "travel_log['TOTAL_ACTIVITY_WON'] = travel_log['TOTAL_ACTIVITY_WON'] / 1e6\n",
    "\n",
    "# 4 이상인 값을 제거\n",
    "travel_log = travel_log[travel_log['TOTAL_ACTIVITY_WON'] < 1.5]\n",
    "\n",
    "# Boxplot 그리기\n",
    "plt.figure(figsize=(10, 6))\n",
    "sns.boxplot(data=travel_log, x='TOTAL_ACTIVITY_WON')\n",
    "plt.title('TOTAL_ACTIVITY_WON의 Boxplot')\n",
    "plt.xlabel('TOTAL_ACTIVITY_WON')\n",
    "plt.show()\n"
   ]
  },
  {
   "cell_type": "markdown",
   "metadata": {},
   "source": [
    "2. 결측치 처리 - 동반자정보 관련 변수인 REL_CD, COMPANION_GENDER, COMPANION_AGE_GRP 발생 이유 분석 위해 '나홀로 여행'인지 검증"
   ]
  },
  {
   "cell_type": "code",
   "execution_count": 2282,
   "metadata": {},
   "outputs": [
    {
     "name": "stdout",
     "output_type": "stream",
     "text": [
      "REL_CD가 결측치이고, TRAVEL_STATUS_ACCOMPANY가 '나홀로 여행'인 데이터의 개수: 452\n"
     ]
    }
   ],
   "source": [
    "# REL_CD가 결측치이고, TRAVEL_STATUS_ACCOMPANY가 '나홀로 여행'인 데이터 필터링\n",
    "missing_rel_cd_and_solotravel = travel_log[(travel_log['REL_CD'].isnull()) & (travel_log['TRAVEL_STATUS_ACCOMPANY'] == '나홀로 여행')]\n",
    "\n",
    "# 해당 데이터의 개수\n",
    "count = missing_rel_cd_and_solotravel.shape[0]\n",
    "\n",
    "print(f\"REL_CD가 결측치이고, TRAVEL_STATUS_ACCOMPANY가 '나홀로 여행'인 데이터의 개수: {count}\")"
   ]
  },
  {
   "cell_type": "code",
   "execution_count": 2283,
   "metadata": {},
   "outputs": [
    {
     "name": "stdout",
     "output_type": "stream",
     "text": [
      "     GENDER  AGE_GRP        JOB_NM TRAVEL_TERM  TRAVEL_LIKE_SGG_1  TRAVEL_LIKE_SGG_2  TRAVEL_LIKE_SGG_3 TRAVEL_STYL_1 TRAVEL_STYL_2 TRAVEL_STYL_3 TRAVEL_STYL_4 TRAVEL_STYL_5 TRAVEL_STYL_6 TRAVEL_STYL_7 TRAVEL_STYL_8 TRAVEL_STATUS_RESIDENCE TRAVEL_STATUS_DESTINATION TRAVEL_STATUS_ACCOMPANY               TRAVEL_MOTIVE  TRAVEL_COMPANIONS_NUM  TRAVEL_ID REL_CD COMPANION_GENDER COMPANION_AGE_GRP                               TRAVEL_PURPOSE TRAVEL_START_YMD TRAVEL_END_YMD                       TRAVEL_MISSION_CHECK     MAJOR_TRANSPORT  TOTAL_MVMN_WON    MAJOR_ACTIVITY_TYPE  TOTAL_ACTIVITY_WON\n",
      "1621      여       30  전문가 및 관련 종사자          1년              26200              46130              42150            중립            중립      도시 선호(중)      도시 선호(중)            중립      자연 선호(약)      도시 선호(중)      자연 선호(강)                    전라북도                        전남                자녀 동반 여행  일상적인 환경 및 역할에서의 탈출, 지루함 탈피                      2  g_g009362    NaN              NaN               NaN     SNS 인생샷 여행;친환경 여행(플로깅 여행);역사 유적지 방문;시티투어       2023-08-27     2023-08-28  역사 유적지 방문;지역 문화예술/공연/전시시설 관람;Well-ness 여행  [자가용(승용/승합/트럭 등등)]       30,000.00      [단순 구경 / 산책 / 걷기]                0.06\n",
      "3021      여       50  전문가 및 관련 종사자          1년              46710              45110              11170            중립      도시 선호(중)      도시 선호(중)      자연 선호(약)      자연 선호(중)      도시 선호(중)      자연 선호(중)            중립                   광주광역시                        전남             2인 여행(가족 외)  일상적인 환경 및 역할에서의 탈출, 지루함 탈피                      1  g_g011722    NaN              NaN               NaN  쇼핑;Well-ness 여행;친환경 여행(플로깅 여행);지역 축제/이벤트 참가       2023-09-30     2023-10-01            지역 문화예술/공연/전시시설 관람;역사 유적지 방문;쇼핑  [자가용(승용/승합/트럭 등등)]       60,000.00  [체험 활동 / 입장 및 관람, 취식]                0.14\n"
     ]
    }
   ],
   "source": [
    "# REL_CD가 결측치이고, TRAVEL_STATUS_ACCOMPANY가 '나홀로 여행'이 아닌 데이터 필터링\n",
    "filtered_data = travel_log[travel_log['REL_CD'].isnull() & (travel_log['TRAVEL_STATUS_ACCOMPANY'] != '나홀로 여행')]\n",
    "\n",
    "# 결과 출력\n",
    "print(filtered_data)"
   ]
  },
  {
   "cell_type": "code",
   "execution_count": 2284,
   "metadata": {},
   "outputs": [
    {
     "name": "stdout",
     "output_type": "stream",
     "text": [
      "REL_CD               0\n",
      "COMPANION_GENDER     0\n",
      "COMPANION_AGE_GRP    0\n",
      "dtype: int64\n"
     ]
    }
   ],
   "source": [
    "# '나홀로 여행'인 경우 동반자 정보 결측치를 처리\n",
    "travel_log.loc[\n",
    "    (travel_log['REL_CD'].isnull()) & (travel_log['TRAVEL_STATUS_ACCOMPANY'] == '나홀로 여행'), \n",
    "    ['REL_CD', 'COMPANION_GENDER', 'COMPANION_AGE_GRP']\n",
    "] = ['없음', '없음', '없음']\n",
    "\n",
    "# '나홀로 여행'이 아닌 경우 해당 행 삭제\n",
    "travel_log = travel_log.drop(\n",
    "    travel_log[(travel_log['REL_CD'].isnull()) & (travel_log['TRAVEL_STATUS_ACCOMPANY'] != '나홀로 여행')].index\n",
    ")\n",
    "\n",
    "# 결과 확인\n",
    "null_status = travel_log[['REL_CD', 'COMPANION_GENDER', 'COMPANION_AGE_GRP']].isnull().sum()\n",
    "print(null_status)"
   ]
  },
  {
   "cell_type": "markdown",
   "metadata": {},
   "source": [
    "3. 결측치 처리 - MAJOR_TRANSPORT의 결측치는 없음으로, TOTAL_MVMN_WON의 결측치는 현재 TOTAL_MVMN_WON의 평균값으로 대체"
   ]
  },
  {
   "cell_type": "code",
   "execution_count": 2285,
   "metadata": {},
   "outputs": [
    {
     "name": "stdout",
     "output_type": "stream",
     "text": [
      "MAJOR_TRANSPORT    0\n",
      "TOTAL_MVMN_WON     0\n",
      "dtype: int64\n"
     ]
    }
   ],
   "source": [
    "# MAJOR_TRANSPORT 결측치 처리\n",
    "travel_log['MAJOR_TRANSPORT'].fillna('없음', inplace=True)\n",
    "\n",
    "# TOTAL_MVMN_WON 결측치 처리\n",
    "mean_total_mvmn_won = travel_log['TOTAL_MVMN_WON'].mean()\n",
    "travel_log['TOTAL_MVMN_WON'].fillna(mean_total_mvmn_won, inplace=True)\n",
    "\n",
    "# 결측치 처리 후 데이터 상태 확인\n",
    "null_status = travel_log[['MAJOR_TRANSPORT', 'TOTAL_MVMN_WON']].isnull().sum()\n",
    "print(null_status)"
   ]
  },
  {
   "cell_type": "markdown",
   "metadata": {},
   "source": [
    "4. 결측치 처리 - TOTAL_ACTIVITY_WON의 결측치를 현재 TOTAL_ACTIVITY_WON의 평균값으로 대체"
   ]
  },
  {
   "cell_type": "code",
   "execution_count": 2286,
   "metadata": {},
   "outputs": [
    {
     "name": "stdout",
     "output_type": "stream",
     "text": [
      "0\n"
     ]
    }
   ],
   "source": [
    "# TOTAL_ACTIVITY_WON 결측치의 평균값 계산\n",
    "mean_total_activity_won = travel_log['TOTAL_ACTIVITY_WON'].mean()\n",
    "\n",
    "# 결측치를 평균값으로 대체\n",
    "travel_log['TOTAL_ACTIVITY_WON'].fillna(mean_total_activity_won, inplace=True)\n",
    "\n",
    "# 결측치 처리 후 데이터 상태 확인\n",
    "null_status_activity = travel_log['TOTAL_ACTIVITY_WON'].isnull().sum()\n",
    "print(null_status_activity)"
   ]
  },
  {
   "cell_type": "markdown",
   "metadata": {},
   "source": [
    "5. 이후 추가 분석시 사용하기 위해 이동수단총소비액과 활동총소비액을 합친 총소비액 파생변수 추가"
   ]
  },
  {
   "cell_type": "code",
   "execution_count": 2287,
   "metadata": {},
   "outputs": [
    {
     "name": "stdout",
     "output_type": "stream",
     "text": [
      "   TOTAL_MVMN_WON  TOTAL_ACTIVITY_WON  TOTAL_WON\n",
      "0       10,000.00                0.07  10,000.07\n",
      "1       32,600.00                0.27  32,600.27\n",
      "2      138,400.00                0.45 138,400.45\n",
      "3       70,000.00                0.12  70,000.12\n",
      "4       52,083.00                0.12  52,083.12\n"
     ]
    }
   ],
   "source": [
    "# TOTAL_WON 파생변수 추가\n",
    "travel_log['TOTAL_WON'] = travel_log['TOTAL_MVMN_WON'] + travel_log['TOTAL_ACTIVITY_WON']\n",
    "\n",
    "# 결과 확인\n",
    "print(travel_log[['TOTAL_MVMN_WON', 'TOTAL_ACTIVITY_WON', 'TOTAL_WON']].head())"
   ]
  },
  {
   "cell_type": "markdown",
   "metadata": {},
   "source": [
    "6. 이후 추가 분석시 사용하기 위해 여행 기간 파생변수 추가"
   ]
  },
  {
   "cell_type": "code",
   "execution_count": 2288,
   "metadata": {},
   "outputs": [
    {
     "name": "stdout",
     "output_type": "stream",
     "text": [
      "   TRAVEL_START_YMD TRAVEL_END_YMD  TRAVEL_DURATION\n",
      "0        2023-06-14     2023-06-16                2\n",
      "1        2023-07-28     2023-07-30                2\n",
      "2        2023-09-07     2023-09-10                3\n",
      "3        2023-07-01     2023-07-03                2\n",
      "4        2023-07-18     2023-07-20                2\n",
      "5        2023-08-30     2023-08-31                1\n",
      "6        2023-08-30     2023-08-31                1\n",
      "7        2023-08-30     2023-08-31                1\n",
      "8        2023-08-30     2023-08-31                1\n",
      "9        2023-06-04     2023-06-07                3\n",
      "10       2023-06-04     2023-06-07                3\n",
      "11       2023-06-04     2023-06-07                3\n",
      "12       2023-08-19     2023-08-20                1\n",
      "13       2023-08-19     2023-08-20                1\n",
      "14       2023-08-19     2023-08-20                1\n",
      "15       2023-08-20     2023-08-22                2\n",
      "16       2023-09-28     2023-09-29                1\n",
      "17       2023-06-16     2023-06-18                2\n",
      "18       2023-05-27     2023-05-30                3\n",
      "19       2023-05-27     2023-05-30                3\n",
      "20       2023-05-27     2023-05-30                3\n",
      "21       2023-05-27     2023-05-30                3\n",
      "22       2023-05-27     2023-05-30                3\n",
      "23       2023-05-27     2023-05-30                3\n",
      "24       2023-05-27     2023-05-30                3\n",
      "25       2023-07-09     2023-07-10                1\n",
      "26       2023-07-09     2023-07-10                1\n",
      "27       2023-07-09     2023-07-10                1\n",
      "28       2023-07-09     2023-07-10                1\n",
      "29       2023-07-09     2023-07-10                1\n",
      "30       2023-07-09     2023-07-10                1\n",
      "31       2023-07-09     2023-07-10                1\n",
      "32       2023-07-09     2023-07-10                1\n",
      "33       2023-07-09     2023-07-10                1\n",
      "34       2023-06-16     2023-06-18                2\n",
      "35       2023-05-27     2023-05-30                3\n",
      "36       2023-05-27     2023-05-30                3\n",
      "38       2023-08-20     2023-08-22                2\n",
      "39       2023-07-01     2023-07-03                2\n",
      "40       2023-08-14     2023-08-15                1\n",
      "41       2023-08-19     2023-08-21                2\n",
      "42       2023-09-23     2023-09-24                1\n",
      "43       2023-09-23     2023-09-24                1\n",
      "44       2023-09-17     2023-09-18                1\n",
      "45       2023-08-05     2023-08-07                2\n",
      "46       2023-08-05     2023-08-07                2\n",
      "47       2023-08-05     2023-08-07                2\n",
      "48       2023-08-05     2023-08-07                2\n",
      "49       2023-08-05     2023-08-07                2\n",
      "50       2023-08-15     2023-08-16                1\n"
     ]
    }
   ],
   "source": [
    "# 날짜 변환\n",
    "travel_log['TRAVEL_START_YMD'] = pd.to_datetime(travel_log['TRAVEL_START_YMD'])\n",
    "travel_log['TRAVEL_END_YMD'] = pd.to_datetime(travel_log['TRAVEL_END_YMD'])\n",
    "\n",
    "# 여행 기간 계산\n",
    "travel_log['TRAVEL_DURATION'] = (travel_log['TRAVEL_END_YMD'] - travel_log['TRAVEL_START_YMD']).dt.days\n",
    "\n",
    "# 결과 확인\n",
    "print(travel_log[['TRAVEL_START_YMD', 'TRAVEL_END_YMD', 'TRAVEL_DURATION']].head(50))"
   ]
  },
  {
   "cell_type": "markdown",
   "metadata": {},
   "source": [
    "7. 이후 추가 분석시 사용하기 위해 여행 계절 파생변수 추가"
   ]
  },
  {
   "cell_type": "code",
   "execution_count": 2289,
   "metadata": {},
   "outputs": [
    {
     "name": "stdout",
     "output_type": "stream",
     "text": [
      "   TRAVEL_START_YMD TRAVEL_END_YMD  TRAVEL_DURATION  SEASON\n",
      "0        2023-06-14     2023-06-16                2  Summer\n",
      "1        2023-07-28     2023-07-30                2  Summer\n",
      "2        2023-09-07     2023-09-10                3  Autumn\n",
      "3        2023-07-01     2023-07-03                2  Summer\n",
      "4        2023-07-18     2023-07-20                2  Summer\n",
      "5        2023-08-30     2023-08-31                1  Summer\n",
      "6        2023-08-30     2023-08-31                1  Summer\n",
      "7        2023-08-30     2023-08-31                1  Summer\n",
      "8        2023-08-30     2023-08-31                1  Summer\n",
      "9        2023-06-04     2023-06-07                3  Summer\n",
      "10       2023-06-04     2023-06-07                3  Summer\n",
      "11       2023-06-04     2023-06-07                3  Summer\n",
      "12       2023-08-19     2023-08-20                1  Summer\n",
      "13       2023-08-19     2023-08-20                1  Summer\n",
      "14       2023-08-19     2023-08-20                1  Summer\n",
      "15       2023-08-20     2023-08-22                2  Summer\n",
      "16       2023-09-28     2023-09-29                1  Autumn\n",
      "17       2023-06-16     2023-06-18                2  Summer\n",
      "18       2023-05-27     2023-05-30                3  Spring\n",
      "19       2023-05-27     2023-05-30                3  Spring\n",
      "20       2023-05-27     2023-05-30                3  Spring\n",
      "21       2023-05-27     2023-05-30                3  Spring\n",
      "22       2023-05-27     2023-05-30                3  Spring\n",
      "23       2023-05-27     2023-05-30                3  Spring\n",
      "24       2023-05-27     2023-05-30                3  Spring\n",
      "25       2023-07-09     2023-07-10                1  Summer\n",
      "26       2023-07-09     2023-07-10                1  Summer\n",
      "27       2023-07-09     2023-07-10                1  Summer\n",
      "28       2023-07-09     2023-07-10                1  Summer\n",
      "29       2023-07-09     2023-07-10                1  Summer\n",
      "30       2023-07-09     2023-07-10                1  Summer\n",
      "31       2023-07-09     2023-07-10                1  Summer\n",
      "32       2023-07-09     2023-07-10                1  Summer\n",
      "33       2023-07-09     2023-07-10                1  Summer\n",
      "34       2023-06-16     2023-06-18                2  Summer\n",
      "35       2023-05-27     2023-05-30                3  Spring\n",
      "36       2023-05-27     2023-05-30                3  Spring\n",
      "38       2023-08-20     2023-08-22                2  Summer\n",
      "39       2023-07-01     2023-07-03                2  Summer\n",
      "40       2023-08-14     2023-08-15                1  Summer\n",
      "41       2023-08-19     2023-08-21                2  Summer\n",
      "42       2023-09-23     2023-09-24                1  Autumn\n",
      "43       2023-09-23     2023-09-24                1  Autumn\n",
      "44       2023-09-17     2023-09-18                1  Autumn\n",
      "45       2023-08-05     2023-08-07                2  Summer\n",
      "46       2023-08-05     2023-08-07                2  Summer\n",
      "47       2023-08-05     2023-08-07                2  Summer\n",
      "48       2023-08-05     2023-08-07                2  Summer\n",
      "49       2023-08-05     2023-08-07                2  Summer\n",
      "50       2023-08-15     2023-08-16                1  Summer\n"
     ]
    }
   ],
   "source": [
    "# 계절별 분류 함수 정의\n",
    "def categorize_season(month):\n",
    "    if month in [3, 4, 5]:\n",
    "        return 'Spring'\n",
    "    elif month in [6, 7, 8]:\n",
    "        return 'Summer'\n",
    "    elif month in [9, 10, 11]:\n",
    "        return 'Autumn'\n",
    "    else:\n",
    "        return 'Winter'\n",
    "\n",
    "# 'TRAVEL_START_YMD'에서 월을 추출하여 계절 분류\n",
    "travel_log['SEASON'] = travel_log['TRAVEL_START_YMD'].dt.month.apply(categorize_season)\n",
    "\n",
    "# 결과 확인\n",
    "print(travel_log[['TRAVEL_START_YMD', 'TRAVEL_END_YMD', 'TRAVEL_DURATION', 'SEASON']].head(50))"
   ]
  },
  {
   "cell_type": "markdown",
   "metadata": {},
   "source": [
    "<h3>3. 전처리 후 확인</h3>"
   ]
  },
  {
   "cell_type": "code",
   "execution_count": 2290,
   "metadata": {},
   "outputs": [
    {
     "name": "stdout",
     "output_type": "stream",
     "text": [
      "merge 데이터의 행, 열 개수 : \n",
      "(3877, 35)\n"
     ]
    }
   ],
   "source": [
    "# 데이터의 행, 열 개수 출력\n",
    "print('merge 데이터의 행, 열 개수 : ')\n",
    "print(travel_log.shape)"
   ]
  },
  {
   "cell_type": "code",
   "execution_count": 2291,
   "metadata": {},
   "outputs": [
    {
     "name": "stdout",
     "output_type": "stream",
     "text": [
      "merge 데이터의 구조와 타입 : \n",
      "<class 'pandas.core.frame.DataFrame'>\n",
      "Index: 3877 entries, 0 to 4293\n",
      "Data columns (total 35 columns):\n",
      " #   Column                     Non-Null Count  Dtype         \n",
      "---  ------                     --------------  -----         \n",
      " 0   GENDER                     3877 non-null   object        \n",
      " 1   AGE_GRP                    3877 non-null   int64         \n",
      " 2   JOB_NM                     3877 non-null   object        \n",
      " 3   TRAVEL_TERM                3877 non-null   object        \n",
      " 4   TRAVEL_LIKE_SGG_1          3877 non-null   int64         \n",
      " 5   TRAVEL_LIKE_SGG_2          3877 non-null   int64         \n",
      " 6   TRAVEL_LIKE_SGG_3          3877 non-null   int64         \n",
      " 7   TRAVEL_STYL_1              3877 non-null   object        \n",
      " 8   TRAVEL_STYL_2              3877 non-null   object        \n",
      " 9   TRAVEL_STYL_3              3877 non-null   object        \n",
      " 10  TRAVEL_STYL_4              3877 non-null   object        \n",
      " 11  TRAVEL_STYL_5              3877 non-null   object        \n",
      " 12  TRAVEL_STYL_6              3877 non-null   object        \n",
      " 13  TRAVEL_STYL_7              3877 non-null   object        \n",
      " 14  TRAVEL_STYL_8              3877 non-null   object        \n",
      " 15  TRAVEL_STATUS_RESIDENCE    3877 non-null   object        \n",
      " 16  TRAVEL_STATUS_DESTINATION  3877 non-null   object        \n",
      " 17  TRAVEL_STATUS_ACCOMPANY    3877 non-null   object        \n",
      " 18  TRAVEL_MOTIVE              3877 non-null   object        \n",
      " 19  TRAVEL_COMPANIONS_NUM      3877 non-null   int64         \n",
      " 20  TRAVEL_ID                  3877 non-null   object        \n",
      " 21  REL_CD                     3877 non-null   object        \n",
      " 22  COMPANION_GENDER           3877 non-null   object        \n",
      " 23  COMPANION_AGE_GRP          3877 non-null   object        \n",
      " 24  TRAVEL_PURPOSE             3877 non-null   object        \n",
      " 25  TRAVEL_START_YMD           3877 non-null   datetime64[ns]\n",
      " 26  TRAVEL_END_YMD             3877 non-null   datetime64[ns]\n",
      " 27  TRAVEL_MISSION_CHECK       3877 non-null   object        \n",
      " 28  MAJOR_TRANSPORT            3877 non-null   object        \n",
      " 29  TOTAL_MVMN_WON             3877 non-null   float64       \n",
      " 30  MAJOR_ACTIVITY_TYPE        3877 non-null   object        \n",
      " 31  TOTAL_ACTIVITY_WON         3877 non-null   float64       \n",
      " 32  TOTAL_WON                  3877 non-null   float64       \n",
      " 33  TRAVEL_DURATION            3877 non-null   int64         \n",
      " 34  SEASON                     3877 non-null   object        \n",
      "dtypes: datetime64[ns](2), float64(3), int64(6), object(24)\n",
      "memory usage: 1.1+ MB\n",
      "None\n"
     ]
    }
   ],
   "source": [
    "# 데이터의 구조와 타입 확인\n",
    "print('merge 데이터의 구조와 타입 : ')\n",
    "print(travel_log.info())"
   ]
  },
  {
   "cell_type": "code",
   "execution_count": 2292,
   "metadata": {},
   "outputs": [
    {
     "name": "stdout",
     "output_type": "stream",
     "text": [
      "merge 데이터.csv의 결측치 : \n",
      "GENDER                       0\n",
      "AGE_GRP                      0\n",
      "JOB_NM                       0\n",
      "TRAVEL_TERM                  0\n",
      "TRAVEL_LIKE_SGG_1            0\n",
      "TRAVEL_LIKE_SGG_2            0\n",
      "TRAVEL_LIKE_SGG_3            0\n",
      "TRAVEL_STYL_1                0\n",
      "TRAVEL_STYL_2                0\n",
      "TRAVEL_STYL_3                0\n",
      "TRAVEL_STYL_4                0\n",
      "TRAVEL_STYL_5                0\n",
      "TRAVEL_STYL_6                0\n",
      "TRAVEL_STYL_7                0\n",
      "TRAVEL_STYL_8                0\n",
      "TRAVEL_STATUS_RESIDENCE      0\n",
      "TRAVEL_STATUS_DESTINATION    0\n",
      "TRAVEL_STATUS_ACCOMPANY      0\n",
      "TRAVEL_MOTIVE                0\n",
      "TRAVEL_COMPANIONS_NUM        0\n",
      "TRAVEL_ID                    0\n",
      "REL_CD                       0\n",
      "COMPANION_GENDER             0\n",
      "COMPANION_AGE_GRP            0\n",
      "TRAVEL_PURPOSE               0\n",
      "TRAVEL_START_YMD             0\n",
      "TRAVEL_END_YMD               0\n",
      "TRAVEL_MISSION_CHECK         0\n",
      "MAJOR_TRANSPORT              0\n",
      "TOTAL_MVMN_WON               0\n",
      "MAJOR_ACTIVITY_TYPE          0\n",
      "TOTAL_ACTIVITY_WON           0\n",
      "TOTAL_WON                    0\n",
      "TRAVEL_DURATION              0\n",
      "SEASON                       0\n",
      "dtype: int64\n"
     ]
    }
   ],
   "source": [
    "# 데이터의 결측치 확인\n",
    "print('merge 데이터.csv의 결측치 : ')\n",
    "print(travel_log.isnull().sum())"
   ]
  },
  {
   "cell_type": "markdown",
   "metadata": {},
   "source": [
    "<h3>4. 병합 CSV 저장</h3>"
   ]
  },
  {
   "cell_type": "code",
   "execution_count": 2293,
   "metadata": {},
   "outputs": [],
   "source": [
    "travel_log.to_csv('data/training/merged_data/merge.csv',index=False)"
   ]
  }
 ],
 "metadata": {
  "kernelspec": {
   "display_name": "base",
   "language": "python",
   "name": "python3"
  },
  "language_info": {
   "codemirror_mode": {
    "name": "ipython",
    "version": 3
   },
   "file_extension": ".py",
   "mimetype": "text/x-python",
   "name": "python",
   "nbconvert_exporter": "python",
   "pygments_lexer": "ipython3",
   "version": "3.11.7"
  }
 },
 "nbformat": 4,
 "nbformat_minor": 2
}
