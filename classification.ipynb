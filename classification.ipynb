{
 "cells": [
  {
   "cell_type": "markdown",
   "metadata": {},
   "source": [
    "<h1>국내 여행 로그 데이터(서부권) (2023)</h1>\n",
    "<h2>[분석 과정 - XGBClassifier]</h2>\n",
    "<ul>\n",
    "<li>데이터 정보 및 전처리 과정은 data_preprocessing.ipynb 참고</li></ul>"
   ]
  },
  {
   "cell_type": "markdown",
   "metadata": {},
   "source": [
    "<hr>\n",
    "<h2>[패키지 및 데이터 로드]</h2>"
   ]
  },
  {
   "cell_type": "code",
   "execution_count": 1,
   "metadata": {},
   "outputs": [],
   "source": [
    "# 데이터를 분석하는데 필요한 패키지 로드하기 \n",
    "import pandas as pd\n",
    "import numpy as np\n",
    "import seaborn as sns\n",
    "import matplotlib.pyplot as plt\n",
    "import re\n",
    "plt.rcParams.update({'font.family' : 'Malgun Gothic'}) \n",
    "from xgboost import XGBClassifier\n",
    "from xgboost import cv, DMatrix, train\n",
    "from sklearn.preprocessing import OneHotEncoder, LabelEncoder\n",
    "from sklearn.metrics import accuracy_score, classification_report\n",
    "from sklearn.model_selection import GridSearchCV\n",
    "from sklearn.model_selection import RandomizedSearchCV\n",
    "\n",
    "# 숫자 표기 설정\n",
    "pd.options.display.float_format = '{:,.2f}'.format # 지수 없이 숫자로\n",
    "#pd.reset_option('display.float_format') # 지수표기법\n",
    "\n",
    "# 출력 설정 변경 (None : 모든 행,열 출력)\n",
    "pd.set_option('display.max_columns', None)\n",
    "pd.set_option('display.width', 1000)\n",
    "#pd.reset_option('all') # 설정 변경 초기화 "
   ]
  },
  {
   "cell_type": "code",
   "execution_count": 2,
   "metadata": {},
   "outputs": [],
   "source": [
    "# 데이터 로드\n",
    "train_data = pd.read_csv('data/training/merged_data/no_map_merge.csv', encoding='UTF-8')\n",
    "test_data = pd.read_csv('data/validation/merged_data/no_map_merge_validation.csv', encoding='UTF-8')"
   ]
  },
  {
   "cell_type": "code",
   "execution_count": 3,
   "metadata": {},
   "outputs": [
    {
     "name": "stdout",
     "output_type": "stream",
     "text": [
      "GENDER                       0\n",
      "AGE_GRP                      0\n",
      "JOB_NM                       0\n",
      "TRAVEL_TERM                  0\n",
      "TRAVEL_LIKE_SGG_1            0\n",
      "TRAVEL_LIKE_SGG_2            0\n",
      "TRAVEL_LIKE_SGG_3            0\n",
      "TRAVEL_STYL_1                0\n",
      "TRAVEL_STYL_2                0\n",
      "TRAVEL_STYL_3                0\n",
      "TRAVEL_STYL_4                0\n",
      "TRAVEL_STYL_5                0\n",
      "TRAVEL_STYL_6                0\n",
      "TRAVEL_STYL_7                0\n",
      "TRAVEL_STYL_8                0\n",
      "TRAVEL_STATUS_RESIDENCE      0\n",
      "TRAVEL_STATUS_DESTINATION    0\n",
      "TRAVEL_STATUS_ACCOMPANY      0\n",
      "TRAVEL_MOTIVE                0\n",
      "TRAVEL_COMPANIONS_NUM        0\n",
      "TRAVEL_ID                    0\n",
      "REL_CD                       0\n",
      "COMPANION_GENDER             0\n",
      "COMPANION_AGE_GRP            0\n",
      "TRAVEL_PURPOSE               0\n",
      "TRAVEL_START_YMD             0\n",
      "TRAVEL_END_YMD               0\n",
      "TRAVEL_MISSION_CHECK         0\n",
      "TOTAL_MVMN_WON               0\n",
      "ACTIVITY_TYPE_CD             0\n",
      "TOTAL_ACTIVITY_WON           0\n",
      "TOTAL_WON                    0\n",
      "TRAVEL_DURATION              0\n",
      "SEASON                       0\n",
      "dtype: int64\n"
     ]
    }
   ],
   "source": [
    "print(train_data.isnull().sum())"
   ]
  },
  {
   "cell_type": "code",
   "execution_count": 4,
   "metadata": {},
   "outputs": [
    {
     "name": "stdout",
     "output_type": "stream",
     "text": [
      "GENDER                       0\n",
      "AGE_GRP                      0\n",
      "JOB_NM                       0\n",
      "TRAVEL_TERM                  0\n",
      "TRAVEL_LIKE_SGG_1            0\n",
      "TRAVEL_LIKE_SGG_2            0\n",
      "TRAVEL_LIKE_SGG_3            0\n",
      "TRAVEL_STYL_1                0\n",
      "TRAVEL_STYL_2                0\n",
      "TRAVEL_STYL_3                0\n",
      "TRAVEL_STYL_4                0\n",
      "TRAVEL_STYL_5                0\n",
      "TRAVEL_STYL_6                0\n",
      "TRAVEL_STYL_7                0\n",
      "TRAVEL_STYL_8                0\n",
      "TRAVEL_STATUS_RESIDENCE      0\n",
      "TRAVEL_STATUS_DESTINATION    0\n",
      "TRAVEL_STATUS_ACCOMPANY      0\n",
      "TRAVEL_MOTIVE                0\n",
      "TRAVEL_COMPANIONS_NUM        0\n",
      "TRAVEL_ID                    0\n",
      "REL_CD                       0\n",
      "COMPANION_GENDER             0\n",
      "COMPANION_AGE_GRP            0\n",
      "TRAVEL_PURPOSE               0\n",
      "TRAVEL_START_YMD             0\n",
      "TRAVEL_END_YMD               0\n",
      "TRAVEL_MISSION_CHECK         0\n",
      "TOTAL_MVMN_WON               0\n",
      "ACTIVITY_TYPE_CD             0\n",
      "TOTAL_ACTIVITY_WON           0\n",
      "TOTAL_WON                    0\n",
      "TRAVEL_DURATION              0\n",
      "SEASON                       0\n",
      "dtype: int64\n"
     ]
    }
   ],
   "source": [
    "print(test_data.isnull().sum())"
   ]
  },
  {
   "cell_type": "code",
   "execution_count": 5,
   "metadata": {},
   "outputs": [
    {
     "data": {
      "text/html": [
       "<div>\n",
       "<style scoped>\n",
       "    .dataframe tbody tr th:only-of-type {\n",
       "        vertical-align: middle;\n",
       "    }\n",
       "\n",
       "    .dataframe tbody tr th {\n",
       "        vertical-align: top;\n",
       "    }\n",
       "\n",
       "    .dataframe thead th {\n",
       "        text-align: right;\n",
       "    }\n",
       "</style>\n",
       "<table border=\"1\" class=\"dataframe\">\n",
       "  <thead>\n",
       "    <tr style=\"text-align: right;\">\n",
       "      <th></th>\n",
       "      <th>GENDER</th>\n",
       "      <th>AGE_GRP</th>\n",
       "      <th>JOB_NM</th>\n",
       "      <th>TRAVEL_TERM</th>\n",
       "      <th>TRAVEL_LIKE_SGG_1</th>\n",
       "      <th>TRAVEL_LIKE_SGG_2</th>\n",
       "      <th>TRAVEL_LIKE_SGG_3</th>\n",
       "      <th>TRAVEL_STYL_1</th>\n",
       "      <th>TRAVEL_STYL_2</th>\n",
       "      <th>TRAVEL_STYL_3</th>\n",
       "      <th>TRAVEL_STYL_4</th>\n",
       "      <th>TRAVEL_STYL_5</th>\n",
       "      <th>TRAVEL_STYL_6</th>\n",
       "      <th>TRAVEL_STYL_7</th>\n",
       "      <th>TRAVEL_STYL_8</th>\n",
       "      <th>TRAVEL_STATUS_RESIDENCE</th>\n",
       "      <th>TRAVEL_STATUS_DESTINATION</th>\n",
       "      <th>TRAVEL_STATUS_ACCOMPANY</th>\n",
       "      <th>TRAVEL_MOTIVE</th>\n",
       "      <th>TRAVEL_COMPANIONS_NUM</th>\n",
       "      <th>TRAVEL_ID</th>\n",
       "      <th>REL_CD</th>\n",
       "      <th>COMPANION_GENDER</th>\n",
       "      <th>COMPANION_AGE_GRP</th>\n",
       "      <th>TRAVEL_PURPOSE</th>\n",
       "      <th>TRAVEL_START_YMD</th>\n",
       "      <th>TRAVEL_END_YMD</th>\n",
       "      <th>TRAVEL_MISSION_CHECK</th>\n",
       "      <th>TOTAL_MVMN_WON</th>\n",
       "      <th>ACTIVITY_TYPE_CD</th>\n",
       "      <th>TOTAL_ACTIVITY_WON</th>\n",
       "      <th>TOTAL_WON</th>\n",
       "      <th>TRAVEL_DURATION</th>\n",
       "      <th>SEASON</th>\n",
       "    </tr>\n",
       "  </thead>\n",
       "  <tbody>\n",
       "    <tr>\n",
       "      <th>0</th>\n",
       "      <td>여</td>\n",
       "      <td>20</td>\n",
       "      <td>12</td>\n",
       "      <td>3</td>\n",
       "      <td>50130</td>\n",
       "      <td>50110</td>\n",
       "      <td>26500</td>\n",
       "      <td>1</td>\n",
       "      <td>1</td>\n",
       "      <td>1</td>\n",
       "      <td>3</td>\n",
       "      <td>3</td>\n",
       "      <td>2</td>\n",
       "      <td>6</td>\n",
       "      <td>6</td>\n",
       "      <td>광주광역시</td>\n",
       "      <td>전남</td>\n",
       "      <td>2인 여행(가족 외)</td>\n",
       "      <td>1</td>\n",
       "      <td>1</td>\n",
       "      <td>g_g002178</td>\n",
       "      <td>8.0</td>\n",
       "      <td>1.0</td>\n",
       "      <td>3.0</td>\n",
       "      <td>1;22;4</td>\n",
       "      <td>2023-06-14</td>\n",
       "      <td>2023-06-16</td>\n",
       "      <td>4;1;22</td>\n",
       "      <td>10,000.00</td>\n",
       "      <td>1</td>\n",
       "      <td>71,700.00</td>\n",
       "      <td>81,700.00</td>\n",
       "      <td>2</td>\n",
       "      <td>Summer</td>\n",
       "    </tr>\n",
       "    <tr>\n",
       "      <th>1</th>\n",
       "      <td>여</td>\n",
       "      <td>20</td>\n",
       "      <td>12</td>\n",
       "      <td>3</td>\n",
       "      <td>50130</td>\n",
       "      <td>50110</td>\n",
       "      <td>26500</td>\n",
       "      <td>1</td>\n",
       "      <td>1</td>\n",
       "      <td>1</td>\n",
       "      <td>3</td>\n",
       "      <td>3</td>\n",
       "      <td>2</td>\n",
       "      <td>6</td>\n",
       "      <td>6</td>\n",
       "      <td>광주광역시</td>\n",
       "      <td>전남</td>\n",
       "      <td>2인 여행(가족 외)</td>\n",
       "      <td>1</td>\n",
       "      <td>1</td>\n",
       "      <td>g_g002178</td>\n",
       "      <td>8.0</td>\n",
       "      <td>1.0</td>\n",
       "      <td>3.0</td>\n",
       "      <td>1;22;4</td>\n",
       "      <td>2023-06-14</td>\n",
       "      <td>2023-06-16</td>\n",
       "      <td>4;1;22</td>\n",
       "      <td>10,000.00</td>\n",
       "      <td>1</td>\n",
       "      <td>71,700.00</td>\n",
       "      <td>81,700.00</td>\n",
       "      <td>2</td>\n",
       "      <td>Summer</td>\n",
       "    </tr>\n",
       "    <tr>\n",
       "      <th>2</th>\n",
       "      <td>여</td>\n",
       "      <td>20</td>\n",
       "      <td>12</td>\n",
       "      <td>3</td>\n",
       "      <td>50130</td>\n",
       "      <td>50110</td>\n",
       "      <td>26500</td>\n",
       "      <td>1</td>\n",
       "      <td>1</td>\n",
       "      <td>1</td>\n",
       "      <td>3</td>\n",
       "      <td>3</td>\n",
       "      <td>2</td>\n",
       "      <td>6</td>\n",
       "      <td>6</td>\n",
       "      <td>광주광역시</td>\n",
       "      <td>전남</td>\n",
       "      <td>2인 여행(가족 외)</td>\n",
       "      <td>1</td>\n",
       "      <td>1</td>\n",
       "      <td>g_g002178</td>\n",
       "      <td>8.0</td>\n",
       "      <td>1.0</td>\n",
       "      <td>3.0</td>\n",
       "      <td>1;22;4</td>\n",
       "      <td>2023-06-14</td>\n",
       "      <td>2023-06-16</td>\n",
       "      <td>4;1;22</td>\n",
       "      <td>10,000.00</td>\n",
       "      <td>2</td>\n",
       "      <td>71,700.00</td>\n",
       "      <td>81,700.00</td>\n",
       "      <td>2</td>\n",
       "      <td>Summer</td>\n",
       "    </tr>\n",
       "    <tr>\n",
       "      <th>3</th>\n",
       "      <td>여</td>\n",
       "      <td>20</td>\n",
       "      <td>12</td>\n",
       "      <td>3</td>\n",
       "      <td>50130</td>\n",
       "      <td>50110</td>\n",
       "      <td>26500</td>\n",
       "      <td>1</td>\n",
       "      <td>1</td>\n",
       "      <td>1</td>\n",
       "      <td>3</td>\n",
       "      <td>3</td>\n",
       "      <td>2</td>\n",
       "      <td>6</td>\n",
       "      <td>6</td>\n",
       "      <td>광주광역시</td>\n",
       "      <td>전남</td>\n",
       "      <td>2인 여행(가족 외)</td>\n",
       "      <td>1</td>\n",
       "      <td>1</td>\n",
       "      <td>g_g002178</td>\n",
       "      <td>8.0</td>\n",
       "      <td>1.0</td>\n",
       "      <td>3.0</td>\n",
       "      <td>1;22;4</td>\n",
       "      <td>2023-06-14</td>\n",
       "      <td>2023-06-16</td>\n",
       "      <td>4;1;22</td>\n",
       "      <td>10,000.00</td>\n",
       "      <td>4</td>\n",
       "      <td>71,700.00</td>\n",
       "      <td>81,700.00</td>\n",
       "      <td>2</td>\n",
       "      <td>Summer</td>\n",
       "    </tr>\n",
       "    <tr>\n",
       "      <th>4</th>\n",
       "      <td>여</td>\n",
       "      <td>20</td>\n",
       "      <td>12</td>\n",
       "      <td>3</td>\n",
       "      <td>50130</td>\n",
       "      <td>50110</td>\n",
       "      <td>26500</td>\n",
       "      <td>1</td>\n",
       "      <td>1</td>\n",
       "      <td>1</td>\n",
       "      <td>3</td>\n",
       "      <td>3</td>\n",
       "      <td>2</td>\n",
       "      <td>6</td>\n",
       "      <td>6</td>\n",
       "      <td>광주광역시</td>\n",
       "      <td>전남</td>\n",
       "      <td>2인 여행(가족 외)</td>\n",
       "      <td>1</td>\n",
       "      <td>1</td>\n",
       "      <td>g_g002178</td>\n",
       "      <td>8.0</td>\n",
       "      <td>1.0</td>\n",
       "      <td>3.0</td>\n",
       "      <td>1;22;4</td>\n",
       "      <td>2023-06-14</td>\n",
       "      <td>2023-06-16</td>\n",
       "      <td>4;1;22</td>\n",
       "      <td>10,000.00</td>\n",
       "      <td>5</td>\n",
       "      <td>71,700.00</td>\n",
       "      <td>81,700.00</td>\n",
       "      <td>2</td>\n",
       "      <td>Summer</td>\n",
       "    </tr>\n",
       "  </tbody>\n",
       "</table>\n",
       "</div>"
      ],
      "text/plain": [
       "  GENDER  AGE_GRP  JOB_NM  TRAVEL_TERM  TRAVEL_LIKE_SGG_1  TRAVEL_LIKE_SGG_2  TRAVEL_LIKE_SGG_3  TRAVEL_STYL_1  TRAVEL_STYL_2  TRAVEL_STYL_3  TRAVEL_STYL_4  TRAVEL_STYL_5  TRAVEL_STYL_6  TRAVEL_STYL_7  TRAVEL_STYL_8 TRAVEL_STATUS_RESIDENCE TRAVEL_STATUS_DESTINATION TRAVEL_STATUS_ACCOMPANY  TRAVEL_MOTIVE  TRAVEL_COMPANIONS_NUM  TRAVEL_ID REL_CD COMPANION_GENDER COMPANION_AGE_GRP TRAVEL_PURPOSE TRAVEL_START_YMD TRAVEL_END_YMD TRAVEL_MISSION_CHECK  TOTAL_MVMN_WON  ACTIVITY_TYPE_CD  TOTAL_ACTIVITY_WON  TOTAL_WON  TRAVEL_DURATION  SEASON\n",
       "0      여       20      12            3              50130              50110              26500              1              1              1              3              3              2              6              6                   광주광역시                        전남             2인 여행(가족 외)              1                      1  g_g002178    8.0              1.0               3.0         1;22;4       2023-06-14     2023-06-16               4;1;22       10,000.00                 1           71,700.00  81,700.00                2  Summer\n",
       "1      여       20      12            3              50130              50110              26500              1              1              1              3              3              2              6              6                   광주광역시                        전남             2인 여행(가족 외)              1                      1  g_g002178    8.0              1.0               3.0         1;22;4       2023-06-14     2023-06-16               4;1;22       10,000.00                 1           71,700.00  81,700.00                2  Summer\n",
       "2      여       20      12            3              50130              50110              26500              1              1              1              3              3              2              6              6                   광주광역시                        전남             2인 여행(가족 외)              1                      1  g_g002178    8.0              1.0               3.0         1;22;4       2023-06-14     2023-06-16               4;1;22       10,000.00                 2           71,700.00  81,700.00                2  Summer\n",
       "3      여       20      12            3              50130              50110              26500              1              1              1              3              3              2              6              6                   광주광역시                        전남             2인 여행(가족 외)              1                      1  g_g002178    8.0              1.0               3.0         1;22;4       2023-06-14     2023-06-16               4;1;22       10,000.00                 4           71,700.00  81,700.00                2  Summer\n",
       "4      여       20      12            3              50130              50110              26500              1              1              1              3              3              2              6              6                   광주광역시                        전남             2인 여행(가족 외)              1                      1  g_g002178    8.0              1.0               3.0         1;22;4       2023-06-14     2023-06-16               4;1;22       10,000.00                 5           71,700.00  81,700.00                2  Summer"
      ]
     },
     "execution_count": 5,
     "metadata": {},
     "output_type": "execute_result"
    }
   ],
   "source": [
    "# 데이터 살펴보기\n",
    "train_data.head()"
   ]
  },
  {
   "cell_type": "markdown",
   "metadata": {},
   "source": [
    "<hr>\n",
    "<h2>[Classification위한 전처리 - XGBClassifier]</h2>\n",
    "<ul>\n",
    "<li>XGBClassifier 선택 이유 : 범주형 변수를 예측하기에 적합하므로 고객의 여행지 선택을 예측하는데 사용하기로 결정함</li>"
   ]
  },
  {
   "cell_type": "markdown",
   "metadata": {},
   "source": [
    "1. TRAVEL_ID를 기준으로 그룹화 및 요약 진행"
   ]
  },
  {
   "cell_type": "code",
   "execution_count": 6,
   "metadata": {},
   "outputs": [
    {
     "name": "stdout",
     "output_type": "stream",
     "text": [
      "   TRAVEL_ID GENDER TRAVEL_STATUS_RESIDENCE TRAVEL_STATUS_DESTINATION TRAVEL_STATUS_ACCOMPANY           REL_CD COMPANION_GENDER     COMPANION_AGE_GRP TRAVEL_PURPOSE TRAVEL_START_YMD TRAVEL_END_YMD TRAVEL_MISSION_CHECK  SEASON  AGE_GRP  JOB_NM  TRAVEL_TERM  TRAVEL_LIKE_SGG_1  TRAVEL_LIKE_SGG_2  TRAVEL_LIKE_SGG_3  TRAVEL_STYL_1  TRAVEL_STYL_2  TRAVEL_MOTIVE  TRAVEL_COMPANIONS_NUM  TOTAL_MVMN_WON  TOTAL_ACTIVITY_WON  TOTAL_WON  TRAVEL_DURATION\n",
      "0  e_e000005      여                   대전광역시                        인천                2인 가족 여행            [1.0]            [1.0]                 [4.0]         5;2;23       2023-04-29     2023-05-03               5;2;23  Spring       30       3         2.00              44180              50130              50110              4              1              7                   1.00      112,300.00          413,500.00 525,800.00             4.00\n",
      "1  e_e000043      남                    충청북도                        경기                  나홀로 여행             [없음]             [없음]                  [없음]    10;12;21;27       2023-04-28     2023-05-01                4;6;2  Spring       30       3         3.00              50110              11440              26350              7              4              2                   0.00       42,925.00          118,800.00 161,725.00             3.00\n",
      "2  e_e000191      남                   서울특별시                        경기                자녀 동반 여행      [1.0, 11.0]       [2.0, 1.0]       [5.0, 8.0, 6.0]             21       2023-04-28     2023-05-01             24;13;27  Spring       30      13         3.00              42230              50110              42170              1              1              3                   4.00       98,000.00          194,000.00 292,000.00             3.00\n",
      "3  e_e000316      여                    경상북도                        서울             2인 여행(가족 외)            [7.0]            [2.0]                 [3.0]  21;22;24;26;6       2023-05-27     2023-05-30              22;26;6  Spring       20       3         2.00              50130              44825              11140              5              6              1                   1.00      204,300.00          333,750.00 538,050.00             3.00\n",
      "4  e_e000668      여                   서울특별시                        인천         3대 동반 여행(친척 포함)  [2.0, 3.0, 1.0]       [1.0, 2.0]  [2.0, 7.0, 4.0, 1.0]              2       2023-05-20     2023-05-21                2;1;4  Spring       30       4         2.00              42150              45800              42210              2              1              9                   5.00       86,400.00          210,000.00 296,400.00             1.00\n"
     ]
    }
   ],
   "source": [
    "# TRAVEL_ID 기준으로 그룹화 및 요약\n",
    "grouped_train = train_data.groupby('TRAVEL_ID').agg({\n",
    "    # object 타입\n",
    "    'GENDER': lambda x: x.mode()[0],  \n",
    "    'TRAVEL_STATUS_RESIDENCE': lambda x: x.mode()[0],\n",
    "    'TRAVEL_STATUS_DESTINATION': lambda x: x.mode()[0],\n",
    "    'TRAVEL_STATUS_ACCOMPANY': lambda x: x.mode()[0],\n",
    "    'REL_CD': lambda x: list(x.unique()),  \n",
    "    'COMPANION_GENDER': lambda x: list(x.unique()),  \n",
    "    'COMPANION_AGE_GRP': lambda x: list(x.unique()),  \n",
    "    'TRAVEL_PURPOSE': lambda x: ', '.join(x.unique()),  \n",
    "    'TRAVEL_START_YMD': 'min',  \n",
    "    'TRAVEL_END_YMD': 'max',  \n",
    "    'TRAVEL_MISSION_CHECK': lambda x: ', '.join(x.unique()),  \n",
    "    'SEASON': lambda x: x.mode()[0],  \n",
    "\n",
    "    # int 또는 float 타입\n",
    "    'AGE_GRP': lambda x: x.mode()[0],  \n",
    "    'JOB_NM': lambda x: x.mode()[0],\n",
    "    'TRAVEL_TERM': 'mean',\n",
    "    'TRAVEL_LIKE_SGG_1': lambda x: x.mode()[0],\n",
    "    'TRAVEL_LIKE_SGG_2': lambda x: x.mode()[0],\n",
    "    'TRAVEL_LIKE_SGG_3': lambda x: x.mode()[0],\n",
    "    'TRAVEL_STYL_1': lambda x: x.mode()[0],\n",
    "    'TRAVEL_STYL_2': lambda x: x.mode()[0],\n",
    "    'TRAVEL_MOTIVE': lambda x: x.mode()[0],\n",
    "    'TRAVEL_COMPANIONS_NUM': 'mean', \n",
    "    'TOTAL_MVMN_WON': 'mean', \n",
    "    'TOTAL_ACTIVITY_WON': 'mean',  \n",
    "    'TOTAL_WON': 'mean',  \n",
    "    'TRAVEL_DURATION': 'mean',  \n",
    "}).reset_index()\n",
    "\n",
    "# 결과 확인\n",
    "print(grouped_train.head())\n"
   ]
  },
  {
   "cell_type": "code",
   "execution_count": 7,
   "metadata": {},
   "outputs": [],
   "source": [
    "# 리스트를 문자열로 변환\n",
    "columns_to_convert = ['REL_CD', 'COMPANION_GENDER', 'COMPANION_AGE_GRP']\n",
    "for col in columns_to_convert:\n",
    "    grouped_train[col] = grouped_train[col].apply(lambda x: ', '.join(x) if isinstance(x, list) else x)"
   ]
  },
  {
   "cell_type": "code",
   "execution_count": 8,
   "metadata": {},
   "outputs": [
    {
     "name": "stdout",
     "output_type": "stream",
     "text": [
      "   TRAVEL_ID GENDER TRAVEL_STATUS_RESIDENCE TRAVEL_STATUS_DESTINATION TRAVEL_STATUS_ACCOMPANY      REL_CD COMPANION_GENDER COMPANION_AGE_GRP TRAVEL_PURPOSE TRAVEL_START_YMD TRAVEL_END_YMD TRAVEL_MISSION_CHECK  SEASON  AGE_GRP  JOB_NM  TRAVEL_TERM  TRAVEL_LIKE_SGG_1  TRAVEL_LIKE_SGG_2  TRAVEL_LIKE_SGG_3  TRAVEL_STYL_1  TRAVEL_STYL_2  TRAVEL_MOTIVE  TRAVEL_COMPANIONS_NUM  TOTAL_MVMN_WON  TOTAL_ACTIVITY_WON  TOTAL_WON  TRAVEL_DURATION\n",
      "0  e_e000821      남                     경기도                        충남          3인 이상 여행(가족 외)  [1.0, 7.0]       [2.0, 1.0]             [4.0]     1;2;21;4;8       2023-05-27     2023-05-29              21;4;22  Spring       40       3         2.00              42150              50110              44180              2              3              2                   6.00       50,000.00          150,500.00 200,500.00             2.00\n",
      "1  e_e013180      남                     경기도                        충남                자녀 동반 여행  [2.0, 1.0]       [2.0, 1.0]        [2.0, 5.0]        2;4;6;4       2023-09-23     2023-09-24               2;6;26  Autumn       40       3         2.00              42130              42170              42210              3              1              3                   4.00       54,600.00           91,000.00 145,600.00             1.00\n",
      "2  e_e013191      남                   서울특별시                        충남             2인 여행(가족 외)       [8.0]            [2.0]             [3.0]   2;21;22;26;3       2023-09-23     2023-09-24              5;27;28  Autumn       40       2         3.00              44130              28177              42150              1              1              3                   1.00       54,900.00           43,100.00  98,000.00             1.00\n",
      "3  f_f005447      여                   대전광역시                        충북                  나홀로 여행        [없음]             [없음]              [없음]  10;12;13;21;3       2023-08-09     2023-08-11              3;10;13  Summer       30       2         3.00              26350              46730              45110              4              4              2                   0.00       41,000.00           82,400.00 123,400.00             2.00\n",
      "4  g_g000011      남                     경기도                        전남                자녀 동반 여행  [1.0, 2.0]       [1.0, 2.0]        [5.0, 1.0]            2;4       2023-04-30     2023-05-02              21;24;2  Spring       40       3         3.00              50130              26350              42760              3              3              1                   3.00      144,330.00          256,800.00 401,130.00             2.00\n"
     ]
    }
   ],
   "source": [
    "# TRAVEL_ID 기준으로 그룹화 및 요약\n",
    "grouped_test = test_data.groupby('TRAVEL_ID').agg({\n",
    "    # object 타입\n",
    "    'GENDER': lambda x: x.mode()[0],  \n",
    "    'TRAVEL_STATUS_RESIDENCE': lambda x: x.mode()[0],\n",
    "    'TRAVEL_STATUS_DESTINATION': lambda x: x.mode()[0],\n",
    "    'TRAVEL_STATUS_ACCOMPANY': lambda x: x.mode()[0],\n",
    "    'REL_CD': lambda x: list(x.unique()),  \n",
    "    'COMPANION_GENDER': lambda x: list(x.unique()),  \n",
    "    'COMPANION_AGE_GRP': lambda x: list(x.unique()),  \n",
    "    'TRAVEL_PURPOSE': lambda x: ', '.join(x.unique()),  \n",
    "    'TRAVEL_START_YMD': 'min',  \n",
    "    'TRAVEL_END_YMD': 'max',  \n",
    "    'TRAVEL_MISSION_CHECK': lambda x: ', '.join(x.unique()),  \n",
    "    'SEASON': lambda x: x.mode()[0],  \n",
    "\n",
    "    # int 또는 float 타입\n",
    "    'AGE_GRP': lambda x: x.mode()[0],  \n",
    "    'JOB_NM': lambda x: x.mode()[0],\n",
    "    'TRAVEL_TERM': 'mean',\n",
    "    'TRAVEL_LIKE_SGG_1': lambda x: x.mode()[0],\n",
    "    'TRAVEL_LIKE_SGG_2': lambda x: x.mode()[0],\n",
    "    'TRAVEL_LIKE_SGG_3': lambda x: x.mode()[0],\n",
    "    'TRAVEL_STYL_1': lambda x: x.mode()[0],\n",
    "    'TRAVEL_STYL_2': lambda x: x.mode()[0],\n",
    "    'TRAVEL_MOTIVE': lambda x: x.mode()[0],\n",
    "    'TRAVEL_COMPANIONS_NUM': 'mean', \n",
    "    'TOTAL_MVMN_WON': 'mean', \n",
    "    'TOTAL_ACTIVITY_WON': 'mean',  \n",
    "    'TOTAL_WON': 'mean',  \n",
    "    'TRAVEL_DURATION': 'mean',  \n",
    "}).reset_index()\n",
    "\n",
    "# 결과 확인\n",
    "print(grouped_test.head())"
   ]
  },
  {
   "cell_type": "code",
   "execution_count": 9,
   "metadata": {},
   "outputs": [],
   "source": [
    "# 리스트를 문자열로 변환\n",
    "for col in columns_to_convert:\n",
    "    grouped_test[col] = grouped_test[col].apply(lambda x: ', '.join(x) if isinstance(x, list) else x)"
   ]
  },
  {
   "cell_type": "code",
   "execution_count": 10,
   "metadata": {},
   "outputs": [
    {
     "name": "stdout",
     "output_type": "stream",
     "text": [
      "중복된 TRAVEL_ID가 없습니다.\n"
     ]
    }
   ],
   "source": [
    "# TRAVEL_ID 중복 여부 확인\n",
    "duplicates = grouped_train[grouped_train.duplicated(subset='TRAVEL_ID', keep=False)]\n",
    "\n",
    "# 중복된 항목이 있는 경우\n",
    "if not duplicates.empty:\n",
    "    print(\"중복된 TRAVEL_ID가 있습니다.\")\n",
    "else:\n",
    "    print(\"중복된 TRAVEL_ID가 없습니다.\")"
   ]
  },
  {
   "cell_type": "code",
   "execution_count": 11,
   "metadata": {},
   "outputs": [
    {
     "name": "stdout",
     "output_type": "stream",
     "text": [
      "중복된 TRAVEL_ID가 없습니다.\n"
     ]
    }
   ],
   "source": [
    "# TRAVEL_ID 중복 여부 확인\n",
    "duplicates = grouped_test[grouped_test.duplicated(subset='TRAVEL_ID', keep=False)]\n",
    "\n",
    "# 중복된 항목이 있는 경우\n",
    "if not duplicates.empty:\n",
    "    print(\"중복된 TRAVEL_ID가 있습니다.\")\n",
    "else:\n",
    "    print(\"중복된 TRAVEL_ID가 없습니다.\")"
   ]
  },
  {
   "cell_type": "markdown",
   "metadata": {},
   "source": [
    "<hr>\n",
    "<h2>[분석 과정 - XGBClassifier]</h2>\n",
    "<ul>\n",
    "<li>XGBClassifier 선택 이유 : 범주형 변수를 예측하기에 적합하므로 고객의 여행지 선택을 예측하는데 사용하기로 결정함</li>"
   ]
  },
  {
   "cell_type": "markdown",
   "metadata": {},
   "source": [
    "2. Feature 및 Target 변수 정의"
   ]
  },
  {
   "cell_type": "code",
   "execution_count": 12,
   "metadata": {},
   "outputs": [],
   "source": [
    "# Feature와 Target 설정\n",
    "classification_features = ['REL_CD', 'TRAVEL_LIKE_SGG_1', 'TRAVEL_LIKE_SGG_2', 'TRAVEL_STYL_1', 'TRAVEL_STYL_2', \n",
    "                           'TRAVEL_STATUS_RESIDENCE', 'TRAVEL_STATUS_ACCOMPANY', 'TRAVEL_ID', 'TRAVEL_MOTIVE', 'TRAVEL_COMPANIONS_NUM', \n",
    "                           'TOTAL_MVMN_WON', 'TOTAL_ACTIVITY_WON', 'TRAVEL_DURATION', 'SEASON', ]\n",
    "# TRAVEL_ID 넣은 건 흐린 눈,,\n",
    "#이거 캡쳐할 때\n",
    "#말해주세여\n",
    "#수정해서 캡쳐해야 해요~!!\n",
    "#재경이\n",
    "#바\n",
    "#부\n",
    "#헤헤\n",
    "#더치베이비 먹으러\n",
    "#가자..\n",
    "\n",
    "X_train = grouped_train[classification_features]\n",
    "y_train = grouped_train['TRAVEL_STATUS_DESTINATION']\n",
    "\n",
    "X_test = grouped_test[classification_features]\n",
    "y_test = grouped_test['TRAVEL_STATUS_DESTINATION']"
   ]
  },
  {
   "cell_type": "code",
   "execution_count": 13,
   "metadata": {},
   "outputs": [
    {
     "name": "stdout",
     "output_type": "stream",
     "text": [
      "훈련 데이터 클래스 분포:\n",
      "TRAVEL_STATUS_DESTINATION\n",
      "충남    519\n",
      "전남    475\n",
      "전북    430\n",
      "대전    382\n",
      "충북    362\n",
      "광주     88\n",
      "세종     68\n",
      "경기      5\n",
      "강원      3\n",
      "인천      2\n",
      "서울      2\n",
      "제주      2\n",
      "경북      1\n",
      "경남      1\n",
      "대구      1\n",
      "Name: count, dtype: int64\n",
      "\n",
      "테스트 데이터 클래스 분포:\n",
      "TRAVEL_STATUS_DESTINATION\n",
      "전남    66\n",
      "충남    63\n",
      "전북    57\n",
      "대전    49\n",
      "충북    43\n",
      "광주     8\n",
      "세종     6\n",
      "Name: count, dtype: int64\n"
     ]
    }
   ],
   "source": [
    "# 출력 설정 변경 (최대 행 수 확장)\n",
    "pd.set_option('display.max_rows', None)  # 모든 행 출력\n",
    "pd.set_option('display.max_columns', None)  # 모든 열 출력 (추가 옵션)\n",
    "\n",
    "# 클래스별 샘플 수 확인\n",
    "print(\"훈련 데이터 클래스 분포:\")\n",
    "print(y_train.value_counts())\n",
    "\n",
    "print(\"\\n테스트 데이터 클래스 분포:\")\n",
    "print(y_test.value_counts())"
   ]
  },
  {
   "cell_type": "markdown",
   "metadata": {},
   "source": [
    ">분석 결과 : 각 지역별로 분포 차이가 크기 때문에 XGBClassifier 분석 과정에서 100개 미만의 데이터는 제거함"
   ]
  },
  {
   "cell_type": "code",
   "execution_count": 14,
   "metadata": {},
   "outputs": [],
   "source": [
    "# 100개 미만 클래스 제거\n",
    "min_samples = 100\n",
    "valid_classes = y_train.value_counts()[y_train.value_counts() >= min_samples].index  # 100개 이상인 클래스만 유지\n",
    "\n",
    "# 훈련 데이터에서 유효 클래스만 필터링\n",
    "X_train_filtered = X_train[y_train.isin(valid_classes)]\n",
    "y_train_filtered = y_train[y_train.isin(valid_classes)]\n",
    "\n",
    "# 테스트 데이터에서 유효 클래스만 필터링\n",
    "X_test_filtered = X_test[y_test.isin(valid_classes)]\n",
    "y_test_filtered = y_test[y_test.isin(valid_classes)]"
   ]
  },
  {
   "cell_type": "code",
   "execution_count": 15,
   "metadata": {},
   "outputs": [
    {
     "name": "stdout",
     "output_type": "stream",
     "text": [
      "훈련 데이터 클래스 분포 (100개 이상 유지):\n",
      "TRAVEL_STATUS_DESTINATION\n",
      "충남    519\n",
      "전남    475\n",
      "전북    430\n",
      "대전    382\n",
      "충북    362\n",
      "Name: count, dtype: int64\n",
      "\n",
      "테스트 데이터 클래스 분포 (100개 이상 유지):\n",
      "TRAVEL_STATUS_DESTINATION\n",
      "전남    66\n",
      "충남    63\n",
      "전북    57\n",
      "대전    49\n",
      "충북    43\n",
      "Name: count, dtype: int64\n",
      "\n",
      "100개 미만 클래스 제거 여부 확인:\n",
      "훈련 데이터에서 100개 미만 클래스 제거 완료: True\n",
      "테스트 데이터에서 100개 미만 클래스 제거 완료: False\n"
     ]
    }
   ],
   "source": [
    "# 클래스별 샘플 수 확인\n",
    "print(\"훈련 데이터 클래스 분포 (100개 이상 유지):\")\n",
    "print(y_train_filtered.value_counts())\n",
    "\n",
    "print(\"\\n테스트 데이터 클래스 분포 (100개 이상 유지):\")\n",
    "print(y_test_filtered.value_counts())\n",
    "\n",
    "# 100개 미만 클래스가 완전히 제거되었는지 검증\n",
    "print(\"\\n100개 미만 클래스 제거 여부 확인:\")\n",
    "print(\"훈련 데이터에서 100개 미만 클래스 제거 완료:\", all(y_train_filtered.value_counts() >= 100))\n",
    "print(\"테스트 데이터에서 100개 미만 클래스 제거 완료:\", all(y_test_filtered.value_counts() >= 100))"
   ]
  },
  {
   "cell_type": "code",
   "execution_count": 16,
   "metadata": {},
   "outputs": [],
   "source": [
    "# One-Hot Encoding\n",
    "encoder = OneHotEncoder(handle_unknown='ignore', sparse_output=False)\n",
    "encoder.fit(pd.concat([X_train_filtered, X_test_filtered], axis=0))  # Train과 Test 데이터를 함께 학습\n",
    "\n",
    "# X_train, X_test 인코딩\n",
    "X_train_encoded = encoder.transform(X_train_filtered)\n",
    "X_test_encoded = encoder.transform(X_test_filtered)"
   ]
  },
  {
   "cell_type": "code",
   "execution_count": 17,
   "metadata": {},
   "outputs": [
    {
     "name": "stdout",
     "output_type": "stream",
     "text": [
      "Starting hyperparameter tuning...\n",
      "Fitting 2 folds for each of 10 candidates, totalling 20 fits\n"
     ]
    },
    {
     "name": "stdout",
     "output_type": "stream",
     "text": [
      "Best parameters: {'subsample': 0.8, 'n_estimators': 100, 'max_depth': 3, 'learning_rate': 0.1, 'gamma': 0, 'colsample_bytree': 0.8}\n",
      "Accuracy: 0.4784172661870504\n",
      "\n",
      "Classification Report:\n",
      "               precision    recall  f1-score   support\n",
      "\n",
      "          대전       0.44      0.41      0.43        49\n",
      "          전남       0.59      0.67      0.62        66\n",
      "          전북       0.60      0.26      0.37        57\n",
      "          충남       0.43      0.67      0.52        63\n",
      "          충북       0.33      0.28      0.30        43\n",
      "\n",
      "    accuracy                           0.48       278\n",
      "   macro avg       0.48      0.46      0.45       278\n",
      "weighted avg       0.49      0.48      0.46       278\n",
      "\n"
     ]
    }
   ],
   "source": [
    "# Label Encoding\n",
    "label_encoder = LabelEncoder()\n",
    "y_train_filtered_encoded = label_encoder.fit_transform(y_train_filtered)\n",
    "y_test_filtered_encoded = label_encoder.transform(y_test_filtered)\n",
    "\n",
    "# 하이퍼파라미터 후보 설정\n",
    "param_distributions = {\n",
    "    'max_depth': [3, 5], \n",
    "    'learning_rate': np.linspace(0.05, 0.1, 3),  # 0.05 ~ 0.1 사이 3개 값\n",
    "    'n_estimators': [50, 100],  \n",
    "    'subsample': [0.8],  \n",
    "    'colsample_bytree': [0.8],  \n",
    "    'gamma': [0, 1],  \n",
    "}\n",
    "\n",
    "# XGBClassifier 생성\n",
    "xgb_model = XGBClassifier(\n",
    "    objective='multi:softmax',\n",
    "    num_class=len(label_encoder.classes_),  # 클래스 수\n",
    "    seed=42,\n",
    "    eval_metric='mlogloss'  # 평가 지표\n",
    ")\n",
    "\n",
    "# RandomizedSearchCV 설정\n",
    "random_search = RandomizedSearchCV(\n",
    "    estimator=xgb_model,\n",
    "    param_distributions=param_distributions,\n",
    "    n_iter=10,  \n",
    "    scoring='accuracy',  # 평가 기준 (정확도)\n",
    "    cv=2,  \n",
    "    verbose=1,  \n",
    "    n_jobs=-1,  \n",
    "    random_state=42  \n",
    ")\n",
    "\n",
    "# RandomizedSearchCV 학습\n",
    "print(\"Starting hyperparameter tuning...\")\n",
    "random_search.fit(X_train_encoded, y_train_filtered_encoded)\n",
    "\n",
    "# 최적 파라미터 출력\n",
    "print(\"Best parameters:\", random_search.best_params_)\n",
    "\n",
    "# 최적 파라미터를 가진 모델로 재학습\n",
    "best_xgb_model = random_search.best_estimator_\n",
    "\n",
    "# 테스트 데이터 예측\n",
    "y_pred_encoded = best_xgb_model.predict(X_test_encoded)\n",
    "y_pred = label_encoder.inverse_transform(y_pred_encoded.astype(int))\n",
    "\n",
    "# 성능 평가\n",
    "accuracy = accuracy_score(y_test_filtered, y_pred)\n",
    "classification_rep = classification_report(y_test_filtered, y_pred)\n",
    "\n",
    "print(\"Accuracy:\", accuracy)\n",
    "print(\"\\nClassification Report:\\n\", classification_rep)"
   ]
  },
  {
   "cell_type": "markdown",
   "metadata": {},
   "source": [
    ">분석 결과 : \n",
    "<br>Accuracy는 0.48로 낮은 정확도이지만 일부 클래스(전남, 충남)등에 대한 성능은 상대적으로 나은 편임"
   ]
  },
  {
   "cell_type": "code",
   "execution_count": 18,
   "metadata": {},
   "outputs": [],
   "source": [
    "# # Label Encoding\n",
    "# label_encoder = LabelEncoder()\n",
    "# y_train_filtered_encoded = label_encoder.fit_transform(y_train_filtered)\n",
    "# y_test_filtered_encoded = label_encoder.transform(y_test_filtered)\n",
    "\n",
    "# # XGBClassifier 모델 생성\n",
    "# xgb_model = XGBClassifier(\n",
    "#     objective='multi:softmax',\n",
    "#     num_class=len(label_encoder.classes_),  # 클래스 수\n",
    "#     max_depth=5,\n",
    "#     learning_rate=0.05,\n",
    "#     subsample=0.8,\n",
    "#     colsample_bytree=0.8,\n",
    "#     seed=42,\n",
    "#     eval_metric='mlogloss'  # 평가 지표 명시\n",
    "# )\n",
    "\n",
    "# # 모델 학습\n",
    "# xgb_model.fit(\n",
    "#     X_train_encoded,\n",
    "#     y_train_filtered_encoded,\n",
    "#     eval_set=[(X_test_encoded, y_test_filtered_encoded)],  # 검증 데이터 설정\n",
    "#     early_stopping_rounds=10,  # 조기 종료 설정\n",
    "#     verbose=True  # 학습 과정 출력\n",
    "# )\n",
    "\n",
    "# # 테스트 데이터 예측\n",
    "# y_pred_encoded = xgb_model.predict(X_test_encoded)\n",
    "# y_pred = label_encoder.inverse_transform(y_pred_encoded.astype(int))\n",
    "\n",
    "# # 성능 평가\n",
    "# accuracy = accuracy_score(y_test_filtered, y_pred)\n",
    "# classification_rep = classification_report(y_test_filtered, y_pred)\n",
    "\n",
    "# print(\"Accuracy:\", accuracy)\n",
    "# print(\"\\nClassification Report:\\n\", classification_rep)"
   ]
  },
  {
   "cell_type": "code",
   "execution_count": 19,
   "metadata": {},
   "outputs": [],
   "source": [
    "# # Feature 중요도 추출 (RandomizedSearchCV에서 학습된 모델 사용)\n",
    "# feature_importances = pd.Series(\n",
    "#     best_xgb_model.feature_importances_,  # random_search.best_estimator_로 학습된 모델 사용\n",
    "#     index=encoder.get_feature_names_out()  # One-Hot Encoding된 Feature 이름 가져오기\n",
    "# )\n",
    "\n",
    "# # 중요도가 높은 상위 10개 Feature 시각화\n",
    "# feature_importances.sort_values(ascending=False).head(10).plot(kind='barh', figsize=(10, 6))\n",
    "# plt.title(\"Top 10 Feature Importances\")\n",
    "# plt.xlabel(\"Importance\")\n",
    "# plt.ylabel(\"Features\")\n",
    "# plt.show()"
   ]
  },
  {
   "cell_type": "markdown",
   "metadata": {},
   "source": [
    "> 중요도 시각화 : 이건,, 별 의미 없어 보여서 일단 넣어놓긴 했는데 최종 보고서에 안 넣는게 좋을 것 같음!!"
   ]
  },
  {
   "cell_type": "markdown",
   "metadata": {},
   "source": [
    "<hr>\n",
    "<h2>[분석 결과 - XGBClassifier]</h2>\n",
    "<ul>"
   ]
  },
  {
   "cell_type": "markdown",
   "metadata": {},
   "source": [
    "1. Confusion Matrix \n",
    "<ul>\n",
    "<li>모델이 특정 클래스(여행지)를 다른 클래스로 잘못 예측한 패턴을 파악 가능</li>\n",
    "<li>자주 혼동되는 지역 간의 차별화된 마케팅 전략 수립 가능 </li>"
   ]
  },
  {
   "cell_type": "code",
   "execution_count": 20,
   "metadata": {},
   "outputs": [
    {
     "data": {
      "image/png": "[encoded data removed]",
      "text/plain": [
       "<Figure size 640x480 with 2 Axes>"
      ]
     },
     "metadata": {},
     "output_type": "display_data"
    }
   ],
   "source": [
    "from sklearn.metrics import confusion_matrix, ConfusionMatrixDisplay\n",
    "import matplotlib.pyplot as plt\n",
    "\n",
    "# Confusion Matrix 생성\n",
    "cm = confusion_matrix(y_test_filtered, y_pred, labels=label_encoder.classes_)\n",
    "\n",
    "# Confusion Matrix 시각화\n",
    "disp = ConfusionMatrixDisplay(confusion_matrix=cm, display_labels=label_encoder.classes_)\n",
    "disp.plot(cmap='Blues', xticks_rotation=45)\n",
    "plt.title(\"Confusion Matrix\")\n",
    "plt.show()"
   ]
  },
  {
   "cell_type": "markdown",
   "metadata": {},
   "source": [
    "> 분석 결과 :\n",
    ">1) 대전은 17건이 충남으로 잘못 예측되었으므로 대전과 충남 간 혼동 비율이 높음\n",
    ">2) 전남은 모델의 정확도가 가장 높으므로 혼동할 확률이 낮음\n",
    ">3) 전북은 전북으로 예측한 건 15건인데, 21건이 전남으로 예측되었으므로 전북과 전남이 가장 많이 혼동된다는 것을 알 수 있음\n",
    ">4) 충북의 경우도 충북으로 예측한 건 12건인데, 22건이 충남으로 예측되었으므로 충북과 충남이 가장 많이 혼동된다는 것을 알 수 있음"
   ]
  },
  {
   "cell_type": "markdown",
   "metadata": {},
   "source": [
    "2. 지역별 여행지 선택 분포\n",
    "<ul>\n",
    "<li>과대 평가 및 과소 평가 파악 가능</li>"
   ]
  },
  {
   "cell_type": "code",
   "execution_count": 21,
   "metadata": {},
   "outputs": [
    {
     "name": "stdout",
     "output_type": "stream",
     "text": [
      "지역별 예측된 여행지 분포:\n",
      "Predicted\n",
      "충남    97\n",
      "전남    75\n",
      "대전    45\n",
      "충북    36\n",
      "전북    25\n",
      "dtype: int64\n"
     ]
    }
   ],
   "source": [
    "# 지역별 예측된 여행지 분포\n",
    "region_distribution = pd.DataFrame({\n",
    "    \"Actual\": y_test_filtered,\n",
    "    \"Predicted\": y_pred\n",
    "}).groupby(\"Predicted\").size()\n",
    "\n",
    "print(\"지역별 예측된 여행지 분포:\")\n",
    "print(region_distribution.sort_values(ascending=False))"
   ]
  },
  {
   "cell_type": "code",
   "execution_count": 22,
   "metadata": {},
   "outputs": [
    {
     "name": "stdout",
     "output_type": "stream",
     "text": [
      "실제 지역별 여행지 분포:\n",
      "Actual\n",
      "전남    66\n",
      "충남    63\n",
      "전북    57\n",
      "대전    49\n",
      "충북    43\n",
      "dtype: int64\n"
     ]
    }
   ],
   "source": [
    "# 실제 여행지 분포 확인\n",
    "actual_distribution = pd.DataFrame({\n",
    "    \"Actual\": y_test_filtered,\n",
    "    \"Predicted\": y_pred\n",
    "}).groupby(\"Actual\").size()\n",
    "\n",
    "print(\"실제 지역별 여행지 분포:\")\n",
    "print(actual_distribution.sort_values(ascending=False))"
   ]
  },
  {
   "cell_type": "code",
   "execution_count": 23,
   "metadata": {},
   "outputs": [
    {
     "name": "stdout",
     "output_type": "stream",
     "text": [
      "Actual과 Predicted 비교:\n",
      "    Actual_Count  Predicted_Count  Difference\n",
      "전남            66               75           9\n",
      "충남            63               97          34\n",
      "전북            57               25         -32\n",
      "대전            49               45          -4\n",
      "충북            43               36          -7\n"
     ]
    }
   ],
   "source": [
    "import pandas as pd\n",
    "\n",
    "# Actual과 Predicted를 DataFrame으로 생성\n",
    "comparison = pd.DataFrame({\n",
    "    \"Actual\": y_test_filtered,  # 실제 여행지\n",
    "    \"Predicted\": y_pred         # 예측된 여행지\n",
    "})\n",
    "\n",
    "# Actual과 Predicted의 그룹화 및 개수 계산\n",
    "actual_counts = comparison.groupby(\"Actual\").size()\n",
    "predicted_counts = comparison.groupby(\"Predicted\").size()\n",
    "\n",
    "# Actual과 Predicted를 하나의 DataFrame으로 병합\n",
    "comparison_summary = pd.DataFrame({\n",
    "    \"Actual_Count\": actual_counts,\n",
    "    \"Predicted_Count\": predicted_counts\n",
    "}).fillna(0).astype(int)  # NaN 값은 0으로 채우고 정수로 변환\n",
    "\n",
    "# 차이 계산 (Actual - Predicted)\n",
    "comparison_summary[\"Difference\"] = comparison_summary[\"Predicted_Count\"] - comparison_summary[\"Actual_Count\"]\n",
    "\n",
    "# 결과 출력\n",
    "print(\"Actual과 Predicted 비교:\")\n",
    "print(comparison_summary.sort_values(by=\"Actual_Count\", ascending=False))"
   ]
  },
  {
   "cell_type": "markdown",
   "metadata": {},
   "source": [
    "> 분석 결과 : \n",
    ">1) 전남은 모델이 잘 예측하는 지역 중 하나임\n",
    ">2) 모델이 충남을 34로 과대평가하므로 충남의 특성이 다른 지역과 혼동될 가능성이 높음\n",
    ">3) 모델이 전북을 -32로 과소 예측하므로 전북의 특성이 다른 지역과 혼동됨\n",
    "<br>-> 위의 confusion matirx에서 확인한 것처럼 충북과 충남, 전북과 전남이 많이 혼동된다는 것을 알 수 있음."
   ]
  },
  {
   "cell_type": "markdown",
   "metadata": {},
   "source": [
    "3. 시즌별 여행지 선택 분석\n",
    "<ul>\n",
    "<li>특정 시즌에 인기가 많은 여행지에 대한 상품 기획 가능</li>"
   ]
  },
  {
   "cell_type": "code",
   "execution_count": 24,
   "metadata": {},
   "outputs": [
    {
     "name": "stdout",
     "output_type": "stream",
     "text": [
      "\n",
      "시즌별 예측된 여행지 분포:\n",
      "Predicted_Destination  대전  전남  전북  충남  충북\n",
      "SEASON                                   \n",
      "Autumn                 17  15   6  33   1\n",
      "Spring                  2  13   7   9   9\n",
      "Summer                 26  47  12  55  26\n"
     ]
    },
    {
     "data": {
      "image/png": "[encoded data removed]",
      "text/plain": [
       "<Figure size 1200x800 with 1 Axes>"
      ]
     },
     "metadata": {},
     "output_type": "display_data"
    }
   ],
   "source": [
    "# grouped_test를 y_test_filtered에 맞게 필터링\n",
    "grouped_test = grouped_test[grouped_test['TRAVEL_STATUS_DESTINATION'].isin(y_test_filtered)].reset_index(drop=True)\n",
    "\n",
    "# 예측값 추가\n",
    "grouped_test['Predicted_Destination'] = y_pred\n",
    "\n",
    "# 시즌별 여행지 선택 분석\n",
    "season_destination_distribution = grouped_test.groupby(['SEASON', 'Predicted_Destination']).size().unstack(fill_value=0)\n",
    "\n",
    "print(\"\\n시즌별 예측된 여행지 분포:\")\n",
    "print(season_destination_distribution)\n",
    "\n",
    "# 시즌별 여행지 선택 시각화\n",
    "season_destination_distribution.plot(kind='bar', stacked=True, figsize=(12, 8))\n",
    "plt.title(\"Seasonal Travel Destination Distribution\")\n",
    "plt.xlabel(\"Season\")\n",
    "plt.ylabel(\"Number of Predictions\")\n",
    "plt.legend(title=\"Predicted Destination\", bbox_to_anchor=(1.05, 1), loc='upper left')\n",
    "plt.tight_layout()\n",
    "plt.show()"
   ]
  },
  {
   "cell_type": "markdown",
   "metadata": {},
   "source": [
    "> 분석 결과 : \n",
    ">1) 가을은 충남(33건), 대전(17)이 주요 선택지\n",
    ">2) 봄은 전남(13건)이 주요 선택지\n",
    ">3) 여름은 충남(55건), 전남(47) 이 주요 선택지이며 다른 지역들도 다른 계절들에 비해서 여름의 비중이 가장 높은 것을 확인할 수 있음."
   ]
  }
 ],
 "metadata": {
  "kernelspec": {
   "display_name": "base",
   "language": "python",
   "name": "python3"
  },
  "language_info": {
   "codemirror_mode": {
    "name": "ipython",
    "version": 3
   },
   "file_extension": ".py",
   "mimetype": "text/x-python",
   "name": "python",
   "nbconvert_exporter": "python",
   "pygments_lexer": "ipython3",
   "version": "3.11.7"
  }
 },
 "nbformat": 4,
 "nbformat_minor": 2
}
