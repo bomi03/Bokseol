{
 "cells": [
  {
   "cell_type": "markdown",
   "metadata": {},
   "source": [
    "<h1>국내 여행 로그 데이터(서부권) (2023)</h1>\n",
    "<h2>[분석]</h2>\n",
    "<ul>\n",
    "<li>데이터 정보 및 전처리 과정은 data_preprocessing.ipynb 참고</li></ul>"
   ]
  },
  {
   "cell_type": "markdown",
   "metadata": {},
   "source": [
    "<hr>\n",
    "<h2>[패키지 및 데이터 로드]</h2>"
   ]
  },
  {
   "cell_type": "code",
   "execution_count": null,
   "metadata": {},
   "outputs": [],
   "source": [
    "# 데이터를 분석하는데 필요한 패키지 로드하기 \n",
    "import pandas as pd\n",
    "import numpy as np\n",
    "import seaborn as sns\n",
    "import matplotlib.pyplot as plt\n",
    "import re\n",
    "plt.rcParams.update({'font.family' : 'Malgun Gothic'}) \n",
    "\n",
    "# 숫자 표기 설정\n",
    "pd.options.display.float_format = '{:,.2f}'.format # 지수 없이 숫자로\n",
    "#pd.reset_option('display.float_format') # 지수표기법\n",
    "\n",
    "# 출력 설정 변경 (None : 모든 행,열 출력)\n",
    "pd.set_option('display.max_columns', None)\n",
    "pd.set_option('display.width', 1000)\n",
    "#pd.reset_option('all') # 설정 변경 초기화 "
   ]
  },
  {
   "cell_type": "code",
   "execution_count": null,
   "metadata": {},
   "outputs": [],
   "source": [
    "# 분석용 데이터 불러오기\n",
    "travel_log = pd.read_csv('data/training/merge_data/여행객.csv', encoding='UTF-8')\n"
   ]
  }
 ],
 "metadata": {
  "kernelspec": {
   "display_name": "base",
   "language": "python",
   "name": "python3"
  },
  "language_info": {
   "codemirror_mode": {
    "name": "ipython",
    "version": 3
   },
   "file_extension": ".py",
   "mimetype": "text/x-python",
   "name": "python",
   "nbconvert_exporter": "python",
   "pygments_lexer": "ipython3",
   "version": "3.11.7"
  }
 },
 "nbformat": 4,
 "nbformat_minor": 2
}
