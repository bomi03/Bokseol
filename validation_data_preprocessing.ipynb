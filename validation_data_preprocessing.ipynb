{
 "cells": [
  {
   "cell_type": "markdown",
   "metadata": {},
   "source": [
    "<h1>국내 여행 로그 데이터(서부권) (2023)</h1>\n",
    "<h3>다운 받은 국내 여행 로그 데이터는 training과 validation 데이터만 제공되므로 validation 데이터를 test 데이터로 사용<h3>\n"
   ]
  },
  {
   "cell_type": "markdown",
   "metadata": {},
   "source": [
    "<hr>\n",
    "<h2>[패키지 및 데이터 로드]</h2>"
   ]
  },
  {
   "cell_type": "code",
   "execution_count": 1152,
   "metadata": {},
   "outputs": [],
   "source": [
    "# 데이터를 분석하는데 필요한 패키지 로드하기 \n",
    "import pandas as pd\n",
    "import numpy as np\n",
    "import seaborn as sns\n",
    "import matplotlib.pyplot as plt\n",
    "import re\n",
    "plt.rcParams.update({'font.family' : 'Malgun Gothic'}) \n",
    "\n",
    "# 숫자 표기 설정\n",
    "pd.options.display.float_format = '{:,.2f}'.format # 지수 없이 숫자로\n",
    "#pd.reset_option('display.float_format') # 지수표기법\n",
    "\n",
    "# 출력 설정 변경 (None : 모든 행,열 출력)\n",
    "pd.set_option('display.max_columns', None)\n",
    "pd.set_option('display.width', 1000)\n",
    "#pd.reset_option('all') # 설정 변경 초기화 "
   ]
  },
  {
   "cell_type": "code",
   "execution_count": 1153,
   "metadata": {},
   "outputs": [],
   "source": [
    "# 분석용 데이터 불러오기\n",
    "raw_traveller_master = pd.read_csv('data/validation/original_data/여행객.csv', encoding='UTF-8')\n",
    "raw_companion_info = pd.read_csv('data/validation/original_data/동반자정보.csv', encoding='UTF-8')\n",
    "raw_travel = pd.read_csv('data/validation/original_data/여행.csv', encoding='UTF-8')\n",
    "raw_mvmn_consume = pd.read_csv('data/validation/original_data/이동수단소비내역.csv', encoding='UTF-8')\n",
    "raw_lodge_consume = pd.read_csv('data/validation/original_data/숙박소비내역.csv', encoding='UTF-8')\n",
    "raw_activity = pd.read_csv('data/validation/original_data/활동내역.csv', encoding='UTF-8')\n",
    "raw_activity_consume = pd.read_csv('data/validation/original_data/활동소비내역.csv', encoding='UTF-8')\n",
    "raw_adv_consume = pd.read_csv('data/validation/original_data/사전소비내역.csv', encoding='UTF-8')\n",
    "\n",
    "# 복사본 만들기 \n",
    "traveller_master = raw_traveller_master.copy()\n",
    "companion_info = raw_companion_info.copy()\n",
    "travel = raw_travel.copy()\n",
    "mvmn_consume = raw_mvmn_consume.copy()\n",
    "lodge_consume = raw_lodge_consume.copy()\n",
    "activity = raw_activity.copy()\n",
    "activity_consume = raw_activity_consume.copy()\n",
    "adv_consume = raw_adv_consume.copy()"
   ]
  },
  {
   "cell_type": "markdown",
   "metadata": {},
   "source": [
    "<hr>\n",
    "<h2>[한글값 매핑]</h2>"
   ]
  },
  {
   "cell_type": "code",
   "execution_count": 1154,
   "metadata": {},
   "outputs": [],
   "source": [
    "# 코드 'ACT'\n",
    "ACT_mapping = {\n",
    "    1 : '취식',\n",
    "    2 : '쇼핑 / 구매',\n",
    "    3 : '체험 활동 / 입장 및 관람',\n",
    "    4 : '단순 구경 / 산책 / 걷기',\n",
    "    5 : '휴식',\n",
    "    6 : '기타 활동',\n",
    "    7 : '환승/경유',\n",
    "    99 : '없음'\n",
    "}\n",
    "\n",
    "# 코드 'AGE'\n",
    "AGE_mapping = {\n",
    "    1 : '~9세이하',\n",
    "    2 : '10대',\n",
    "    3 : '20대',\n",
    "    4 : '30대',\n",
    "    5 : '40대',\n",
    "    6 : '50대',\n",
    "    7 : '60대',\n",
    "    8 : '70세이상'\n",
    "}\n",
    "\n",
    "# 코드 'GEN'\n",
    "GEN_mapping = {\n",
    "    1 : '남자',\n",
    "    2 : '여자'\n",
    "}\n",
    "\n",
    "# 코드 'HTY'\n",
    "HTY_mapping = {\n",
    "    1 : '호텔',\n",
    "    2 : '모텔/여관',\n",
    "    3 : '펜션',\n",
    "    4 : '콘도미니엄/리조트',\n",
    "    5 : '야영(캠핑,글램핑등)',\n",
    "    6 : '전통 숙박시설',\n",
    "    7 : '게스트하우스',\n",
    "    8 : '민박',\n",
    "    9 : '자연휴양림내 시설',\n",
    "    10 : '가족/친지집',\n",
    "    11 : '기타',\n",
    "    12 : '무박 여행'\n",
    "}\n",
    "\n",
    "# 코드 'JOB'\n",
    "JOB_mapping = {\n",
    "    1 : '관리자',\n",
    "    2 : '전문가 및 관련 종사자',\n",
    "    3 : '사무 종사자',\n",
    "    4 : '서비스 종사자',\n",
    "    5 : '판매 종사자',\n",
    "    6 : '농림어업 숙련 종사자',\n",
    "    7 : '기능원 및 관련 기능 종사자',\n",
    "    8 : '장치․기계 조작 및 조립 종사자',\n",
    "    9 : '단순노무종사자',\n",
    "    10 : '군인',\n",
    "    11 : '전업주부',\n",
    "    12 : '학생',\n",
    "    13 : '기타'\n",
    "}\n",
    "\n",
    "# 코드 'MIS'\n",
    "MIS_mapping = {\n",
    "    1 : '쇼핑',\n",
    "    2 : '테마파크, 놀이시설, 동/식물원 방문',\n",
    "    3 : '역사 유적지 방문',\n",
    "    4 : '시티투어',\n",
    "    5 : '야외 스포츠, 레포츠 활동',\n",
    "    6 : '지역 문화예술/공연/전시시설 관람',\n",
    "    7 : '유흥/오락(나이트라이프)',\n",
    "    8 : '캠핑',\n",
    "    9 : '지역 축제/이벤트 참가',\n",
    "    10 : '온천/스파',\n",
    "    11 : '교육/체험 프로그램 참가',\n",
    "    12 : '드라마 촬영지 방문',\n",
    "    13 : '종교/성지 순례',\n",
    "    21 : 'Well-ness 여행',\n",
    "    22 : 'SNS 인생샷 여행',\n",
    "    23 : '호캉스 여행',\n",
    "    24 : '신규 여행지 발굴',\n",
    "    25 : '반려동물 동반 여행',\n",
    "    26 : '인플루언서 따라하기 여행',\n",
    "    27 : '친환경 여행(플로깅 여행)',\n",
    "    28 : '등반 여행'\n",
    "}\n",
    "\n",
    "# 코드 'TCR'\n",
    "TCR_mapping = {\n",
    "    1 : '배우자',\n",
    "    2 : '자녀',\n",
    "    3 : '부모',\n",
    "    4 : '조부모',\n",
    "    5 : '형제/자매',\n",
    "    6 : '친인척',\n",
    "    7 : '친구',\n",
    "    8 : '연인',\n",
    "    9 : '동료',\n",
    "    10 : '친목 단체/모임(동호회, 종교단체 등)',\n",
    "    11 : '기타'\n",
    "}\n",
    "\n",
    "# 코드 'TMT'\n",
    "TMT_mapping = {\n",
    "    1 : '일상적인 환경 및 역할에서의 탈출, 지루함 탈피',\n",
    "    2 : '쉴 수 있는 기회, 육체 피로 해결 및 정신적인 휴식',\n",
    "    3 : '여행 동반자와의 친밀감 및 유대감 증진',\n",
    "    4 : '진정한 자아 찾기 또는 자신을 되돌아볼 기회 찾기',\n",
    "    5 : 'SNS 사진 등록 등 과시',\n",
    "    6 : '운동, 건강 증진 및 충전',\n",
    "    7 : '새로운 경험 추구',\n",
    "    8 : '역사 탐방, 문화적 경험 등 교육적 동기',\n",
    "    9 : '특별한 목적(칠순여행, 신혼여행, 수학여행, 인센티브여행)',\n",
    "    10 : '기타'\n",
    "}\n",
    "\n",
    "# 코드 'TSY' (자연 VS 도시)\n",
    "TSY_mapping = {\n",
    "    1 : '자연 선호(강)',\n",
    "    2 : '자연 선호(중)',\n",
    "    3 : '자연 선호(약)',\n",
    "    4 : '중립',\n",
    "    5 : '도시 선호(약)',\n",
    "    6 : '도시 선호(중)',\n",
    "    7 : '도시 선호(강)'\n",
    "}\n",
    "\n",
    "# 코드 'TTM'\n",
    "TTM_mapping = {\n",
    "    1 : '1주일',\n",
    "    2 : '한달',\n",
    "    3 : '1년',\n",
    "    4 : '기타'\n",
    "}"
   ]
  },
  {
   "cell_type": "code",
   "execution_count": 1155,
   "metadata": {},
   "outputs": [],
   "source": [
    "# 데이터프레임 변환 함수\n",
    "def convert_codes_to_korean(df, column_name, mapping) : \n",
    "    if column_name in df.columns : \n",
    "        df[column_name] = df[column_name].astype('int64')\n",
    "        df[column_name] = df[column_name].map(mapping)\n",
    "    return df"
   ]
  },
  {
   "cell_type": "markdown",
   "metadata": {},
   "source": [
    "<hr>\n",
    "<h2>[여행객.csv]</h2>"
   ]
  },
  {
   "cell_type": "markdown",
   "metadata": {},
   "source": [
    "<h3>1. 변수 추출 및 검토</h3>"
   ]
  },
  {
   "cell_type": "code",
   "execution_count": 1156,
   "metadata": {},
   "outputs": [
    {
     "name": "stdout",
     "output_type": "stream",
     "text": [
      "  TRAVELER_ID GENDER  AGE_GRP  JOB_NM  TRAVEL_TERM  TRAVEL_LIKE_SGG_1  TRAVEL_LIKE_SGG_2  TRAVEL_LIKE_SGG_3  TRAVEL_STYL_1  TRAVEL_STYL_2  TRAVEL_STYL_3  TRAVEL_STYL_4  TRAVEL_STYL_5  TRAVEL_STYL_6  TRAVEL_STYL_7  TRAVEL_STYL_8 TRAVEL_STATUS_RESIDENCE TRAVEL_STATUS_DESTINATION TRAVEL_STATUS_ACCOMPANY  TRAVEL_MOTIVE  TRAVEL_COMPANIONS_NUM\n",
      "0     g005903      남       30       5            2              42210              44825              41270              1              1              2              1              1              7              7              7                     경기도                        충남                자녀 동반 여행              2                      4\n",
      "1     g011387      여       20      13            2              50130              26350              30140              3              6              6              2              2              5              6              5                    충청남도                        대전             2인 여행(가족 외)              1                      1\n",
      "2     g003709      여       30       2            2              42810              26710              46130              4              5              3              2              5              3              5              6                   인천광역시                        대전         3대 동반 여행(친척 포함)              7                      2\n",
      "3     g002674      남       40       8            2              42210              46710              43800              1              7              1              7              1              1              1              6                    경상남도                        광주             2인 여행(가족 외)              6                      1\n",
      "4     g013104      남       30       3            2              46710              45110              50110              2              6              2              2              1              3              1              2                   광주광역시                        전남                  나홀로 여행              1                      0\n"
     ]
    }
   ],
   "source": [
    "# 필요한 변수 리스트\n",
    "columns_to_keep_traveller = [\n",
    "    'TRAVELER_ID', 'GENDER', 'AGE_GRP', 'JOB_NM', 'TRAVEL_TERM', 'TRAVEL_LIKE_SGG_1', 'TRAVEL_LIKE_SGG_2', 'TRAVEL_LIKE_SGG_3', \n",
    "    'TRAVEL_STYL_1','TRAVEL_STYL_2','TRAVEL_STYL_3','TRAVEL_STYL_4','TRAVEL_STYL_5', 'TRAVEL_STYL_6', 'TRAVEL_STYL_7', 'TRAVEL_STYL_8',\n",
    "    'TRAVEL_STATUS_RESIDENCE', 'TRAVEL_STATUS_DESTINATION', 'TRAVEL_STATUS_ACCOMPANY', 'TRAVEL_MOTIVE_1', 'TRAVEL_COMPANIONS_NUM'\n",
    "    ]\n",
    "\n",
    "# traveller_master에 필요한 변수만 남기고 저장\n",
    "traveller_master = traveller_master[columns_to_keep_traveller]\n",
    "\n",
    "# 변수명 변경\n",
    "traveller_master = traveller_master.rename(columns={'TRAVEL_MOTIVE_1' : 'TRAVEL_MOTIVE'})\n",
    "\n",
    "# 결과 확인\n",
    "print(traveller_master.head())"
   ]
  },
  {
   "cell_type": "code",
   "execution_count": 1157,
   "metadata": {},
   "outputs": [
    {
     "name": "stdout",
     "output_type": "stream",
     "text": [
      "여행객.csv의 행, 열 개수 : \n",
      "(320, 21)\n"
     ]
    }
   ],
   "source": [
    "# 데이터의 행, 열 개수 출력\n",
    "print('여행객.csv의 행, 열 개수 : ')\n",
    "print(traveller_master.shape)"
   ]
  },
  {
   "cell_type": "code",
   "execution_count": 1158,
   "metadata": {},
   "outputs": [
    {
     "name": "stdout",
     "output_type": "stream",
     "text": [
      "여행객.csv의 구조와 타입 : \n",
      "<class 'pandas.core.frame.DataFrame'>\n",
      "RangeIndex: 320 entries, 0 to 319\n",
      "Data columns (total 21 columns):\n",
      " #   Column                     Non-Null Count  Dtype \n",
      "---  ------                     --------------  ----- \n",
      " 0   TRAVELER_ID                320 non-null    object\n",
      " 1   GENDER                     320 non-null    object\n",
      " 2   AGE_GRP                    320 non-null    int64 \n",
      " 3   JOB_NM                     320 non-null    int64 \n",
      " 4   TRAVEL_TERM                320 non-null    int64 \n",
      " 5   TRAVEL_LIKE_SGG_1          320 non-null    int64 \n",
      " 6   TRAVEL_LIKE_SGG_2          320 non-null    int64 \n",
      " 7   TRAVEL_LIKE_SGG_3          320 non-null    int64 \n",
      " 8   TRAVEL_STYL_1              320 non-null    int64 \n",
      " 9   TRAVEL_STYL_2              320 non-null    int64 \n",
      " 10  TRAVEL_STYL_3              320 non-null    int64 \n",
      " 11  TRAVEL_STYL_4              320 non-null    int64 \n",
      " 12  TRAVEL_STYL_5              320 non-null    int64 \n",
      " 13  TRAVEL_STYL_6              320 non-null    int64 \n",
      " 14  TRAVEL_STYL_7              320 non-null    int64 \n",
      " 15  TRAVEL_STYL_8              320 non-null    int64 \n",
      " 16  TRAVEL_STATUS_RESIDENCE    320 non-null    object\n",
      " 17  TRAVEL_STATUS_DESTINATION  320 non-null    object\n",
      " 18  TRAVEL_STATUS_ACCOMPANY    320 non-null    object\n",
      " 19  TRAVEL_MOTIVE              320 non-null    int64 \n",
      " 20  TRAVEL_COMPANIONS_NUM      320 non-null    int64 \n",
      "dtypes: int64(16), object(5)\n",
      "memory usage: 52.6+ KB\n",
      "None\n"
     ]
    }
   ],
   "source": [
    "# 데이터의 구조와 타입 확인\n",
    "print('여행객.csv의 구조와 타입 : ')\n",
    "print(traveller_master.info())"
   ]
  },
  {
   "cell_type": "code",
   "execution_count": 1159,
   "metadata": {},
   "outputs": [
    {
     "name": "stdout",
     "output_type": "stream",
     "text": [
      "여행객.csv의 결측치 : \n",
      "TRAVELER_ID                  0\n",
      "GENDER                       0\n",
      "AGE_GRP                      0\n",
      "JOB_NM                       0\n",
      "TRAVEL_TERM                  0\n",
      "TRAVEL_LIKE_SGG_1            0\n",
      "TRAVEL_LIKE_SGG_2            0\n",
      "TRAVEL_LIKE_SGG_3            0\n",
      "TRAVEL_STYL_1                0\n",
      "TRAVEL_STYL_2                0\n",
      "TRAVEL_STYL_3                0\n",
      "TRAVEL_STYL_4                0\n",
      "TRAVEL_STYL_5                0\n",
      "TRAVEL_STYL_6                0\n",
      "TRAVEL_STYL_7                0\n",
      "TRAVEL_STYL_8                0\n",
      "TRAVEL_STATUS_RESIDENCE      0\n",
      "TRAVEL_STATUS_DESTINATION    0\n",
      "TRAVEL_STATUS_ACCOMPANY      0\n",
      "TRAVEL_MOTIVE                0\n",
      "TRAVEL_COMPANIONS_NUM        0\n",
      "dtype: int64\n"
     ]
    }
   ],
   "source": [
    "# 데이터의 결측치 확인\n",
    "print('여행객.csv의 결측치 : ')\n",
    "print(traveller_master.isnull().sum())"
   ]
  },
  {
   "cell_type": "code",
   "execution_count": 1160,
   "metadata": {},
   "outputs": [
    {
     "data": {
      "text/html": [
       "<div>\n",
       "<style scoped>\n",
       "    .dataframe tbody tr th:only-of-type {\n",
       "        vertical-align: middle;\n",
       "    }\n",
       "\n",
       "    .dataframe tbody tr th {\n",
       "        vertical-align: top;\n",
       "    }\n",
       "\n",
       "    .dataframe thead th {\n",
       "        text-align: right;\n",
       "    }\n",
       "</style>\n",
       "<table border=\"1\" class=\"dataframe\">\n",
       "  <thead>\n",
       "    <tr style=\"text-align: right;\">\n",
       "      <th></th>\n",
       "      <th>TRAVELER_ID</th>\n",
       "      <th>GENDER</th>\n",
       "      <th>AGE_GRP</th>\n",
       "      <th>JOB_NM</th>\n",
       "      <th>TRAVEL_TERM</th>\n",
       "      <th>TRAVEL_LIKE_SGG_1</th>\n",
       "      <th>TRAVEL_LIKE_SGG_2</th>\n",
       "      <th>TRAVEL_LIKE_SGG_3</th>\n",
       "      <th>TRAVEL_STYL_1</th>\n",
       "      <th>TRAVEL_STYL_2</th>\n",
       "      <th>TRAVEL_STYL_3</th>\n",
       "      <th>TRAVEL_STYL_4</th>\n",
       "      <th>TRAVEL_STYL_5</th>\n",
       "      <th>TRAVEL_STYL_6</th>\n",
       "      <th>TRAVEL_STYL_7</th>\n",
       "      <th>TRAVEL_STYL_8</th>\n",
       "      <th>TRAVEL_STATUS_RESIDENCE</th>\n",
       "      <th>TRAVEL_STATUS_DESTINATION</th>\n",
       "      <th>TRAVEL_STATUS_ACCOMPANY</th>\n",
       "      <th>TRAVEL_MOTIVE</th>\n",
       "      <th>TRAVEL_COMPANIONS_NUM</th>\n",
       "    </tr>\n",
       "  </thead>\n",
       "  <tbody>\n",
       "    <tr>\n",
       "      <th>0</th>\n",
       "      <td>g005903</td>\n",
       "      <td>남</td>\n",
       "      <td>30</td>\n",
       "      <td>5</td>\n",
       "      <td>2</td>\n",
       "      <td>42210</td>\n",
       "      <td>44825</td>\n",
       "      <td>41270</td>\n",
       "      <td>1</td>\n",
       "      <td>1</td>\n",
       "      <td>2</td>\n",
       "      <td>1</td>\n",
       "      <td>1</td>\n",
       "      <td>7</td>\n",
       "      <td>7</td>\n",
       "      <td>7</td>\n",
       "      <td>경기도</td>\n",
       "      <td>충남</td>\n",
       "      <td>자녀 동반 여행</td>\n",
       "      <td>2</td>\n",
       "      <td>4</td>\n",
       "    </tr>\n",
       "    <tr>\n",
       "      <th>1</th>\n",
       "      <td>g011387</td>\n",
       "      <td>여</td>\n",
       "      <td>20</td>\n",
       "      <td>13</td>\n",
       "      <td>2</td>\n",
       "      <td>50130</td>\n",
       "      <td>26350</td>\n",
       "      <td>30140</td>\n",
       "      <td>3</td>\n",
       "      <td>6</td>\n",
       "      <td>6</td>\n",
       "      <td>2</td>\n",
       "      <td>2</td>\n",
       "      <td>5</td>\n",
       "      <td>6</td>\n",
       "      <td>5</td>\n",
       "      <td>충청남도</td>\n",
       "      <td>대전</td>\n",
       "      <td>2인 여행(가족 외)</td>\n",
       "      <td>1</td>\n",
       "      <td>1</td>\n",
       "    </tr>\n",
       "    <tr>\n",
       "      <th>2</th>\n",
       "      <td>g003709</td>\n",
       "      <td>여</td>\n",
       "      <td>30</td>\n",
       "      <td>2</td>\n",
       "      <td>2</td>\n",
       "      <td>42810</td>\n",
       "      <td>26710</td>\n",
       "      <td>46130</td>\n",
       "      <td>4</td>\n",
       "      <td>5</td>\n",
       "      <td>3</td>\n",
       "      <td>2</td>\n",
       "      <td>5</td>\n",
       "      <td>3</td>\n",
       "      <td>5</td>\n",
       "      <td>6</td>\n",
       "      <td>인천광역시</td>\n",
       "      <td>대전</td>\n",
       "      <td>3대 동반 여행(친척 포함)</td>\n",
       "      <td>7</td>\n",
       "      <td>2</td>\n",
       "    </tr>\n",
       "    <tr>\n",
       "      <th>3</th>\n",
       "      <td>g002674</td>\n",
       "      <td>남</td>\n",
       "      <td>40</td>\n",
       "      <td>8</td>\n",
       "      <td>2</td>\n",
       "      <td>42210</td>\n",
       "      <td>46710</td>\n",
       "      <td>43800</td>\n",
       "      <td>1</td>\n",
       "      <td>7</td>\n",
       "      <td>1</td>\n",
       "      <td>7</td>\n",
       "      <td>1</td>\n",
       "      <td>1</td>\n",
       "      <td>1</td>\n",
       "      <td>6</td>\n",
       "      <td>경상남도</td>\n",
       "      <td>광주</td>\n",
       "      <td>2인 여행(가족 외)</td>\n",
       "      <td>6</td>\n",
       "      <td>1</td>\n",
       "    </tr>\n",
       "    <tr>\n",
       "      <th>4</th>\n",
       "      <td>g013104</td>\n",
       "      <td>남</td>\n",
       "      <td>30</td>\n",
       "      <td>3</td>\n",
       "      <td>2</td>\n",
       "      <td>46710</td>\n",
       "      <td>45110</td>\n",
       "      <td>50110</td>\n",
       "      <td>2</td>\n",
       "      <td>6</td>\n",
       "      <td>2</td>\n",
       "      <td>2</td>\n",
       "      <td>1</td>\n",
       "      <td>3</td>\n",
       "      <td>1</td>\n",
       "      <td>2</td>\n",
       "      <td>광주광역시</td>\n",
       "      <td>전남</td>\n",
       "      <td>나홀로 여행</td>\n",
       "      <td>1</td>\n",
       "      <td>0</td>\n",
       "    </tr>\n",
       "  </tbody>\n",
       "</table>\n",
       "</div>"
      ],
      "text/plain": [
       "  TRAVELER_ID GENDER  AGE_GRP  JOB_NM  TRAVEL_TERM  TRAVEL_LIKE_SGG_1  TRAVEL_LIKE_SGG_2  TRAVEL_LIKE_SGG_3  TRAVEL_STYL_1  TRAVEL_STYL_2  TRAVEL_STYL_3  TRAVEL_STYL_4  TRAVEL_STYL_5  TRAVEL_STYL_6  TRAVEL_STYL_7  TRAVEL_STYL_8 TRAVEL_STATUS_RESIDENCE TRAVEL_STATUS_DESTINATION TRAVEL_STATUS_ACCOMPANY  TRAVEL_MOTIVE  TRAVEL_COMPANIONS_NUM\n",
       "0     g005903      남       30       5            2              42210              44825              41270              1              1              2              1              1              7              7              7                     경기도                        충남                자녀 동반 여행              2                      4\n",
       "1     g011387      여       20      13            2              50130              26350              30140              3              6              6              2              2              5              6              5                    충청남도                        대전             2인 여행(가족 외)              1                      1\n",
       "2     g003709      여       30       2            2              42810              26710              46130              4              5              3              2              5              3              5              6                   인천광역시                        대전         3대 동반 여행(친척 포함)              7                      2\n",
       "3     g002674      남       40       8            2              42210              46710              43800              1              7              1              7              1              1              1              6                    경상남도                        광주             2인 여행(가족 외)              6                      1\n",
       "4     g013104      남       30       3            2              46710              45110              50110              2              6              2              2              1              3              1              2                   광주광역시                        전남                  나홀로 여행              1                      0"
      ]
     },
     "execution_count": 1160,
     "metadata": {},
     "output_type": "execute_result"
    }
   ],
   "source": [
    "# 데이터 살펴보기\n",
    "traveller_master.head()"
   ]
  },
  {
   "cell_type": "markdown",
   "metadata": {},
   "source": [
    "<h3>2. 전처리</h3>"
   ]
  },
  {
   "cell_type": "markdown",
   "metadata": {},
   "source": [
    "<h5>1) 모든 CSV 파일 통합을 위해 TRAVELER_ID를 TRAVEL_ID 형식으로 변환</h5>"
   ]
  },
  {
   "cell_type": "code",
   "execution_count": 1161,
   "metadata": {},
   "outputs": [
    {
     "data": {
      "text/html": [
       "<div>\n",
       "<style scoped>\n",
       "    .dataframe tbody tr th:only-of-type {\n",
       "        vertical-align: middle;\n",
       "    }\n",
       "\n",
       "    .dataframe tbody tr th {\n",
       "        vertical-align: top;\n",
       "    }\n",
       "\n",
       "    .dataframe thead th {\n",
       "        text-align: right;\n",
       "    }\n",
       "</style>\n",
       "<table border=\"1\" class=\"dataframe\">\n",
       "  <thead>\n",
       "    <tr style=\"text-align: right;\">\n",
       "      <th></th>\n",
       "      <th>TRAVELER_ID</th>\n",
       "      <th>TRAVEL_ID</th>\n",
       "    </tr>\n",
       "  </thead>\n",
       "  <tbody>\n",
       "    <tr>\n",
       "      <th>0</th>\n",
       "      <td>g005903</td>\n",
       "      <td>g_g005903</td>\n",
       "    </tr>\n",
       "    <tr>\n",
       "      <th>1</th>\n",
       "      <td>g011387</td>\n",
       "      <td>g_g011387</td>\n",
       "    </tr>\n",
       "    <tr>\n",
       "      <th>2</th>\n",
       "      <td>g003709</td>\n",
       "      <td>g_g003709</td>\n",
       "    </tr>\n",
       "    <tr>\n",
       "      <th>3</th>\n",
       "      <td>g002674</td>\n",
       "      <td>g_g002674</td>\n",
       "    </tr>\n",
       "    <tr>\n",
       "      <th>4</th>\n",
       "      <td>g013104</td>\n",
       "      <td>g_g013104</td>\n",
       "    </tr>\n",
       "  </tbody>\n",
       "</table>\n",
       "</div>"
      ],
      "text/plain": [
       "  TRAVELER_ID  TRAVEL_ID\n",
       "0     g005903  g_g005903\n",
       "1     g011387  g_g011387\n",
       "2     g003709  g_g003709\n",
       "3     g002674  g_g002674\n",
       "4     g013104  g_g013104"
      ]
     },
     "execution_count": 1161,
     "metadata": {},
     "output_type": "execute_result"
    }
   ],
   "source": [
    "# TRAVELER_ID의 가장 앞의 알파벳과 _를 추출하여 TRAVELER_ID에 결합하기 위한 함수\n",
    "def modify_travel_id(travel_id):\n",
    "    match = re.match(r'([a-zA-Z])(\\d+)', travel_id)\n",
    "    if match:\n",
    "        return f'{match.group(1)}_{match.group(0)}'\n",
    "    return travel_id\n",
    "\n",
    "# TRAVELER_ID 변환\n",
    "traveller_master['TRAVEL_ID'] = traveller_master['TRAVELER_ID'].apply(modify_travel_id)\n",
    "\n",
    "# 변환 결과 확인\n",
    "traveller_master[['TRAVELER_ID', 'TRAVEL_ID']].head()"
   ]
  },
  {
   "cell_type": "code",
   "execution_count": 1162,
   "metadata": {},
   "outputs": [
    {
     "data": {
      "text/html": [
       "<div>\n",
       "<style scoped>\n",
       "    .dataframe tbody tr th:only-of-type {\n",
       "        vertical-align: middle;\n",
       "    }\n",
       "\n",
       "    .dataframe tbody tr th {\n",
       "        vertical-align: top;\n",
       "    }\n",
       "\n",
       "    .dataframe thead th {\n",
       "        text-align: right;\n",
       "    }\n",
       "</style>\n",
       "<table border=\"1\" class=\"dataframe\">\n",
       "  <thead>\n",
       "    <tr style=\"text-align: right;\">\n",
       "      <th></th>\n",
       "      <th>GENDER</th>\n",
       "      <th>AGE_GRP</th>\n",
       "      <th>JOB_NM</th>\n",
       "      <th>TRAVEL_TERM</th>\n",
       "      <th>TRAVEL_LIKE_SGG_1</th>\n",
       "      <th>TRAVEL_LIKE_SGG_2</th>\n",
       "      <th>TRAVEL_LIKE_SGG_3</th>\n",
       "      <th>TRAVEL_STYL_1</th>\n",
       "      <th>TRAVEL_STYL_2</th>\n",
       "      <th>TRAVEL_STYL_3</th>\n",
       "      <th>TRAVEL_STYL_4</th>\n",
       "      <th>TRAVEL_STYL_5</th>\n",
       "      <th>TRAVEL_STYL_6</th>\n",
       "      <th>TRAVEL_STYL_7</th>\n",
       "      <th>TRAVEL_STYL_8</th>\n",
       "      <th>TRAVEL_STATUS_RESIDENCE</th>\n",
       "      <th>TRAVEL_STATUS_DESTINATION</th>\n",
       "      <th>TRAVEL_STATUS_ACCOMPANY</th>\n",
       "      <th>TRAVEL_MOTIVE</th>\n",
       "      <th>TRAVEL_COMPANIONS_NUM</th>\n",
       "      <th>TRAVEL_ID</th>\n",
       "    </tr>\n",
       "  </thead>\n",
       "  <tbody>\n",
       "    <tr>\n",
       "      <th>0</th>\n",
       "      <td>남</td>\n",
       "      <td>30</td>\n",
       "      <td>5</td>\n",
       "      <td>2</td>\n",
       "      <td>42210</td>\n",
       "      <td>44825</td>\n",
       "      <td>41270</td>\n",
       "      <td>1</td>\n",
       "      <td>1</td>\n",
       "      <td>2</td>\n",
       "      <td>1</td>\n",
       "      <td>1</td>\n",
       "      <td>7</td>\n",
       "      <td>7</td>\n",
       "      <td>7</td>\n",
       "      <td>경기도</td>\n",
       "      <td>충남</td>\n",
       "      <td>자녀 동반 여행</td>\n",
       "      <td>2</td>\n",
       "      <td>4</td>\n",
       "      <td>g_g005903</td>\n",
       "    </tr>\n",
       "    <tr>\n",
       "      <th>1</th>\n",
       "      <td>여</td>\n",
       "      <td>20</td>\n",
       "      <td>13</td>\n",
       "      <td>2</td>\n",
       "      <td>50130</td>\n",
       "      <td>26350</td>\n",
       "      <td>30140</td>\n",
       "      <td>3</td>\n",
       "      <td>6</td>\n",
       "      <td>6</td>\n",
       "      <td>2</td>\n",
       "      <td>2</td>\n",
       "      <td>5</td>\n",
       "      <td>6</td>\n",
       "      <td>5</td>\n",
       "      <td>충청남도</td>\n",
       "      <td>대전</td>\n",
       "      <td>2인 여행(가족 외)</td>\n",
       "      <td>1</td>\n",
       "      <td>1</td>\n",
       "      <td>g_g011387</td>\n",
       "    </tr>\n",
       "    <tr>\n",
       "      <th>2</th>\n",
       "      <td>여</td>\n",
       "      <td>30</td>\n",
       "      <td>2</td>\n",
       "      <td>2</td>\n",
       "      <td>42810</td>\n",
       "      <td>26710</td>\n",
       "      <td>46130</td>\n",
       "      <td>4</td>\n",
       "      <td>5</td>\n",
       "      <td>3</td>\n",
       "      <td>2</td>\n",
       "      <td>5</td>\n",
       "      <td>3</td>\n",
       "      <td>5</td>\n",
       "      <td>6</td>\n",
       "      <td>인천광역시</td>\n",
       "      <td>대전</td>\n",
       "      <td>3대 동반 여행(친척 포함)</td>\n",
       "      <td>7</td>\n",
       "      <td>2</td>\n",
       "      <td>g_g003709</td>\n",
       "    </tr>\n",
       "    <tr>\n",
       "      <th>3</th>\n",
       "      <td>남</td>\n",
       "      <td>40</td>\n",
       "      <td>8</td>\n",
       "      <td>2</td>\n",
       "      <td>42210</td>\n",
       "      <td>46710</td>\n",
       "      <td>43800</td>\n",
       "      <td>1</td>\n",
       "      <td>7</td>\n",
       "      <td>1</td>\n",
       "      <td>7</td>\n",
       "      <td>1</td>\n",
       "      <td>1</td>\n",
       "      <td>1</td>\n",
       "      <td>6</td>\n",
       "      <td>경상남도</td>\n",
       "      <td>광주</td>\n",
       "      <td>2인 여행(가족 외)</td>\n",
       "      <td>6</td>\n",
       "      <td>1</td>\n",
       "      <td>g_g002674</td>\n",
       "    </tr>\n",
       "    <tr>\n",
       "      <th>4</th>\n",
       "      <td>남</td>\n",
       "      <td>30</td>\n",
       "      <td>3</td>\n",
       "      <td>2</td>\n",
       "      <td>46710</td>\n",
       "      <td>45110</td>\n",
       "      <td>50110</td>\n",
       "      <td>2</td>\n",
       "      <td>6</td>\n",
       "      <td>2</td>\n",
       "      <td>2</td>\n",
       "      <td>1</td>\n",
       "      <td>3</td>\n",
       "      <td>1</td>\n",
       "      <td>2</td>\n",
       "      <td>광주광역시</td>\n",
       "      <td>전남</td>\n",
       "      <td>나홀로 여행</td>\n",
       "      <td>1</td>\n",
       "      <td>0</td>\n",
       "      <td>g_g013104</td>\n",
       "    </tr>\n",
       "  </tbody>\n",
       "</table>\n",
       "</div>"
      ],
      "text/plain": [
       "  GENDER  AGE_GRP  JOB_NM  TRAVEL_TERM  TRAVEL_LIKE_SGG_1  TRAVEL_LIKE_SGG_2  TRAVEL_LIKE_SGG_3  TRAVEL_STYL_1  TRAVEL_STYL_2  TRAVEL_STYL_3  TRAVEL_STYL_4  TRAVEL_STYL_5  TRAVEL_STYL_6  TRAVEL_STYL_7  TRAVEL_STYL_8 TRAVEL_STATUS_RESIDENCE TRAVEL_STATUS_DESTINATION TRAVEL_STATUS_ACCOMPANY  TRAVEL_MOTIVE  TRAVEL_COMPANIONS_NUM  TRAVEL_ID\n",
       "0      남       30       5            2              42210              44825              41270              1              1              2              1              1              7              7              7                     경기도                        충남                자녀 동반 여행              2                      4  g_g005903\n",
       "1      여       20      13            2              50130              26350              30140              3              6              6              2              2              5              6              5                    충청남도                        대전             2인 여행(가족 외)              1                      1  g_g011387\n",
       "2      여       30       2            2              42810              26710              46130              4              5              3              2              5              3              5              6                   인천광역시                        대전         3대 동반 여행(친척 포함)              7                      2  g_g003709\n",
       "3      남       40       8            2              42210              46710              43800              1              7              1              7              1              1              1              6                    경상남도                        광주             2인 여행(가족 외)              6                      1  g_g002674\n",
       "4      남       30       3            2              46710              45110              50110              2              6              2              2              1              3              1              2                   광주광역시                        전남                  나홀로 여행              1                      0  g_g013104"
      ]
     },
     "execution_count": 1162,
     "metadata": {},
     "output_type": "execute_result"
    }
   ],
   "source": [
    "# TRAVELER_ID 컬럼 삭제\n",
    "traveller_master.drop(columns=['TRAVELER_ID'], inplace=True)\n",
    "\n",
    "# 결과 확인\n",
    "traveller_master.head()"
   ]
  },
  {
   "cell_type": "markdown",
   "metadata": {},
   "source": [
    "<h5>2) JOB_NM 변수 코드 'JOB' 매핑</h5>"
   ]
  },
  {
   "cell_type": "code",
   "execution_count": 1163,
   "metadata": {},
   "outputs": [
    {
     "data": {
      "text/html": [
       "<div>\n",
       "<style scoped>\n",
       "    .dataframe tbody tr th:only-of-type {\n",
       "        vertical-align: middle;\n",
       "    }\n",
       "\n",
       "    .dataframe tbody tr th {\n",
       "        vertical-align: top;\n",
       "    }\n",
       "\n",
       "    .dataframe thead th {\n",
       "        text-align: right;\n",
       "    }\n",
       "</style>\n",
       "<table border=\"1\" class=\"dataframe\">\n",
       "  <thead>\n",
       "    <tr style=\"text-align: right;\">\n",
       "      <th></th>\n",
       "      <th>GENDER</th>\n",
       "      <th>AGE_GRP</th>\n",
       "      <th>JOB_NM</th>\n",
       "      <th>TRAVEL_TERM</th>\n",
       "      <th>TRAVEL_LIKE_SGG_1</th>\n",
       "      <th>TRAVEL_LIKE_SGG_2</th>\n",
       "      <th>TRAVEL_LIKE_SGG_3</th>\n",
       "      <th>TRAVEL_STYL_1</th>\n",
       "      <th>TRAVEL_STYL_2</th>\n",
       "      <th>TRAVEL_STYL_3</th>\n",
       "      <th>TRAVEL_STYL_4</th>\n",
       "      <th>TRAVEL_STYL_5</th>\n",
       "      <th>TRAVEL_STYL_6</th>\n",
       "      <th>TRAVEL_STYL_7</th>\n",
       "      <th>TRAVEL_STYL_8</th>\n",
       "      <th>TRAVEL_STATUS_RESIDENCE</th>\n",
       "      <th>TRAVEL_STATUS_DESTINATION</th>\n",
       "      <th>TRAVEL_STATUS_ACCOMPANY</th>\n",
       "      <th>TRAVEL_MOTIVE</th>\n",
       "      <th>TRAVEL_COMPANIONS_NUM</th>\n",
       "      <th>TRAVEL_ID</th>\n",
       "    </tr>\n",
       "  </thead>\n",
       "  <tbody>\n",
       "    <tr>\n",
       "      <th>0</th>\n",
       "      <td>남</td>\n",
       "      <td>30</td>\n",
       "      <td>판매 종사자</td>\n",
       "      <td>2</td>\n",
       "      <td>42210</td>\n",
       "      <td>44825</td>\n",
       "      <td>41270</td>\n",
       "      <td>1</td>\n",
       "      <td>1</td>\n",
       "      <td>2</td>\n",
       "      <td>1</td>\n",
       "      <td>1</td>\n",
       "      <td>7</td>\n",
       "      <td>7</td>\n",
       "      <td>7</td>\n",
       "      <td>경기도</td>\n",
       "      <td>충남</td>\n",
       "      <td>자녀 동반 여행</td>\n",
       "      <td>2</td>\n",
       "      <td>4</td>\n",
       "      <td>g_g005903</td>\n",
       "    </tr>\n",
       "    <tr>\n",
       "      <th>1</th>\n",
       "      <td>여</td>\n",
       "      <td>20</td>\n",
       "      <td>기타</td>\n",
       "      <td>2</td>\n",
       "      <td>50130</td>\n",
       "      <td>26350</td>\n",
       "      <td>30140</td>\n",
       "      <td>3</td>\n",
       "      <td>6</td>\n",
       "      <td>6</td>\n",
       "      <td>2</td>\n",
       "      <td>2</td>\n",
       "      <td>5</td>\n",
       "      <td>6</td>\n",
       "      <td>5</td>\n",
       "      <td>충청남도</td>\n",
       "      <td>대전</td>\n",
       "      <td>2인 여행(가족 외)</td>\n",
       "      <td>1</td>\n",
       "      <td>1</td>\n",
       "      <td>g_g011387</td>\n",
       "    </tr>\n",
       "    <tr>\n",
       "      <th>2</th>\n",
       "      <td>여</td>\n",
       "      <td>30</td>\n",
       "      <td>전문가 및 관련 종사자</td>\n",
       "      <td>2</td>\n",
       "      <td>42810</td>\n",
       "      <td>26710</td>\n",
       "      <td>46130</td>\n",
       "      <td>4</td>\n",
       "      <td>5</td>\n",
       "      <td>3</td>\n",
       "      <td>2</td>\n",
       "      <td>5</td>\n",
       "      <td>3</td>\n",
       "      <td>5</td>\n",
       "      <td>6</td>\n",
       "      <td>인천광역시</td>\n",
       "      <td>대전</td>\n",
       "      <td>3대 동반 여행(친척 포함)</td>\n",
       "      <td>7</td>\n",
       "      <td>2</td>\n",
       "      <td>g_g003709</td>\n",
       "    </tr>\n",
       "    <tr>\n",
       "      <th>3</th>\n",
       "      <td>남</td>\n",
       "      <td>40</td>\n",
       "      <td>장치․기계 조작 및 조립 종사자</td>\n",
       "      <td>2</td>\n",
       "      <td>42210</td>\n",
       "      <td>46710</td>\n",
       "      <td>43800</td>\n",
       "      <td>1</td>\n",
       "      <td>7</td>\n",
       "      <td>1</td>\n",
       "      <td>7</td>\n",
       "      <td>1</td>\n",
       "      <td>1</td>\n",
       "      <td>1</td>\n",
       "      <td>6</td>\n",
       "      <td>경상남도</td>\n",
       "      <td>광주</td>\n",
       "      <td>2인 여행(가족 외)</td>\n",
       "      <td>6</td>\n",
       "      <td>1</td>\n",
       "      <td>g_g002674</td>\n",
       "    </tr>\n",
       "    <tr>\n",
       "      <th>4</th>\n",
       "      <td>남</td>\n",
       "      <td>30</td>\n",
       "      <td>사무 종사자</td>\n",
       "      <td>2</td>\n",
       "      <td>46710</td>\n",
       "      <td>45110</td>\n",
       "      <td>50110</td>\n",
       "      <td>2</td>\n",
       "      <td>6</td>\n",
       "      <td>2</td>\n",
       "      <td>2</td>\n",
       "      <td>1</td>\n",
       "      <td>3</td>\n",
       "      <td>1</td>\n",
       "      <td>2</td>\n",
       "      <td>광주광역시</td>\n",
       "      <td>전남</td>\n",
       "      <td>나홀로 여행</td>\n",
       "      <td>1</td>\n",
       "      <td>0</td>\n",
       "      <td>g_g013104</td>\n",
       "    </tr>\n",
       "  </tbody>\n",
       "</table>\n",
       "</div>"
      ],
      "text/plain": [
       "  GENDER  AGE_GRP             JOB_NM  TRAVEL_TERM  TRAVEL_LIKE_SGG_1  TRAVEL_LIKE_SGG_2  TRAVEL_LIKE_SGG_3  TRAVEL_STYL_1  TRAVEL_STYL_2  TRAVEL_STYL_3  TRAVEL_STYL_4  TRAVEL_STYL_5  TRAVEL_STYL_6  TRAVEL_STYL_7  TRAVEL_STYL_8 TRAVEL_STATUS_RESIDENCE TRAVEL_STATUS_DESTINATION TRAVEL_STATUS_ACCOMPANY  TRAVEL_MOTIVE  TRAVEL_COMPANIONS_NUM  TRAVEL_ID\n",
       "0      남       30             판매 종사자            2              42210              44825              41270              1              1              2              1              1              7              7              7                     경기도                        충남                자녀 동반 여행              2                      4  g_g005903\n",
       "1      여       20                 기타            2              50130              26350              30140              3              6              6              2              2              5              6              5                    충청남도                        대전             2인 여행(가족 외)              1                      1  g_g011387\n",
       "2      여       30       전문가 및 관련 종사자            2              42810              26710              46130              4              5              3              2              5              3              5              6                   인천광역시                        대전         3대 동반 여행(친척 포함)              7                      2  g_g003709\n",
       "3      남       40  장치․기계 조작 및 조립 종사자            2              42210              46710              43800              1              7              1              7              1              1              1              6                    경상남도                        광주             2인 여행(가족 외)              6                      1  g_g002674\n",
       "4      남       30             사무 종사자            2              46710              45110              50110              2              6              2              2              1              3              1              2                   광주광역시                        전남                  나홀로 여행              1                      0  g_g013104"
      ]
     },
     "execution_count": 1163,
     "metadata": {},
     "output_type": "execute_result"
    }
   ],
   "source": [
    "traveller_master = convert_codes_to_korean(traveller_master, 'JOB_NM', JOB_mapping)\n",
    "\n",
    "# 결과 확인\n",
    "traveller_master.head()"
   ]
  },
  {
   "cell_type": "markdown",
   "metadata": {},
   "source": [
    "<h5>3) TRAVEL_TERM 변수 코드 'TTM' 매핑</h5>"
   ]
  },
  {
   "cell_type": "code",
   "execution_count": 1164,
   "metadata": {},
   "outputs": [
    {
     "data": {
      "text/html": [
       "<div>\n",
       "<style scoped>\n",
       "    .dataframe tbody tr th:only-of-type {\n",
       "        vertical-align: middle;\n",
       "    }\n",
       "\n",
       "    .dataframe tbody tr th {\n",
       "        vertical-align: top;\n",
       "    }\n",
       "\n",
       "    .dataframe thead th {\n",
       "        text-align: right;\n",
       "    }\n",
       "</style>\n",
       "<table border=\"1\" class=\"dataframe\">\n",
       "  <thead>\n",
       "    <tr style=\"text-align: right;\">\n",
       "      <th></th>\n",
       "      <th>GENDER</th>\n",
       "      <th>AGE_GRP</th>\n",
       "      <th>JOB_NM</th>\n",
       "      <th>TRAVEL_TERM</th>\n",
       "      <th>TRAVEL_LIKE_SGG_1</th>\n",
       "      <th>TRAVEL_LIKE_SGG_2</th>\n",
       "      <th>TRAVEL_LIKE_SGG_3</th>\n",
       "      <th>TRAVEL_STYL_1</th>\n",
       "      <th>TRAVEL_STYL_2</th>\n",
       "      <th>TRAVEL_STYL_3</th>\n",
       "      <th>TRAVEL_STYL_4</th>\n",
       "      <th>TRAVEL_STYL_5</th>\n",
       "      <th>TRAVEL_STYL_6</th>\n",
       "      <th>TRAVEL_STYL_7</th>\n",
       "      <th>TRAVEL_STYL_8</th>\n",
       "      <th>TRAVEL_STATUS_RESIDENCE</th>\n",
       "      <th>TRAVEL_STATUS_DESTINATION</th>\n",
       "      <th>TRAVEL_STATUS_ACCOMPANY</th>\n",
       "      <th>TRAVEL_MOTIVE</th>\n",
       "      <th>TRAVEL_COMPANIONS_NUM</th>\n",
       "      <th>TRAVEL_ID</th>\n",
       "    </tr>\n",
       "  </thead>\n",
       "  <tbody>\n",
       "    <tr>\n",
       "      <th>0</th>\n",
       "      <td>남</td>\n",
       "      <td>30</td>\n",
       "      <td>판매 종사자</td>\n",
       "      <td>한달</td>\n",
       "      <td>42210</td>\n",
       "      <td>44825</td>\n",
       "      <td>41270</td>\n",
       "      <td>1</td>\n",
       "      <td>1</td>\n",
       "      <td>2</td>\n",
       "      <td>1</td>\n",
       "      <td>1</td>\n",
       "      <td>7</td>\n",
       "      <td>7</td>\n",
       "      <td>7</td>\n",
       "      <td>경기도</td>\n",
       "      <td>충남</td>\n",
       "      <td>자녀 동반 여행</td>\n",
       "      <td>2</td>\n",
       "      <td>4</td>\n",
       "      <td>g_g005903</td>\n",
       "    </tr>\n",
       "    <tr>\n",
       "      <th>1</th>\n",
       "      <td>여</td>\n",
       "      <td>20</td>\n",
       "      <td>기타</td>\n",
       "      <td>한달</td>\n",
       "      <td>50130</td>\n",
       "      <td>26350</td>\n",
       "      <td>30140</td>\n",
       "      <td>3</td>\n",
       "      <td>6</td>\n",
       "      <td>6</td>\n",
       "      <td>2</td>\n",
       "      <td>2</td>\n",
       "      <td>5</td>\n",
       "      <td>6</td>\n",
       "      <td>5</td>\n",
       "      <td>충청남도</td>\n",
       "      <td>대전</td>\n",
       "      <td>2인 여행(가족 외)</td>\n",
       "      <td>1</td>\n",
       "      <td>1</td>\n",
       "      <td>g_g011387</td>\n",
       "    </tr>\n",
       "    <tr>\n",
       "      <th>2</th>\n",
       "      <td>여</td>\n",
       "      <td>30</td>\n",
       "      <td>전문가 및 관련 종사자</td>\n",
       "      <td>한달</td>\n",
       "      <td>42810</td>\n",
       "      <td>26710</td>\n",
       "      <td>46130</td>\n",
       "      <td>4</td>\n",
       "      <td>5</td>\n",
       "      <td>3</td>\n",
       "      <td>2</td>\n",
       "      <td>5</td>\n",
       "      <td>3</td>\n",
       "      <td>5</td>\n",
       "      <td>6</td>\n",
       "      <td>인천광역시</td>\n",
       "      <td>대전</td>\n",
       "      <td>3대 동반 여행(친척 포함)</td>\n",
       "      <td>7</td>\n",
       "      <td>2</td>\n",
       "      <td>g_g003709</td>\n",
       "    </tr>\n",
       "    <tr>\n",
       "      <th>3</th>\n",
       "      <td>남</td>\n",
       "      <td>40</td>\n",
       "      <td>장치․기계 조작 및 조립 종사자</td>\n",
       "      <td>한달</td>\n",
       "      <td>42210</td>\n",
       "      <td>46710</td>\n",
       "      <td>43800</td>\n",
       "      <td>1</td>\n",
       "      <td>7</td>\n",
       "      <td>1</td>\n",
       "      <td>7</td>\n",
       "      <td>1</td>\n",
       "      <td>1</td>\n",
       "      <td>1</td>\n",
       "      <td>6</td>\n",
       "      <td>경상남도</td>\n",
       "      <td>광주</td>\n",
       "      <td>2인 여행(가족 외)</td>\n",
       "      <td>6</td>\n",
       "      <td>1</td>\n",
       "      <td>g_g002674</td>\n",
       "    </tr>\n",
       "    <tr>\n",
       "      <th>4</th>\n",
       "      <td>남</td>\n",
       "      <td>30</td>\n",
       "      <td>사무 종사자</td>\n",
       "      <td>한달</td>\n",
       "      <td>46710</td>\n",
       "      <td>45110</td>\n",
       "      <td>50110</td>\n",
       "      <td>2</td>\n",
       "      <td>6</td>\n",
       "      <td>2</td>\n",
       "      <td>2</td>\n",
       "      <td>1</td>\n",
       "      <td>3</td>\n",
       "      <td>1</td>\n",
       "      <td>2</td>\n",
       "      <td>광주광역시</td>\n",
       "      <td>전남</td>\n",
       "      <td>나홀로 여행</td>\n",
       "      <td>1</td>\n",
       "      <td>0</td>\n",
       "      <td>g_g013104</td>\n",
       "    </tr>\n",
       "  </tbody>\n",
       "</table>\n",
       "</div>"
      ],
      "text/plain": [
       "  GENDER  AGE_GRP             JOB_NM TRAVEL_TERM  TRAVEL_LIKE_SGG_1  TRAVEL_LIKE_SGG_2  TRAVEL_LIKE_SGG_3  TRAVEL_STYL_1  TRAVEL_STYL_2  TRAVEL_STYL_3  TRAVEL_STYL_4  TRAVEL_STYL_5  TRAVEL_STYL_6  TRAVEL_STYL_7  TRAVEL_STYL_8 TRAVEL_STATUS_RESIDENCE TRAVEL_STATUS_DESTINATION TRAVEL_STATUS_ACCOMPANY  TRAVEL_MOTIVE  TRAVEL_COMPANIONS_NUM  TRAVEL_ID\n",
       "0      남       30             판매 종사자          한달              42210              44825              41270              1              1              2              1              1              7              7              7                     경기도                        충남                자녀 동반 여행              2                      4  g_g005903\n",
       "1      여       20                 기타          한달              50130              26350              30140              3              6              6              2              2              5              6              5                    충청남도                        대전             2인 여행(가족 외)              1                      1  g_g011387\n",
       "2      여       30       전문가 및 관련 종사자          한달              42810              26710              46130              4              5              3              2              5              3              5              6                   인천광역시                        대전         3대 동반 여행(친척 포함)              7                      2  g_g003709\n",
       "3      남       40  장치․기계 조작 및 조립 종사자          한달              42210              46710              43800              1              7              1              7              1              1              1              6                    경상남도                        광주             2인 여행(가족 외)              6                      1  g_g002674\n",
       "4      남       30             사무 종사자          한달              46710              45110              50110              2              6              2              2              1              3              1              2                   광주광역시                        전남                  나홀로 여행              1                      0  g_g013104"
      ]
     },
     "execution_count": 1164,
     "metadata": {},
     "output_type": "execute_result"
    }
   ],
   "source": [
    "traveller_master = convert_codes_to_korean(traveller_master, 'TRAVEL_TERM', TTM_mapping)\n",
    "\n",
    "# 결과 확인\n",
    "traveller_master.head()"
   ]
  },
  {
   "cell_type": "markdown",
   "metadata": {},
   "source": [
    "<h5>4) TRAVEL_STYL_1~8 변수 코드 'TSY' 매핑</h5>"
   ]
  },
  {
   "cell_type": "code",
   "execution_count": 1165,
   "metadata": {},
   "outputs": [
    {
     "data": {
      "text/html": [
       "<div>\n",
       "<style scoped>\n",
       "    .dataframe tbody tr th:only-of-type {\n",
       "        vertical-align: middle;\n",
       "    }\n",
       "\n",
       "    .dataframe tbody tr th {\n",
       "        vertical-align: top;\n",
       "    }\n",
       "\n",
       "    .dataframe thead th {\n",
       "        text-align: right;\n",
       "    }\n",
       "</style>\n",
       "<table border=\"1\" class=\"dataframe\">\n",
       "  <thead>\n",
       "    <tr style=\"text-align: right;\">\n",
       "      <th></th>\n",
       "      <th>GENDER</th>\n",
       "      <th>AGE_GRP</th>\n",
       "      <th>JOB_NM</th>\n",
       "      <th>TRAVEL_TERM</th>\n",
       "      <th>TRAVEL_LIKE_SGG_1</th>\n",
       "      <th>TRAVEL_LIKE_SGG_2</th>\n",
       "      <th>TRAVEL_LIKE_SGG_3</th>\n",
       "      <th>TRAVEL_STYL_1</th>\n",
       "      <th>TRAVEL_STYL_2</th>\n",
       "      <th>TRAVEL_STYL_3</th>\n",
       "      <th>TRAVEL_STYL_4</th>\n",
       "      <th>TRAVEL_STYL_5</th>\n",
       "      <th>TRAVEL_STYL_6</th>\n",
       "      <th>TRAVEL_STYL_7</th>\n",
       "      <th>TRAVEL_STYL_8</th>\n",
       "      <th>TRAVEL_STATUS_RESIDENCE</th>\n",
       "      <th>TRAVEL_STATUS_DESTINATION</th>\n",
       "      <th>TRAVEL_STATUS_ACCOMPANY</th>\n",
       "      <th>TRAVEL_MOTIVE</th>\n",
       "      <th>TRAVEL_COMPANIONS_NUM</th>\n",
       "      <th>TRAVEL_ID</th>\n",
       "    </tr>\n",
       "  </thead>\n",
       "  <tbody>\n",
       "    <tr>\n",
       "      <th>0</th>\n",
       "      <td>남</td>\n",
       "      <td>30</td>\n",
       "      <td>판매 종사자</td>\n",
       "      <td>한달</td>\n",
       "      <td>42210</td>\n",
       "      <td>44825</td>\n",
       "      <td>41270</td>\n",
       "      <td>자연 선호(강)</td>\n",
       "      <td>자연 선호(강)</td>\n",
       "      <td>자연 선호(중)</td>\n",
       "      <td>자연 선호(강)</td>\n",
       "      <td>자연 선호(강)</td>\n",
       "      <td>도시 선호(강)</td>\n",
       "      <td>도시 선호(강)</td>\n",
       "      <td>도시 선호(강)</td>\n",
       "      <td>경기도</td>\n",
       "      <td>충남</td>\n",
       "      <td>자녀 동반 여행</td>\n",
       "      <td>2</td>\n",
       "      <td>4</td>\n",
       "      <td>g_g005903</td>\n",
       "    </tr>\n",
       "    <tr>\n",
       "      <th>1</th>\n",
       "      <td>여</td>\n",
       "      <td>20</td>\n",
       "      <td>기타</td>\n",
       "      <td>한달</td>\n",
       "      <td>50130</td>\n",
       "      <td>26350</td>\n",
       "      <td>30140</td>\n",
       "      <td>자연 선호(약)</td>\n",
       "      <td>도시 선호(중)</td>\n",
       "      <td>도시 선호(중)</td>\n",
       "      <td>자연 선호(중)</td>\n",
       "      <td>자연 선호(중)</td>\n",
       "      <td>도시 선호(약)</td>\n",
       "      <td>도시 선호(중)</td>\n",
       "      <td>도시 선호(약)</td>\n",
       "      <td>충청남도</td>\n",
       "      <td>대전</td>\n",
       "      <td>2인 여행(가족 외)</td>\n",
       "      <td>1</td>\n",
       "      <td>1</td>\n",
       "      <td>g_g011387</td>\n",
       "    </tr>\n",
       "    <tr>\n",
       "      <th>2</th>\n",
       "      <td>여</td>\n",
       "      <td>30</td>\n",
       "      <td>전문가 및 관련 종사자</td>\n",
       "      <td>한달</td>\n",
       "      <td>42810</td>\n",
       "      <td>26710</td>\n",
       "      <td>46130</td>\n",
       "      <td>중립</td>\n",
       "      <td>도시 선호(약)</td>\n",
       "      <td>자연 선호(약)</td>\n",
       "      <td>자연 선호(중)</td>\n",
       "      <td>도시 선호(약)</td>\n",
       "      <td>자연 선호(약)</td>\n",
       "      <td>도시 선호(약)</td>\n",
       "      <td>도시 선호(중)</td>\n",
       "      <td>인천광역시</td>\n",
       "      <td>대전</td>\n",
       "      <td>3대 동반 여행(친척 포함)</td>\n",
       "      <td>7</td>\n",
       "      <td>2</td>\n",
       "      <td>g_g003709</td>\n",
       "    </tr>\n",
       "    <tr>\n",
       "      <th>3</th>\n",
       "      <td>남</td>\n",
       "      <td>40</td>\n",
       "      <td>장치․기계 조작 및 조립 종사자</td>\n",
       "      <td>한달</td>\n",
       "      <td>42210</td>\n",
       "      <td>46710</td>\n",
       "      <td>43800</td>\n",
       "      <td>자연 선호(강)</td>\n",
       "      <td>도시 선호(강)</td>\n",
       "      <td>자연 선호(강)</td>\n",
       "      <td>도시 선호(강)</td>\n",
       "      <td>자연 선호(강)</td>\n",
       "      <td>자연 선호(강)</td>\n",
       "      <td>자연 선호(강)</td>\n",
       "      <td>도시 선호(중)</td>\n",
       "      <td>경상남도</td>\n",
       "      <td>광주</td>\n",
       "      <td>2인 여행(가족 외)</td>\n",
       "      <td>6</td>\n",
       "      <td>1</td>\n",
       "      <td>g_g002674</td>\n",
       "    </tr>\n",
       "    <tr>\n",
       "      <th>4</th>\n",
       "      <td>남</td>\n",
       "      <td>30</td>\n",
       "      <td>사무 종사자</td>\n",
       "      <td>한달</td>\n",
       "      <td>46710</td>\n",
       "      <td>45110</td>\n",
       "      <td>50110</td>\n",
       "      <td>자연 선호(중)</td>\n",
       "      <td>도시 선호(중)</td>\n",
       "      <td>자연 선호(중)</td>\n",
       "      <td>자연 선호(중)</td>\n",
       "      <td>자연 선호(강)</td>\n",
       "      <td>자연 선호(약)</td>\n",
       "      <td>자연 선호(강)</td>\n",
       "      <td>자연 선호(중)</td>\n",
       "      <td>광주광역시</td>\n",
       "      <td>전남</td>\n",
       "      <td>나홀로 여행</td>\n",
       "      <td>1</td>\n",
       "      <td>0</td>\n",
       "      <td>g_g013104</td>\n",
       "    </tr>\n",
       "  </tbody>\n",
       "</table>\n",
       "</div>"
      ],
      "text/plain": [
       "  GENDER  AGE_GRP             JOB_NM TRAVEL_TERM  TRAVEL_LIKE_SGG_1  TRAVEL_LIKE_SGG_2  TRAVEL_LIKE_SGG_3 TRAVEL_STYL_1 TRAVEL_STYL_2 TRAVEL_STYL_3 TRAVEL_STYL_4 TRAVEL_STYL_5 TRAVEL_STYL_6 TRAVEL_STYL_7 TRAVEL_STYL_8 TRAVEL_STATUS_RESIDENCE TRAVEL_STATUS_DESTINATION TRAVEL_STATUS_ACCOMPANY  TRAVEL_MOTIVE  TRAVEL_COMPANIONS_NUM  TRAVEL_ID\n",
       "0      남       30             판매 종사자          한달              42210              44825              41270      자연 선호(강)      자연 선호(강)      자연 선호(중)      자연 선호(강)      자연 선호(강)      도시 선호(강)      도시 선호(강)      도시 선호(강)                     경기도                        충남                자녀 동반 여행              2                      4  g_g005903\n",
       "1      여       20                 기타          한달              50130              26350              30140      자연 선호(약)      도시 선호(중)      도시 선호(중)      자연 선호(중)      자연 선호(중)      도시 선호(약)      도시 선호(중)      도시 선호(약)                    충청남도                        대전             2인 여행(가족 외)              1                      1  g_g011387\n",
       "2      여       30       전문가 및 관련 종사자          한달              42810              26710              46130            중립      도시 선호(약)      자연 선호(약)      자연 선호(중)      도시 선호(약)      자연 선호(약)      도시 선호(약)      도시 선호(중)                   인천광역시                        대전         3대 동반 여행(친척 포함)              7                      2  g_g003709\n",
       "3      남       40  장치․기계 조작 및 조립 종사자          한달              42210              46710              43800      자연 선호(강)      도시 선호(강)      자연 선호(강)      도시 선호(강)      자연 선호(강)      자연 선호(강)      자연 선호(강)      도시 선호(중)                    경상남도                        광주             2인 여행(가족 외)              6                      1  g_g002674\n",
       "4      남       30             사무 종사자          한달              46710              45110              50110      자연 선호(중)      도시 선호(중)      자연 선호(중)      자연 선호(중)      자연 선호(강)      자연 선호(약)      자연 선호(강)      자연 선호(중)                   광주광역시                        전남                  나홀로 여행              1                      0  g_g013104"
      ]
     },
     "execution_count": 1165,
     "metadata": {},
     "output_type": "execute_result"
    }
   ],
   "source": [
    "traveller_master = convert_codes_to_korean(traveller_master, 'TRAVEL_STYL_1', TSY_mapping)\n",
    "traveller_master = convert_codes_to_korean(traveller_master, 'TRAVEL_STYL_2', TSY_mapping)\n",
    "traveller_master = convert_codes_to_korean(traveller_master, 'TRAVEL_STYL_3', TSY_mapping)\n",
    "traveller_master = convert_codes_to_korean(traveller_master, 'TRAVEL_STYL_4', TSY_mapping)\n",
    "traveller_master = convert_codes_to_korean(traveller_master, 'TRAVEL_STYL_5', TSY_mapping)\n",
    "traveller_master = convert_codes_to_korean(traveller_master, 'TRAVEL_STYL_6', TSY_mapping)\n",
    "traveller_master = convert_codes_to_korean(traveller_master, 'TRAVEL_STYL_7', TSY_mapping)\n",
    "traveller_master = convert_codes_to_korean(traveller_master, 'TRAVEL_STYL_8', TSY_mapping)\n",
    "\n",
    "# 결과 확인\n",
    "traveller_master.head()"
   ]
  },
  {
   "cell_type": "markdown",
   "metadata": {},
   "source": [
    "<h5>5) TRAVEL_MOTIVE 변수 코드 'TMT' 매핑</h5>"
   ]
  },
  {
   "cell_type": "code",
   "execution_count": 1166,
   "metadata": {},
   "outputs": [
    {
     "data": {
      "text/html": [
       "<div>\n",
       "<style scoped>\n",
       "    .dataframe tbody tr th:only-of-type {\n",
       "        vertical-align: middle;\n",
       "    }\n",
       "\n",
       "    .dataframe tbody tr th {\n",
       "        vertical-align: top;\n",
       "    }\n",
       "\n",
       "    .dataframe thead th {\n",
       "        text-align: right;\n",
       "    }\n",
       "</style>\n",
       "<table border=\"1\" class=\"dataframe\">\n",
       "  <thead>\n",
       "    <tr style=\"text-align: right;\">\n",
       "      <th></th>\n",
       "      <th>GENDER</th>\n",
       "      <th>AGE_GRP</th>\n",
       "      <th>JOB_NM</th>\n",
       "      <th>TRAVEL_TERM</th>\n",
       "      <th>TRAVEL_LIKE_SGG_1</th>\n",
       "      <th>TRAVEL_LIKE_SGG_2</th>\n",
       "      <th>TRAVEL_LIKE_SGG_3</th>\n",
       "      <th>TRAVEL_STYL_1</th>\n",
       "      <th>TRAVEL_STYL_2</th>\n",
       "      <th>TRAVEL_STYL_3</th>\n",
       "      <th>TRAVEL_STYL_4</th>\n",
       "      <th>TRAVEL_STYL_5</th>\n",
       "      <th>TRAVEL_STYL_6</th>\n",
       "      <th>TRAVEL_STYL_7</th>\n",
       "      <th>TRAVEL_STYL_8</th>\n",
       "      <th>TRAVEL_STATUS_RESIDENCE</th>\n",
       "      <th>TRAVEL_STATUS_DESTINATION</th>\n",
       "      <th>TRAVEL_STATUS_ACCOMPANY</th>\n",
       "      <th>TRAVEL_MOTIVE</th>\n",
       "      <th>TRAVEL_COMPANIONS_NUM</th>\n",
       "      <th>TRAVEL_ID</th>\n",
       "    </tr>\n",
       "  </thead>\n",
       "  <tbody>\n",
       "    <tr>\n",
       "      <th>0</th>\n",
       "      <td>남</td>\n",
       "      <td>30</td>\n",
       "      <td>판매 종사자</td>\n",
       "      <td>한달</td>\n",
       "      <td>42210</td>\n",
       "      <td>44825</td>\n",
       "      <td>41270</td>\n",
       "      <td>자연 선호(강)</td>\n",
       "      <td>자연 선호(강)</td>\n",
       "      <td>자연 선호(중)</td>\n",
       "      <td>자연 선호(강)</td>\n",
       "      <td>자연 선호(강)</td>\n",
       "      <td>도시 선호(강)</td>\n",
       "      <td>도시 선호(강)</td>\n",
       "      <td>도시 선호(강)</td>\n",
       "      <td>경기도</td>\n",
       "      <td>충남</td>\n",
       "      <td>자녀 동반 여행</td>\n",
       "      <td>쉴 수 있는 기회, 육체 피로 해결 및 정신적인 휴식</td>\n",
       "      <td>4</td>\n",
       "      <td>g_g005903</td>\n",
       "    </tr>\n",
       "    <tr>\n",
       "      <th>1</th>\n",
       "      <td>여</td>\n",
       "      <td>20</td>\n",
       "      <td>기타</td>\n",
       "      <td>한달</td>\n",
       "      <td>50130</td>\n",
       "      <td>26350</td>\n",
       "      <td>30140</td>\n",
       "      <td>자연 선호(약)</td>\n",
       "      <td>도시 선호(중)</td>\n",
       "      <td>도시 선호(중)</td>\n",
       "      <td>자연 선호(중)</td>\n",
       "      <td>자연 선호(중)</td>\n",
       "      <td>도시 선호(약)</td>\n",
       "      <td>도시 선호(중)</td>\n",
       "      <td>도시 선호(약)</td>\n",
       "      <td>충청남도</td>\n",
       "      <td>대전</td>\n",
       "      <td>2인 여행(가족 외)</td>\n",
       "      <td>일상적인 환경 및 역할에서의 탈출, 지루함 탈피</td>\n",
       "      <td>1</td>\n",
       "      <td>g_g011387</td>\n",
       "    </tr>\n",
       "    <tr>\n",
       "      <th>2</th>\n",
       "      <td>여</td>\n",
       "      <td>30</td>\n",
       "      <td>전문가 및 관련 종사자</td>\n",
       "      <td>한달</td>\n",
       "      <td>42810</td>\n",
       "      <td>26710</td>\n",
       "      <td>46130</td>\n",
       "      <td>중립</td>\n",
       "      <td>도시 선호(약)</td>\n",
       "      <td>자연 선호(약)</td>\n",
       "      <td>자연 선호(중)</td>\n",
       "      <td>도시 선호(약)</td>\n",
       "      <td>자연 선호(약)</td>\n",
       "      <td>도시 선호(약)</td>\n",
       "      <td>도시 선호(중)</td>\n",
       "      <td>인천광역시</td>\n",
       "      <td>대전</td>\n",
       "      <td>3대 동반 여행(친척 포함)</td>\n",
       "      <td>새로운 경험 추구</td>\n",
       "      <td>2</td>\n",
       "      <td>g_g003709</td>\n",
       "    </tr>\n",
       "    <tr>\n",
       "      <th>3</th>\n",
       "      <td>남</td>\n",
       "      <td>40</td>\n",
       "      <td>장치․기계 조작 및 조립 종사자</td>\n",
       "      <td>한달</td>\n",
       "      <td>42210</td>\n",
       "      <td>46710</td>\n",
       "      <td>43800</td>\n",
       "      <td>자연 선호(강)</td>\n",
       "      <td>도시 선호(강)</td>\n",
       "      <td>자연 선호(강)</td>\n",
       "      <td>도시 선호(강)</td>\n",
       "      <td>자연 선호(강)</td>\n",
       "      <td>자연 선호(강)</td>\n",
       "      <td>자연 선호(강)</td>\n",
       "      <td>도시 선호(중)</td>\n",
       "      <td>경상남도</td>\n",
       "      <td>광주</td>\n",
       "      <td>2인 여행(가족 외)</td>\n",
       "      <td>운동, 건강 증진 및 충전</td>\n",
       "      <td>1</td>\n",
       "      <td>g_g002674</td>\n",
       "    </tr>\n",
       "    <tr>\n",
       "      <th>4</th>\n",
       "      <td>남</td>\n",
       "      <td>30</td>\n",
       "      <td>사무 종사자</td>\n",
       "      <td>한달</td>\n",
       "      <td>46710</td>\n",
       "      <td>45110</td>\n",
       "      <td>50110</td>\n",
       "      <td>자연 선호(중)</td>\n",
       "      <td>도시 선호(중)</td>\n",
       "      <td>자연 선호(중)</td>\n",
       "      <td>자연 선호(중)</td>\n",
       "      <td>자연 선호(강)</td>\n",
       "      <td>자연 선호(약)</td>\n",
       "      <td>자연 선호(강)</td>\n",
       "      <td>자연 선호(중)</td>\n",
       "      <td>광주광역시</td>\n",
       "      <td>전남</td>\n",
       "      <td>나홀로 여행</td>\n",
       "      <td>일상적인 환경 및 역할에서의 탈출, 지루함 탈피</td>\n",
       "      <td>0</td>\n",
       "      <td>g_g013104</td>\n",
       "    </tr>\n",
       "  </tbody>\n",
       "</table>\n",
       "</div>"
      ],
      "text/plain": [
       "  GENDER  AGE_GRP             JOB_NM TRAVEL_TERM  TRAVEL_LIKE_SGG_1  TRAVEL_LIKE_SGG_2  TRAVEL_LIKE_SGG_3 TRAVEL_STYL_1 TRAVEL_STYL_2 TRAVEL_STYL_3 TRAVEL_STYL_4 TRAVEL_STYL_5 TRAVEL_STYL_6 TRAVEL_STYL_7 TRAVEL_STYL_8 TRAVEL_STATUS_RESIDENCE TRAVEL_STATUS_DESTINATION TRAVEL_STATUS_ACCOMPANY                  TRAVEL_MOTIVE  TRAVEL_COMPANIONS_NUM  TRAVEL_ID\n",
       "0      남       30             판매 종사자          한달              42210              44825              41270      자연 선호(강)      자연 선호(강)      자연 선호(중)      자연 선호(강)      자연 선호(강)      도시 선호(강)      도시 선호(강)      도시 선호(강)                     경기도                        충남                자녀 동반 여행  쉴 수 있는 기회, 육체 피로 해결 및 정신적인 휴식                      4  g_g005903\n",
       "1      여       20                 기타          한달              50130              26350              30140      자연 선호(약)      도시 선호(중)      도시 선호(중)      자연 선호(중)      자연 선호(중)      도시 선호(약)      도시 선호(중)      도시 선호(약)                    충청남도                        대전             2인 여행(가족 외)     일상적인 환경 및 역할에서의 탈출, 지루함 탈피                      1  g_g011387\n",
       "2      여       30       전문가 및 관련 종사자          한달              42810              26710              46130            중립      도시 선호(약)      자연 선호(약)      자연 선호(중)      도시 선호(약)      자연 선호(약)      도시 선호(약)      도시 선호(중)                   인천광역시                        대전         3대 동반 여행(친척 포함)                      새로운 경험 추구                      2  g_g003709\n",
       "3      남       40  장치․기계 조작 및 조립 종사자          한달              42210              46710              43800      자연 선호(강)      도시 선호(강)      자연 선호(강)      도시 선호(강)      자연 선호(강)      자연 선호(강)      자연 선호(강)      도시 선호(중)                    경상남도                        광주             2인 여행(가족 외)                 운동, 건강 증진 및 충전                      1  g_g002674\n",
       "4      남       30             사무 종사자          한달              46710              45110              50110      자연 선호(중)      도시 선호(중)      자연 선호(중)      자연 선호(중)      자연 선호(강)      자연 선호(약)      자연 선호(강)      자연 선호(중)                   광주광역시                        전남                  나홀로 여행     일상적인 환경 및 역할에서의 탈출, 지루함 탈피                      0  g_g013104"
      ]
     },
     "execution_count": 1166,
     "metadata": {},
     "output_type": "execute_result"
    }
   ],
   "source": [
    "traveller_master = convert_codes_to_korean(traveller_master, 'TRAVEL_MOTIVE', TMT_mapping)\n",
    "\n",
    "# 결과 확인\n",
    "traveller_master.head()"
   ]
  },
  {
   "cell_type": "markdown",
   "metadata": {},
   "source": [
    "<h3>3. 전처리 후 확인</h3>"
   ]
  },
  {
   "cell_type": "code",
   "execution_count": 1167,
   "metadata": {},
   "outputs": [
    {
     "name": "stdout",
     "output_type": "stream",
     "text": [
      "중복된 TRAVEL_ID가 없습니다.\n"
     ]
    }
   ],
   "source": [
    "# TRAVEL_ID 중복 여부 확인\n",
    "duplicates = traveller_master[traveller_master.duplicated(subset='TRAVEL_ID', keep=False)]\n",
    "\n",
    "# 중복된 항목이 있는 경우\n",
    "if not duplicates.empty:\n",
    "    print(\"중복된 TRAVEL_ID가 있습니다.\")\n",
    "    print(duplicates)\n",
    "else:\n",
    "    print(\"중복된 TRAVEL_ID가 없습니다.\")"
   ]
  },
  {
   "cell_type": "code",
   "execution_count": 1168,
   "metadata": {},
   "outputs": [
    {
     "name": "stdout",
     "output_type": "stream",
     "text": [
      "여행객.csv의 구조와 타입 : \n",
      "<class 'pandas.core.frame.DataFrame'>\n",
      "RangeIndex: 320 entries, 0 to 319\n",
      "Data columns (total 21 columns):\n",
      " #   Column                     Non-Null Count  Dtype \n",
      "---  ------                     --------------  ----- \n",
      " 0   GENDER                     320 non-null    object\n",
      " 1   AGE_GRP                    320 non-null    int64 \n",
      " 2   JOB_NM                     320 non-null    object\n",
      " 3   TRAVEL_TERM                320 non-null    object\n",
      " 4   TRAVEL_LIKE_SGG_1          320 non-null    int64 \n",
      " 5   TRAVEL_LIKE_SGG_2          320 non-null    int64 \n",
      " 6   TRAVEL_LIKE_SGG_3          320 non-null    int64 \n",
      " 7   TRAVEL_STYL_1              320 non-null    object\n",
      " 8   TRAVEL_STYL_2              320 non-null    object\n",
      " 9   TRAVEL_STYL_3              320 non-null    object\n",
      " 10  TRAVEL_STYL_4              320 non-null    object\n",
      " 11  TRAVEL_STYL_5              320 non-null    object\n",
      " 12  TRAVEL_STYL_6              320 non-null    object\n",
      " 13  TRAVEL_STYL_7              320 non-null    object\n",
      " 14  TRAVEL_STYL_8              320 non-null    object\n",
      " 15  TRAVEL_STATUS_RESIDENCE    320 non-null    object\n",
      " 16  TRAVEL_STATUS_DESTINATION  320 non-null    object\n",
      " 17  TRAVEL_STATUS_ACCOMPANY    320 non-null    object\n",
      " 18  TRAVEL_MOTIVE              320 non-null    object\n",
      " 19  TRAVEL_COMPANIONS_NUM      320 non-null    int64 \n",
      " 20  TRAVEL_ID                  320 non-null    object\n",
      "dtypes: int64(5), object(16)\n",
      "memory usage: 52.6+ KB\n",
      "None\n"
     ]
    }
   ],
   "source": [
    "# 데이터의 구조와 타입 확인\n",
    "print('여행객.csv의 구조와 타입 : ')\n",
    "print(traveller_master.info())"
   ]
  },
  {
   "cell_type": "code",
   "execution_count": 1169,
   "metadata": {},
   "outputs": [
    {
     "name": "stdout",
     "output_type": "stream",
     "text": [
      "여행객.csv의 결측치 : \n",
      "GENDER                       0\n",
      "AGE_GRP                      0\n",
      "JOB_NM                       0\n",
      "TRAVEL_TERM                  0\n",
      "TRAVEL_LIKE_SGG_1            0\n",
      "TRAVEL_LIKE_SGG_2            0\n",
      "TRAVEL_LIKE_SGG_3            0\n",
      "TRAVEL_STYL_1                0\n",
      "TRAVEL_STYL_2                0\n",
      "TRAVEL_STYL_3                0\n",
      "TRAVEL_STYL_4                0\n",
      "TRAVEL_STYL_5                0\n",
      "TRAVEL_STYL_6                0\n",
      "TRAVEL_STYL_7                0\n",
      "TRAVEL_STYL_8                0\n",
      "TRAVEL_STATUS_RESIDENCE      0\n",
      "TRAVEL_STATUS_DESTINATION    0\n",
      "TRAVEL_STATUS_ACCOMPANY      0\n",
      "TRAVEL_MOTIVE                0\n",
      "TRAVEL_COMPANIONS_NUM        0\n",
      "TRAVEL_ID                    0\n",
      "dtype: int64\n"
     ]
    }
   ],
   "source": [
    "# 데이터의 결측치 확인\n",
    "print('여행객.csv의 결측치 : ')\n",
    "print(traveller_master.isnull().sum())"
   ]
  },
  {
   "cell_type": "code",
   "execution_count": 1170,
   "metadata": {},
   "outputs": [
    {
     "data": {
      "text/html": [
       "<div>\n",
       "<style scoped>\n",
       "    .dataframe tbody tr th:only-of-type {\n",
       "        vertical-align: middle;\n",
       "    }\n",
       "\n",
       "    .dataframe tbody tr th {\n",
       "        vertical-align: top;\n",
       "    }\n",
       "\n",
       "    .dataframe thead th {\n",
       "        text-align: right;\n",
       "    }\n",
       "</style>\n",
       "<table border=\"1\" class=\"dataframe\">\n",
       "  <thead>\n",
       "    <tr style=\"text-align: right;\">\n",
       "      <th></th>\n",
       "      <th>GENDER</th>\n",
       "      <th>AGE_GRP</th>\n",
       "      <th>JOB_NM</th>\n",
       "      <th>TRAVEL_TERM</th>\n",
       "      <th>TRAVEL_LIKE_SGG_1</th>\n",
       "      <th>TRAVEL_LIKE_SGG_2</th>\n",
       "      <th>TRAVEL_LIKE_SGG_3</th>\n",
       "      <th>TRAVEL_STYL_1</th>\n",
       "      <th>TRAVEL_STYL_2</th>\n",
       "      <th>TRAVEL_STYL_3</th>\n",
       "      <th>TRAVEL_STYL_4</th>\n",
       "      <th>TRAVEL_STYL_5</th>\n",
       "      <th>TRAVEL_STYL_6</th>\n",
       "      <th>TRAVEL_STYL_7</th>\n",
       "      <th>TRAVEL_STYL_8</th>\n",
       "      <th>TRAVEL_STATUS_RESIDENCE</th>\n",
       "      <th>TRAVEL_STATUS_DESTINATION</th>\n",
       "      <th>TRAVEL_STATUS_ACCOMPANY</th>\n",
       "      <th>TRAVEL_MOTIVE</th>\n",
       "      <th>TRAVEL_COMPANIONS_NUM</th>\n",
       "      <th>TRAVEL_ID</th>\n",
       "    </tr>\n",
       "  </thead>\n",
       "  <tbody>\n",
       "    <tr>\n",
       "      <th>0</th>\n",
       "      <td>남</td>\n",
       "      <td>30</td>\n",
       "      <td>판매 종사자</td>\n",
       "      <td>한달</td>\n",
       "      <td>42210</td>\n",
       "      <td>44825</td>\n",
       "      <td>41270</td>\n",
       "      <td>자연 선호(강)</td>\n",
       "      <td>자연 선호(강)</td>\n",
       "      <td>자연 선호(중)</td>\n",
       "      <td>자연 선호(강)</td>\n",
       "      <td>자연 선호(강)</td>\n",
       "      <td>도시 선호(강)</td>\n",
       "      <td>도시 선호(강)</td>\n",
       "      <td>도시 선호(강)</td>\n",
       "      <td>경기도</td>\n",
       "      <td>충남</td>\n",
       "      <td>자녀 동반 여행</td>\n",
       "      <td>쉴 수 있는 기회, 육체 피로 해결 및 정신적인 휴식</td>\n",
       "      <td>4</td>\n",
       "      <td>g_g005903</td>\n",
       "    </tr>\n",
       "    <tr>\n",
       "      <th>1</th>\n",
       "      <td>여</td>\n",
       "      <td>20</td>\n",
       "      <td>기타</td>\n",
       "      <td>한달</td>\n",
       "      <td>50130</td>\n",
       "      <td>26350</td>\n",
       "      <td>30140</td>\n",
       "      <td>자연 선호(약)</td>\n",
       "      <td>도시 선호(중)</td>\n",
       "      <td>도시 선호(중)</td>\n",
       "      <td>자연 선호(중)</td>\n",
       "      <td>자연 선호(중)</td>\n",
       "      <td>도시 선호(약)</td>\n",
       "      <td>도시 선호(중)</td>\n",
       "      <td>도시 선호(약)</td>\n",
       "      <td>충청남도</td>\n",
       "      <td>대전</td>\n",
       "      <td>2인 여행(가족 외)</td>\n",
       "      <td>일상적인 환경 및 역할에서의 탈출, 지루함 탈피</td>\n",
       "      <td>1</td>\n",
       "      <td>g_g011387</td>\n",
       "    </tr>\n",
       "    <tr>\n",
       "      <th>2</th>\n",
       "      <td>여</td>\n",
       "      <td>30</td>\n",
       "      <td>전문가 및 관련 종사자</td>\n",
       "      <td>한달</td>\n",
       "      <td>42810</td>\n",
       "      <td>26710</td>\n",
       "      <td>46130</td>\n",
       "      <td>중립</td>\n",
       "      <td>도시 선호(약)</td>\n",
       "      <td>자연 선호(약)</td>\n",
       "      <td>자연 선호(중)</td>\n",
       "      <td>도시 선호(약)</td>\n",
       "      <td>자연 선호(약)</td>\n",
       "      <td>도시 선호(약)</td>\n",
       "      <td>도시 선호(중)</td>\n",
       "      <td>인천광역시</td>\n",
       "      <td>대전</td>\n",
       "      <td>3대 동반 여행(친척 포함)</td>\n",
       "      <td>새로운 경험 추구</td>\n",
       "      <td>2</td>\n",
       "      <td>g_g003709</td>\n",
       "    </tr>\n",
       "    <tr>\n",
       "      <th>3</th>\n",
       "      <td>남</td>\n",
       "      <td>40</td>\n",
       "      <td>장치․기계 조작 및 조립 종사자</td>\n",
       "      <td>한달</td>\n",
       "      <td>42210</td>\n",
       "      <td>46710</td>\n",
       "      <td>43800</td>\n",
       "      <td>자연 선호(강)</td>\n",
       "      <td>도시 선호(강)</td>\n",
       "      <td>자연 선호(강)</td>\n",
       "      <td>도시 선호(강)</td>\n",
       "      <td>자연 선호(강)</td>\n",
       "      <td>자연 선호(강)</td>\n",
       "      <td>자연 선호(강)</td>\n",
       "      <td>도시 선호(중)</td>\n",
       "      <td>경상남도</td>\n",
       "      <td>광주</td>\n",
       "      <td>2인 여행(가족 외)</td>\n",
       "      <td>운동, 건강 증진 및 충전</td>\n",
       "      <td>1</td>\n",
       "      <td>g_g002674</td>\n",
       "    </tr>\n",
       "    <tr>\n",
       "      <th>4</th>\n",
       "      <td>남</td>\n",
       "      <td>30</td>\n",
       "      <td>사무 종사자</td>\n",
       "      <td>한달</td>\n",
       "      <td>46710</td>\n",
       "      <td>45110</td>\n",
       "      <td>50110</td>\n",
       "      <td>자연 선호(중)</td>\n",
       "      <td>도시 선호(중)</td>\n",
       "      <td>자연 선호(중)</td>\n",
       "      <td>자연 선호(중)</td>\n",
       "      <td>자연 선호(강)</td>\n",
       "      <td>자연 선호(약)</td>\n",
       "      <td>자연 선호(강)</td>\n",
       "      <td>자연 선호(중)</td>\n",
       "      <td>광주광역시</td>\n",
       "      <td>전남</td>\n",
       "      <td>나홀로 여행</td>\n",
       "      <td>일상적인 환경 및 역할에서의 탈출, 지루함 탈피</td>\n",
       "      <td>0</td>\n",
       "      <td>g_g013104</td>\n",
       "    </tr>\n",
       "  </tbody>\n",
       "</table>\n",
       "</div>"
      ],
      "text/plain": [
       "  GENDER  AGE_GRP             JOB_NM TRAVEL_TERM  TRAVEL_LIKE_SGG_1  TRAVEL_LIKE_SGG_2  TRAVEL_LIKE_SGG_3 TRAVEL_STYL_1 TRAVEL_STYL_2 TRAVEL_STYL_3 TRAVEL_STYL_4 TRAVEL_STYL_5 TRAVEL_STYL_6 TRAVEL_STYL_7 TRAVEL_STYL_8 TRAVEL_STATUS_RESIDENCE TRAVEL_STATUS_DESTINATION TRAVEL_STATUS_ACCOMPANY                  TRAVEL_MOTIVE  TRAVEL_COMPANIONS_NUM  TRAVEL_ID\n",
       "0      남       30             판매 종사자          한달              42210              44825              41270      자연 선호(강)      자연 선호(강)      자연 선호(중)      자연 선호(강)      자연 선호(강)      도시 선호(강)      도시 선호(강)      도시 선호(강)                     경기도                        충남                자녀 동반 여행  쉴 수 있는 기회, 육체 피로 해결 및 정신적인 휴식                      4  g_g005903\n",
       "1      여       20                 기타          한달              50130              26350              30140      자연 선호(약)      도시 선호(중)      도시 선호(중)      자연 선호(중)      자연 선호(중)      도시 선호(약)      도시 선호(중)      도시 선호(약)                    충청남도                        대전             2인 여행(가족 외)     일상적인 환경 및 역할에서의 탈출, 지루함 탈피                      1  g_g011387\n",
       "2      여       30       전문가 및 관련 종사자          한달              42810              26710              46130            중립      도시 선호(약)      자연 선호(약)      자연 선호(중)      도시 선호(약)      자연 선호(약)      도시 선호(약)      도시 선호(중)                   인천광역시                        대전         3대 동반 여행(친척 포함)                      새로운 경험 추구                      2  g_g003709\n",
       "3      남       40  장치․기계 조작 및 조립 종사자          한달              42210              46710              43800      자연 선호(강)      도시 선호(강)      자연 선호(강)      도시 선호(강)      자연 선호(강)      자연 선호(강)      자연 선호(강)      도시 선호(중)                    경상남도                        광주             2인 여행(가족 외)                 운동, 건강 증진 및 충전                      1  g_g002674\n",
       "4      남       30             사무 종사자          한달              46710              45110              50110      자연 선호(중)      도시 선호(중)      자연 선호(중)      자연 선호(중)      자연 선호(강)      자연 선호(약)      자연 선호(강)      자연 선호(중)                   광주광역시                        전남                  나홀로 여행     일상적인 환경 및 역할에서의 탈출, 지루함 탈피                      0  g_g013104"
      ]
     },
     "execution_count": 1170,
     "metadata": {},
     "output_type": "execute_result"
    }
   ],
   "source": [
    "# 데이터 살펴보기\n",
    "traveller_master.head()"
   ]
  },
  {
   "cell_type": "markdown",
   "metadata": {},
   "source": [
    "<h3>4. 전처리 CSV 저장</h3>"
   ]
  },
  {
   "cell_type": "code",
   "execution_count": 1171,
   "metadata": {},
   "outputs": [],
   "source": [
    "traveller_master.to_csv('data/validation/preprocessing_data/여행객_전처리.csv',index=False)"
   ]
  },
  {
   "cell_type": "markdown",
   "metadata": {},
   "source": [
    "<hr>\n",
    "<h2>[동반자정보.csv]</h2>"
   ]
  },
  {
   "cell_type": "markdown",
   "metadata": {},
   "source": [
    "<h3>1. 변수 추출 및 검토</h3>"
   ]
  },
  {
   "cell_type": "code",
   "execution_count": 1172,
   "metadata": {},
   "outputs": [
    {
     "name": "stdout",
     "output_type": "stream",
     "text": [
      "   TRAVEL_ID  REL_CD  COMPANION_GENDER  COMPANION_AGE_GRP\n",
      "0  e_e000821       1                 2                  4\n",
      "1  e_e000821       7                 2                  4\n",
      "2  e_e000821       7                 2                  4\n",
      "3  e_e000821       7                 2                  4\n",
      "4  e_e000821       7                 2                  4\n"
     ]
    }
   ],
   "source": [
    "# 필요한 변수 리스트\n",
    "columns_to_keep_companion = [\n",
    "    'TRAVEL_ID', 'REL_CD', 'COMPANION_GENDER', 'COMPANION_AGE_GRP'\n",
    "    ]\n",
    "\n",
    "# companion_info에 필요한 변수만 남기고 저장\n",
    "companion_info = companion_info[columns_to_keep_companion]\n",
    "\n",
    "# 결과 확인\n",
    "print(companion_info.head())"
   ]
  },
  {
   "cell_type": "code",
   "execution_count": 1173,
   "metadata": {},
   "outputs": [
    {
     "name": "stdout",
     "output_type": "stream",
     "text": [
      "동반자정보.csv의 행, 열 개수 : \n",
      "(464, 4)\n"
     ]
    }
   ],
   "source": [
    "# 데이터의 행, 열 개수 출력\n",
    "print('동반자정보.csv의 행, 열 개수 : ')\n",
    "print(companion_info.shape)"
   ]
  },
  {
   "cell_type": "code",
   "execution_count": 1174,
   "metadata": {},
   "outputs": [
    {
     "name": "stdout",
     "output_type": "stream",
     "text": [
      "동반자정보.csv의 구조와 타입 : \n",
      "<class 'pandas.core.frame.DataFrame'>\n",
      "RangeIndex: 464 entries, 0 to 463\n",
      "Data columns (total 4 columns):\n",
      " #   Column             Non-Null Count  Dtype \n",
      "---  ------             --------------  ----- \n",
      " 0   TRAVEL_ID          464 non-null    object\n",
      " 1   REL_CD             464 non-null    int64 \n",
      " 2   COMPANION_GENDER   464 non-null    int64 \n",
      " 3   COMPANION_AGE_GRP  464 non-null    int64 \n",
      "dtypes: int64(3), object(1)\n",
      "memory usage: 14.6+ KB\n",
      "None\n"
     ]
    }
   ],
   "source": [
    "# 데이터의 구조와 타입 확인\n",
    "print('동반자정보.csv의 구조와 타입 : ')\n",
    "print(companion_info.info())"
   ]
  },
  {
   "cell_type": "code",
   "execution_count": 1175,
   "metadata": {},
   "outputs": [
    {
     "name": "stdout",
     "output_type": "stream",
     "text": [
      "동반자정보.csv의 결측치 : \n",
      "TRAVEL_ID            0\n",
      "REL_CD               0\n",
      "COMPANION_GENDER     0\n",
      "COMPANION_AGE_GRP    0\n",
      "dtype: int64\n"
     ]
    }
   ],
   "source": [
    "# 데이터의 결측치 확인\n",
    "print('동반자정보.csv의 결측치 : ')\n",
    "print(companion_info.isnull().sum())"
   ]
  },
  {
   "cell_type": "code",
   "execution_count": 1176,
   "metadata": {},
   "outputs": [
    {
     "data": {
      "text/html": [
       "<div>\n",
       "<style scoped>\n",
       "    .dataframe tbody tr th:only-of-type {\n",
       "        vertical-align: middle;\n",
       "    }\n",
       "\n",
       "    .dataframe tbody tr th {\n",
       "        vertical-align: top;\n",
       "    }\n",
       "\n",
       "    .dataframe thead th {\n",
       "        text-align: right;\n",
       "    }\n",
       "</style>\n",
       "<table border=\"1\" class=\"dataframe\">\n",
       "  <thead>\n",
       "    <tr style=\"text-align: right;\">\n",
       "      <th></th>\n",
       "      <th>TRAVEL_ID</th>\n",
       "      <th>REL_CD</th>\n",
       "      <th>COMPANION_GENDER</th>\n",
       "      <th>COMPANION_AGE_GRP</th>\n",
       "    </tr>\n",
       "  </thead>\n",
       "  <tbody>\n",
       "    <tr>\n",
       "      <th>0</th>\n",
       "      <td>e_e000821</td>\n",
       "      <td>1</td>\n",
       "      <td>2</td>\n",
       "      <td>4</td>\n",
       "    </tr>\n",
       "    <tr>\n",
       "      <th>1</th>\n",
       "      <td>e_e000821</td>\n",
       "      <td>7</td>\n",
       "      <td>2</td>\n",
       "      <td>4</td>\n",
       "    </tr>\n",
       "    <tr>\n",
       "      <th>2</th>\n",
       "      <td>e_e000821</td>\n",
       "      <td>7</td>\n",
       "      <td>2</td>\n",
       "      <td>4</td>\n",
       "    </tr>\n",
       "    <tr>\n",
       "      <th>3</th>\n",
       "      <td>e_e000821</td>\n",
       "      <td>7</td>\n",
       "      <td>2</td>\n",
       "      <td>4</td>\n",
       "    </tr>\n",
       "    <tr>\n",
       "      <th>4</th>\n",
       "      <td>e_e000821</td>\n",
       "      <td>7</td>\n",
       "      <td>2</td>\n",
       "      <td>4</td>\n",
       "    </tr>\n",
       "  </tbody>\n",
       "</table>\n",
       "</div>"
      ],
      "text/plain": [
       "   TRAVEL_ID  REL_CD  COMPANION_GENDER  COMPANION_AGE_GRP\n",
       "0  e_e000821       1                 2                  4\n",
       "1  e_e000821       7                 2                  4\n",
       "2  e_e000821       7                 2                  4\n",
       "3  e_e000821       7                 2                  4\n",
       "4  e_e000821       7                 2                  4"
      ]
     },
     "execution_count": 1176,
     "metadata": {},
     "output_type": "execute_result"
    }
   ],
   "source": [
    "# 데이터 살펴보기\n",
    "companion_info.head()"
   ]
  },
  {
   "cell_type": "markdown",
   "metadata": {},
   "source": [
    "<h3>2. 전처리</h3>"
   ]
  },
  {
   "cell_type": "markdown",
   "metadata": {},
   "source": [
    "<h5>1) REL_CD 변수 코드 'TCR' 매핑</h5>"
   ]
  },
  {
   "cell_type": "code",
   "execution_count": 1177,
   "metadata": {},
   "outputs": [
    {
     "data": {
      "text/html": [
       "<div>\n",
       "<style scoped>\n",
       "    .dataframe tbody tr th:only-of-type {\n",
       "        vertical-align: middle;\n",
       "    }\n",
       "\n",
       "    .dataframe tbody tr th {\n",
       "        vertical-align: top;\n",
       "    }\n",
       "\n",
       "    .dataframe thead th {\n",
       "        text-align: right;\n",
       "    }\n",
       "</style>\n",
       "<table border=\"1\" class=\"dataframe\">\n",
       "  <thead>\n",
       "    <tr style=\"text-align: right;\">\n",
       "      <th></th>\n",
       "      <th>TRAVEL_ID</th>\n",
       "      <th>REL_CD</th>\n",
       "      <th>COMPANION_GENDER</th>\n",
       "      <th>COMPANION_AGE_GRP</th>\n",
       "    </tr>\n",
       "  </thead>\n",
       "  <tbody>\n",
       "    <tr>\n",
       "      <th>0</th>\n",
       "      <td>e_e000821</td>\n",
       "      <td>배우자</td>\n",
       "      <td>2</td>\n",
       "      <td>4</td>\n",
       "    </tr>\n",
       "    <tr>\n",
       "      <th>1</th>\n",
       "      <td>e_e000821</td>\n",
       "      <td>친구</td>\n",
       "      <td>2</td>\n",
       "      <td>4</td>\n",
       "    </tr>\n",
       "    <tr>\n",
       "      <th>2</th>\n",
       "      <td>e_e000821</td>\n",
       "      <td>친구</td>\n",
       "      <td>2</td>\n",
       "      <td>4</td>\n",
       "    </tr>\n",
       "    <tr>\n",
       "      <th>3</th>\n",
       "      <td>e_e000821</td>\n",
       "      <td>친구</td>\n",
       "      <td>2</td>\n",
       "      <td>4</td>\n",
       "    </tr>\n",
       "    <tr>\n",
       "      <th>4</th>\n",
       "      <td>e_e000821</td>\n",
       "      <td>친구</td>\n",
       "      <td>2</td>\n",
       "      <td>4</td>\n",
       "    </tr>\n",
       "  </tbody>\n",
       "</table>\n",
       "</div>"
      ],
      "text/plain": [
       "   TRAVEL_ID REL_CD  COMPANION_GENDER  COMPANION_AGE_GRP\n",
       "0  e_e000821    배우자                 2                  4\n",
       "1  e_e000821     친구                 2                  4\n",
       "2  e_e000821     친구                 2                  4\n",
       "3  e_e000821     친구                 2                  4\n",
       "4  e_e000821     친구                 2                  4"
      ]
     },
     "execution_count": 1177,
     "metadata": {},
     "output_type": "execute_result"
    }
   ],
   "source": [
    "companion_info = convert_codes_to_korean(companion_info, 'REL_CD', TCR_mapping)\n",
    "\n",
    "# 결과 확인\n",
    "companion_info.head()"
   ]
  },
  {
   "cell_type": "markdown",
   "metadata": {},
   "source": [
    "<h5>2) COMPANION_GENDER 변수 코드 'GEN' 매핑</h5>"
   ]
  },
  {
   "cell_type": "code",
   "execution_count": 1178,
   "metadata": {},
   "outputs": [
    {
     "data": {
      "text/html": [
       "<div>\n",
       "<style scoped>\n",
       "    .dataframe tbody tr th:only-of-type {\n",
       "        vertical-align: middle;\n",
       "    }\n",
       "\n",
       "    .dataframe tbody tr th {\n",
       "        vertical-align: top;\n",
       "    }\n",
       "\n",
       "    .dataframe thead th {\n",
       "        text-align: right;\n",
       "    }\n",
       "</style>\n",
       "<table border=\"1\" class=\"dataframe\">\n",
       "  <thead>\n",
       "    <tr style=\"text-align: right;\">\n",
       "      <th></th>\n",
       "      <th>TRAVEL_ID</th>\n",
       "      <th>REL_CD</th>\n",
       "      <th>COMPANION_GENDER</th>\n",
       "      <th>COMPANION_AGE_GRP</th>\n",
       "    </tr>\n",
       "  </thead>\n",
       "  <tbody>\n",
       "    <tr>\n",
       "      <th>0</th>\n",
       "      <td>e_e000821</td>\n",
       "      <td>배우자</td>\n",
       "      <td>여자</td>\n",
       "      <td>4</td>\n",
       "    </tr>\n",
       "    <tr>\n",
       "      <th>1</th>\n",
       "      <td>e_e000821</td>\n",
       "      <td>친구</td>\n",
       "      <td>여자</td>\n",
       "      <td>4</td>\n",
       "    </tr>\n",
       "    <tr>\n",
       "      <th>2</th>\n",
       "      <td>e_e000821</td>\n",
       "      <td>친구</td>\n",
       "      <td>여자</td>\n",
       "      <td>4</td>\n",
       "    </tr>\n",
       "    <tr>\n",
       "      <th>3</th>\n",
       "      <td>e_e000821</td>\n",
       "      <td>친구</td>\n",
       "      <td>여자</td>\n",
       "      <td>4</td>\n",
       "    </tr>\n",
       "    <tr>\n",
       "      <th>4</th>\n",
       "      <td>e_e000821</td>\n",
       "      <td>친구</td>\n",
       "      <td>여자</td>\n",
       "      <td>4</td>\n",
       "    </tr>\n",
       "  </tbody>\n",
       "</table>\n",
       "</div>"
      ],
      "text/plain": [
       "   TRAVEL_ID REL_CD COMPANION_GENDER  COMPANION_AGE_GRP\n",
       "0  e_e000821    배우자               여자                  4\n",
       "1  e_e000821     친구               여자                  4\n",
       "2  e_e000821     친구               여자                  4\n",
       "3  e_e000821     친구               여자                  4\n",
       "4  e_e000821     친구               여자                  4"
      ]
     },
     "execution_count": 1178,
     "metadata": {},
     "output_type": "execute_result"
    }
   ],
   "source": [
    "companion_info = convert_codes_to_korean(companion_info, 'COMPANION_GENDER', GEN_mapping)\n",
    "\n",
    "# 결과 확인\n",
    "companion_info.head()"
   ]
  },
  {
   "cell_type": "markdown",
   "metadata": {},
   "source": [
    "<h5>3) COMPANION_AGE_GRP 변수 코드 'AGE' 매핑</h5>"
   ]
  },
  {
   "cell_type": "code",
   "execution_count": 1179,
   "metadata": {},
   "outputs": [
    {
     "data": {
      "text/html": [
       "<div>\n",
       "<style scoped>\n",
       "    .dataframe tbody tr th:only-of-type {\n",
       "        vertical-align: middle;\n",
       "    }\n",
       "\n",
       "    .dataframe tbody tr th {\n",
       "        vertical-align: top;\n",
       "    }\n",
       "\n",
       "    .dataframe thead th {\n",
       "        text-align: right;\n",
       "    }\n",
       "</style>\n",
       "<table border=\"1\" class=\"dataframe\">\n",
       "  <thead>\n",
       "    <tr style=\"text-align: right;\">\n",
       "      <th></th>\n",
       "      <th>TRAVEL_ID</th>\n",
       "      <th>REL_CD</th>\n",
       "      <th>COMPANION_GENDER</th>\n",
       "      <th>COMPANION_AGE_GRP</th>\n",
       "    </tr>\n",
       "  </thead>\n",
       "  <tbody>\n",
       "    <tr>\n",
       "      <th>0</th>\n",
       "      <td>e_e000821</td>\n",
       "      <td>배우자</td>\n",
       "      <td>여자</td>\n",
       "      <td>30대</td>\n",
       "    </tr>\n",
       "    <tr>\n",
       "      <th>1</th>\n",
       "      <td>e_e000821</td>\n",
       "      <td>친구</td>\n",
       "      <td>여자</td>\n",
       "      <td>30대</td>\n",
       "    </tr>\n",
       "    <tr>\n",
       "      <th>2</th>\n",
       "      <td>e_e000821</td>\n",
       "      <td>친구</td>\n",
       "      <td>여자</td>\n",
       "      <td>30대</td>\n",
       "    </tr>\n",
       "    <tr>\n",
       "      <th>3</th>\n",
       "      <td>e_e000821</td>\n",
       "      <td>친구</td>\n",
       "      <td>여자</td>\n",
       "      <td>30대</td>\n",
       "    </tr>\n",
       "    <tr>\n",
       "      <th>4</th>\n",
       "      <td>e_e000821</td>\n",
       "      <td>친구</td>\n",
       "      <td>여자</td>\n",
       "      <td>30대</td>\n",
       "    </tr>\n",
       "  </tbody>\n",
       "</table>\n",
       "</div>"
      ],
      "text/plain": [
       "   TRAVEL_ID REL_CD COMPANION_GENDER COMPANION_AGE_GRP\n",
       "0  e_e000821    배우자               여자               30대\n",
       "1  e_e000821     친구               여자               30대\n",
       "2  e_e000821     친구               여자               30대\n",
       "3  e_e000821     친구               여자               30대\n",
       "4  e_e000821     친구               여자               30대"
      ]
     },
     "execution_count": 1179,
     "metadata": {},
     "output_type": "execute_result"
    }
   ],
   "source": [
    "companion_info = convert_codes_to_korean(companion_info, 'COMPANION_AGE_GRP', AGE_mapping)\n",
    "\n",
    "# 결과 확인\n",
    "companion_info.head()"
   ]
  },
  {
   "cell_type": "markdown",
   "metadata": {},
   "source": [
    "<h3>3. 전처리 후 확인</h3>"
   ]
  },
  {
   "cell_type": "code",
   "execution_count": 1180,
   "metadata": {},
   "outputs": [
    {
     "name": "stdout",
     "output_type": "stream",
     "text": [
      "중복된 TRAVEL_ID가 있습니다.\n",
      "     TRAVEL_ID REL_CD COMPANION_GENDER COMPANION_AGE_GRP\n",
      "0    e_e000821    배우자               여자               30대\n",
      "1    e_e000821     친구               여자               30대\n",
      "2    e_e000821     친구               여자               30대\n",
      "3    e_e000821     친구               여자               30대\n",
      "4    e_e000821     친구               여자               30대\n",
      "..         ...    ...              ...               ...\n",
      "452  g_g012625     자녀               남자             ~9세이하\n",
      "453  g_g012629     자녀               여자             ~9세이하\n",
      "454  g_g012629    배우자               남자               40대\n",
      "459  g_g012762    배우자               여자               30대\n",
      "460  g_g012762     자녀               남자             ~9세이하\n",
      "\n",
      "[292 rows x 4 columns]\n"
     ]
    }
   ],
   "source": [
    "# TRAVEL_ID 중복 여부 확인\n",
    "duplicates = companion_info[companion_info.duplicated(subset='TRAVEL_ID', keep=False)]\n",
    "\n",
    "# 중복된 항목이 있는 경우\n",
    "if not duplicates.empty:\n",
    "    print(\"중복된 TRAVEL_ID가 있습니다.\")\n",
    "    print(duplicates)\n",
    "else:\n",
    "    print(\"중복된 TRAVEL_ID가 없습니다.\")"
   ]
  },
  {
   "cell_type": "code",
   "execution_count": 1181,
   "metadata": {},
   "outputs": [
    {
     "name": "stdout",
     "output_type": "stream",
     "text": [
      "동반자정보.csv의 구조와 타입 : \n",
      "<class 'pandas.core.frame.DataFrame'>\n",
      "RangeIndex: 464 entries, 0 to 463\n",
      "Data columns (total 4 columns):\n",
      " #   Column             Non-Null Count  Dtype \n",
      "---  ------             --------------  ----- \n",
      " 0   TRAVEL_ID          464 non-null    object\n",
      " 1   REL_CD             464 non-null    object\n",
      " 2   COMPANION_GENDER   464 non-null    object\n",
      " 3   COMPANION_AGE_GRP  464 non-null    object\n",
      "dtypes: object(4)\n",
      "memory usage: 14.6+ KB\n",
      "None\n"
     ]
    }
   ],
   "source": [
    "# 데이터의 구조와 타입 확인\n",
    "print('동반자정보.csv의 구조와 타입 : ')\n",
    "print(companion_info.info())"
   ]
  },
  {
   "cell_type": "code",
   "execution_count": 1182,
   "metadata": {},
   "outputs": [
    {
     "name": "stdout",
     "output_type": "stream",
     "text": [
      "동반자정보.csv의 결측치 : \n",
      "TRAVEL_ID            0\n",
      "REL_CD               0\n",
      "COMPANION_GENDER     0\n",
      "COMPANION_AGE_GRP    0\n",
      "dtype: int64\n"
     ]
    }
   ],
   "source": [
    "# 데이터의 결측치 확인\n",
    "print('동반자정보.csv의 결측치 : ')\n",
    "print(companion_info.isnull().sum())"
   ]
  },
  {
   "cell_type": "code",
   "execution_count": 1183,
   "metadata": {},
   "outputs": [
    {
     "data": {
      "text/html": [
       "<div>\n",
       "<style scoped>\n",
       "    .dataframe tbody tr th:only-of-type {\n",
       "        vertical-align: middle;\n",
       "    }\n",
       "\n",
       "    .dataframe tbody tr th {\n",
       "        vertical-align: top;\n",
       "    }\n",
       "\n",
       "    .dataframe thead th {\n",
       "        text-align: right;\n",
       "    }\n",
       "</style>\n",
       "<table border=\"1\" class=\"dataframe\">\n",
       "  <thead>\n",
       "    <tr style=\"text-align: right;\">\n",
       "      <th></th>\n",
       "      <th>TRAVEL_ID</th>\n",
       "      <th>REL_CD</th>\n",
       "      <th>COMPANION_GENDER</th>\n",
       "      <th>COMPANION_AGE_GRP</th>\n",
       "    </tr>\n",
       "  </thead>\n",
       "  <tbody>\n",
       "    <tr>\n",
       "      <th>0</th>\n",
       "      <td>e_e000821</td>\n",
       "      <td>배우자</td>\n",
       "      <td>여자</td>\n",
       "      <td>30대</td>\n",
       "    </tr>\n",
       "    <tr>\n",
       "      <th>1</th>\n",
       "      <td>e_e000821</td>\n",
       "      <td>친구</td>\n",
       "      <td>여자</td>\n",
       "      <td>30대</td>\n",
       "    </tr>\n",
       "    <tr>\n",
       "      <th>2</th>\n",
       "      <td>e_e000821</td>\n",
       "      <td>친구</td>\n",
       "      <td>여자</td>\n",
       "      <td>30대</td>\n",
       "    </tr>\n",
       "    <tr>\n",
       "      <th>3</th>\n",
       "      <td>e_e000821</td>\n",
       "      <td>친구</td>\n",
       "      <td>여자</td>\n",
       "      <td>30대</td>\n",
       "    </tr>\n",
       "    <tr>\n",
       "      <th>4</th>\n",
       "      <td>e_e000821</td>\n",
       "      <td>친구</td>\n",
       "      <td>여자</td>\n",
       "      <td>30대</td>\n",
       "    </tr>\n",
       "  </tbody>\n",
       "</table>\n",
       "</div>"
      ],
      "text/plain": [
       "   TRAVEL_ID REL_CD COMPANION_GENDER COMPANION_AGE_GRP\n",
       "0  e_e000821    배우자               여자               30대\n",
       "1  e_e000821     친구               여자               30대\n",
       "2  e_e000821     친구               여자               30대\n",
       "3  e_e000821     친구               여자               30대\n",
       "4  e_e000821     친구               여자               30대"
      ]
     },
     "execution_count": 1183,
     "metadata": {},
     "output_type": "execute_result"
    }
   ],
   "source": [
    "# 데이터 살펴보기\n",
    "companion_info.head()"
   ]
  },
  {
   "cell_type": "markdown",
   "metadata": {},
   "source": [
    "<h3>4. 전처리 CSV 저장</h3>"
   ]
  },
  {
   "cell_type": "code",
   "execution_count": 1184,
   "metadata": {},
   "outputs": [],
   "source": [
    "companion_info.to_csv('data/validation/preprocessing_data/동반자_전처리.csv',index=False)"
   ]
  },
  {
   "cell_type": "markdown",
   "metadata": {},
   "source": [
    "<hr>\n",
    "<h2>[여행.csv]</h2>"
   ]
  },
  {
   "cell_type": "markdown",
   "metadata": {},
   "source": [
    "<h3>1. 변수 추출 및 검토</h3>"
   ]
  },
  {
   "cell_type": "code",
   "execution_count": 1185,
   "metadata": {},
   "outputs": [
    {
     "name": "stdout",
     "output_type": "stream",
     "text": [
      "   TRAVEL_ID TRAVEL_PURPOSE TRAVEL_START_YMD TRAVEL_END_YMD TRAVEL_MISSION_CHECK\n",
      "0  e_e000821     1;2;21;4;8       2023-05-27     2023-05-29              21;4;22\n",
      "1  e_e013141              4       2023-09-24     2023-09-25                1;4;2\n",
      "2  e_e013180        2;4;6;4       2023-09-23     2023-09-24               2;6;26\n",
      "3  e_e013191   2;21;22;26;3       2023-09-23     2023-09-24              5;27;28\n",
      "4  f_f005447  10;12;13;21;3       2023-08-09     2023-08-11              3;10;13\n"
     ]
    }
   ],
   "source": [
    "# 필요한 변수 리스트\n",
    "columns_to_keep_travel = [\n",
    "    'TRAVEL_ID', 'TRAVEL_PURPOSE', 'TRAVEL_START_YMD', 'TRAVEL_END_YMD', 'TRAVEL_MISSION_CHECK'\n",
    "    ]\n",
    "\n",
    "# travel에 필요한 변수만 남기고 저장\n",
    "travel = travel[columns_to_keep_travel]\n",
    "\n",
    "# 결과 확인\n",
    "print(travel.head())"
   ]
  },
  {
   "cell_type": "code",
   "execution_count": 1186,
   "metadata": {},
   "outputs": [
    {
     "name": "stdout",
     "output_type": "stream",
     "text": [
      "여행.csv의 행, 열 개수 : \n",
      "(320, 5)\n"
     ]
    }
   ],
   "source": [
    "# 데이터의 행, 열 개수 출력\n",
    "print('여행.csv의 행, 열 개수 : ')\n",
    "print(travel.shape)"
   ]
  },
  {
   "cell_type": "code",
   "execution_count": 1187,
   "metadata": {},
   "outputs": [
    {
     "name": "stdout",
     "output_type": "stream",
     "text": [
      "여행.csv의 구조와 타입 : \n",
      "<class 'pandas.core.frame.DataFrame'>\n",
      "RangeIndex: 320 entries, 0 to 319\n",
      "Data columns (total 5 columns):\n",
      " #   Column                Non-Null Count  Dtype \n",
      "---  ------                --------------  ----- \n",
      " 0   TRAVEL_ID             320 non-null    object\n",
      " 1   TRAVEL_PURPOSE        320 non-null    object\n",
      " 2   TRAVEL_START_YMD      320 non-null    object\n",
      " 3   TRAVEL_END_YMD        320 non-null    object\n",
      " 4   TRAVEL_MISSION_CHECK  320 non-null    object\n",
      "dtypes: object(5)\n",
      "memory usage: 12.6+ KB\n",
      "None\n"
     ]
    }
   ],
   "source": [
    "# 데이터의 구조와 타입 확인\n",
    "print('여행.csv의 구조와 타입 : ')\n",
    "print(travel.info())"
   ]
  },
  {
   "cell_type": "code",
   "execution_count": 1188,
   "metadata": {},
   "outputs": [
    {
     "name": "stdout",
     "output_type": "stream",
     "text": [
      "여행.csv의 결측치 : \n",
      "TRAVEL_ID               0\n",
      "TRAVEL_PURPOSE          0\n",
      "TRAVEL_START_YMD        0\n",
      "TRAVEL_END_YMD          0\n",
      "TRAVEL_MISSION_CHECK    0\n",
      "dtype: int64\n"
     ]
    }
   ],
   "source": [
    "# 데이터의 결측치 확인\n",
    "print('여행.csv의 결측치 : ')\n",
    "print(travel.isnull().sum())"
   ]
  },
  {
   "cell_type": "code",
   "execution_count": 1189,
   "metadata": {},
   "outputs": [
    {
     "data": {
      "text/html": [
       "<div>\n",
       "<style scoped>\n",
       "    .dataframe tbody tr th:only-of-type {\n",
       "        vertical-align: middle;\n",
       "    }\n",
       "\n",
       "    .dataframe tbody tr th {\n",
       "        vertical-align: top;\n",
       "    }\n",
       "\n",
       "    .dataframe thead th {\n",
       "        text-align: right;\n",
       "    }\n",
       "</style>\n",
       "<table border=\"1\" class=\"dataframe\">\n",
       "  <thead>\n",
       "    <tr style=\"text-align: right;\">\n",
       "      <th></th>\n",
       "      <th>TRAVEL_ID</th>\n",
       "      <th>TRAVEL_PURPOSE</th>\n",
       "      <th>TRAVEL_START_YMD</th>\n",
       "      <th>TRAVEL_END_YMD</th>\n",
       "      <th>TRAVEL_MISSION_CHECK</th>\n",
       "    </tr>\n",
       "  </thead>\n",
       "  <tbody>\n",
       "    <tr>\n",
       "      <th>0</th>\n",
       "      <td>e_e000821</td>\n",
       "      <td>1;2;21;4;8</td>\n",
       "      <td>2023-05-27</td>\n",
       "      <td>2023-05-29</td>\n",
       "      <td>21;4;22</td>\n",
       "    </tr>\n",
       "    <tr>\n",
       "      <th>1</th>\n",
       "      <td>e_e013141</td>\n",
       "      <td>4</td>\n",
       "      <td>2023-09-24</td>\n",
       "      <td>2023-09-25</td>\n",
       "      <td>1;4;2</td>\n",
       "    </tr>\n",
       "    <tr>\n",
       "      <th>2</th>\n",
       "      <td>e_e013180</td>\n",
       "      <td>2;4;6;4</td>\n",
       "      <td>2023-09-23</td>\n",
       "      <td>2023-09-24</td>\n",
       "      <td>2;6;26</td>\n",
       "    </tr>\n",
       "    <tr>\n",
       "      <th>3</th>\n",
       "      <td>e_e013191</td>\n",
       "      <td>2;21;22;26;3</td>\n",
       "      <td>2023-09-23</td>\n",
       "      <td>2023-09-24</td>\n",
       "      <td>5;27;28</td>\n",
       "    </tr>\n",
       "    <tr>\n",
       "      <th>4</th>\n",
       "      <td>f_f005447</td>\n",
       "      <td>10;12;13;21;3</td>\n",
       "      <td>2023-08-09</td>\n",
       "      <td>2023-08-11</td>\n",
       "      <td>3;10;13</td>\n",
       "    </tr>\n",
       "  </tbody>\n",
       "</table>\n",
       "</div>"
      ],
      "text/plain": [
       "   TRAVEL_ID TRAVEL_PURPOSE TRAVEL_START_YMD TRAVEL_END_YMD TRAVEL_MISSION_CHECK\n",
       "0  e_e000821     1;2;21;4;8       2023-05-27     2023-05-29              21;4;22\n",
       "1  e_e013141              4       2023-09-24     2023-09-25                1;4;2\n",
       "2  e_e013180        2;4;6;4       2023-09-23     2023-09-24               2;6;26\n",
       "3  e_e013191   2;21;22;26;3       2023-09-23     2023-09-24              5;27;28\n",
       "4  f_f005447  10;12;13;21;3       2023-08-09     2023-08-11              3;10;13"
      ]
     },
     "execution_count": 1189,
     "metadata": {},
     "output_type": "execute_result"
    }
   ],
   "source": [
    "# 데이터 살펴보기\n",
    "travel.head()"
   ]
  },
  {
   "cell_type": "markdown",
   "metadata": {},
   "source": [
    "<h3>2. 전처리</h3>"
   ]
  },
  {
   "cell_type": "markdown",
   "metadata": {},
   "source": [
    "<h5>1) TRAVEL_PURPOSE 변수 코드 'MIS' 매핑</h5>"
   ]
  },
  {
   "cell_type": "code",
   "execution_count": 1190,
   "metadata": {},
   "outputs": [],
   "source": [
    "# TRAVEL_PURPOSE 변수의 값이 세미콜론으로 분리되어 있으므로, 세미콜론 기준으로 분리하고 매핑 적용하는 함수\n",
    "def convert_colon_to_korean(df, column_name, mapping):\n",
    "    if column_name in df.columns:\n",
    "        # 세미콜론으로 분리된 값들을 매핑 처리\n",
    "        df[column_name] = df[column_name].apply(\n",
    "            lambda x: ';'.join([mapping.get(int(i), str(i)) for i in x.split(';')])\n",
    "        )\n",
    "    return df"
   ]
  },
  {
   "cell_type": "code",
   "execution_count": 1191,
   "metadata": {},
   "outputs": [
    {
     "data": {
      "text/html": [
       "<div>\n",
       "<style scoped>\n",
       "    .dataframe tbody tr th:only-of-type {\n",
       "        vertical-align: middle;\n",
       "    }\n",
       "\n",
       "    .dataframe tbody tr th {\n",
       "        vertical-align: top;\n",
       "    }\n",
       "\n",
       "    .dataframe thead th {\n",
       "        text-align: right;\n",
       "    }\n",
       "</style>\n",
       "<table border=\"1\" class=\"dataframe\">\n",
       "  <thead>\n",
       "    <tr style=\"text-align: right;\">\n",
       "      <th></th>\n",
       "      <th>TRAVEL_ID</th>\n",
       "      <th>TRAVEL_PURPOSE</th>\n",
       "      <th>TRAVEL_START_YMD</th>\n",
       "      <th>TRAVEL_END_YMD</th>\n",
       "      <th>TRAVEL_MISSION_CHECK</th>\n",
       "    </tr>\n",
       "  </thead>\n",
       "  <tbody>\n",
       "    <tr>\n",
       "      <th>0</th>\n",
       "      <td>e_e000821</td>\n",
       "      <td>쇼핑;테마파크, 놀이시설, 동/식물원 방문;Well-ness 여행;시티투어;캠핑</td>\n",
       "      <td>2023-05-27</td>\n",
       "      <td>2023-05-29</td>\n",
       "      <td>21;4;22</td>\n",
       "    </tr>\n",
       "    <tr>\n",
       "      <th>1</th>\n",
       "      <td>e_e013141</td>\n",
       "      <td>시티투어</td>\n",
       "      <td>2023-09-24</td>\n",
       "      <td>2023-09-25</td>\n",
       "      <td>1;4;2</td>\n",
       "    </tr>\n",
       "    <tr>\n",
       "      <th>2</th>\n",
       "      <td>e_e013180</td>\n",
       "      <td>테마파크, 놀이시설, 동/식물원 방문;시티투어;지역 문화예술/공연/전시시설 관람;시티투어</td>\n",
       "      <td>2023-09-23</td>\n",
       "      <td>2023-09-24</td>\n",
       "      <td>2;6;26</td>\n",
       "    </tr>\n",
       "    <tr>\n",
       "      <th>3</th>\n",
       "      <td>e_e013191</td>\n",
       "      <td>테마파크, 놀이시설, 동/식물원 방문;Well-ness 여행;SNS 인생샷 여행;인...</td>\n",
       "      <td>2023-09-23</td>\n",
       "      <td>2023-09-24</td>\n",
       "      <td>5;27;28</td>\n",
       "    </tr>\n",
       "    <tr>\n",
       "      <th>4</th>\n",
       "      <td>f_f005447</td>\n",
       "      <td>온천/스파;드라마 촬영지 방문;종교/성지 순례;Well-ness 여행;역사 유적지 방문</td>\n",
       "      <td>2023-08-09</td>\n",
       "      <td>2023-08-11</td>\n",
       "      <td>3;10;13</td>\n",
       "    </tr>\n",
       "  </tbody>\n",
       "</table>\n",
       "</div>"
      ],
      "text/plain": [
       "   TRAVEL_ID                                     TRAVEL_PURPOSE TRAVEL_START_YMD TRAVEL_END_YMD TRAVEL_MISSION_CHECK\n",
       "0  e_e000821       쇼핑;테마파크, 놀이시설, 동/식물원 방문;Well-ness 여행;시티투어;캠핑       2023-05-27     2023-05-29              21;4;22\n",
       "1  e_e013141                                               시티투어       2023-09-24     2023-09-25                1;4;2\n",
       "2  e_e013180  테마파크, 놀이시설, 동/식물원 방문;시티투어;지역 문화예술/공연/전시시설 관람;시티투어       2023-09-23     2023-09-24               2;6;26\n",
       "3  e_e013191  테마파크, 놀이시설, 동/식물원 방문;Well-ness 여행;SNS 인생샷 여행;인...       2023-09-23     2023-09-24              5;27;28\n",
       "4  f_f005447   온천/스파;드라마 촬영지 방문;종교/성지 순례;Well-ness 여행;역사 유적지 방문       2023-08-09     2023-08-11              3;10;13"
      ]
     },
     "execution_count": 1191,
     "metadata": {},
     "output_type": "execute_result"
    }
   ],
   "source": [
    "travel = convert_colon_to_korean(travel, 'TRAVEL_PURPOSE', MIS_mapping)\n",
    "\n",
    "# 결과 확인\n",
    "travel.head()"
   ]
  },
  {
   "cell_type": "markdown",
   "metadata": {},
   "source": [
    "<h5>2) TRAVEL_MISSION_CHECK 변수 코드 'MIS' 매핑</h5>"
   ]
  },
  {
   "cell_type": "code",
   "execution_count": 1192,
   "metadata": {},
   "outputs": [
    {
     "data": {
      "text/html": [
       "<div>\n",
       "<style scoped>\n",
       "    .dataframe tbody tr th:only-of-type {\n",
       "        vertical-align: middle;\n",
       "    }\n",
       "\n",
       "    .dataframe tbody tr th {\n",
       "        vertical-align: top;\n",
       "    }\n",
       "\n",
       "    .dataframe thead th {\n",
       "        text-align: right;\n",
       "    }\n",
       "</style>\n",
       "<table border=\"1\" class=\"dataframe\">\n",
       "  <thead>\n",
       "    <tr style=\"text-align: right;\">\n",
       "      <th></th>\n",
       "      <th>TRAVEL_ID</th>\n",
       "      <th>TRAVEL_PURPOSE</th>\n",
       "      <th>TRAVEL_START_YMD</th>\n",
       "      <th>TRAVEL_END_YMD</th>\n",
       "      <th>TRAVEL_MISSION_CHECK</th>\n",
       "    </tr>\n",
       "  </thead>\n",
       "  <tbody>\n",
       "    <tr>\n",
       "      <th>0</th>\n",
       "      <td>e_e000821</td>\n",
       "      <td>쇼핑;테마파크, 놀이시설, 동/식물원 방문;Well-ness 여행;시티투어;캠핑</td>\n",
       "      <td>2023-05-27</td>\n",
       "      <td>2023-05-29</td>\n",
       "      <td>Well-ness 여행;시티투어;SNS 인생샷 여행</td>\n",
       "    </tr>\n",
       "    <tr>\n",
       "      <th>1</th>\n",
       "      <td>e_e013141</td>\n",
       "      <td>시티투어</td>\n",
       "      <td>2023-09-24</td>\n",
       "      <td>2023-09-25</td>\n",
       "      <td>쇼핑;시티투어;테마파크, 놀이시설, 동/식물원 방문</td>\n",
       "    </tr>\n",
       "    <tr>\n",
       "      <th>2</th>\n",
       "      <td>e_e013180</td>\n",
       "      <td>테마파크, 놀이시설, 동/식물원 방문;시티투어;지역 문화예술/공연/전시시설 관람;시티투어</td>\n",
       "      <td>2023-09-23</td>\n",
       "      <td>2023-09-24</td>\n",
       "      <td>테마파크, 놀이시설, 동/식물원 방문;지역 문화예술/공연/전시시설 관람;인플루언서 ...</td>\n",
       "    </tr>\n",
       "    <tr>\n",
       "      <th>3</th>\n",
       "      <td>e_e013191</td>\n",
       "      <td>테마파크, 놀이시설, 동/식물원 방문;Well-ness 여행;SNS 인생샷 여행;인...</td>\n",
       "      <td>2023-09-23</td>\n",
       "      <td>2023-09-24</td>\n",
       "      <td>야외 스포츠, 레포츠 활동;친환경 여행(플로깅 여행);등반 여행</td>\n",
       "    </tr>\n",
       "    <tr>\n",
       "      <th>4</th>\n",
       "      <td>f_f005447</td>\n",
       "      <td>온천/스파;드라마 촬영지 방문;종교/성지 순례;Well-ness 여행;역사 유적지 방문</td>\n",
       "      <td>2023-08-09</td>\n",
       "      <td>2023-08-11</td>\n",
       "      <td>역사 유적지 방문;온천/스파;종교/성지 순례</td>\n",
       "    </tr>\n",
       "  </tbody>\n",
       "</table>\n",
       "</div>"
      ],
      "text/plain": [
       "   TRAVEL_ID                                     TRAVEL_PURPOSE TRAVEL_START_YMD TRAVEL_END_YMD                               TRAVEL_MISSION_CHECK\n",
       "0  e_e000821       쇼핑;테마파크, 놀이시설, 동/식물원 방문;Well-ness 여행;시티투어;캠핑       2023-05-27     2023-05-29                       Well-ness 여행;시티투어;SNS 인생샷 여행\n",
       "1  e_e013141                                               시티투어       2023-09-24     2023-09-25                       쇼핑;시티투어;테마파크, 놀이시설, 동/식물원 방문\n",
       "2  e_e013180  테마파크, 놀이시설, 동/식물원 방문;시티투어;지역 문화예술/공연/전시시설 관람;시티투어       2023-09-23     2023-09-24  테마파크, 놀이시설, 동/식물원 방문;지역 문화예술/공연/전시시설 관람;인플루언서 ...\n",
       "3  e_e013191  테마파크, 놀이시설, 동/식물원 방문;Well-ness 여행;SNS 인생샷 여행;인...       2023-09-23     2023-09-24                야외 스포츠, 레포츠 활동;친환경 여행(플로깅 여행);등반 여행\n",
       "4  f_f005447   온천/스파;드라마 촬영지 방문;종교/성지 순례;Well-ness 여행;역사 유적지 방문       2023-08-09     2023-08-11                           역사 유적지 방문;온천/스파;종교/성지 순례"
      ]
     },
     "execution_count": 1192,
     "metadata": {},
     "output_type": "execute_result"
    }
   ],
   "source": [
    "travel = convert_colon_to_korean(travel, 'TRAVEL_MISSION_CHECK', MIS_mapping)\n",
    "\n",
    "# 결과 확인\n",
    "travel.head()"
   ]
  },
  {
   "cell_type": "markdown",
   "metadata": {},
   "source": [
    "<h3>3. 전처리 후 확인</h3>"
   ]
  },
  {
   "cell_type": "code",
   "execution_count": 1193,
   "metadata": {},
   "outputs": [
    {
     "name": "stdout",
     "output_type": "stream",
     "text": [
      "중복된 TRAVEL_ID가 없습니다.\n"
     ]
    }
   ],
   "source": [
    "# TRAVEL_ID 중복 여부 확인\n",
    "duplicates = travel[travel.duplicated(subset='TRAVEL_ID', keep=False)]\n",
    "\n",
    "# 중복된 항목이 있는 경우\n",
    "if not duplicates.empty:\n",
    "    print(\"중복된 TRAVEL_ID가 있습니다.\")\n",
    "    print(duplicates)\n",
    "else:\n",
    "    print(\"중복된 TRAVEL_ID가 없습니다.\")"
   ]
  },
  {
   "cell_type": "code",
   "execution_count": 1194,
   "metadata": {},
   "outputs": [
    {
     "name": "stdout",
     "output_type": "stream",
     "text": [
      "여행.csv의 구조와 타입 : \n",
      "<class 'pandas.core.frame.DataFrame'>\n",
      "RangeIndex: 320 entries, 0 to 319\n",
      "Data columns (total 5 columns):\n",
      " #   Column                Non-Null Count  Dtype \n",
      "---  ------                --------------  ----- \n",
      " 0   TRAVEL_ID             320 non-null    object\n",
      " 1   TRAVEL_PURPOSE        320 non-null    object\n",
      " 2   TRAVEL_START_YMD      320 non-null    object\n",
      " 3   TRAVEL_END_YMD        320 non-null    object\n",
      " 4   TRAVEL_MISSION_CHECK  320 non-null    object\n",
      "dtypes: object(5)\n",
      "memory usage: 12.6+ KB\n",
      "None\n"
     ]
    }
   ],
   "source": [
    "# 데이터의 구조와 타입 확인\n",
    "print('여행.csv의 구조와 타입 : ')\n",
    "print(travel.info())"
   ]
  },
  {
   "cell_type": "code",
   "execution_count": 1195,
   "metadata": {},
   "outputs": [
    {
     "name": "stdout",
     "output_type": "stream",
     "text": [
      "여행.csv의 결측치 : \n",
      "TRAVEL_ID               0\n",
      "TRAVEL_PURPOSE          0\n",
      "TRAVEL_START_YMD        0\n",
      "TRAVEL_END_YMD          0\n",
      "TRAVEL_MISSION_CHECK    0\n",
      "dtype: int64\n"
     ]
    }
   ],
   "source": [
    "# 데이터의 결측치 확인\n",
    "print('여행.csv의 결측치 : ')\n",
    "print(travel.isnull().sum())"
   ]
  },
  {
   "cell_type": "code",
   "execution_count": 1196,
   "metadata": {},
   "outputs": [
    {
     "data": {
      "text/html": [
       "<div>\n",
       "<style scoped>\n",
       "    .dataframe tbody tr th:only-of-type {\n",
       "        vertical-align: middle;\n",
       "    }\n",
       "\n",
       "    .dataframe tbody tr th {\n",
       "        vertical-align: top;\n",
       "    }\n",
       "\n",
       "    .dataframe thead th {\n",
       "        text-align: right;\n",
       "    }\n",
       "</style>\n",
       "<table border=\"1\" class=\"dataframe\">\n",
       "  <thead>\n",
       "    <tr style=\"text-align: right;\">\n",
       "      <th></th>\n",
       "      <th>TRAVEL_ID</th>\n",
       "      <th>TRAVEL_PURPOSE</th>\n",
       "      <th>TRAVEL_START_YMD</th>\n",
       "      <th>TRAVEL_END_YMD</th>\n",
       "      <th>TRAVEL_MISSION_CHECK</th>\n",
       "    </tr>\n",
       "  </thead>\n",
       "  <tbody>\n",
       "    <tr>\n",
       "      <th>0</th>\n",
       "      <td>e_e000821</td>\n",
       "      <td>쇼핑;테마파크, 놀이시설, 동/식물원 방문;Well-ness 여행;시티투어;캠핑</td>\n",
       "      <td>2023-05-27</td>\n",
       "      <td>2023-05-29</td>\n",
       "      <td>Well-ness 여행;시티투어;SNS 인생샷 여행</td>\n",
       "    </tr>\n",
       "    <tr>\n",
       "      <th>1</th>\n",
       "      <td>e_e013141</td>\n",
       "      <td>시티투어</td>\n",
       "      <td>2023-09-24</td>\n",
       "      <td>2023-09-25</td>\n",
       "      <td>쇼핑;시티투어;테마파크, 놀이시설, 동/식물원 방문</td>\n",
       "    </tr>\n",
       "    <tr>\n",
       "      <th>2</th>\n",
       "      <td>e_e013180</td>\n",
       "      <td>테마파크, 놀이시설, 동/식물원 방문;시티투어;지역 문화예술/공연/전시시설 관람;시티투어</td>\n",
       "      <td>2023-09-23</td>\n",
       "      <td>2023-09-24</td>\n",
       "      <td>테마파크, 놀이시설, 동/식물원 방문;지역 문화예술/공연/전시시설 관람;인플루언서 ...</td>\n",
       "    </tr>\n",
       "    <tr>\n",
       "      <th>3</th>\n",
       "      <td>e_e013191</td>\n",
       "      <td>테마파크, 놀이시설, 동/식물원 방문;Well-ness 여행;SNS 인생샷 여행;인...</td>\n",
       "      <td>2023-09-23</td>\n",
       "      <td>2023-09-24</td>\n",
       "      <td>야외 스포츠, 레포츠 활동;친환경 여행(플로깅 여행);등반 여행</td>\n",
       "    </tr>\n",
       "    <tr>\n",
       "      <th>4</th>\n",
       "      <td>f_f005447</td>\n",
       "      <td>온천/스파;드라마 촬영지 방문;종교/성지 순례;Well-ness 여행;역사 유적지 방문</td>\n",
       "      <td>2023-08-09</td>\n",
       "      <td>2023-08-11</td>\n",
       "      <td>역사 유적지 방문;온천/스파;종교/성지 순례</td>\n",
       "    </tr>\n",
       "  </tbody>\n",
       "</table>\n",
       "</div>"
      ],
      "text/plain": [
       "   TRAVEL_ID                                     TRAVEL_PURPOSE TRAVEL_START_YMD TRAVEL_END_YMD                               TRAVEL_MISSION_CHECK\n",
       "0  e_e000821       쇼핑;테마파크, 놀이시설, 동/식물원 방문;Well-ness 여행;시티투어;캠핑       2023-05-27     2023-05-29                       Well-ness 여행;시티투어;SNS 인생샷 여행\n",
       "1  e_e013141                                               시티투어       2023-09-24     2023-09-25                       쇼핑;시티투어;테마파크, 놀이시설, 동/식물원 방문\n",
       "2  e_e013180  테마파크, 놀이시설, 동/식물원 방문;시티투어;지역 문화예술/공연/전시시설 관람;시티투어       2023-09-23     2023-09-24  테마파크, 놀이시설, 동/식물원 방문;지역 문화예술/공연/전시시설 관람;인플루언서 ...\n",
       "3  e_e013191  테마파크, 놀이시설, 동/식물원 방문;Well-ness 여행;SNS 인생샷 여행;인...       2023-09-23     2023-09-24                야외 스포츠, 레포츠 활동;친환경 여행(플로깅 여행);등반 여행\n",
       "4  f_f005447   온천/스파;드라마 촬영지 방문;종교/성지 순례;Well-ness 여행;역사 유적지 방문       2023-08-09     2023-08-11                           역사 유적지 방문;온천/스파;종교/성지 순례"
      ]
     },
     "execution_count": 1196,
     "metadata": {},
     "output_type": "execute_result"
    }
   ],
   "source": [
    "# 데이터 살펴보기\n",
    "travel.head()"
   ]
  },
  {
   "cell_type": "markdown",
   "metadata": {},
   "source": [
    "<h3>4. 전처리 CSV 저장</h3>"
   ]
  },
  {
   "cell_type": "code",
   "execution_count": 1197,
   "metadata": {},
   "outputs": [],
   "source": [
    "travel.to_csv('data/validation/preprocessing_data/여행_전처리.csv',index=False)"
   ]
  },
  {
   "cell_type": "markdown",
   "metadata": {},
   "source": [
    "<hr>\n",
    "<h2>[이동수단소비내역.csv]</h2>"
   ]
  },
  {
   "cell_type": "code",
   "execution_count": 1198,
   "metadata": {},
   "outputs": [
    {
     "name": "stdout",
     "output_type": "stream",
     "text": [
      "   TRAVEL_ID MVMN_SE_NM  PAYMENT_AMT_WON\n",
      "0  g_g004813         택시             3000\n",
      "1  g_g008723        지하철             3000\n",
      "2  g_g003478         택시             4500\n",
      "3  g_g007188         택시             6000\n",
      "4  g_g007207        지하철             7000\n"
     ]
    }
   ],
   "source": [
    "# 필요한 변수 리스트\n",
    "columns_to_keep_mvmn_consume = [\n",
    "    'TRAVEL_ID', 'MVMN_SE_NM', 'PAYMENT_AMT_WON'\n",
    "    ]\n",
    "\n",
    "# mvmn_consume에 필요한 변수만 남기고 저장\n",
    "mvmn_consume = mvmn_consume[columns_to_keep_mvmn_consume]\n",
    "\n",
    "# 결과 확인\n",
    "print(mvmn_consume.head())"
   ]
  },
  {
   "cell_type": "markdown",
   "metadata": {},
   "source": [
    "<h3>1. 변수 추출 및 검토</h3>"
   ]
  },
  {
   "cell_type": "code",
   "execution_count": 1199,
   "metadata": {},
   "outputs": [
    {
     "name": "stdout",
     "output_type": "stream",
     "text": [
      "이동수단소비내역.csv의 행, 열 개수 : \n",
      "(683, 3)\n"
     ]
    }
   ],
   "source": [
    "# 데이터의 행, 열 개수 출력\n",
    "print('이동수단소비내역.csv의 행, 열 개수 : ')\n",
    "print(mvmn_consume.shape)"
   ]
  },
  {
   "cell_type": "code",
   "execution_count": 1200,
   "metadata": {},
   "outputs": [
    {
     "name": "stdout",
     "output_type": "stream",
     "text": [
      "이동수단소비내역.csv의 구조와 타입 : \n",
      "<class 'pandas.core.frame.DataFrame'>\n",
      "RangeIndex: 683 entries, 0 to 682\n",
      "Data columns (total 3 columns):\n",
      " #   Column           Non-Null Count  Dtype \n",
      "---  ------           --------------  ----- \n",
      " 0   TRAVEL_ID        683 non-null    object\n",
      " 1   MVMN_SE_NM       683 non-null    object\n",
      " 2   PAYMENT_AMT_WON  683 non-null    int64 \n",
      "dtypes: int64(1), object(2)\n",
      "memory usage: 16.1+ KB\n",
      "None\n"
     ]
    }
   ],
   "source": [
    "# 데이터의 구조와 타입 확인\n",
    "print('이동수단소비내역.csv의 구조와 타입 : ')\n",
    "print(mvmn_consume.info())"
   ]
  },
  {
   "cell_type": "code",
   "execution_count": 1201,
   "metadata": {},
   "outputs": [
    {
     "name": "stdout",
     "output_type": "stream",
     "text": [
      "이동수단소비내역.csv의 결측치 : \n",
      "TRAVEL_ID          0\n",
      "MVMN_SE_NM         0\n",
      "PAYMENT_AMT_WON    0\n",
      "dtype: int64\n"
     ]
    }
   ],
   "source": [
    "# 데이터의 결측치 확인\n",
    "print('이동수단소비내역.csv의 결측치 : ')\n",
    "print(mvmn_consume.isnull().sum())"
   ]
  },
  {
   "cell_type": "code",
   "execution_count": 1202,
   "metadata": {},
   "outputs": [
    {
     "data": {
      "text/html": [
       "<div>\n",
       "<style scoped>\n",
       "    .dataframe tbody tr th:only-of-type {\n",
       "        vertical-align: middle;\n",
       "    }\n",
       "\n",
       "    .dataframe tbody tr th {\n",
       "        vertical-align: top;\n",
       "    }\n",
       "\n",
       "    .dataframe thead th {\n",
       "        text-align: right;\n",
       "    }\n",
       "</style>\n",
       "<table border=\"1\" class=\"dataframe\">\n",
       "  <thead>\n",
       "    <tr style=\"text-align: right;\">\n",
       "      <th></th>\n",
       "      <th>TRAVEL_ID</th>\n",
       "      <th>MVMN_SE_NM</th>\n",
       "      <th>PAYMENT_AMT_WON</th>\n",
       "    </tr>\n",
       "  </thead>\n",
       "  <tbody>\n",
       "    <tr>\n",
       "      <th>0</th>\n",
       "      <td>g_g004813</td>\n",
       "      <td>택시</td>\n",
       "      <td>3000</td>\n",
       "    </tr>\n",
       "    <tr>\n",
       "      <th>1</th>\n",
       "      <td>g_g008723</td>\n",
       "      <td>지하철</td>\n",
       "      <td>3000</td>\n",
       "    </tr>\n",
       "    <tr>\n",
       "      <th>2</th>\n",
       "      <td>g_g003478</td>\n",
       "      <td>택시</td>\n",
       "      <td>4500</td>\n",
       "    </tr>\n",
       "    <tr>\n",
       "      <th>3</th>\n",
       "      <td>g_g007188</td>\n",
       "      <td>택시</td>\n",
       "      <td>6000</td>\n",
       "    </tr>\n",
       "    <tr>\n",
       "      <th>4</th>\n",
       "      <td>g_g007207</td>\n",
       "      <td>지하철</td>\n",
       "      <td>7000</td>\n",
       "    </tr>\n",
       "  </tbody>\n",
       "</table>\n",
       "</div>"
      ],
      "text/plain": [
       "   TRAVEL_ID MVMN_SE_NM  PAYMENT_AMT_WON\n",
       "0  g_g004813         택시             3000\n",
       "1  g_g008723        지하철             3000\n",
       "2  g_g003478         택시             4500\n",
       "3  g_g007188         택시             6000\n",
       "4  g_g007207        지하철             7000"
      ]
     },
     "execution_count": 1202,
     "metadata": {},
     "output_type": "execute_result"
    }
   ],
   "source": [
    "# 데이터 살펴보기\n",
    "mvmn_consume.head()"
   ]
  },
  {
   "cell_type": "markdown",
   "metadata": {},
   "source": [
    "<h3>2. 전처리</h3>"
   ]
  },
  {
   "cell_type": "markdown",
   "metadata": {},
   "source": [
    "<h5>1) 이동수단 소비내역인 걸 나타내기 위해서 변수명 변경"
   ]
  },
  {
   "cell_type": "code",
   "execution_count": 1203,
   "metadata": {},
   "outputs": [
    {
     "data": {
      "text/html": [
       "<div>\n",
       "<style scoped>\n",
       "    .dataframe tbody tr th:only-of-type {\n",
       "        vertical-align: middle;\n",
       "    }\n",
       "\n",
       "    .dataframe tbody tr th {\n",
       "        vertical-align: top;\n",
       "    }\n",
       "\n",
       "    .dataframe thead th {\n",
       "        text-align: right;\n",
       "    }\n",
       "</style>\n",
       "<table border=\"1\" class=\"dataframe\">\n",
       "  <thead>\n",
       "    <tr style=\"text-align: right;\">\n",
       "      <th></th>\n",
       "      <th>TRAVEL_ID</th>\n",
       "      <th>MVMN_SE_NM</th>\n",
       "      <th>MVMN_WON</th>\n",
       "    </tr>\n",
       "  </thead>\n",
       "  <tbody>\n",
       "    <tr>\n",
       "      <th>0</th>\n",
       "      <td>g_g004813</td>\n",
       "      <td>택시</td>\n",
       "      <td>3000</td>\n",
       "    </tr>\n",
       "    <tr>\n",
       "      <th>1</th>\n",
       "      <td>g_g008723</td>\n",
       "      <td>지하철</td>\n",
       "      <td>3000</td>\n",
       "    </tr>\n",
       "    <tr>\n",
       "      <th>2</th>\n",
       "      <td>g_g003478</td>\n",
       "      <td>택시</td>\n",
       "      <td>4500</td>\n",
       "    </tr>\n",
       "    <tr>\n",
       "      <th>3</th>\n",
       "      <td>g_g007188</td>\n",
       "      <td>택시</td>\n",
       "      <td>6000</td>\n",
       "    </tr>\n",
       "    <tr>\n",
       "      <th>4</th>\n",
       "      <td>g_g007207</td>\n",
       "      <td>지하철</td>\n",
       "      <td>7000</td>\n",
       "    </tr>\n",
       "  </tbody>\n",
       "</table>\n",
       "</div>"
      ],
      "text/plain": [
       "   TRAVEL_ID MVMN_SE_NM  MVMN_WON\n",
       "0  g_g004813         택시      3000\n",
       "1  g_g008723        지하철      3000\n",
       "2  g_g003478         택시      4500\n",
       "3  g_g007188         택시      6000\n",
       "4  g_g007207        지하철      7000"
      ]
     },
     "execution_count": 1203,
     "metadata": {},
     "output_type": "execute_result"
    }
   ],
   "source": [
    "mvmn_consume = mvmn_consume.rename(columns = {'PAYMENT_AMT_WON' : 'MVMN_WON'})\n",
    "\n",
    "# 결과 확인\n",
    "mvmn_consume.head()"
   ]
  },
  {
   "cell_type": "markdown",
   "metadata": {},
   "source": [
    "<h5>2) 추가적인 분석에 사용하기 위해 TRAVEL_ID별 주요이동수단 구하기"
   ]
  },
  {
   "cell_type": "code",
   "execution_count": 1204,
   "metadata": {},
   "outputs": [
    {
     "name": "stdout",
     "output_type": "stream",
     "text": [
      "   TRAVEL_ID          MAJOR_TRANSPORT\n",
      "0  e_e000821       [자가용(승용/승합/트럭 등등)]\n",
      "1  e_e013180       [자가용(승용/승합/트럭 등등)]\n",
      "2  e_e013191  [버스 + 지하철, 시외/고속버스, 택시]\n",
      "3  f_f005447       [자가용(승용/승합/트럭 등등)]\n",
      "4  g_g000011       [자가용(승용/승합/트럭 등등)]\n"
     ]
    }
   ],
   "source": [
    "# TRAVEL_ID별로 이동수단 빈도 계산\n",
    "mvmn_consume_count = mvmn_consume.groupby(['TRAVEL_ID', 'MVMN_SE_NM']).size().reset_index(name='COUNT')\n",
    "\n",
    "# TRAVEL_ID별로 가장 많이 사용된 이동수단 추출\n",
    "mvmn_consume_major_transport = mvmn_consume_count.groupby('TRAVEL_ID').apply(\n",
    "    lambda x: x[x['COUNT'] == x['COUNT'].max()]['MVMN_SE_NM'].tolist()  # 빈도수가 동일한 이동수단을 리스트로 결합\n",
    ").reset_index(name='MAJOR_TRANSPORT')\n",
    "\n",
    "# 결과 확인\n",
    "print(mvmn_consume_major_transport.head())"
   ]
  },
  {
   "cell_type": "markdown",
   "metadata": {},
   "source": [
    "<h5>3) TRAVEL_ID가 중복되는 경우 이동수단 소비내역 전처리 - pivot_table"
   ]
  },
  {
   "cell_type": "code",
   "execution_count": 1205,
   "metadata": {},
   "outputs": [
    {
     "name": "stdout",
     "output_type": "stream",
     "text": [
      "중복된 TRAVEL_ID가 있습니다.\n"
     ]
    }
   ],
   "source": [
    "# TRAVEL_ID 중복 여부 확인\n",
    "duplicates = mvmn_consume[mvmn_consume.duplicated(subset='TRAVEL_ID', keep=False)]\n",
    "\n",
    "# 중복된 항목이 있는 경우\n",
    "if not duplicates.empty:\n",
    "    print(\"중복된 TRAVEL_ID가 있습니다.\")\n",
    "else:\n",
    "    print(\"중복된 TRAVEL_ID가 없습니다.\")"
   ]
  },
  {
   "cell_type": "markdown",
   "metadata": {},
   "source": [
    "pivot_table 형식으로 변환하여, 이후 파생변수 추가 등 추가적인 분석을 쉽게 할 수 있도록 함"
   ]
  },
  {
   "cell_type": "code",
   "execution_count": 1206,
   "metadata": {},
   "outputs": [
    {
     "name": "stdout",
     "output_type": "stream",
     "text": [
      "MVMN_SE_NM  KTX/SRT(고속열차)  관광버스  기타  렌터카(승용/승합/버스 등등)  배/선박  버스 + 지하철  새마을/무궁화열차  시내/마을버스  시외/고속버스  자가용(승용/승합/트럭 등등)  자전거  지하철  캠핑카(자차 및 렌탈)     택시  항공기\n",
      "TRAVEL_ID                                                                                                                                               \n",
      "e_e000821               0     0   0                 0     0         0          0        0        0             50000    0    0             0      0    0\n",
      "e_e013180               0     0   0                 0     0         0          0        0        0             54600    0    0             0      0    0\n",
      "e_e013191               0     0   0                 0     0     23600          0        0    20100                 0    0    0             0  11200    0\n",
      "f_f005447               0     0   0                 0     0         0          0        0        0             41000    0    0             0      0    0\n",
      "g_g000011               0     0   0                 0     0         0          0        0        0            144330    0    0             0      0    0\n"
     ]
    }
   ],
   "source": [
    "# MVMN_SE_NM을 문자열 형식으로 변환\n",
    "mvmn_consume['MVMN_SE_NM'] = mvmn_consume['MVMN_SE_NM'].astype(str)\n",
    "\n",
    "# pivot_table 생성\n",
    "mvmn_consume_pivot = mvmn_consume.pivot_table(\n",
    "    index='TRAVEL_ID', \n",
    "    columns='MVMN_SE_NM', \n",
    "    values='MVMN_WON', \n",
    "    aggfunc='sum', \n",
    "    fill_value=0  # 결측값은 0으로\n",
    ")\n",
    "\n",
    "# 결과 확인\n",
    "print(mvmn_consume_pivot.head())"
   ]
  },
  {
   "cell_type": "markdown",
   "metadata": {},
   "source": [
    "2)에서 구했던 주요이동수단과 병합하여 mvmn_consume_new 데이터프레임 생성"
   ]
  },
  {
   "cell_type": "code",
   "execution_count": 1207,
   "metadata": {},
   "outputs": [
    {
     "name": "stdout",
     "output_type": "stream",
     "text": [
      "   TRAVEL_ID  KTX/SRT(고속열차)  관광버스  기타  렌터카(승용/승합/버스 등등)  배/선박  버스 + 지하철  새마을/무궁화열차  시내/마을버스  시외/고속버스  자가용(승용/승합/트럭 등등)  자전거  지하철  캠핑카(자차 및 렌탈)     택시  항공기          MAJOR_TRANSPORT\n",
      "0  e_e000821              0     0   0                 0     0         0          0        0        0             50000    0    0             0      0    0       [자가용(승용/승합/트럭 등등)]\n",
      "1  e_e013180              0     0   0                 0     0         0          0        0        0             54600    0    0             0      0    0       [자가용(승용/승합/트럭 등등)]\n",
      "2  e_e013191              0     0   0                 0     0     23600          0        0    20100                 0    0    0             0  11200    0  [버스 + 지하철, 시외/고속버스, 택시]\n",
      "3  f_f005447              0     0   0                 0     0         0          0        0        0             41000    0    0             0      0    0       [자가용(승용/승합/트럭 등등)]\n",
      "4  g_g000011              0     0   0                 0     0         0          0        0        0            144330    0    0             0      0    0       [자가용(승용/승합/트럭 등등)]\n"
     ]
    }
   ],
   "source": [
    "# 주요 이동수단과 피벗 테이블 병합\n",
    "mvmn_consume_new_pivot = pd.merge(\n",
    "    mvmn_consume_pivot.reset_index(),  # 피벗 테이블을 병합하기 위해 인덱스를 초기화\n",
    "    mvmn_consume_major_transport,     # 주요 이동수단 데이터프레임\n",
    "    on='TRAVEL_ID',                   # 공통 키: TRAVEL_ID\n",
    "    how='left'                        # 병합 방식: 왼쪽 (피벗 테이블 기준)\n",
    ")\n",
    "\n",
    "# 결과 확인\n",
    "print(mvmn_consume_new_pivot.head())"
   ]
  },
  {
   "cell_type": "markdown",
   "metadata": {},
   "source": [
    "<h5>4) 추가적인 분석에 사용하기 위해 TRAVEL_ID별 이동수단총소비액 파생변수 추가"
   ]
  },
  {
   "cell_type": "code",
   "execution_count": 1208,
   "metadata": {},
   "outputs": [
    {
     "name": "stdout",
     "output_type": "stream",
     "text": [
      "   TRAVEL_ID  KTX/SRT(고속열차)  관광버스  기타  렌터카(승용/승합/버스 등등)  배/선박  버스 + 지하철  새마을/무궁화열차  시내/마을버스  시외/고속버스  자가용(승용/승합/트럭 등등)  자전거  지하철  캠핑카(자차 및 렌탈)     택시  항공기          MAJOR_TRANSPORT  TOTAL_MVMN_WON\n",
      "0  e_e000821              0     0   0                 0     0         0          0        0        0             50000    0    0             0      0    0       [자가용(승용/승합/트럭 등등)]           50000\n",
      "1  e_e013180              0     0   0                 0     0         0          0        0        0             54600    0    0             0      0    0       [자가용(승용/승합/트럭 등등)]           54600\n",
      "2  e_e013191              0     0   0                 0     0     23600          0        0    20100                 0    0    0             0  11200    0  [버스 + 지하철, 시외/고속버스, 택시]           54900\n",
      "3  f_f005447              0     0   0                 0     0         0          0        0        0             41000    0    0             0      0    0       [자가용(승용/승합/트럭 등등)]           41000\n",
      "4  g_g000011              0     0   0                 0     0         0          0        0        0            144330    0    0             0      0    0       [자가용(승용/승합/트럭 등등)]          144330\n"
     ]
    }
   ],
   "source": [
    "# TRAVEL_ID별로 이동수단의 총 소비액 계산\n",
    "mvmn_consume_total = mvmn_consume.groupby('TRAVEL_ID')['MVMN_WON'].sum().reset_index(name='TOTAL_MVMN_WON')\n",
    "\n",
    "# mvmn_consume_new_pivot 병합\n",
    "mvmn_consume_new_pivot = mvmn_consume_new_pivot.merge(mvmn_consume_total, on='TRAVEL_ID', how='left')\n",
    "\n",
    "# 결과 확인\n",
    "print(mvmn_consume_new_pivot.head())"
   ]
  },
  {
   "cell_type": "markdown",
   "metadata": {},
   "source": [
    "merge 후 결과의 가독성을 높이기 위해 TRAVEL_ID, MAJOR_TRANSPORT, TOTAL_MVMN_WON 만 추출"
   ]
  },
  {
   "cell_type": "code",
   "execution_count": 1209,
   "metadata": {},
   "outputs": [
    {
     "name": "stdout",
     "output_type": "stream",
     "text": [
      "     TRAVEL_ID          MAJOR_TRANSPORT  TOTAL_MVMN_WON\n",
      "0    e_e000821       [자가용(승용/승합/트럭 등등)]           50000\n",
      "1    e_e013180       [자가용(승용/승합/트럭 등등)]           54600\n",
      "2    e_e013191  [버스 + 지하철, 시외/고속버스, 택시]           54900\n",
      "3    f_f005447       [자가용(승용/승합/트럭 등등)]           41000\n",
      "4    g_g000011       [자가용(승용/승합/트럭 등등)]          144330\n",
      "..         ...                      ...             ...\n",
      "293  g_g012863       [자가용(승용/승합/트럭 등등)]            2400\n",
      "294  g_g012870    [버스 + 지하철, 새마을/무궁화열차]           29000\n",
      "295  g_g012889       [자가용(승용/승합/트럭 등등)]           72714\n",
      "296  g_g013064       [자가용(승용/승합/트럭 등등)]           71200\n",
      "297  g_g013104       [자가용(승용/승합/트럭 등등)]           10000\n",
      "\n",
      "[298 rows x 3 columns]\n"
     ]
    }
   ],
   "source": [
    "mvmn_consume_new = mvmn_consume_new_pivot[['TRAVEL_ID', 'MAJOR_TRANSPORT', 'TOTAL_MVMN_WON']]\n",
    "print(mvmn_consume_new)"
   ]
  },
  {
   "cell_type": "markdown",
   "metadata": {},
   "source": [
    "<h3>3. 전처리 후 확인</h3>"
   ]
  },
  {
   "cell_type": "code",
   "execution_count": 1210,
   "metadata": {},
   "outputs": [
    {
     "name": "stdout",
     "output_type": "stream",
     "text": [
      "중복된 TRAVEL_ID가 없습니다.\n"
     ]
    }
   ],
   "source": [
    "# TRAVEL_ID 중복 여부 확인\n",
    "duplicates = mvmn_consume_new[mvmn_consume_new.duplicated(subset='TRAVEL_ID', keep=False)]\n",
    "\n",
    "# 중복된 항목이 있는 경우\n",
    "if not duplicates.empty:\n",
    "    print(\"중복된 TRAVEL_ID가 있습니다.\")\n",
    "else:\n",
    "    print(\"중복된 TRAVEL_ID가 없습니다.\")"
   ]
  },
  {
   "cell_type": "code",
   "execution_count": 1211,
   "metadata": {},
   "outputs": [
    {
     "name": "stdout",
     "output_type": "stream",
     "text": [
      "이동수단소비내역.csv의 구조와 타입 : \n",
      "<class 'pandas.core.frame.DataFrame'>\n",
      "RangeIndex: 298 entries, 0 to 297\n",
      "Data columns (total 3 columns):\n",
      " #   Column           Non-Null Count  Dtype \n",
      "---  ------           --------------  ----- \n",
      " 0   TRAVEL_ID        298 non-null    object\n",
      " 1   MAJOR_TRANSPORT  298 non-null    object\n",
      " 2   TOTAL_MVMN_WON   298 non-null    int64 \n",
      "dtypes: int64(1), object(2)\n",
      "memory usage: 7.1+ KB\n",
      "None\n"
     ]
    }
   ],
   "source": [
    "# 데이터의 구조와 타입 확인\n",
    "print('이동수단소비내역.csv의 구조와 타입 : ')\n",
    "print(mvmn_consume_new.info())"
   ]
  },
  {
   "cell_type": "code",
   "execution_count": 1212,
   "metadata": {},
   "outputs": [
    {
     "name": "stdout",
     "output_type": "stream",
     "text": [
      "이동수단소비내역.csv의 결측치 : \n",
      "TRAVEL_ID          0\n",
      "MAJOR_TRANSPORT    0\n",
      "TOTAL_MVMN_WON     0\n",
      "dtype: int64\n"
     ]
    }
   ],
   "source": [
    "# 데이터의 결측치 확인\n",
    "print('이동수단소비내역.csv의 결측치 : ')\n",
    "print(mvmn_consume_new.isnull().sum())"
   ]
  },
  {
   "cell_type": "code",
   "execution_count": 1213,
   "metadata": {},
   "outputs": [
    {
     "data": {
      "text/html": [
       "<div>\n",
       "<style scoped>\n",
       "    .dataframe tbody tr th:only-of-type {\n",
       "        vertical-align: middle;\n",
       "    }\n",
       "\n",
       "    .dataframe tbody tr th {\n",
       "        vertical-align: top;\n",
       "    }\n",
       "\n",
       "    .dataframe thead th {\n",
       "        text-align: right;\n",
       "    }\n",
       "</style>\n",
       "<table border=\"1\" class=\"dataframe\">\n",
       "  <thead>\n",
       "    <tr style=\"text-align: right;\">\n",
       "      <th></th>\n",
       "      <th>TRAVEL_ID</th>\n",
       "      <th>MAJOR_TRANSPORT</th>\n",
       "      <th>TOTAL_MVMN_WON</th>\n",
       "    </tr>\n",
       "  </thead>\n",
       "  <tbody>\n",
       "    <tr>\n",
       "      <th>0</th>\n",
       "      <td>e_e000821</td>\n",
       "      <td>[자가용(승용/승합/트럭 등등)]</td>\n",
       "      <td>50000</td>\n",
       "    </tr>\n",
       "    <tr>\n",
       "      <th>1</th>\n",
       "      <td>e_e013180</td>\n",
       "      <td>[자가용(승용/승합/트럭 등등)]</td>\n",
       "      <td>54600</td>\n",
       "    </tr>\n",
       "    <tr>\n",
       "      <th>2</th>\n",
       "      <td>e_e013191</td>\n",
       "      <td>[버스 + 지하철, 시외/고속버스, 택시]</td>\n",
       "      <td>54900</td>\n",
       "    </tr>\n",
       "    <tr>\n",
       "      <th>3</th>\n",
       "      <td>f_f005447</td>\n",
       "      <td>[자가용(승용/승합/트럭 등등)]</td>\n",
       "      <td>41000</td>\n",
       "    </tr>\n",
       "    <tr>\n",
       "      <th>4</th>\n",
       "      <td>g_g000011</td>\n",
       "      <td>[자가용(승용/승합/트럭 등등)]</td>\n",
       "      <td>144330</td>\n",
       "    </tr>\n",
       "  </tbody>\n",
       "</table>\n",
       "</div>"
      ],
      "text/plain": [
       "   TRAVEL_ID          MAJOR_TRANSPORT  TOTAL_MVMN_WON\n",
       "0  e_e000821       [자가용(승용/승합/트럭 등등)]           50000\n",
       "1  e_e013180       [자가용(승용/승합/트럭 등등)]           54600\n",
       "2  e_e013191  [버스 + 지하철, 시외/고속버스, 택시]           54900\n",
       "3  f_f005447       [자가용(승용/승합/트럭 등등)]           41000\n",
       "4  g_g000011       [자가용(승용/승합/트럭 등등)]          144330"
      ]
     },
     "execution_count": 1213,
     "metadata": {},
     "output_type": "execute_result"
    }
   ],
   "source": [
    "# 데이터 살펴보기\n",
    "mvmn_consume_new.head()"
   ]
  },
  {
   "cell_type": "markdown",
   "metadata": {},
   "source": [
    "<h3>4. 전처리 CSV 저장</h3>"
   ]
  },
  {
   "cell_type": "code",
   "execution_count": 1214,
   "metadata": {},
   "outputs": [],
   "source": [
    "mvmn_consume_new_pivot.to_csv('data/validation/preprocessing_data/이동수단소비내역_pivot_전처리.csv',index=False)"
   ]
  },
  {
   "cell_type": "code",
   "execution_count": 1215,
   "metadata": {},
   "outputs": [],
   "source": [
    "mvmn_consume_new.to_csv('data/validation/preprocessing_data/이동수단소비내역_전처리.csv',index=False)"
   ]
  },
  {
   "cell_type": "markdown",
   "metadata": {},
   "source": [
    "<hr>\n",
    "<h2>[숙박소비내역.csv]</h2>"
   ]
  },
  {
   "cell_type": "markdown",
   "metadata": {},
   "source": [
    "<h3>1. 변수 추출 및 검토</h3>"
   ]
  },
  {
   "cell_type": "code",
   "execution_count": 1216,
   "metadata": {},
   "outputs": [
    {
     "name": "stdout",
     "output_type": "stream",
     "text": [
      "   TRAVEL_ID  LODGING_TYPE_CD  PAYMENT_AMT_WON\n",
      "0  g_g006779                5           176000\n",
      "1  g_g000617                5            45000\n",
      "2  g_g000011                3           129000\n",
      "3  g_g000027                2                0\n",
      "4  g_g000194                4            60000\n"
     ]
    }
   ],
   "source": [
    "# 필요한 변수 리스트\n",
    "columns_to_keep_lodge_consume = [\n",
    "    'TRAVEL_ID', 'LODGING_TYPE_CD', 'PAYMENT_AMT_WON'\n",
    "    ]\n",
    "\n",
    "# lodge_consume.shape에 필요한 변수만 남기고 저장\n",
    "lodge_consume = lodge_consume[columns_to_keep_lodge_consume]\n",
    "\n",
    "# 결과 확인\n",
    "print(lodge_consume.head())"
   ]
  },
  {
   "cell_type": "code",
   "execution_count": 1217,
   "metadata": {},
   "outputs": [
    {
     "name": "stdout",
     "output_type": "stream",
     "text": [
      "숙박소비내역.csv의 행, 열 개수 : \n",
      "(162, 3)\n"
     ]
    }
   ],
   "source": [
    "# 데이터의 행, 열 개수 출력\n",
    "print('숙박소비내역.csv의 행, 열 개수 : ')\n",
    "print(lodge_consume.shape)"
   ]
  },
  {
   "cell_type": "code",
   "execution_count": 1218,
   "metadata": {},
   "outputs": [
    {
     "name": "stdout",
     "output_type": "stream",
     "text": [
      "숙박소비내역.csv의 구조와 타입 : \n",
      "<class 'pandas.core.frame.DataFrame'>\n",
      "RangeIndex: 162 entries, 0 to 161\n",
      "Data columns (total 3 columns):\n",
      " #   Column           Non-Null Count  Dtype \n",
      "---  ------           --------------  ----- \n",
      " 0   TRAVEL_ID        162 non-null    object\n",
      " 1   LODGING_TYPE_CD  162 non-null    int64 \n",
      " 2   PAYMENT_AMT_WON  162 non-null    int64 \n",
      "dtypes: int64(2), object(1)\n",
      "memory usage: 3.9+ KB\n",
      "None\n"
     ]
    }
   ],
   "source": [
    "# 데이터의 구조와 타입 확인\n",
    "print('숙박소비내역.csv의 구조와 타입 : ')\n",
    "print(lodge_consume.info())"
   ]
  },
  {
   "cell_type": "code",
   "execution_count": 1219,
   "metadata": {},
   "outputs": [
    {
     "name": "stdout",
     "output_type": "stream",
     "text": [
      "숙박소비내역.csv의 결측치 : \n",
      "TRAVEL_ID          0\n",
      "LODGING_TYPE_CD    0\n",
      "PAYMENT_AMT_WON    0\n",
      "dtype: int64\n"
     ]
    }
   ],
   "source": [
    "# 데이터의 결측치 확인\n",
    "print('숙박소비내역.csv의 결측치 : ')\n",
    "print(lodge_consume.isnull().sum())"
   ]
  },
  {
   "cell_type": "code",
   "execution_count": 1220,
   "metadata": {},
   "outputs": [
    {
     "data": {
      "text/html": [
       "<div>\n",
       "<style scoped>\n",
       "    .dataframe tbody tr th:only-of-type {\n",
       "        vertical-align: middle;\n",
       "    }\n",
       "\n",
       "    .dataframe tbody tr th {\n",
       "        vertical-align: top;\n",
       "    }\n",
       "\n",
       "    .dataframe thead th {\n",
       "        text-align: right;\n",
       "    }\n",
       "</style>\n",
       "<table border=\"1\" class=\"dataframe\">\n",
       "  <thead>\n",
       "    <tr style=\"text-align: right;\">\n",
       "      <th></th>\n",
       "      <th>TRAVEL_ID</th>\n",
       "      <th>LODGING_TYPE_CD</th>\n",
       "      <th>PAYMENT_AMT_WON</th>\n",
       "    </tr>\n",
       "  </thead>\n",
       "  <tbody>\n",
       "    <tr>\n",
       "      <th>0</th>\n",
       "      <td>g_g006779</td>\n",
       "      <td>5</td>\n",
       "      <td>176000</td>\n",
       "    </tr>\n",
       "    <tr>\n",
       "      <th>1</th>\n",
       "      <td>g_g000617</td>\n",
       "      <td>5</td>\n",
       "      <td>45000</td>\n",
       "    </tr>\n",
       "    <tr>\n",
       "      <th>2</th>\n",
       "      <td>g_g000011</td>\n",
       "      <td>3</td>\n",
       "      <td>129000</td>\n",
       "    </tr>\n",
       "    <tr>\n",
       "      <th>3</th>\n",
       "      <td>g_g000027</td>\n",
       "      <td>2</td>\n",
       "      <td>0</td>\n",
       "    </tr>\n",
       "    <tr>\n",
       "      <th>4</th>\n",
       "      <td>g_g000194</td>\n",
       "      <td>4</td>\n",
       "      <td>60000</td>\n",
       "    </tr>\n",
       "  </tbody>\n",
       "</table>\n",
       "</div>"
      ],
      "text/plain": [
       "   TRAVEL_ID  LODGING_TYPE_CD  PAYMENT_AMT_WON\n",
       "0  g_g006779                5           176000\n",
       "1  g_g000617                5            45000\n",
       "2  g_g000011                3           129000\n",
       "3  g_g000027                2                0\n",
       "4  g_g000194                4            60000"
      ]
     },
     "execution_count": 1220,
     "metadata": {},
     "output_type": "execute_result"
    }
   ],
   "source": [
    "# 데이터 살펴보기\n",
    "lodge_consume.head()"
   ]
  },
  {
   "cell_type": "markdown",
   "metadata": {},
   "source": [
    "<h3>2. 전처리</h3>"
   ]
  },
  {
   "cell_type": "markdown",
   "metadata": {},
   "source": [
    "<h5>1) LODGING_TYPE_CD 변수 코드 'HTY' 매핑</h5>"
   ]
  },
  {
   "cell_type": "code",
   "execution_count": 1221,
   "metadata": {},
   "outputs": [
    {
     "data": {
      "text/html": [
       "<div>\n",
       "<style scoped>\n",
       "    .dataframe tbody tr th:only-of-type {\n",
       "        vertical-align: middle;\n",
       "    }\n",
       "\n",
       "    .dataframe tbody tr th {\n",
       "        vertical-align: top;\n",
       "    }\n",
       "\n",
       "    .dataframe thead th {\n",
       "        text-align: right;\n",
       "    }\n",
       "</style>\n",
       "<table border=\"1\" class=\"dataframe\">\n",
       "  <thead>\n",
       "    <tr style=\"text-align: right;\">\n",
       "      <th></th>\n",
       "      <th>TRAVEL_ID</th>\n",
       "      <th>LODGING_TYPE_CD</th>\n",
       "      <th>PAYMENT_AMT_WON</th>\n",
       "    </tr>\n",
       "  </thead>\n",
       "  <tbody>\n",
       "    <tr>\n",
       "      <th>0</th>\n",
       "      <td>g_g006779</td>\n",
       "      <td>야영(캠핑,글램핑등)</td>\n",
       "      <td>176000</td>\n",
       "    </tr>\n",
       "    <tr>\n",
       "      <th>1</th>\n",
       "      <td>g_g000617</td>\n",
       "      <td>야영(캠핑,글램핑등)</td>\n",
       "      <td>45000</td>\n",
       "    </tr>\n",
       "    <tr>\n",
       "      <th>2</th>\n",
       "      <td>g_g000011</td>\n",
       "      <td>펜션</td>\n",
       "      <td>129000</td>\n",
       "    </tr>\n",
       "    <tr>\n",
       "      <th>3</th>\n",
       "      <td>g_g000027</td>\n",
       "      <td>모텔/여관</td>\n",
       "      <td>0</td>\n",
       "    </tr>\n",
       "    <tr>\n",
       "      <th>4</th>\n",
       "      <td>g_g000194</td>\n",
       "      <td>콘도미니엄/리조트</td>\n",
       "      <td>60000</td>\n",
       "    </tr>\n",
       "  </tbody>\n",
       "</table>\n",
       "</div>"
      ],
      "text/plain": [
       "   TRAVEL_ID LODGING_TYPE_CD  PAYMENT_AMT_WON\n",
       "0  g_g006779     야영(캠핑,글램핑등)           176000\n",
       "1  g_g000617     야영(캠핑,글램핑등)            45000\n",
       "2  g_g000011              펜션           129000\n",
       "3  g_g000027           모텔/여관                0\n",
       "4  g_g000194       콘도미니엄/리조트            60000"
      ]
     },
     "execution_count": 1221,
     "metadata": {},
     "output_type": "execute_result"
    }
   ],
   "source": [
    "lodge_consume = convert_codes_to_korean(lodge_consume, 'LODGING_TYPE_CD', HTY_mapping)\n",
    "\n",
    "# 결과 확인\n",
    "lodge_consume.head()"
   ]
  },
  {
   "cell_type": "markdown",
   "metadata": {},
   "source": [
    "<h5>2) 숙박 소비내역인 걸 나타내기 위해서 변수명 변경</h5>"
   ]
  },
  {
   "cell_type": "code",
   "execution_count": 1222,
   "metadata": {},
   "outputs": [
    {
     "data": {
      "text/html": [
       "<div>\n",
       "<style scoped>\n",
       "    .dataframe tbody tr th:only-of-type {\n",
       "        vertical-align: middle;\n",
       "    }\n",
       "\n",
       "    .dataframe tbody tr th {\n",
       "        vertical-align: top;\n",
       "    }\n",
       "\n",
       "    .dataframe thead th {\n",
       "        text-align: right;\n",
       "    }\n",
       "</style>\n",
       "<table border=\"1\" class=\"dataframe\">\n",
       "  <thead>\n",
       "    <tr style=\"text-align: right;\">\n",
       "      <th></th>\n",
       "      <th>TRAVEL_ID</th>\n",
       "      <th>LODGING_TYPE_CD</th>\n",
       "      <th>LODGE_WON</th>\n",
       "    </tr>\n",
       "  </thead>\n",
       "  <tbody>\n",
       "    <tr>\n",
       "      <th>0</th>\n",
       "      <td>g_g006779</td>\n",
       "      <td>야영(캠핑,글램핑등)</td>\n",
       "      <td>176000</td>\n",
       "    </tr>\n",
       "    <tr>\n",
       "      <th>1</th>\n",
       "      <td>g_g000617</td>\n",
       "      <td>야영(캠핑,글램핑등)</td>\n",
       "      <td>45000</td>\n",
       "    </tr>\n",
       "    <tr>\n",
       "      <th>2</th>\n",
       "      <td>g_g000011</td>\n",
       "      <td>펜션</td>\n",
       "      <td>129000</td>\n",
       "    </tr>\n",
       "    <tr>\n",
       "      <th>3</th>\n",
       "      <td>g_g000027</td>\n",
       "      <td>모텔/여관</td>\n",
       "      <td>0</td>\n",
       "    </tr>\n",
       "    <tr>\n",
       "      <th>4</th>\n",
       "      <td>g_g000194</td>\n",
       "      <td>콘도미니엄/리조트</td>\n",
       "      <td>60000</td>\n",
       "    </tr>\n",
       "  </tbody>\n",
       "</table>\n",
       "</div>"
      ],
      "text/plain": [
       "   TRAVEL_ID LODGING_TYPE_CD  LODGE_WON\n",
       "0  g_g006779     야영(캠핑,글램핑등)     176000\n",
       "1  g_g000617     야영(캠핑,글램핑등)      45000\n",
       "2  g_g000011              펜션     129000\n",
       "3  g_g000027           모텔/여관          0\n",
       "4  g_g000194       콘도미니엄/리조트      60000"
      ]
     },
     "execution_count": 1222,
     "metadata": {},
     "output_type": "execute_result"
    }
   ],
   "source": [
    "lodge_consume = lodge_consume.rename(columns = {'PAYMENT_AMT_WON' : 'LODGE_WON'})\n",
    "\n",
    "# 결과 확인\n",
    "lodge_consume.head()"
   ]
  },
  {
   "cell_type": "markdown",
   "metadata": {},
   "source": [
    "<h5>3) 추가적인 분석에 사용하기 위해 TRAVEL_ID별 주요숙소유형 구하기"
   ]
  },
  {
   "cell_type": "code",
   "execution_count": 1223,
   "metadata": {},
   "outputs": [
    {
     "name": "stdout",
     "output_type": "stream",
     "text": [
      "   TRAVEL_ID MAJOR_LODGE_TYPE\n",
      "0  f_f005447             [호텔]\n",
      "1  g_g000011             [펜션]\n",
      "2  g_g000013             [펜션]\n",
      "3  g_g000024             [호텔]\n",
      "4  g_g000027          [모텔/여관]\n"
     ]
    }
   ],
   "source": [
    "# TRAVEL_ID별로 숙소유형 빈도 계산\n",
    "lodging_count = lodge_consume.groupby(['TRAVEL_ID', 'LODGING_TYPE_CD']).size().reset_index(name='COUNT')\n",
    "\n",
    "# TRAVEL_ID별로 가장 많이 사용된 숙소유형 추출\n",
    "lodge_major_type = lodging_count.groupby('TRAVEL_ID').apply(\n",
    "    lambda x: x[x['COUNT'] == x['COUNT'].max()]['LODGING_TYPE_CD'].tolist()  # 빈도수가 동일한 숙소 유형을 리스트로 결합\n",
    ").reset_index(name='MAJOR_LODGE_TYPE')\n",
    "\n",
    "# 결과 확인\n",
    "print(lodge_major_type.head())"
   ]
  },
  {
   "cell_type": "markdown",
   "metadata": {},
   "source": [
    "<h5>4) TRAVEL_ID가 중복되는 경우 숙소 소비내역 전처리 - pivot_table"
   ]
  },
  {
   "cell_type": "code",
   "execution_count": 1224,
   "metadata": {},
   "outputs": [
    {
     "name": "stdout",
     "output_type": "stream",
     "text": [
      "중복된 TRAVEL_ID가 있습니다.\n"
     ]
    }
   ],
   "source": [
    "# TRAVEL_ID 중복 여부 확인\n",
    "duplicates = lodge_consume[lodge_consume.duplicated(subset='TRAVEL_ID', keep=False)]\n",
    "\n",
    "# 중복된 항목이 있는 경우\n",
    "if not duplicates.empty:\n",
    "    print(\"중복된 TRAVEL_ID가 있습니다.\")\n",
    "else:\n",
    "    print(\"중복된 TRAVEL_ID가 없습니다.\")"
   ]
  },
  {
   "cell_type": "markdown",
   "metadata": {},
   "source": [
    "pivot_table 형식으로 변환하여, 이후 파생변수 추가 등 추가적인 분석을 쉽게 할 수 있도록 함"
   ]
  },
  {
   "cell_type": "code",
   "execution_count": 1225,
   "metadata": {},
   "outputs": [
    {
     "name": "stdout",
     "output_type": "stream",
     "text": [
      "LODGING_TYPE_CD  가족/친지집  게스트하우스  기타  모텔/여관  민박  야영(캠핑,글램핑등)  자연휴양림내 시설  전통 숙박시설  콘도미니엄/리조트      펜션      호텔\n",
      "TRAVEL_ID                                                                                                 \n",
      "f_f005447             0       0   0      0   0            0          0        0          0       0   50000\n",
      "g_g000011             0       0   0      0   0            0          0        0          0  129000       0\n",
      "g_g000013             0       0   0      0   0            0          0        0          0   93000       0\n",
      "g_g000024             0       0   0      0   0            0          0        0          0       0  105000\n",
      "g_g000027             0       0   0      0   0            0          0        0          0       0       0\n"
     ]
    }
   ],
   "source": [
    "# pivot_table 생성\n",
    "lodge_consume_pivot = lodge_consume.pivot_table(\n",
    "    index='TRAVEL_ID', \n",
    "    columns='LODGING_TYPE_CD', \n",
    "    values='LODGE_WON', \n",
    "    aggfunc='sum', \n",
    "    fill_value=0  # 결측값은 0으로\n",
    ")\n",
    "\n",
    "# 결과 확인\n",
    "print(lodge_consume_pivot.head())"
   ]
  },
  {
   "cell_type": "markdown",
   "metadata": {},
   "source": [
    "3)에서 구했던 주요숙소유형과 병합하여 lodge_consume_new 데이터프레임 생성"
   ]
  },
  {
   "cell_type": "code",
   "execution_count": 1226,
   "metadata": {},
   "outputs": [
    {
     "name": "stdout",
     "output_type": "stream",
     "text": [
      "   TRAVEL_ID  가족/친지집  게스트하우스  기타  모텔/여관  민박  야영(캠핑,글램핑등)  자연휴양림내 시설  전통 숙박시설  콘도미니엄/리조트      펜션      호텔 MAJOR_LODGE_TYPE\n",
      "0  f_f005447       0       0   0      0   0            0          0        0          0       0   50000             [호텔]\n",
      "1  g_g000011       0       0   0      0   0            0          0        0          0  129000       0             [펜션]\n",
      "2  g_g000013       0       0   0      0   0            0          0        0          0   93000       0             [펜션]\n",
      "3  g_g000024       0       0   0      0   0            0          0        0          0       0  105000             [호텔]\n",
      "4  g_g000027       0       0   0      0   0            0          0        0          0       0       0          [모텔/여관]\n"
     ]
    }
   ],
   "source": [
    "# 주요 이동수단과 피벗 테이블 병합\n",
    "lodge_consume_new_pivot = pd.merge(\n",
    "    lodge_consume_pivot.reset_index(),  # 피벗 테이블을 병합하기 위해 인덱스를 초기화\n",
    "    lodge_major_type,     # 주요 이동수단 데이터프레임\n",
    "    on='TRAVEL_ID',                   # 공통 키: TRAVEL_ID\n",
    "    how='left'                        # 병합 방식: 왼쪽 (피벗 테이블 기준)\n",
    ")\n",
    "\n",
    "# 결과 확인\n",
    "print(lodge_consume_new_pivot.head())"
   ]
  },
  {
   "cell_type": "markdown",
   "metadata": {},
   "source": [
    "<h5>4) 추가적인 분석에 사용하기 위해 TRAVEL_ID별 숙소총소비액 파생변수 추가"
   ]
  },
  {
   "cell_type": "code",
   "execution_count": 1227,
   "metadata": {},
   "outputs": [
    {
     "name": "stdout",
     "output_type": "stream",
     "text": [
      "   TRAVEL_ID  가족/친지집  게스트하우스  기타  모텔/여관  민박  야영(캠핑,글램핑등)  자연휴양림내 시설  전통 숙박시설  콘도미니엄/리조트      펜션      호텔 MAJOR_LODGE_TYPE  TOTAL_LODGE_WON\n",
      "0  f_f005447       0       0   0      0   0            0          0        0          0       0   50000             [호텔]            50000\n",
      "1  g_g000011       0       0   0      0   0            0          0        0          0  129000       0             [펜션]           129000\n",
      "2  g_g000013       0       0   0      0   0            0          0        0          0   93000       0             [펜션]            93000\n",
      "3  g_g000024       0       0   0      0   0            0          0        0          0       0  105000             [호텔]           105000\n",
      "4  g_g000027       0       0   0      0   0            0          0        0          0       0       0          [모텔/여관]                0\n"
     ]
    }
   ],
   "source": [
    "# TRAVEL_ID별로 숙소 총 소비액 계산\n",
    "lodge_consume_total = lodge_consume.groupby('TRAVEL_ID')['LODGE_WON'].sum().reset_index(name='TOTAL_LODGE_WON')\n",
    "\n",
    "# lodge_consume_new_pivot와 병합\n",
    "lodge_consume_new_pivot = lodge_consume_new_pivot.merge(lodge_consume_total, on='TRAVEL_ID', how='left')\n",
    "\n",
    "# 결과 확인\n",
    "print(lodge_consume_new_pivot.head())"
   ]
  },
  {
   "cell_type": "markdown",
   "metadata": {},
   "source": [
    "merge 후 결과의 가독성을 높이기 위해 TRAVEL_ID, MAJOR_LODGE_TYPE, TOTAL_LODGE_WON 만 추출"
   ]
  },
  {
   "cell_type": "code",
   "execution_count": 1228,
   "metadata": {},
   "outputs": [
    {
     "name": "stdout",
     "output_type": "stream",
     "text": [
      "   TRAVEL_ID MAJOR_LODGE_TYPE  TOTAL_LODGE_WON\n",
      "0  f_f005447             [호텔]            50000\n",
      "1  g_g000011             [펜션]           129000\n",
      "2  g_g000013             [펜션]            93000\n",
      "3  g_g000024             [호텔]           105000\n",
      "4  g_g000027          [모텔/여관]                0\n"
     ]
    }
   ],
   "source": [
    "lodge_consume_new = lodge_consume_new_pivot[['TRAVEL_ID', 'MAJOR_LODGE_TYPE', 'TOTAL_LODGE_WON']]\n",
    "\n",
    "# 결과 확인\n",
    "print(lodge_consume_new.head())"
   ]
  },
  {
   "cell_type": "markdown",
   "metadata": {},
   "source": [
    "<h3>3. 전처리 후 확인</h3>"
   ]
  },
  {
   "cell_type": "code",
   "execution_count": 1229,
   "metadata": {},
   "outputs": [
    {
     "name": "stdout",
     "output_type": "stream",
     "text": [
      "중복된 TRAVEL_ID가 없습니다.\n"
     ]
    }
   ],
   "source": [
    "# TRAVEL_ID 중복 여부 확인\n",
    "duplicates = lodge_consume_new[lodge_consume_new.duplicated(subset='TRAVEL_ID', keep=False)]\n",
    "\n",
    "# 중복된 항목이 있는 경우\n",
    "if not duplicates.empty:\n",
    "    print(\"중복된 TRAVEL_ID가 있습니다.\")\n",
    "else:\n",
    "    print(\"중복된 TRAVEL_ID가 없습니다.\")"
   ]
  },
  {
   "cell_type": "code",
   "execution_count": 1230,
   "metadata": {},
   "outputs": [
    {
     "name": "stdout",
     "output_type": "stream",
     "text": [
      "숙박소비내역.csv의 구조와 타입 : \n",
      "<class 'pandas.core.frame.DataFrame'>\n",
      "RangeIndex: 139 entries, 0 to 138\n",
      "Data columns (total 3 columns):\n",
      " #   Column            Non-Null Count  Dtype \n",
      "---  ------            --------------  ----- \n",
      " 0   TRAVEL_ID         139 non-null    object\n",
      " 1   MAJOR_LODGE_TYPE  139 non-null    object\n",
      " 2   TOTAL_LODGE_WON   139 non-null    int64 \n",
      "dtypes: int64(1), object(2)\n",
      "memory usage: 3.4+ KB\n",
      "None\n"
     ]
    }
   ],
   "source": [
    "# 데이터의 구조와 타입 확인\n",
    "print('숙박소비내역.csv의 구조와 타입 : ')\n",
    "print(lodge_consume_new.info())"
   ]
  },
  {
   "cell_type": "code",
   "execution_count": 1231,
   "metadata": {},
   "outputs": [
    {
     "name": "stdout",
     "output_type": "stream",
     "text": [
      "숙박소비내역.csv의 결측치 : \n",
      "TRAVEL_ID           0\n",
      "MAJOR_LODGE_TYPE    0\n",
      "TOTAL_LODGE_WON     0\n",
      "dtype: int64\n"
     ]
    }
   ],
   "source": [
    "# 데이터의 결측치 확인\n",
    "print('숙박소비내역.csv의 결측치 : ')\n",
    "print(lodge_consume_new.isnull().sum())"
   ]
  },
  {
   "cell_type": "code",
   "execution_count": 1232,
   "metadata": {},
   "outputs": [
    {
     "data": {
      "text/html": [
       "<div>\n",
       "<style scoped>\n",
       "    .dataframe tbody tr th:only-of-type {\n",
       "        vertical-align: middle;\n",
       "    }\n",
       "\n",
       "    .dataframe tbody tr th {\n",
       "        vertical-align: top;\n",
       "    }\n",
       "\n",
       "    .dataframe thead th {\n",
       "        text-align: right;\n",
       "    }\n",
       "</style>\n",
       "<table border=\"1\" class=\"dataframe\">\n",
       "  <thead>\n",
       "    <tr style=\"text-align: right;\">\n",
       "      <th></th>\n",
       "      <th>TRAVEL_ID</th>\n",
       "      <th>MAJOR_LODGE_TYPE</th>\n",
       "      <th>TOTAL_LODGE_WON</th>\n",
       "    </tr>\n",
       "  </thead>\n",
       "  <tbody>\n",
       "    <tr>\n",
       "      <th>0</th>\n",
       "      <td>f_f005447</td>\n",
       "      <td>[호텔]</td>\n",
       "      <td>50000</td>\n",
       "    </tr>\n",
       "    <tr>\n",
       "      <th>1</th>\n",
       "      <td>g_g000011</td>\n",
       "      <td>[펜션]</td>\n",
       "      <td>129000</td>\n",
       "    </tr>\n",
       "    <tr>\n",
       "      <th>2</th>\n",
       "      <td>g_g000013</td>\n",
       "      <td>[펜션]</td>\n",
       "      <td>93000</td>\n",
       "    </tr>\n",
       "    <tr>\n",
       "      <th>3</th>\n",
       "      <td>g_g000024</td>\n",
       "      <td>[호텔]</td>\n",
       "      <td>105000</td>\n",
       "    </tr>\n",
       "    <tr>\n",
       "      <th>4</th>\n",
       "      <td>g_g000027</td>\n",
       "      <td>[모텔/여관]</td>\n",
       "      <td>0</td>\n",
       "    </tr>\n",
       "  </tbody>\n",
       "</table>\n",
       "</div>"
      ],
      "text/plain": [
       "   TRAVEL_ID MAJOR_LODGE_TYPE  TOTAL_LODGE_WON\n",
       "0  f_f005447             [호텔]            50000\n",
       "1  g_g000011             [펜션]           129000\n",
       "2  g_g000013             [펜션]            93000\n",
       "3  g_g000024             [호텔]           105000\n",
       "4  g_g000027          [모텔/여관]                0"
      ]
     },
     "execution_count": 1232,
     "metadata": {},
     "output_type": "execute_result"
    }
   ],
   "source": [
    "# 데이터 살펴보기\n",
    "lodge_consume_new.head()"
   ]
  },
  {
   "cell_type": "markdown",
   "metadata": {},
   "source": [
    "<h3>4. 전처리 CSV 저장</h3>"
   ]
  },
  {
   "cell_type": "code",
   "execution_count": 1233,
   "metadata": {},
   "outputs": [],
   "source": [
    "lodge_consume_new_pivot.to_csv('data/validation/preprocessing_data/숙박소비내역_pivot_전처리.csv',index=False)"
   ]
  },
  {
   "cell_type": "code",
   "execution_count": 1234,
   "metadata": {},
   "outputs": [],
   "source": [
    "lodge_consume_new.to_csv('data/validation/preprocessing_data/숙박소비내역_전처리.csv',index=False)"
   ]
  },
  {
   "cell_type": "markdown",
   "metadata": {},
   "source": [
    "<hr>\n",
    "<h2>[활동내역.csv]</h2>"
   ]
  },
  {
   "cell_type": "markdown",
   "metadata": {},
   "source": [
    "<h3>1. 변수 추출 및 검토</h3>"
   ]
  },
  {
   "cell_type": "code",
   "execution_count": 1235,
   "metadata": {},
   "outputs": [
    {
     "name": "stdout",
     "output_type": "stream",
     "text": [
      "   TRAVEL_ID  ACTIVITY_TYPE_CD\n",
      "0  e_e000821                 1\n",
      "1  e_e000821                 1\n",
      "2  e_e000821                 1\n",
      "3  e_e000821                 1\n",
      "4  e_e000821                 4\n"
     ]
    }
   ],
   "source": [
    "# 필요한 변수 리스트\n",
    "columns_to_keep_activity = [\n",
    "    'TRAVEL_ID', 'ACTIVITY_TYPE_CD'\n",
    "    ]\n",
    "\n",
    "# activity에 필요한 변수만 남기고 저장\n",
    "activity = activity[columns_to_keep_activity]\n",
    "\n",
    "# 결과 확인\n",
    "print(activity.head())"
   ]
  },
  {
   "cell_type": "code",
   "execution_count": 1236,
   "metadata": {},
   "outputs": [
    {
     "name": "stdout",
     "output_type": "stream",
     "text": [
      "활동내역.csv의 행, 열 개수 : \n",
      "(3986, 2)\n"
     ]
    }
   ],
   "source": [
    "# 데이터의 행, 열 개수 출력\n",
    "print('활동내역.csv의 행, 열 개수 : ')\n",
    "print(activity.shape)"
   ]
  },
  {
   "cell_type": "code",
   "execution_count": 1237,
   "metadata": {},
   "outputs": [
    {
     "name": "stdout",
     "output_type": "stream",
     "text": [
      "활동내역.csv의 구조와 타입 : \n",
      "<class 'pandas.core.frame.DataFrame'>\n",
      "RangeIndex: 3986 entries, 0 to 3985\n",
      "Data columns (total 2 columns):\n",
      " #   Column            Non-Null Count  Dtype \n",
      "---  ------            --------------  ----- \n",
      " 0   TRAVEL_ID         3986 non-null   object\n",
      " 1   ACTIVITY_TYPE_CD  3986 non-null   int64 \n",
      "dtypes: int64(1), object(1)\n",
      "memory usage: 62.4+ KB\n",
      "None\n"
     ]
    }
   ],
   "source": [
    "# 데이터의 구조와 타입 확인\n",
    "print('활동내역.csv의 구조와 타입 : ')\n",
    "print(activity.info())"
   ]
  },
  {
   "cell_type": "code",
   "execution_count": 1238,
   "metadata": {},
   "outputs": [
    {
     "name": "stdout",
     "output_type": "stream",
     "text": [
      "활동내역.csv의 결측치 : \n",
      "TRAVEL_ID           0\n",
      "ACTIVITY_TYPE_CD    0\n",
      "dtype: int64\n"
     ]
    }
   ],
   "source": [
    "# 데이터의 결측치 확인\n",
    "print('활동내역.csv의 결측치 : ')\n",
    "print(activity.isnull().sum())"
   ]
  },
  {
   "cell_type": "code",
   "execution_count": 1239,
   "metadata": {},
   "outputs": [
    {
     "data": {
      "text/html": [
       "<div>\n",
       "<style scoped>\n",
       "    .dataframe tbody tr th:only-of-type {\n",
       "        vertical-align: middle;\n",
       "    }\n",
       "\n",
       "    .dataframe tbody tr th {\n",
       "        vertical-align: top;\n",
       "    }\n",
       "\n",
       "    .dataframe thead th {\n",
       "        text-align: right;\n",
       "    }\n",
       "</style>\n",
       "<table border=\"1\" class=\"dataframe\">\n",
       "  <thead>\n",
       "    <tr style=\"text-align: right;\">\n",
       "      <th></th>\n",
       "      <th>TRAVEL_ID</th>\n",
       "      <th>ACTIVITY_TYPE_CD</th>\n",
       "    </tr>\n",
       "  </thead>\n",
       "  <tbody>\n",
       "    <tr>\n",
       "      <th>0</th>\n",
       "      <td>e_e000821</td>\n",
       "      <td>1</td>\n",
       "    </tr>\n",
       "    <tr>\n",
       "      <th>1</th>\n",
       "      <td>e_e000821</td>\n",
       "      <td>1</td>\n",
       "    </tr>\n",
       "    <tr>\n",
       "      <th>2</th>\n",
       "      <td>e_e000821</td>\n",
       "      <td>1</td>\n",
       "    </tr>\n",
       "    <tr>\n",
       "      <th>3</th>\n",
       "      <td>e_e000821</td>\n",
       "      <td>1</td>\n",
       "    </tr>\n",
       "    <tr>\n",
       "      <th>4</th>\n",
       "      <td>e_e000821</td>\n",
       "      <td>4</td>\n",
       "    </tr>\n",
       "  </tbody>\n",
       "</table>\n",
       "</div>"
      ],
      "text/plain": [
       "   TRAVEL_ID  ACTIVITY_TYPE_CD\n",
       "0  e_e000821                 1\n",
       "1  e_e000821                 1\n",
       "2  e_e000821                 1\n",
       "3  e_e000821                 1\n",
       "4  e_e000821                 4"
      ]
     },
     "execution_count": 1239,
     "metadata": {},
     "output_type": "execute_result"
    }
   ],
   "source": [
    "# 데이터 살펴보기\n",
    "activity.head()"
   ]
  },
  {
   "cell_type": "markdown",
   "metadata": {},
   "source": [
    "<h3>2. 전처리</h3>"
   ]
  },
  {
   "cell_type": "markdown",
   "metadata": {},
   "source": [
    "<h5>1) ACTIVITY_TYPE_CD 변수 코드 'ACT' 매핑</h5>"
   ]
  },
  {
   "cell_type": "code",
   "execution_count": 1240,
   "metadata": {},
   "outputs": [
    {
     "data": {
      "text/html": [
       "<div>\n",
       "<style scoped>\n",
       "    .dataframe tbody tr th:only-of-type {\n",
       "        vertical-align: middle;\n",
       "    }\n",
       "\n",
       "    .dataframe tbody tr th {\n",
       "        vertical-align: top;\n",
       "    }\n",
       "\n",
       "    .dataframe thead th {\n",
       "        text-align: right;\n",
       "    }\n",
       "</style>\n",
       "<table border=\"1\" class=\"dataframe\">\n",
       "  <thead>\n",
       "    <tr style=\"text-align: right;\">\n",
       "      <th></th>\n",
       "      <th>TRAVEL_ID</th>\n",
       "      <th>ACTIVITY_TYPE_CD</th>\n",
       "    </tr>\n",
       "  </thead>\n",
       "  <tbody>\n",
       "    <tr>\n",
       "      <th>0</th>\n",
       "      <td>e_e000821</td>\n",
       "      <td>취식</td>\n",
       "    </tr>\n",
       "    <tr>\n",
       "      <th>1</th>\n",
       "      <td>e_e000821</td>\n",
       "      <td>취식</td>\n",
       "    </tr>\n",
       "    <tr>\n",
       "      <th>2</th>\n",
       "      <td>e_e000821</td>\n",
       "      <td>취식</td>\n",
       "    </tr>\n",
       "    <tr>\n",
       "      <th>3</th>\n",
       "      <td>e_e000821</td>\n",
       "      <td>취식</td>\n",
       "    </tr>\n",
       "    <tr>\n",
       "      <th>4</th>\n",
       "      <td>e_e000821</td>\n",
       "      <td>단순 구경 / 산책 / 걷기</td>\n",
       "    </tr>\n",
       "  </tbody>\n",
       "</table>\n",
       "</div>"
      ],
      "text/plain": [
       "   TRAVEL_ID ACTIVITY_TYPE_CD\n",
       "0  e_e000821               취식\n",
       "1  e_e000821               취식\n",
       "2  e_e000821               취식\n",
       "3  e_e000821               취식\n",
       "4  e_e000821  단순 구경 / 산책 / 걷기"
      ]
     },
     "execution_count": 1240,
     "metadata": {},
     "output_type": "execute_result"
    }
   ],
   "source": [
    "activity = convert_codes_to_korean(activity, 'ACTIVITY_TYPE_CD', ACT_mapping)\n",
    "\n",
    "# 결과 확인\n",
    "activity.head()"
   ]
  },
  {
   "cell_type": "markdown",
   "metadata": {},
   "source": [
    "<h5>2) 추가적인 분석에 사용하기 위해 TRAVEL_ID별 주요활동유형 구하기"
   ]
  },
  {
   "cell_type": "code",
   "execution_count": 1241,
   "metadata": {},
   "outputs": [
    {
     "name": "stdout",
     "output_type": "stream",
     "text": [
      "   TRAVEL_ID    MAJOR_ACTIVITY_TYPE\n",
      "0  e_e000821               [취식, 휴식]\n",
      "1  e_e013141                   [취식]\n",
      "2  e_e013180  [단순 구경 / 산책 / 걷기, 취식]\n",
      "3  e_e013191                   [취식]\n",
      "4  f_f005447      [단순 구경 / 산책 / 걷기]\n"
     ]
    }
   ],
   "source": [
    "# TRAVEL_ID별로 활동유형 빈도 계산\n",
    "activity_count = activity.groupby(['TRAVEL_ID', 'ACTIVITY_TYPE_CD']).size().reset_index(name='COUNT')\n",
    "\n",
    "# TRAVEL_ID별로 가장 많은 활동유형 추출\n",
    "activity_new = activity_count.groupby('TRAVEL_ID').apply(\n",
    "    lambda x: x[x['COUNT'] == x['COUNT'].max()]['ACTIVITY_TYPE_CD'].tolist()  # 빈도수가 동일한 활동유형을 리스트로 결합\n",
    ").reset_index(name='MAJOR_ACTIVITY_TYPE')\n",
    "\n",
    "# 결과 확인\n",
    "print(activity_new.head())"
   ]
  },
  {
   "cell_type": "markdown",
   "metadata": {},
   "source": [
    "<h3>3. 전처리 후 확인</h3>"
   ]
  },
  {
   "cell_type": "code",
   "execution_count": 1242,
   "metadata": {},
   "outputs": [
    {
     "name": "stdout",
     "output_type": "stream",
     "text": [
      "중복된 TRAVEL_ID가 없습니다.\n"
     ]
    }
   ],
   "source": [
    "# TRAVEL_ID 중복 여부 확인\n",
    "duplicates = activity_new[activity_new.duplicated(subset='TRAVEL_ID', keep=False)]\n",
    "\n",
    "# 중복된 항목이 있는 경우\n",
    "if not duplicates.empty:\n",
    "    print(\"중복된 TRAVEL_ID가 있습니다.\")\n",
    "else:\n",
    "    print(\"중복된 TRAVEL_ID가 없습니다.\")"
   ]
  },
  {
   "cell_type": "code",
   "execution_count": 1243,
   "metadata": {},
   "outputs": [
    {
     "name": "stdout",
     "output_type": "stream",
     "text": [
      "활동내역.csv의 구조와 타입 : \n",
      "<class 'pandas.core.frame.DataFrame'>\n",
      "RangeIndex: 320 entries, 0 to 319\n",
      "Data columns (total 2 columns):\n",
      " #   Column               Non-Null Count  Dtype \n",
      "---  ------               --------------  ----- \n",
      " 0   TRAVEL_ID            320 non-null    object\n",
      " 1   MAJOR_ACTIVITY_TYPE  320 non-null    object\n",
      "dtypes: object(2)\n",
      "memory usage: 5.1+ KB\n",
      "None\n"
     ]
    }
   ],
   "source": [
    "# 데이터의 구조와 타입 확인\n",
    "print('활동내역.csv의 구조와 타입 : ')\n",
    "print(activity_new.info())"
   ]
  },
  {
   "cell_type": "code",
   "execution_count": 1244,
   "metadata": {},
   "outputs": [
    {
     "name": "stdout",
     "output_type": "stream",
     "text": [
      "활동내역.csv의 결측치 : \n",
      "TRAVEL_ID              0\n",
      "MAJOR_ACTIVITY_TYPE    0\n",
      "dtype: int64\n"
     ]
    }
   ],
   "source": [
    "# 데이터의 결측치 확인\n",
    "print('활동내역.csv의 결측치 : ')\n",
    "print(activity_new.isnull().sum())"
   ]
  },
  {
   "cell_type": "code",
   "execution_count": 1245,
   "metadata": {},
   "outputs": [
    {
     "data": {
      "text/html": [
       "<div>\n",
       "<style scoped>\n",
       "    .dataframe tbody tr th:only-of-type {\n",
       "        vertical-align: middle;\n",
       "    }\n",
       "\n",
       "    .dataframe tbody tr th {\n",
       "        vertical-align: top;\n",
       "    }\n",
       "\n",
       "    .dataframe thead th {\n",
       "        text-align: right;\n",
       "    }\n",
       "</style>\n",
       "<table border=\"1\" class=\"dataframe\">\n",
       "  <thead>\n",
       "    <tr style=\"text-align: right;\">\n",
       "      <th></th>\n",
       "      <th>TRAVEL_ID</th>\n",
       "      <th>MAJOR_ACTIVITY_TYPE</th>\n",
       "    </tr>\n",
       "  </thead>\n",
       "  <tbody>\n",
       "    <tr>\n",
       "      <th>0</th>\n",
       "      <td>e_e000821</td>\n",
       "      <td>[취식, 휴식]</td>\n",
       "    </tr>\n",
       "    <tr>\n",
       "      <th>1</th>\n",
       "      <td>e_e013141</td>\n",
       "      <td>[취식]</td>\n",
       "    </tr>\n",
       "    <tr>\n",
       "      <th>2</th>\n",
       "      <td>e_e013180</td>\n",
       "      <td>[단순 구경 / 산책 / 걷기, 취식]</td>\n",
       "    </tr>\n",
       "    <tr>\n",
       "      <th>3</th>\n",
       "      <td>e_e013191</td>\n",
       "      <td>[취식]</td>\n",
       "    </tr>\n",
       "    <tr>\n",
       "      <th>4</th>\n",
       "      <td>f_f005447</td>\n",
       "      <td>[단순 구경 / 산책 / 걷기]</td>\n",
       "    </tr>\n",
       "  </tbody>\n",
       "</table>\n",
       "</div>"
      ],
      "text/plain": [
       "   TRAVEL_ID    MAJOR_ACTIVITY_TYPE\n",
       "0  e_e000821               [취식, 휴식]\n",
       "1  e_e013141                   [취식]\n",
       "2  e_e013180  [단순 구경 / 산책 / 걷기, 취식]\n",
       "3  e_e013191                   [취식]\n",
       "4  f_f005447      [단순 구경 / 산책 / 걷기]"
      ]
     },
     "execution_count": 1245,
     "metadata": {},
     "output_type": "execute_result"
    }
   ],
   "source": [
    "# 데이터 살펴보기\n",
    "activity_new.head()"
   ]
  },
  {
   "cell_type": "markdown",
   "metadata": {},
   "source": [
    "<h3>4. 전처리 CSV 저장</h3>"
   ]
  },
  {
   "cell_type": "code",
   "execution_count": 1246,
   "metadata": {},
   "outputs": [],
   "source": [
    "activity_new.to_csv('data/validation/preprocessing_data/활동내역_전처리.csv',index=False)"
   ]
  },
  {
   "cell_type": "markdown",
   "metadata": {},
   "source": [
    "<hr>\n",
    "<h2>[활동소비내역.csv]</h2>"
   ]
  },
  {
   "cell_type": "markdown",
   "metadata": {},
   "source": [
    "<h3>1. 변수 추출 및 검토</h3>"
   ]
  },
  {
   "cell_type": "code",
   "execution_count": 1247,
   "metadata": {},
   "outputs": [
    {
     "name": "stdout",
     "output_type": "stream",
     "text": [
      "   TRAVEL_ID  PAYMENT_AMT_WON\n",
      "0  e_e000821            48000\n",
      "1  e_e000821            98000\n",
      "2  e_e000821             4500\n",
      "3  e_e013141            22200\n",
      "4  e_e013141            18000\n"
     ]
    }
   ],
   "source": [
    "# 필요한 변수 리스트\n",
    "columns_to_keep_activity_consume = [\n",
    "    'TRAVEL_ID', 'PAYMENT_AMT_WON'\n",
    "    ]\n",
    "\n",
    "# activity_counsume에 필요한 변수만 남기고 저장\n",
    "activity_consume = activity_consume[columns_to_keep_activity_consume]\n",
    "\n",
    "# 결과 확인\n",
    "print(activity_consume.head())"
   ]
  },
  {
   "cell_type": "code",
   "execution_count": 1248,
   "metadata": {},
   "outputs": [
    {
     "name": "stdout",
     "output_type": "stream",
     "text": [
      "활동소비내역.csv의 행, 열 개수 : \n",
      "(1875, 2)\n"
     ]
    }
   ],
   "source": [
    "# 데이터의 행, 열 개수 출력\n",
    "print('활동소비내역.csv의 행, 열 개수 : ')\n",
    "print(activity_consume.shape)"
   ]
  },
  {
   "cell_type": "code",
   "execution_count": 1249,
   "metadata": {},
   "outputs": [
    {
     "name": "stdout",
     "output_type": "stream",
     "text": [
      "활동소비내역.csv의 구조와 타입 : \n",
      "<class 'pandas.core.frame.DataFrame'>\n",
      "RangeIndex: 1875 entries, 0 to 1874\n",
      "Data columns (total 2 columns):\n",
      " #   Column           Non-Null Count  Dtype \n",
      "---  ------           --------------  ----- \n",
      " 0   TRAVEL_ID        1875 non-null   object\n",
      " 1   PAYMENT_AMT_WON  1875 non-null   int64 \n",
      "dtypes: int64(1), object(1)\n",
      "memory usage: 29.4+ KB\n",
      "None\n"
     ]
    }
   ],
   "source": [
    "# 데이터의 구조와 타입 확인\n",
    "print('활동소비내역.csv의 구조와 타입 : ')\n",
    "print(activity_consume.info())"
   ]
  },
  {
   "cell_type": "code",
   "execution_count": 1250,
   "metadata": {},
   "outputs": [
    {
     "name": "stdout",
     "output_type": "stream",
     "text": [
      "활동소비내역.csv의 결측치 : \n",
      "TRAVEL_ID          0\n",
      "PAYMENT_AMT_WON    0\n",
      "dtype: int64\n"
     ]
    }
   ],
   "source": [
    "# 데이터의 결측치 확인\n",
    "print('활동소비내역.csv의 결측치 : ')\n",
    "print(activity_consume.isnull().sum())"
   ]
  },
  {
   "cell_type": "code",
   "execution_count": 1251,
   "metadata": {},
   "outputs": [
    {
     "data": {
      "text/html": [
       "<div>\n",
       "<style scoped>\n",
       "    .dataframe tbody tr th:only-of-type {\n",
       "        vertical-align: middle;\n",
       "    }\n",
       "\n",
       "    .dataframe tbody tr th {\n",
       "        vertical-align: top;\n",
       "    }\n",
       "\n",
       "    .dataframe thead th {\n",
       "        text-align: right;\n",
       "    }\n",
       "</style>\n",
       "<table border=\"1\" class=\"dataframe\">\n",
       "  <thead>\n",
       "    <tr style=\"text-align: right;\">\n",
       "      <th></th>\n",
       "      <th>TRAVEL_ID</th>\n",
       "      <th>PAYMENT_AMT_WON</th>\n",
       "    </tr>\n",
       "  </thead>\n",
       "  <tbody>\n",
       "    <tr>\n",
       "      <th>0</th>\n",
       "      <td>e_e000821</td>\n",
       "      <td>48000</td>\n",
       "    </tr>\n",
       "    <tr>\n",
       "      <th>1</th>\n",
       "      <td>e_e000821</td>\n",
       "      <td>98000</td>\n",
       "    </tr>\n",
       "    <tr>\n",
       "      <th>2</th>\n",
       "      <td>e_e000821</td>\n",
       "      <td>4500</td>\n",
       "    </tr>\n",
       "    <tr>\n",
       "      <th>3</th>\n",
       "      <td>e_e013141</td>\n",
       "      <td>22200</td>\n",
       "    </tr>\n",
       "    <tr>\n",
       "      <th>4</th>\n",
       "      <td>e_e013141</td>\n",
       "      <td>18000</td>\n",
       "    </tr>\n",
       "  </tbody>\n",
       "</table>\n",
       "</div>"
      ],
      "text/plain": [
       "   TRAVEL_ID  PAYMENT_AMT_WON\n",
       "0  e_e000821            48000\n",
       "1  e_e000821            98000\n",
       "2  e_e000821             4500\n",
       "3  e_e013141            22200\n",
       "4  e_e013141            18000"
      ]
     },
     "execution_count": 1251,
     "metadata": {},
     "output_type": "execute_result"
    }
   ],
   "source": [
    "# 데이터 살펴보기\n",
    "activity_consume.head()"
   ]
  },
  {
   "cell_type": "markdown",
   "metadata": {},
   "source": [
    "<h3>2. 전처리</h3>"
   ]
  },
  {
   "cell_type": "markdown",
   "metadata": {},
   "source": [
    "<h5>1) 활동 소비내역인 걸 나타내기 위해서 변수명 변경"
   ]
  },
  {
   "cell_type": "code",
   "execution_count": 1252,
   "metadata": {},
   "outputs": [
    {
     "data": {
      "text/html": [
       "<div>\n",
       "<style scoped>\n",
       "    .dataframe tbody tr th:only-of-type {\n",
       "        vertical-align: middle;\n",
       "    }\n",
       "\n",
       "    .dataframe tbody tr th {\n",
       "        vertical-align: top;\n",
       "    }\n",
       "\n",
       "    .dataframe thead th {\n",
       "        text-align: right;\n",
       "    }\n",
       "</style>\n",
       "<table border=\"1\" class=\"dataframe\">\n",
       "  <thead>\n",
       "    <tr style=\"text-align: right;\">\n",
       "      <th></th>\n",
       "      <th>TRAVEL_ID</th>\n",
       "      <th>ACTIVITY_WON</th>\n",
       "    </tr>\n",
       "  </thead>\n",
       "  <tbody>\n",
       "    <tr>\n",
       "      <th>0</th>\n",
       "      <td>e_e000821</td>\n",
       "      <td>48000</td>\n",
       "    </tr>\n",
       "    <tr>\n",
       "      <th>1</th>\n",
       "      <td>e_e000821</td>\n",
       "      <td>98000</td>\n",
       "    </tr>\n",
       "    <tr>\n",
       "      <th>2</th>\n",
       "      <td>e_e000821</td>\n",
       "      <td>4500</td>\n",
       "    </tr>\n",
       "    <tr>\n",
       "      <th>3</th>\n",
       "      <td>e_e013141</td>\n",
       "      <td>22200</td>\n",
       "    </tr>\n",
       "    <tr>\n",
       "      <th>4</th>\n",
       "      <td>e_e013141</td>\n",
       "      <td>18000</td>\n",
       "    </tr>\n",
       "  </tbody>\n",
       "</table>\n",
       "</div>"
      ],
      "text/plain": [
       "   TRAVEL_ID  ACTIVITY_WON\n",
       "0  e_e000821         48000\n",
       "1  e_e000821         98000\n",
       "2  e_e000821          4500\n",
       "3  e_e013141         22200\n",
       "4  e_e013141         18000"
      ]
     },
     "execution_count": 1252,
     "metadata": {},
     "output_type": "execute_result"
    }
   ],
   "source": [
    "activity_consume = activity_consume.rename(columns = {'PAYMENT_AMT_WON' : 'ACTIVITY_WON'})\n",
    "\n",
    "# 결과 확인\n",
    "activity_consume.head()"
   ]
  },
  {
   "cell_type": "markdown",
   "metadata": {},
   "source": [
    "<h5>2) 추가적인 분석에 사용하기 위해 TRAVEL_ID별 활동총소비액 파생변수 추가"
   ]
  },
  {
   "cell_type": "code",
   "execution_count": 1253,
   "metadata": {},
   "outputs": [
    {
     "name": "stdout",
     "output_type": "stream",
     "text": [
      "   TRAVEL_ID  TOTAL_ACTIVITY_WON\n",
      "0  e_e000821              150500\n",
      "1  e_e013141               44000\n",
      "2  e_e013180               91000\n",
      "3  e_e013191               43100\n",
      "4  f_f005447               82400\n"
     ]
    }
   ],
   "source": [
    "# 결과를 저장하기 위한 activity_consume_new 데이터프레임 준비\n",
    "activity_consume_new = activity_consume.drop(columns=['ACTIVITY_WON']).drop_duplicates(subset=['TRAVEL_ID'])\n",
    "\n",
    "# TRAVEL_ID별로 이동수단의 총 소비액 계산\n",
    "activity_consume_total = activity_consume.groupby('TRAVEL_ID')['ACTIVITY_WON'].sum().reset_index(name='TOTAL_ACTIVITY_WON')\n",
    "\n",
    "# activity_consume_new 라는 새로운 데이터프레임에 저장\n",
    "activity_consume_new = activity_consume_new.merge(activity_consume_total, on='TRAVEL_ID', how='left')\n",
    "\n",
    "# 결과 확인\n",
    "print(activity_consume_new.head())"
   ]
  },
  {
   "cell_type": "markdown",
   "metadata": {},
   "source": [
    "<h3>3. 전처리 후 확인</h3>"
   ]
  },
  {
   "cell_type": "code",
   "execution_count": 1254,
   "metadata": {},
   "outputs": [
    {
     "name": "stdout",
     "output_type": "stream",
     "text": [
      "중복된 TRAVEL_ID가 없습니다.\n"
     ]
    }
   ],
   "source": [
    "# TRAVEL_ID 중복 여부 확인\n",
    "duplicates = activity_consume_new[activity_consume_new.duplicated(subset='TRAVEL_ID', keep=False)]\n",
    "\n",
    "# 중복된 항목이 있는 경우\n",
    "if not duplicates.empty:\n",
    "    print(\"중복된 TRAVEL_ID가 있습니다.\")\n",
    "else:\n",
    "    print(\"중복된 TRAVEL_ID가 없습니다.\")"
   ]
  },
  {
   "cell_type": "code",
   "execution_count": 1255,
   "metadata": {},
   "outputs": [
    {
     "name": "stdout",
     "output_type": "stream",
     "text": [
      "활동소비내역.csv의 구조와 타입 : \n",
      "<class 'pandas.core.frame.DataFrame'>\n",
      "RangeIndex: 318 entries, 0 to 317\n",
      "Data columns (total 2 columns):\n",
      " #   Column              Non-Null Count  Dtype \n",
      "---  ------              --------------  ----- \n",
      " 0   TRAVEL_ID           318 non-null    object\n",
      " 1   TOTAL_ACTIVITY_WON  318 non-null    int64 \n",
      "dtypes: int64(1), object(1)\n",
      "memory usage: 5.1+ KB\n",
      "None\n"
     ]
    }
   ],
   "source": [
    "# 데이터의 구조와 타입 확인\n",
    "print('활동소비내역.csv의 구조와 타입 : ')\n",
    "print(activity_consume_new.info())"
   ]
  },
  {
   "cell_type": "code",
   "execution_count": 1256,
   "metadata": {},
   "outputs": [
    {
     "name": "stdout",
     "output_type": "stream",
     "text": [
      "활동소비내역.csv의 결측치 : \n",
      "TRAVEL_ID             0\n",
      "TOTAL_ACTIVITY_WON    0\n",
      "dtype: int64\n"
     ]
    }
   ],
   "source": [
    "# 데이터의 결측치 확인\n",
    "print('활동소비내역.csv의 결측치 : ')\n",
    "print(activity_consume_new.isnull().sum())"
   ]
  },
  {
   "cell_type": "code",
   "execution_count": 1257,
   "metadata": {},
   "outputs": [
    {
     "data": {
      "text/html": [
       "<div>\n",
       "<style scoped>\n",
       "    .dataframe tbody tr th:only-of-type {\n",
       "        vertical-align: middle;\n",
       "    }\n",
       "\n",
       "    .dataframe tbody tr th {\n",
       "        vertical-align: top;\n",
       "    }\n",
       "\n",
       "    .dataframe thead th {\n",
       "        text-align: right;\n",
       "    }\n",
       "</style>\n",
       "<table border=\"1\" class=\"dataframe\">\n",
       "  <thead>\n",
       "    <tr style=\"text-align: right;\">\n",
       "      <th></th>\n",
       "      <th>TRAVEL_ID</th>\n",
       "      <th>TOTAL_ACTIVITY_WON</th>\n",
       "    </tr>\n",
       "  </thead>\n",
       "  <tbody>\n",
       "    <tr>\n",
       "      <th>0</th>\n",
       "      <td>e_e000821</td>\n",
       "      <td>150500</td>\n",
       "    </tr>\n",
       "    <tr>\n",
       "      <th>1</th>\n",
       "      <td>e_e013141</td>\n",
       "      <td>44000</td>\n",
       "    </tr>\n",
       "    <tr>\n",
       "      <th>2</th>\n",
       "      <td>e_e013180</td>\n",
       "      <td>91000</td>\n",
       "    </tr>\n",
       "    <tr>\n",
       "      <th>3</th>\n",
       "      <td>e_e013191</td>\n",
       "      <td>43100</td>\n",
       "    </tr>\n",
       "    <tr>\n",
       "      <th>4</th>\n",
       "      <td>f_f005447</td>\n",
       "      <td>82400</td>\n",
       "    </tr>\n",
       "  </tbody>\n",
       "</table>\n",
       "</div>"
      ],
      "text/plain": [
       "   TRAVEL_ID  TOTAL_ACTIVITY_WON\n",
       "0  e_e000821              150500\n",
       "1  e_e013141               44000\n",
       "2  e_e013180               91000\n",
       "3  e_e013191               43100\n",
       "4  f_f005447               82400"
      ]
     },
     "execution_count": 1257,
     "metadata": {},
     "output_type": "execute_result"
    }
   ],
   "source": [
    "# 데이터 살펴보기\n",
    "activity_consume_new.head()"
   ]
  },
  {
   "cell_type": "markdown",
   "metadata": {},
   "source": [
    "<h3>4. 전처리 CSV 저장</h3>"
   ]
  },
  {
   "cell_type": "code",
   "execution_count": 1258,
   "metadata": {},
   "outputs": [],
   "source": [
    "activity_consume_new.to_csv('data/validation/preprocessing_data/활동소비내역_전처리.csv',index=False)"
   ]
  },
  {
   "cell_type": "markdown",
   "metadata": {},
   "source": [
    "<hr>\n",
    "<h2>[사전소비내역.csv]</h2>"
   ]
  },
  {
   "cell_type": "markdown",
   "metadata": {},
   "source": [
    "<h3>1. 변수 추출 및 검토</h3>"
   ]
  },
  {
   "cell_type": "code",
   "execution_count": 1259,
   "metadata": {},
   "outputs": [
    {
     "name": "stdout",
     "output_type": "stream",
     "text": [
      "   TRAVEL_ID        ADV_NM  PAYMENT_AMT_WON\n",
      "0  g_g000027            생수             1000\n",
      "1  g_g000194       보령행 버스표            18000\n",
      "2  g_g000196            약과            19000\n",
      "3  g_g000199    워터파크 티켓 1장            21000\n",
      "4  g_g000212  블랙타이거 새우 2마리            30000\n"
     ]
    }
   ],
   "source": [
    "# 필요한 변수 리스트\n",
    "columns_to_keep_adv_consume = [\n",
    "    'TRAVEL_ID', 'ADV_NM', 'PAYMENT_AMT_WON'\n",
    "    ]\n",
    "\n",
    "# adv_consume에 필요한 변수만 남기고 저장\n",
    "adv_consume = adv_consume[columns_to_keep_adv_consume]\n",
    "\n",
    "# 결과 확인\n",
    "print(adv_consume.head())"
   ]
  },
  {
   "cell_type": "code",
   "execution_count": 1260,
   "metadata": {},
   "outputs": [
    {
     "name": "stdout",
     "output_type": "stream",
     "text": [
      "사전소비내역.csv의 행, 열 개수 : \n",
      "(88, 3)\n"
     ]
    }
   ],
   "source": [
    "# 데이터의 행, 열 개수 출력\n",
    "print('사전소비내역.csv의 행, 열 개수 : ')\n",
    "print(adv_consume.shape)"
   ]
  },
  {
   "cell_type": "code",
   "execution_count": 1261,
   "metadata": {},
   "outputs": [
    {
     "name": "stdout",
     "output_type": "stream",
     "text": [
      "사전소비내역.csv의 구조와 타입 : \n",
      "<class 'pandas.core.frame.DataFrame'>\n",
      "RangeIndex: 88 entries, 0 to 87\n",
      "Data columns (total 3 columns):\n",
      " #   Column           Non-Null Count  Dtype \n",
      "---  ------           --------------  ----- \n",
      " 0   TRAVEL_ID        88 non-null     object\n",
      " 1   ADV_NM           88 non-null     object\n",
      " 2   PAYMENT_AMT_WON  88 non-null     int64 \n",
      "dtypes: int64(1), object(2)\n",
      "memory usage: 2.2+ KB\n",
      "None\n"
     ]
    }
   ],
   "source": [
    "# 데이터의 구조와 타입 확인\n",
    "print('사전소비내역.csv의 구조와 타입 : ')\n",
    "print(adv_consume.info())"
   ]
  },
  {
   "cell_type": "code",
   "execution_count": 1262,
   "metadata": {},
   "outputs": [
    {
     "name": "stdout",
     "output_type": "stream",
     "text": [
      "사전소비내역.csv의 결측치 : \n",
      "TRAVEL_ID          0\n",
      "ADV_NM             0\n",
      "PAYMENT_AMT_WON    0\n",
      "dtype: int64\n"
     ]
    }
   ],
   "source": [
    "# 데이터의 결측치 확인\n",
    "print('사전소비내역.csv의 결측치 : ')\n",
    "print(adv_consume.isnull().sum())"
   ]
  },
  {
   "cell_type": "code",
   "execution_count": 1263,
   "metadata": {},
   "outputs": [
    {
     "data": {
      "text/html": [
       "<div>\n",
       "<style scoped>\n",
       "    .dataframe tbody tr th:only-of-type {\n",
       "        vertical-align: middle;\n",
       "    }\n",
       "\n",
       "    .dataframe tbody tr th {\n",
       "        vertical-align: top;\n",
       "    }\n",
       "\n",
       "    .dataframe thead th {\n",
       "        text-align: right;\n",
       "    }\n",
       "</style>\n",
       "<table border=\"1\" class=\"dataframe\">\n",
       "  <thead>\n",
       "    <tr style=\"text-align: right;\">\n",
       "      <th></th>\n",
       "      <th>TRAVEL_ID</th>\n",
       "      <th>ADV_NM</th>\n",
       "      <th>PAYMENT_AMT_WON</th>\n",
       "    </tr>\n",
       "  </thead>\n",
       "  <tbody>\n",
       "    <tr>\n",
       "      <th>0</th>\n",
       "      <td>g_g000027</td>\n",
       "      <td>생수</td>\n",
       "      <td>1000</td>\n",
       "    </tr>\n",
       "    <tr>\n",
       "      <th>1</th>\n",
       "      <td>g_g000194</td>\n",
       "      <td>보령행 버스표</td>\n",
       "      <td>18000</td>\n",
       "    </tr>\n",
       "    <tr>\n",
       "      <th>2</th>\n",
       "      <td>g_g000196</td>\n",
       "      <td>약과</td>\n",
       "      <td>19000</td>\n",
       "    </tr>\n",
       "    <tr>\n",
       "      <th>3</th>\n",
       "      <td>g_g000199</td>\n",
       "      <td>워터파크 티켓 1장</td>\n",
       "      <td>21000</td>\n",
       "    </tr>\n",
       "    <tr>\n",
       "      <th>4</th>\n",
       "      <td>g_g000212</td>\n",
       "      <td>블랙타이거 새우 2마리</td>\n",
       "      <td>30000</td>\n",
       "    </tr>\n",
       "  </tbody>\n",
       "</table>\n",
       "</div>"
      ],
      "text/plain": [
       "   TRAVEL_ID        ADV_NM  PAYMENT_AMT_WON\n",
       "0  g_g000027            생수             1000\n",
       "1  g_g000194       보령행 버스표            18000\n",
       "2  g_g000196            약과            19000\n",
       "3  g_g000199    워터파크 티켓 1장            21000\n",
       "4  g_g000212  블랙타이거 새우 2마리            30000"
      ]
     },
     "execution_count": 1263,
     "metadata": {},
     "output_type": "execute_result"
    }
   ],
   "source": [
    "# 데이터 살펴보기\n",
    "adv_consume.head()"
   ]
  },
  {
   "cell_type": "markdown",
   "metadata": {},
   "source": [
    "<h3>2. 전처리</h3>"
   ]
  },
  {
   "cell_type": "markdown",
   "metadata": {},
   "source": [
    "<h5>1) 사전 소비내역인 걸 나타내기 위해서 변수명 변경"
   ]
  },
  {
   "cell_type": "code",
   "execution_count": 1264,
   "metadata": {},
   "outputs": [
    {
     "data": {
      "text/html": [
       "<div>\n",
       "<style scoped>\n",
       "    .dataframe tbody tr th:only-of-type {\n",
       "        vertical-align: middle;\n",
       "    }\n",
       "\n",
       "    .dataframe tbody tr th {\n",
       "        vertical-align: top;\n",
       "    }\n",
       "\n",
       "    .dataframe thead th {\n",
       "        text-align: right;\n",
       "    }\n",
       "</style>\n",
       "<table border=\"1\" class=\"dataframe\">\n",
       "  <thead>\n",
       "    <tr style=\"text-align: right;\">\n",
       "      <th></th>\n",
       "      <th>TRAVEL_ID</th>\n",
       "      <th>ADV_NM</th>\n",
       "      <th>ADV_WON</th>\n",
       "    </tr>\n",
       "  </thead>\n",
       "  <tbody>\n",
       "    <tr>\n",
       "      <th>0</th>\n",
       "      <td>g_g000027</td>\n",
       "      <td>생수</td>\n",
       "      <td>1000</td>\n",
       "    </tr>\n",
       "    <tr>\n",
       "      <th>1</th>\n",
       "      <td>g_g000194</td>\n",
       "      <td>보령행 버스표</td>\n",
       "      <td>18000</td>\n",
       "    </tr>\n",
       "    <tr>\n",
       "      <th>2</th>\n",
       "      <td>g_g000196</td>\n",
       "      <td>약과</td>\n",
       "      <td>19000</td>\n",
       "    </tr>\n",
       "    <tr>\n",
       "      <th>3</th>\n",
       "      <td>g_g000199</td>\n",
       "      <td>워터파크 티켓 1장</td>\n",
       "      <td>21000</td>\n",
       "    </tr>\n",
       "    <tr>\n",
       "      <th>4</th>\n",
       "      <td>g_g000212</td>\n",
       "      <td>블랙타이거 새우 2마리</td>\n",
       "      <td>30000</td>\n",
       "    </tr>\n",
       "  </tbody>\n",
       "</table>\n",
       "</div>"
      ],
      "text/plain": [
       "   TRAVEL_ID        ADV_NM  ADV_WON\n",
       "0  g_g000027            생수     1000\n",
       "1  g_g000194       보령행 버스표    18000\n",
       "2  g_g000196            약과    19000\n",
       "3  g_g000199    워터파크 티켓 1장    21000\n",
       "4  g_g000212  블랙타이거 새우 2마리    30000"
      ]
     },
     "execution_count": 1264,
     "metadata": {},
     "output_type": "execute_result"
    }
   ],
   "source": [
    "adv_consume = adv_consume.rename(columns = {'PAYMENT_AMT_WON' : 'ADV_WON'})\n",
    "\n",
    "# 결과 확인\n",
    "adv_consume.head()"
   ]
  },
  {
   "cell_type": "markdown",
   "metadata": {},
   "source": [
    "<h5>2) 추가적인 분석에 사용하기 위해 TRAVEL_ID별 구매내역 리스트 형태로 저장"
   ]
  },
  {
   "cell_type": "code",
   "execution_count": 1265,
   "metadata": {},
   "outputs": [
    {
     "name": "stdout",
     "output_type": "stream",
     "text": [
      "   TRAVEL_ID          ADV_NM\n",
      "0  g_g000027            [생수]\n",
      "1  g_g000194       [보령행 버스표]\n",
      "2  g_g000196            [약과]\n",
      "3  g_g000199    [워터파크 티켓 1장]\n",
      "4  g_g000212  [블랙타이거 새우 2마리]\n"
     ]
    }
   ],
   "source": [
    "# TRAVEL_ID별로 구매내역 리스트로 결합\n",
    "adv_consume_list = adv_consume.groupby('TRAVEL_ID')['ADV_NM'].apply(list).reset_index(name='ADV_NM')\n",
    "\n",
    "# 결과 확인\n",
    "print(adv_consume_list.head())"
   ]
  },
  {
   "cell_type": "markdown",
   "metadata": {},
   "source": [
    "<h5>3) 추가적인 분석에 사용하기 위해 TRAVEL_ID별 사전총소비액 파생변수 추가"
   ]
  },
  {
   "cell_type": "code",
   "execution_count": 1266,
   "metadata": {},
   "outputs": [
    {
     "name": "stdout",
     "output_type": "stream",
     "text": [
      "중복된 TRAVEL_ID가 있습니다.\n"
     ]
    }
   ],
   "source": [
    "# TRAVEL_ID 중복 여부 확인\n",
    "duplicates = adv_consume[adv_consume.duplicated(subset='TRAVEL_ID', keep=False)]\n",
    "\n",
    "# 중복된 항목이 있는 경우\n",
    "if not duplicates.empty:\n",
    "    print(\"중복된 TRAVEL_ID가 있습니다.\")\n",
    "else:\n",
    "    print(\"중복된 TRAVEL_ID가 없습니다.\")"
   ]
  },
  {
   "cell_type": "code",
   "execution_count": 1267,
   "metadata": {},
   "outputs": [
    {
     "name": "stdout",
     "output_type": "stream",
     "text": [
      "   TRAVEL_ID          ADV_NM  TOTAL_ADV_WON\n",
      "0  g_g000027            [생수]           1000\n",
      "1  g_g000194       [보령행 버스표]          18000\n",
      "2  g_g000196            [약과]          19000\n",
      "3  g_g000199    [워터파크 티켓 1장]          21000\n",
      "4  g_g000212  [블랙타이거 새우 2마리]          30000\n"
     ]
    }
   ],
   "source": [
    "# TRAVEL_ID별로 사전 총 소비액 계산\n",
    "adv_consume_total = adv_consume.groupby('TRAVEL_ID')['ADV_WON'].sum().reset_index(name='TOTAL_ADV_WON')\n",
    "\n",
    "# adv_consume_list와 병합\n",
    "adv_consume_new = pd.merge(adv_consume_list, adv_consume_total, on='TRAVEL_ID', how='left')\n",
    "\n",
    "# 결과 확인\n",
    "print(adv_consume_new.head())"
   ]
  },
  {
   "cell_type": "markdown",
   "metadata": {},
   "source": [
    "<h3>3. 전처리 후 확인</h3>"
   ]
  },
  {
   "cell_type": "code",
   "execution_count": 1268,
   "metadata": {},
   "outputs": [
    {
     "name": "stdout",
     "output_type": "stream",
     "text": [
      "중복된 TRAVEL_ID가 없습니다.\n"
     ]
    }
   ],
   "source": [
    "# TRAVEL_ID 중복 여부 확인\n",
    "duplicates = adv_consume_new[adv_consume_new.duplicated(subset='TRAVEL_ID', keep=False)]\n",
    "\n",
    "# 중복된 항목이 있는 경우\n",
    "if not duplicates.empty:\n",
    "    print(\"중복된 TRAVEL_ID가 있습니다.\")\n",
    "else:\n",
    "    print(\"중복된 TRAVEL_ID가 없습니다.\")"
   ]
  },
  {
   "cell_type": "code",
   "execution_count": 1269,
   "metadata": {},
   "outputs": [
    {
     "name": "stdout",
     "output_type": "stream",
     "text": [
      "사전소비내역.csv의 구조와 타입 : \n",
      "<class 'pandas.core.frame.DataFrame'>\n",
      "RangeIndex: 75 entries, 0 to 74\n",
      "Data columns (total 3 columns):\n",
      " #   Column         Non-Null Count  Dtype \n",
      "---  ------         --------------  ----- \n",
      " 0   TRAVEL_ID      75 non-null     object\n",
      " 1   ADV_NM         75 non-null     object\n",
      " 2   TOTAL_ADV_WON  75 non-null     int64 \n",
      "dtypes: int64(1), object(2)\n",
      "memory usage: 1.9+ KB\n",
      "None\n"
     ]
    }
   ],
   "source": [
    "# 데이터의 구조와 타입 확인\n",
    "print('사전소비내역.csv의 구조와 타입 : ')\n",
    "print(adv_consume_new.info())"
   ]
  },
  {
   "cell_type": "code",
   "execution_count": 1270,
   "metadata": {},
   "outputs": [
    {
     "name": "stdout",
     "output_type": "stream",
     "text": [
      "사전소비내역.csv의 결측치 : \n",
      "TRAVEL_ID        0\n",
      "ADV_NM           0\n",
      "TOTAL_ADV_WON    0\n",
      "dtype: int64\n"
     ]
    }
   ],
   "source": [
    "# 데이터의 결측치 확인\n",
    "print('사전소비내역.csv의 결측치 : ')\n",
    "print(adv_consume_new.isnull().sum())"
   ]
  },
  {
   "cell_type": "code",
   "execution_count": 1271,
   "metadata": {},
   "outputs": [
    {
     "data": {
      "text/html": [
       "<div>\n",
       "<style scoped>\n",
       "    .dataframe tbody tr th:only-of-type {\n",
       "        vertical-align: middle;\n",
       "    }\n",
       "\n",
       "    .dataframe tbody tr th {\n",
       "        vertical-align: top;\n",
       "    }\n",
       "\n",
       "    .dataframe thead th {\n",
       "        text-align: right;\n",
       "    }\n",
       "</style>\n",
       "<table border=\"1\" class=\"dataframe\">\n",
       "  <thead>\n",
       "    <tr style=\"text-align: right;\">\n",
       "      <th></th>\n",
       "      <th>TRAVEL_ID</th>\n",
       "      <th>ADV_NM</th>\n",
       "      <th>TOTAL_ADV_WON</th>\n",
       "    </tr>\n",
       "  </thead>\n",
       "  <tbody>\n",
       "    <tr>\n",
       "      <th>0</th>\n",
       "      <td>g_g000027</td>\n",
       "      <td>[생수]</td>\n",
       "      <td>1000</td>\n",
       "    </tr>\n",
       "    <tr>\n",
       "      <th>1</th>\n",
       "      <td>g_g000194</td>\n",
       "      <td>[보령행 버스표]</td>\n",
       "      <td>18000</td>\n",
       "    </tr>\n",
       "    <tr>\n",
       "      <th>2</th>\n",
       "      <td>g_g000196</td>\n",
       "      <td>[약과]</td>\n",
       "      <td>19000</td>\n",
       "    </tr>\n",
       "    <tr>\n",
       "      <th>3</th>\n",
       "      <td>g_g000199</td>\n",
       "      <td>[워터파크 티켓 1장]</td>\n",
       "      <td>21000</td>\n",
       "    </tr>\n",
       "    <tr>\n",
       "      <th>4</th>\n",
       "      <td>g_g000212</td>\n",
       "      <td>[블랙타이거 새우 2마리]</td>\n",
       "      <td>30000</td>\n",
       "    </tr>\n",
       "  </tbody>\n",
       "</table>\n",
       "</div>"
      ],
      "text/plain": [
       "   TRAVEL_ID          ADV_NM  TOTAL_ADV_WON\n",
       "0  g_g000027            [생수]           1000\n",
       "1  g_g000194       [보령행 버스표]          18000\n",
       "2  g_g000196            [약과]          19000\n",
       "3  g_g000199    [워터파크 티켓 1장]          21000\n",
       "4  g_g000212  [블랙타이거 새우 2마리]          30000"
      ]
     },
     "execution_count": 1271,
     "metadata": {},
     "output_type": "execute_result"
    }
   ],
   "source": [
    "# 데이터 살펴보기\n",
    "adv_consume_new.head()"
   ]
  },
  {
   "cell_type": "markdown",
   "metadata": {},
   "source": [
    "<h3>4. 전처리 CSV 저장</h3>"
   ]
  },
  {
   "cell_type": "code",
   "execution_count": 1272,
   "metadata": {},
   "outputs": [],
   "source": [
    "adv_consume_new.to_csv('data/validation/preprocessing_data/사전소비내역_전처리.csv',index=False)"
   ]
  },
  {
   "cell_type": "markdown",
   "metadata": {},
   "source": [
    "<hr>\n",
    "<h3>[데이터 병합]</h3>"
   ]
  },
  {
   "cell_type": "code",
   "execution_count": 1273,
   "metadata": {},
   "outputs": [
    {
     "data": {
      "text/html": [
       "<div>\n",
       "<style scoped>\n",
       "    .dataframe tbody tr th:only-of-type {\n",
       "        vertical-align: middle;\n",
       "    }\n",
       "\n",
       "    .dataframe tbody tr th {\n",
       "        vertical-align: top;\n",
       "    }\n",
       "\n",
       "    .dataframe thead th {\n",
       "        text-align: right;\n",
       "    }\n",
       "</style>\n",
       "<table border=\"1\" class=\"dataframe\">\n",
       "  <thead>\n",
       "    <tr style=\"text-align: right;\">\n",
       "      <th></th>\n",
       "      <th>GENDER</th>\n",
       "      <th>AGE_GRP</th>\n",
       "      <th>JOB_NM</th>\n",
       "      <th>TRAVEL_TERM</th>\n",
       "      <th>TRAVEL_LIKE_SGG_1</th>\n",
       "      <th>TRAVEL_LIKE_SGG_2</th>\n",
       "      <th>TRAVEL_LIKE_SGG_3</th>\n",
       "      <th>TRAVEL_STYL_1</th>\n",
       "      <th>TRAVEL_STYL_2</th>\n",
       "      <th>TRAVEL_STYL_3</th>\n",
       "      <th>TRAVEL_STYL_4</th>\n",
       "      <th>TRAVEL_STYL_5</th>\n",
       "      <th>TRAVEL_STYL_6</th>\n",
       "      <th>TRAVEL_STYL_7</th>\n",
       "      <th>TRAVEL_STYL_8</th>\n",
       "      <th>TRAVEL_STATUS_RESIDENCE</th>\n",
       "      <th>TRAVEL_STATUS_DESTINATION</th>\n",
       "      <th>TRAVEL_STATUS_ACCOMPANY</th>\n",
       "      <th>TRAVEL_MOTIVE</th>\n",
       "      <th>TRAVEL_COMPANIONS_NUM</th>\n",
       "      <th>TRAVEL_ID</th>\n",
       "      <th>REL_CD</th>\n",
       "      <th>COMPANION_GENDER</th>\n",
       "      <th>COMPANION_AGE_GRP</th>\n",
       "      <th>TRAVEL_PURPOSE</th>\n",
       "      <th>TRAVEL_START_YMD</th>\n",
       "      <th>TRAVEL_END_YMD</th>\n",
       "      <th>TRAVEL_MISSION_CHECK</th>\n",
       "      <th>MAJOR_TRANSPORT</th>\n",
       "      <th>TOTAL_MVMN_WON</th>\n",
       "      <th>MAJOR_LODGE_TYPE</th>\n",
       "      <th>TOTAL_LODGE_WON</th>\n",
       "      <th>MAJOR_ACTIVITY_TYPE</th>\n",
       "      <th>TOTAL_ACTIVITY_WON</th>\n",
       "      <th>ADV_NM</th>\n",
       "      <th>TOTAL_ADV_WON</th>\n",
       "    </tr>\n",
       "  </thead>\n",
       "  <tbody>\n",
       "    <tr>\n",
       "      <th>0</th>\n",
       "      <td>남</td>\n",
       "      <td>30</td>\n",
       "      <td>판매 종사자</td>\n",
       "      <td>한달</td>\n",
       "      <td>42210</td>\n",
       "      <td>44825</td>\n",
       "      <td>41270</td>\n",
       "      <td>자연 선호(강)</td>\n",
       "      <td>자연 선호(강)</td>\n",
       "      <td>자연 선호(중)</td>\n",
       "      <td>자연 선호(강)</td>\n",
       "      <td>자연 선호(강)</td>\n",
       "      <td>도시 선호(강)</td>\n",
       "      <td>도시 선호(강)</td>\n",
       "      <td>도시 선호(강)</td>\n",
       "      <td>경기도</td>\n",
       "      <td>충남</td>\n",
       "      <td>자녀 동반 여행</td>\n",
       "      <td>쉴 수 있는 기회, 육체 피로 해결 및 정신적인 휴식</td>\n",
       "      <td>4</td>\n",
       "      <td>g_g005903</td>\n",
       "      <td>배우자</td>\n",
       "      <td>여자</td>\n",
       "      <td>30대</td>\n",
       "      <td>쇼핑;SNS 인생샷 여행;인플루언서 따라하기 여행;야외 스포츠, 레포츠 활동</td>\n",
       "      <td>2023-08-12</td>\n",
       "      <td>2023-08-15</td>\n",
       "      <td>야외 스포츠, 레포츠 활동;SNS 인생샷 여행;교육/체험 프로그램 참가</td>\n",
       "      <td>[자가용(승용/승합/트럭 등등)]</td>\n",
       "      <td>119,000.00</td>\n",
       "      <td>[콘도미니엄/리조트]</td>\n",
       "      <td>400,000.00</td>\n",
       "      <td>[취식]</td>\n",
       "      <td>336,010.00</td>\n",
       "      <td>NaN</td>\n",
       "      <td>NaN</td>\n",
       "    </tr>\n",
       "    <tr>\n",
       "      <th>1</th>\n",
       "      <td>남</td>\n",
       "      <td>30</td>\n",
       "      <td>판매 종사자</td>\n",
       "      <td>한달</td>\n",
       "      <td>42210</td>\n",
       "      <td>44825</td>\n",
       "      <td>41270</td>\n",
       "      <td>자연 선호(강)</td>\n",
       "      <td>자연 선호(강)</td>\n",
       "      <td>자연 선호(중)</td>\n",
       "      <td>자연 선호(강)</td>\n",
       "      <td>자연 선호(강)</td>\n",
       "      <td>도시 선호(강)</td>\n",
       "      <td>도시 선호(강)</td>\n",
       "      <td>도시 선호(강)</td>\n",
       "      <td>경기도</td>\n",
       "      <td>충남</td>\n",
       "      <td>자녀 동반 여행</td>\n",
       "      <td>쉴 수 있는 기회, 육체 피로 해결 및 정신적인 휴식</td>\n",
       "      <td>4</td>\n",
       "      <td>g_g005903</td>\n",
       "      <td>부모</td>\n",
       "      <td>여자</td>\n",
       "      <td>60대</td>\n",
       "      <td>쇼핑;SNS 인생샷 여행;인플루언서 따라하기 여행;야외 스포츠, 레포츠 활동</td>\n",
       "      <td>2023-08-12</td>\n",
       "      <td>2023-08-15</td>\n",
       "      <td>야외 스포츠, 레포츠 활동;SNS 인생샷 여행;교육/체험 프로그램 참가</td>\n",
       "      <td>[자가용(승용/승합/트럭 등등)]</td>\n",
       "      <td>119,000.00</td>\n",
       "      <td>[콘도미니엄/리조트]</td>\n",
       "      <td>400,000.00</td>\n",
       "      <td>[취식]</td>\n",
       "      <td>336,010.00</td>\n",
       "      <td>NaN</td>\n",
       "      <td>NaN</td>\n",
       "    </tr>\n",
       "    <tr>\n",
       "      <th>2</th>\n",
       "      <td>남</td>\n",
       "      <td>30</td>\n",
       "      <td>판매 종사자</td>\n",
       "      <td>한달</td>\n",
       "      <td>42210</td>\n",
       "      <td>44825</td>\n",
       "      <td>41270</td>\n",
       "      <td>자연 선호(강)</td>\n",
       "      <td>자연 선호(강)</td>\n",
       "      <td>자연 선호(중)</td>\n",
       "      <td>자연 선호(강)</td>\n",
       "      <td>자연 선호(강)</td>\n",
       "      <td>도시 선호(강)</td>\n",
       "      <td>도시 선호(강)</td>\n",
       "      <td>도시 선호(강)</td>\n",
       "      <td>경기도</td>\n",
       "      <td>충남</td>\n",
       "      <td>자녀 동반 여행</td>\n",
       "      <td>쉴 수 있는 기회, 육체 피로 해결 및 정신적인 휴식</td>\n",
       "      <td>4</td>\n",
       "      <td>g_g005903</td>\n",
       "      <td>자녀</td>\n",
       "      <td>여자</td>\n",
       "      <td>~9세이하</td>\n",
       "      <td>쇼핑;SNS 인생샷 여행;인플루언서 따라하기 여행;야외 스포츠, 레포츠 활동</td>\n",
       "      <td>2023-08-12</td>\n",
       "      <td>2023-08-15</td>\n",
       "      <td>야외 스포츠, 레포츠 활동;SNS 인생샷 여행;교육/체험 프로그램 참가</td>\n",
       "      <td>[자가용(승용/승합/트럭 등등)]</td>\n",
       "      <td>119,000.00</td>\n",
       "      <td>[콘도미니엄/리조트]</td>\n",
       "      <td>400,000.00</td>\n",
       "      <td>[취식]</td>\n",
       "      <td>336,010.00</td>\n",
       "      <td>NaN</td>\n",
       "      <td>NaN</td>\n",
       "    </tr>\n",
       "    <tr>\n",
       "      <th>3</th>\n",
       "      <td>남</td>\n",
       "      <td>30</td>\n",
       "      <td>판매 종사자</td>\n",
       "      <td>한달</td>\n",
       "      <td>42210</td>\n",
       "      <td>44825</td>\n",
       "      <td>41270</td>\n",
       "      <td>자연 선호(강)</td>\n",
       "      <td>자연 선호(강)</td>\n",
       "      <td>자연 선호(중)</td>\n",
       "      <td>자연 선호(강)</td>\n",
       "      <td>자연 선호(강)</td>\n",
       "      <td>도시 선호(강)</td>\n",
       "      <td>도시 선호(강)</td>\n",
       "      <td>도시 선호(강)</td>\n",
       "      <td>경기도</td>\n",
       "      <td>충남</td>\n",
       "      <td>자녀 동반 여행</td>\n",
       "      <td>쉴 수 있는 기회, 육체 피로 해결 및 정신적인 휴식</td>\n",
       "      <td>4</td>\n",
       "      <td>g_g005903</td>\n",
       "      <td>기타</td>\n",
       "      <td>여자</td>\n",
       "      <td>30대</td>\n",
       "      <td>쇼핑;SNS 인생샷 여행;인플루언서 따라하기 여행;야외 스포츠, 레포츠 활동</td>\n",
       "      <td>2023-08-12</td>\n",
       "      <td>2023-08-15</td>\n",
       "      <td>야외 스포츠, 레포츠 활동;SNS 인생샷 여행;교육/체험 프로그램 참가</td>\n",
       "      <td>[자가용(승용/승합/트럭 등등)]</td>\n",
       "      <td>119,000.00</td>\n",
       "      <td>[콘도미니엄/리조트]</td>\n",
       "      <td>400,000.00</td>\n",
       "      <td>[취식]</td>\n",
       "      <td>336,010.00</td>\n",
       "      <td>NaN</td>\n",
       "      <td>NaN</td>\n",
       "    </tr>\n",
       "    <tr>\n",
       "      <th>4</th>\n",
       "      <td>여</td>\n",
       "      <td>20</td>\n",
       "      <td>기타</td>\n",
       "      <td>한달</td>\n",
       "      <td>50130</td>\n",
       "      <td>26350</td>\n",
       "      <td>30140</td>\n",
       "      <td>자연 선호(약)</td>\n",
       "      <td>도시 선호(중)</td>\n",
       "      <td>도시 선호(중)</td>\n",
       "      <td>자연 선호(중)</td>\n",
       "      <td>자연 선호(중)</td>\n",
       "      <td>도시 선호(약)</td>\n",
       "      <td>도시 선호(중)</td>\n",
       "      <td>도시 선호(약)</td>\n",
       "      <td>충청남도</td>\n",
       "      <td>대전</td>\n",
       "      <td>2인 여행(가족 외)</td>\n",
       "      <td>일상적인 환경 및 역할에서의 탈출, 지루함 탈피</td>\n",
       "      <td>1</td>\n",
       "      <td>g_g011387</td>\n",
       "      <td>친구</td>\n",
       "      <td>여자</td>\n",
       "      <td>20대</td>\n",
       "      <td>쇼핑;Well-ness 여행;SNS 인생샷 여행;인플루언서 따라하기 여행;친환경 여...</td>\n",
       "      <td>2023-09-16</td>\n",
       "      <td>2023-09-17</td>\n",
       "      <td>지역 문화예술/공연/전시시설 관람;SNS 인생샷 여행;쇼핑</td>\n",
       "      <td>[버스 + 지하철, 새마을/무궁화열차]</td>\n",
       "      <td>15,700.00</td>\n",
       "      <td>NaN</td>\n",
       "      <td>NaN</td>\n",
       "      <td>[쇼핑 / 구매]</td>\n",
       "      <td>102,700.00</td>\n",
       "      <td>NaN</td>\n",
       "      <td>NaN</td>\n",
       "    </tr>\n",
       "    <tr>\n",
       "      <th>...</th>\n",
       "      <td>...</td>\n",
       "      <td>...</td>\n",
       "      <td>...</td>\n",
       "      <td>...</td>\n",
       "      <td>...</td>\n",
       "      <td>...</td>\n",
       "      <td>...</td>\n",
       "      <td>...</td>\n",
       "      <td>...</td>\n",
       "      <td>...</td>\n",
       "      <td>...</td>\n",
       "      <td>...</td>\n",
       "      <td>...</td>\n",
       "      <td>...</td>\n",
       "      <td>...</td>\n",
       "      <td>...</td>\n",
       "      <td>...</td>\n",
       "      <td>...</td>\n",
       "      <td>...</td>\n",
       "      <td>...</td>\n",
       "      <td>...</td>\n",
       "      <td>...</td>\n",
       "      <td>...</td>\n",
       "      <td>...</td>\n",
       "      <td>...</td>\n",
       "      <td>...</td>\n",
       "      <td>...</td>\n",
       "      <td>...</td>\n",
       "      <td>...</td>\n",
       "      <td>...</td>\n",
       "      <td>...</td>\n",
       "      <td>...</td>\n",
       "      <td>...</td>\n",
       "      <td>...</td>\n",
       "      <td>...</td>\n",
       "      <td>...</td>\n",
       "    </tr>\n",
       "    <tr>\n",
       "      <th>513</th>\n",
       "      <td>여</td>\n",
       "      <td>30</td>\n",
       "      <td>사무 종사자</td>\n",
       "      <td>한달</td>\n",
       "      <td>26710</td>\n",
       "      <td>48840</td>\n",
       "      <td>46130</td>\n",
       "      <td>도시 선호(강)</td>\n",
       "      <td>자연 선호(강)</td>\n",
       "      <td>자연 선호(강)</td>\n",
       "      <td>자연 선호(강)</td>\n",
       "      <td>자연 선호(강)</td>\n",
       "      <td>자연 선호(중)</td>\n",
       "      <td>자연 선호(중)</td>\n",
       "      <td>도시 선호(강)</td>\n",
       "      <td>전라남도</td>\n",
       "      <td>전남</td>\n",
       "      <td>3대 동반 여행(친척 포함)</td>\n",
       "      <td>쉴 수 있는 기회, 육체 피로 해결 및 정신적인 휴식</td>\n",
       "      <td>6</td>\n",
       "      <td>g_g000199</td>\n",
       "      <td>부모</td>\n",
       "      <td>여자</td>\n",
       "      <td>50대</td>\n",
       "      <td>온천/스파;SNS 인생샷 여행;시티투어</td>\n",
       "      <td>2023-05-19</td>\n",
       "      <td>2023-05-21</td>\n",
       "      <td>테마파크, 놀이시설, 동/식물원 방문;SNS 인생샷 여행;온천/스파</td>\n",
       "      <td>[자가용(승용/승합/트럭 등등)]</td>\n",
       "      <td>7,200.00</td>\n",
       "      <td>[콘도미니엄/리조트]</td>\n",
       "      <td>239,400.00</td>\n",
       "      <td>[취식]</td>\n",
       "      <td>257,350.00</td>\n",
       "      <td>[워터파크 티켓 1장]</td>\n",
       "      <td>21,000.00</td>\n",
       "    </tr>\n",
       "    <tr>\n",
       "      <th>514</th>\n",
       "      <td>여</td>\n",
       "      <td>30</td>\n",
       "      <td>사무 종사자</td>\n",
       "      <td>한달</td>\n",
       "      <td>26710</td>\n",
       "      <td>48840</td>\n",
       "      <td>46130</td>\n",
       "      <td>도시 선호(강)</td>\n",
       "      <td>자연 선호(강)</td>\n",
       "      <td>자연 선호(강)</td>\n",
       "      <td>자연 선호(강)</td>\n",
       "      <td>자연 선호(강)</td>\n",
       "      <td>자연 선호(중)</td>\n",
       "      <td>자연 선호(중)</td>\n",
       "      <td>도시 선호(강)</td>\n",
       "      <td>전라남도</td>\n",
       "      <td>전남</td>\n",
       "      <td>3대 동반 여행(친척 포함)</td>\n",
       "      <td>쉴 수 있는 기회, 육체 피로 해결 및 정신적인 휴식</td>\n",
       "      <td>6</td>\n",
       "      <td>g_g000199</td>\n",
       "      <td>자녀</td>\n",
       "      <td>여자</td>\n",
       "      <td>~9세이하</td>\n",
       "      <td>온천/스파;SNS 인생샷 여행;시티투어</td>\n",
       "      <td>2023-05-19</td>\n",
       "      <td>2023-05-21</td>\n",
       "      <td>테마파크, 놀이시설, 동/식물원 방문;SNS 인생샷 여행;온천/스파</td>\n",
       "      <td>[자가용(승용/승합/트럭 등등)]</td>\n",
       "      <td>7,200.00</td>\n",
       "      <td>[콘도미니엄/리조트]</td>\n",
       "      <td>239,400.00</td>\n",
       "      <td>[취식]</td>\n",
       "      <td>257,350.00</td>\n",
       "      <td>[워터파크 티켓 1장]</td>\n",
       "      <td>21,000.00</td>\n",
       "    </tr>\n",
       "    <tr>\n",
       "      <th>515</th>\n",
       "      <td>여</td>\n",
       "      <td>30</td>\n",
       "      <td>사무 종사자</td>\n",
       "      <td>한달</td>\n",
       "      <td>26710</td>\n",
       "      <td>48840</td>\n",
       "      <td>46130</td>\n",
       "      <td>도시 선호(강)</td>\n",
       "      <td>자연 선호(강)</td>\n",
       "      <td>자연 선호(강)</td>\n",
       "      <td>자연 선호(강)</td>\n",
       "      <td>자연 선호(강)</td>\n",
       "      <td>자연 선호(중)</td>\n",
       "      <td>자연 선호(중)</td>\n",
       "      <td>도시 선호(강)</td>\n",
       "      <td>전라남도</td>\n",
       "      <td>전남</td>\n",
       "      <td>3대 동반 여행(친척 포함)</td>\n",
       "      <td>쉴 수 있는 기회, 육체 피로 해결 및 정신적인 휴식</td>\n",
       "      <td>6</td>\n",
       "      <td>g_g000199</td>\n",
       "      <td>형제/자매</td>\n",
       "      <td>여자</td>\n",
       "      <td>30대</td>\n",
       "      <td>온천/스파;SNS 인생샷 여행;시티투어</td>\n",
       "      <td>2023-05-19</td>\n",
       "      <td>2023-05-21</td>\n",
       "      <td>테마파크, 놀이시설, 동/식물원 방문;SNS 인생샷 여행;온천/스파</td>\n",
       "      <td>[자가용(승용/승합/트럭 등등)]</td>\n",
       "      <td>7,200.00</td>\n",
       "      <td>[콘도미니엄/리조트]</td>\n",
       "      <td>239,400.00</td>\n",
       "      <td>[취식]</td>\n",
       "      <td>257,350.00</td>\n",
       "      <td>[워터파크 티켓 1장]</td>\n",
       "      <td>21,000.00</td>\n",
       "    </tr>\n",
       "    <tr>\n",
       "      <th>516</th>\n",
       "      <td>남</td>\n",
       "      <td>60</td>\n",
       "      <td>사무 종사자</td>\n",
       "      <td>1년</td>\n",
       "      <td>46910</td>\n",
       "      <td>46150</td>\n",
       "      <td>42820</td>\n",
       "      <td>자연 선호(중)</td>\n",
       "      <td>자연 선호(중)</td>\n",
       "      <td>자연 선호(강)</td>\n",
       "      <td>도시 선호(약)</td>\n",
       "      <td>자연 선호(중)</td>\n",
       "      <td>도시 선호(중)</td>\n",
       "      <td>자연 선호(중)</td>\n",
       "      <td>도시 선호(중)</td>\n",
       "      <td>광주광역시</td>\n",
       "      <td>전남</td>\n",
       "      <td>2인 가족 여행</td>\n",
       "      <td>쉴 수 있는 기회, 육체 피로 해결 및 정신적인 휴식</td>\n",
       "      <td>1</td>\n",
       "      <td>g_g004404</td>\n",
       "      <td>배우자</td>\n",
       "      <td>여자</td>\n",
       "      <td>60대</td>\n",
       "      <td>테마파크, 놀이시설, 동/식물원 방문;SNS 인생샷 여행;지역 문화예술/공연/전시시...</td>\n",
       "      <td>2023-07-27</td>\n",
       "      <td>2023-07-29</td>\n",
       "      <td>테마파크, 놀이시설, 동/식물원 방문;역사 유적지 방문;SNS 인생샷 여행</td>\n",
       "      <td>[자가용(승용/승합/트럭 등등)]</td>\n",
       "      <td>42,134.00</td>\n",
       "      <td>[모텔/여관]</td>\n",
       "      <td>40,000.00</td>\n",
       "      <td>[단순 구경 / 산책 / 걷기]</td>\n",
       "      <td>128,000.00</td>\n",
       "      <td>NaN</td>\n",
       "      <td>NaN</td>\n",
       "    </tr>\n",
       "    <tr>\n",
       "      <th>517</th>\n",
       "      <td>여</td>\n",
       "      <td>40</td>\n",
       "      <td>사무 종사자</td>\n",
       "      <td>한달</td>\n",
       "      <td>45110</td>\n",
       "      <td>50130</td>\n",
       "      <td>42110</td>\n",
       "      <td>자연 선호(중)</td>\n",
       "      <td>도시 선호(약)</td>\n",
       "      <td>자연 선호(약)</td>\n",
       "      <td>도시 선호(중)</td>\n",
       "      <td>자연 선호(약)</td>\n",
       "      <td>중립</td>\n",
       "      <td>도시 선호(중)</td>\n",
       "      <td>도시 선호(약)</td>\n",
       "      <td>경기도</td>\n",
       "      <td>충남</td>\n",
       "      <td>2인 가족 여행</td>\n",
       "      <td>쉴 수 있는 기회, 육체 피로 해결 및 정신적인 휴식</td>\n",
       "      <td>1</td>\n",
       "      <td>g_g003811</td>\n",
       "      <td>배우자</td>\n",
       "      <td>남자</td>\n",
       "      <td>30대</td>\n",
       "      <td>쇼핑;SNS 인생샷 여행;신규 여행지 발굴;역사 유적지 방문</td>\n",
       "      <td>2023-07-08</td>\n",
       "      <td>2023-07-10</td>\n",
       "      <td>신규 여행지 발굴;역사 유적지 방문;Well-ness 여행</td>\n",
       "      <td>[자가용(승용/승합/트럭 등등)]</td>\n",
       "      <td>8,800.00</td>\n",
       "      <td>[모텔/여관]</td>\n",
       "      <td>47,000.00</td>\n",
       "      <td>[체험 활동 / 입장 및 관람, 취식, 휴식]</td>\n",
       "      <td>96,600.00</td>\n",
       "      <td>NaN</td>\n",
       "      <td>NaN</td>\n",
       "    </tr>\n",
       "  </tbody>\n",
       "</table>\n",
       "<p>518 rows × 36 columns</p>\n",
       "</div>"
      ],
      "text/plain": [
       "    GENDER  AGE_GRP  JOB_NM TRAVEL_TERM  TRAVEL_LIKE_SGG_1  TRAVEL_LIKE_SGG_2  TRAVEL_LIKE_SGG_3 TRAVEL_STYL_1 TRAVEL_STYL_2 TRAVEL_STYL_3 TRAVEL_STYL_4 TRAVEL_STYL_5 TRAVEL_STYL_6 TRAVEL_STYL_7 TRAVEL_STYL_8 TRAVEL_STATUS_RESIDENCE TRAVEL_STATUS_DESTINATION TRAVEL_STATUS_ACCOMPANY                  TRAVEL_MOTIVE  TRAVEL_COMPANIONS_NUM  TRAVEL_ID REL_CD COMPANION_GENDER COMPANION_AGE_GRP                                     TRAVEL_PURPOSE TRAVEL_START_YMD TRAVEL_END_YMD                       TRAVEL_MISSION_CHECK        MAJOR_TRANSPORT  TOTAL_MVMN_WON MAJOR_LODGE_TYPE  TOTAL_LODGE_WON        MAJOR_ACTIVITY_TYPE  TOTAL_ACTIVITY_WON        ADV_NM  TOTAL_ADV_WON\n",
       "0        남       30  판매 종사자          한달              42210              44825              41270      자연 선호(강)      자연 선호(강)      자연 선호(중)      자연 선호(강)      자연 선호(강)      도시 선호(강)      도시 선호(강)      도시 선호(강)                     경기도                        충남                자녀 동반 여행  쉴 수 있는 기회, 육체 피로 해결 및 정신적인 휴식                      4  g_g005903    배우자               여자               30대         쇼핑;SNS 인생샷 여행;인플루언서 따라하기 여행;야외 스포츠, 레포츠 활동       2023-08-12     2023-08-15    야외 스포츠, 레포츠 활동;SNS 인생샷 여행;교육/체험 프로그램 참가     [자가용(승용/승합/트럭 등등)]      119,000.00      [콘도미니엄/리조트]       400,000.00                       [취식]          336,010.00           NaN            NaN\n",
       "1        남       30  판매 종사자          한달              42210              44825              41270      자연 선호(강)      자연 선호(강)      자연 선호(중)      자연 선호(강)      자연 선호(강)      도시 선호(강)      도시 선호(강)      도시 선호(강)                     경기도                        충남                자녀 동반 여행  쉴 수 있는 기회, 육체 피로 해결 및 정신적인 휴식                      4  g_g005903     부모               여자               60대         쇼핑;SNS 인생샷 여행;인플루언서 따라하기 여행;야외 스포츠, 레포츠 활동       2023-08-12     2023-08-15    야외 스포츠, 레포츠 활동;SNS 인생샷 여행;교육/체험 프로그램 참가     [자가용(승용/승합/트럭 등등)]      119,000.00      [콘도미니엄/리조트]       400,000.00                       [취식]          336,010.00           NaN            NaN\n",
       "2        남       30  판매 종사자          한달              42210              44825              41270      자연 선호(강)      자연 선호(강)      자연 선호(중)      자연 선호(강)      자연 선호(강)      도시 선호(강)      도시 선호(강)      도시 선호(강)                     경기도                        충남                자녀 동반 여행  쉴 수 있는 기회, 육체 피로 해결 및 정신적인 휴식                      4  g_g005903     자녀               여자             ~9세이하         쇼핑;SNS 인생샷 여행;인플루언서 따라하기 여행;야외 스포츠, 레포츠 활동       2023-08-12     2023-08-15    야외 스포츠, 레포츠 활동;SNS 인생샷 여행;교육/체험 프로그램 참가     [자가용(승용/승합/트럭 등등)]      119,000.00      [콘도미니엄/리조트]       400,000.00                       [취식]          336,010.00           NaN            NaN\n",
       "3        남       30  판매 종사자          한달              42210              44825              41270      자연 선호(강)      자연 선호(강)      자연 선호(중)      자연 선호(강)      자연 선호(강)      도시 선호(강)      도시 선호(강)      도시 선호(강)                     경기도                        충남                자녀 동반 여행  쉴 수 있는 기회, 육체 피로 해결 및 정신적인 휴식                      4  g_g005903     기타               여자               30대         쇼핑;SNS 인생샷 여행;인플루언서 따라하기 여행;야외 스포츠, 레포츠 활동       2023-08-12     2023-08-15    야외 스포츠, 레포츠 활동;SNS 인생샷 여행;교육/체험 프로그램 참가     [자가용(승용/승합/트럭 등등)]      119,000.00      [콘도미니엄/리조트]       400,000.00                       [취식]          336,010.00           NaN            NaN\n",
       "4        여       20      기타          한달              50130              26350              30140      자연 선호(약)      도시 선호(중)      도시 선호(중)      자연 선호(중)      자연 선호(중)      도시 선호(약)      도시 선호(중)      도시 선호(약)                    충청남도                        대전             2인 여행(가족 외)     일상적인 환경 및 역할에서의 탈출, 지루함 탈피                      1  g_g011387     친구               여자               20대  쇼핑;Well-ness 여행;SNS 인생샷 여행;인플루언서 따라하기 여행;친환경 여...       2023-09-16     2023-09-17           지역 문화예술/공연/전시시설 관람;SNS 인생샷 여행;쇼핑  [버스 + 지하철, 새마을/무궁화열차]       15,700.00              NaN              NaN                  [쇼핑 / 구매]          102,700.00           NaN            NaN\n",
       "..     ...      ...     ...         ...                ...                ...                ...           ...           ...           ...           ...           ...           ...           ...           ...                     ...                       ...                     ...                            ...                    ...        ...    ...              ...               ...                                                ...              ...            ...                                        ...                    ...             ...              ...              ...                        ...                 ...           ...            ...\n",
       "513      여       30  사무 종사자          한달              26710              48840              46130      도시 선호(강)      자연 선호(강)      자연 선호(강)      자연 선호(강)      자연 선호(강)      자연 선호(중)      자연 선호(중)      도시 선호(강)                    전라남도                        전남         3대 동반 여행(친척 포함)  쉴 수 있는 기회, 육체 피로 해결 및 정신적인 휴식                      6  g_g000199     부모               여자               50대                              온천/스파;SNS 인생샷 여행;시티투어       2023-05-19     2023-05-21      테마파크, 놀이시설, 동/식물원 방문;SNS 인생샷 여행;온천/스파     [자가용(승용/승합/트럭 등등)]        7,200.00      [콘도미니엄/리조트]       239,400.00                       [취식]          257,350.00  [워터파크 티켓 1장]      21,000.00\n",
       "514      여       30  사무 종사자          한달              26710              48840              46130      도시 선호(강)      자연 선호(강)      자연 선호(강)      자연 선호(강)      자연 선호(강)      자연 선호(중)      자연 선호(중)      도시 선호(강)                    전라남도                        전남         3대 동반 여행(친척 포함)  쉴 수 있는 기회, 육체 피로 해결 및 정신적인 휴식                      6  g_g000199     자녀               여자             ~9세이하                              온천/스파;SNS 인생샷 여행;시티투어       2023-05-19     2023-05-21      테마파크, 놀이시설, 동/식물원 방문;SNS 인생샷 여행;온천/스파     [자가용(승용/승합/트럭 등등)]        7,200.00      [콘도미니엄/리조트]       239,400.00                       [취식]          257,350.00  [워터파크 티켓 1장]      21,000.00\n",
       "515      여       30  사무 종사자          한달              26710              48840              46130      도시 선호(강)      자연 선호(강)      자연 선호(강)      자연 선호(강)      자연 선호(강)      자연 선호(중)      자연 선호(중)      도시 선호(강)                    전라남도                        전남         3대 동반 여행(친척 포함)  쉴 수 있는 기회, 육체 피로 해결 및 정신적인 휴식                      6  g_g000199  형제/자매               여자               30대                              온천/스파;SNS 인생샷 여행;시티투어       2023-05-19     2023-05-21      테마파크, 놀이시설, 동/식물원 방문;SNS 인생샷 여행;온천/스파     [자가용(승용/승합/트럭 등등)]        7,200.00      [콘도미니엄/리조트]       239,400.00                       [취식]          257,350.00  [워터파크 티켓 1장]      21,000.00\n",
       "516      남       60  사무 종사자          1년              46910              46150              42820      자연 선호(중)      자연 선호(중)      자연 선호(강)      도시 선호(약)      자연 선호(중)      도시 선호(중)      자연 선호(중)      도시 선호(중)                   광주광역시                        전남                2인 가족 여행  쉴 수 있는 기회, 육체 피로 해결 및 정신적인 휴식                      1  g_g004404    배우자               여자               60대  테마파크, 놀이시설, 동/식물원 방문;SNS 인생샷 여행;지역 문화예술/공연/전시시...       2023-07-27     2023-07-29  테마파크, 놀이시설, 동/식물원 방문;역사 유적지 방문;SNS 인생샷 여행     [자가용(승용/승합/트럭 등등)]       42,134.00          [모텔/여관]        40,000.00          [단순 구경 / 산책 / 걷기]          128,000.00           NaN            NaN\n",
       "517      여       40  사무 종사자          한달              45110              50130              42110      자연 선호(중)      도시 선호(약)      자연 선호(약)      도시 선호(중)      자연 선호(약)            중립      도시 선호(중)      도시 선호(약)                     경기도                        충남                2인 가족 여행  쉴 수 있는 기회, 육체 피로 해결 및 정신적인 휴식                      1  g_g003811    배우자               남자               30대                  쇼핑;SNS 인생샷 여행;신규 여행지 발굴;역사 유적지 방문       2023-07-08     2023-07-10           신규 여행지 발굴;역사 유적지 방문;Well-ness 여행     [자가용(승용/승합/트럭 등등)]        8,800.00          [모텔/여관]        47,000.00  [체험 활동 / 입장 및 관람, 취식, 휴식]           96,600.00           NaN            NaN\n",
       "\n",
       "[518 rows x 36 columns]"
      ]
     },
     "execution_count": 1273,
     "metadata": {},
     "output_type": "execute_result"
    }
   ],
   "source": [
    "# 첫 번째 merge\n",
    "travel_log_fir = pd.merge(traveller_master, companion_info, on='TRAVEL_ID', how='left')\n",
    "# 두 번째 merge\n",
    "travel_log_fir = pd.merge(travel_log_fir, travel, on='TRAVEL_ID', how='left')\n",
    "# 세 번째 merge\n",
    "travel_log_fir = pd.merge(travel_log_fir, mvmn_consume_new, on='TRAVEL_ID', how='left')\n",
    "# 네 번째 merge\n",
    "travel_log_fir = pd.merge(travel_log_fir, lodge_consume_new, on='TRAVEL_ID', how='left')\n",
    "# 다섯 번째 merge\n",
    "travel_log_fir = pd.merge(travel_log_fir, activity_new, on='TRAVEL_ID', how='left')\n",
    "# 여섯 번째 merge\n",
    "travel_log_fir = pd.merge(travel_log_fir, activity_consume_new, on='TRAVEL_ID', how='left')\n",
    "# 일곱 번째 merge\n",
    "travel_log_fir = pd.merge(travel_log_fir, adv_consume_new, on='TRAVEL_ID', how='left')\n",
    "\n",
    "# 결과 확인\n",
    "travel_log_fir"
   ]
  },
  {
   "cell_type": "markdown",
   "metadata": {},
   "source": [
    "<h3>1. 병합한 데이터 검토</h3>"
   ]
  },
  {
   "cell_type": "markdown",
   "metadata": {},
   "source": [
    "1. 결측치 확인"
   ]
  },
  {
   "cell_type": "code",
   "execution_count": 1274,
   "metadata": {},
   "outputs": [
    {
     "name": "stdout",
     "output_type": "stream",
     "text": [
      "merge 데이터의 행, 열 개수 : \n",
      "(518, 36)\n"
     ]
    }
   ],
   "source": [
    "# 데이터의 행, 열 개수 출력\n",
    "print('merge 데이터의 행, 열 개수 : ')\n",
    "print(travel_log_fir.shape)"
   ]
  },
  {
   "cell_type": "code",
   "execution_count": 1275,
   "metadata": {},
   "outputs": [
    {
     "name": "stdout",
     "output_type": "stream",
     "text": [
      "merge 데이터의 구조와 타입 : \n",
      "<class 'pandas.core.frame.DataFrame'>\n",
      "RangeIndex: 518 entries, 0 to 517\n",
      "Data columns (total 36 columns):\n",
      " #   Column                     Non-Null Count  Dtype  \n",
      "---  ------                     --------------  -----  \n",
      " 0   GENDER                     518 non-null    object \n",
      " 1   AGE_GRP                    518 non-null    int64  \n",
      " 2   JOB_NM                     518 non-null    object \n",
      " 3   TRAVEL_TERM                518 non-null    object \n",
      " 4   TRAVEL_LIKE_SGG_1          518 non-null    int64  \n",
      " 5   TRAVEL_LIKE_SGG_2          518 non-null    int64  \n",
      " 6   TRAVEL_LIKE_SGG_3          518 non-null    int64  \n",
      " 7   TRAVEL_STYL_1              518 non-null    object \n",
      " 8   TRAVEL_STYL_2              518 non-null    object \n",
      " 9   TRAVEL_STYL_3              518 non-null    object \n",
      " 10  TRAVEL_STYL_4              518 non-null    object \n",
      " 11  TRAVEL_STYL_5              518 non-null    object \n",
      " 12  TRAVEL_STYL_6              518 non-null    object \n",
      " 13  TRAVEL_STYL_7              518 non-null    object \n",
      " 14  TRAVEL_STYL_8              518 non-null    object \n",
      " 15  TRAVEL_STATUS_RESIDENCE    518 non-null    object \n",
      " 16  TRAVEL_STATUS_DESTINATION  518 non-null    object \n",
      " 17  TRAVEL_STATUS_ACCOMPANY    518 non-null    object \n",
      " 18  TRAVEL_MOTIVE              518 non-null    object \n",
      " 19  TRAVEL_COMPANIONS_NUM      518 non-null    int64  \n",
      " 20  TRAVEL_ID                  518 non-null    object \n",
      " 21  REL_CD                     464 non-null    object \n",
      " 22  COMPANION_GENDER           464 non-null    object \n",
      " 23  COMPANION_AGE_GRP          464 non-null    object \n",
      " 24  TRAVEL_PURPOSE             518 non-null    object \n",
      " 25  TRAVEL_START_YMD           518 non-null    object \n",
      " 26  TRAVEL_END_YMD             518 non-null    object \n",
      " 27  TRAVEL_MISSION_CHECK       518 non-null    object \n",
      " 28  MAJOR_TRANSPORT            485 non-null    object \n",
      " 29  TOTAL_MVMN_WON             485 non-null    float64\n",
      " 30  MAJOR_LODGE_TYPE           266 non-null    object \n",
      " 31  TOTAL_LODGE_WON            266 non-null    float64\n",
      " 32  MAJOR_ACTIVITY_TYPE        518 non-null    object \n",
      " 33  TOTAL_ACTIVITY_WON         516 non-null    float64\n",
      " 34  ADV_NM                     138 non-null    object \n",
      " 35  TOTAL_ADV_WON              138 non-null    float64\n",
      "dtypes: float64(4), int64(5), object(27)\n",
      "memory usage: 145.8+ KB\n",
      "None\n"
     ]
    }
   ],
   "source": [
    "# 데이터의 구조와 타입 확인\n",
    "print('merge 데이터의 구조와 타입 : ')\n",
    "print(travel_log_fir.info())"
   ]
  },
  {
   "cell_type": "code",
   "execution_count": 1276,
   "metadata": {},
   "outputs": [
    {
     "name": "stdout",
     "output_type": "stream",
     "text": [
      "merge 데이터.csv의 결측치 : \n",
      "GENDER                         0\n",
      "AGE_GRP                        0\n",
      "JOB_NM                         0\n",
      "TRAVEL_TERM                    0\n",
      "TRAVEL_LIKE_SGG_1              0\n",
      "TRAVEL_LIKE_SGG_2              0\n",
      "TRAVEL_LIKE_SGG_3              0\n",
      "TRAVEL_STYL_1                  0\n",
      "TRAVEL_STYL_2                  0\n",
      "TRAVEL_STYL_3                  0\n",
      "TRAVEL_STYL_4                  0\n",
      "TRAVEL_STYL_5                  0\n",
      "TRAVEL_STYL_6                  0\n",
      "TRAVEL_STYL_7                  0\n",
      "TRAVEL_STYL_8                  0\n",
      "TRAVEL_STATUS_RESIDENCE        0\n",
      "TRAVEL_STATUS_DESTINATION      0\n",
      "TRAVEL_STATUS_ACCOMPANY        0\n",
      "TRAVEL_MOTIVE                  0\n",
      "TRAVEL_COMPANIONS_NUM          0\n",
      "TRAVEL_ID                      0\n",
      "REL_CD                        54\n",
      "COMPANION_GENDER              54\n",
      "COMPANION_AGE_GRP             54\n",
      "TRAVEL_PURPOSE                 0\n",
      "TRAVEL_START_YMD               0\n",
      "TRAVEL_END_YMD                 0\n",
      "TRAVEL_MISSION_CHECK           0\n",
      "MAJOR_TRANSPORT               33\n",
      "TOTAL_MVMN_WON                33\n",
      "MAJOR_LODGE_TYPE             252\n",
      "TOTAL_LODGE_WON              252\n",
      "MAJOR_ACTIVITY_TYPE            0\n",
      "TOTAL_ACTIVITY_WON             2\n",
      "ADV_NM                       380\n",
      "TOTAL_ADV_WON                380\n",
      "dtype: int64\n"
     ]
    }
   ],
   "source": [
    "# 데이터의 결측치 확인\n",
    "print('merge 데이터.csv의 결측치 : ')\n",
    "print(travel_log_fir.isnull().sum())"
   ]
  },
  {
   "cell_type": "code",
   "execution_count": 1277,
   "metadata": {},
   "outputs": [
    {
     "name": "stdout",
     "output_type": "stream",
     "text": [
      "결측치가 있는 컬럼들: \n",
      "REL_CD                 54\n",
      "COMPANION_GENDER       54\n",
      "COMPANION_AGE_GRP      54\n",
      "MAJOR_TRANSPORT        33\n",
      "TOTAL_MVMN_WON         33\n",
      "MAJOR_LODGE_TYPE      252\n",
      "TOTAL_LODGE_WON       252\n",
      "TOTAL_ACTIVITY_WON      2\n",
      "ADV_NM                380\n",
      "TOTAL_ADV_WON         380\n",
      "dtype: int64\n"
     ]
    }
   ],
   "source": [
    "# 결측치가 있는 컬럼만 출력\n",
    "null_columns = travel_log_fir.isnull().sum()\n",
    "null_columns = null_columns[null_columns > 0]\n",
    "print('결측치가 있는 컬럼들: ')\n",
    "print(null_columns)"
   ]
  },
  {
   "cell_type": "markdown",
   "metadata": {},
   "source": [
    "> 결측치 분석 결과 1 : REL_CD, COMPANION_GENDER, COMPANION_AGE_GRP의 경우 동반자정보와 관련된 변수임\n",
    "<br> 따라서, 해당 변수들의 결측치 발생 이유를 분석하기 위해 '나홀로 여행'인지 검증 필요"
   ]
  },
  {
   "cell_type": "markdown",
   "metadata": {},
   "source": [
    "> 결측치 분석 결과 2 : MAJOR_TRANSPORT, TOTAL_MVMN_WON의 경우 이동수단소비내역.csv에서는 결측치가 없었지만, 현재 결측치가 33개 존재하는 것으로 보아 병합과정에서 추가 된 TRAVEL_ID 값 중 응답하지 않은 TRAVEL_ID가 있는 것으로 보임\n",
    "<br> 이 결측치를 모두 제거(drop)하고 분석을 진행하기에는 데이터 손실이 크므로, \n",
    "<br> MAJOR_TRANSPORT의 결측치는 없음으로 대체하고, \n",
    "<br> TOTAL_MVMN_WON의 결측치를 현재 TOTAL_MVMN_WON의 평균값으로 대체"
   ]
  },
  {
   "cell_type": "markdown",
   "metadata": {},
   "source": [
    "> 결측치 분석 결과 3 : TOTAL_ACTIVITY_WON의 결측치를 현재 TOTAL_ACTIVITY_WON의 평균값으로 대체"
   ]
  },
  {
   "cell_type": "markdown",
   "metadata": {},
   "source": [
    "> 결측치 분석 결과 4 : MAJOR_LODGE_TYPE, TOTAL_LODGE_WON의 경우 숙박소비내역.csv에서는 결측치가 없었지만, 현재 결측치가 252개 존재하는 것으로 보아 병합과정에서 추가 된 TRAVEL_ID 값 중 응답하지 않은 TRAVEL_ID가 있는 것으로 보임\n",
    "<br>  결측치를 모두 제거(drop)하고 분석을 진행하기에는 데이터 손실이 크고 전체 행인 518개의 절반 정도를 차지하므로\n",
    "<br> 숙박소비내역.csv는 병합(merge) 하지 않고, 숙박소비내역.csv에서 분석을 따로 진행함"
   ]
  },
  {
   "cell_type": "markdown",
   "metadata": {},
   "source": [
    "> 결측치 분석 결과 5 : ADV_NM, TOTAL_ADV_WON의 경우 사전소비내역.csv에서는 결측치가 존재하지 않았으나, 현재 결측치가 380개 존재하는 것으로 보아 병합과정에서 추가 된 일부 TRAVEL_ID 값 중 응답하지 않은 TRAVEL_ID가 있는 것으로 보임\n",
    "<br> 하지만, 이 결측치가 사전소비내역이 발생하지 않은 경우인지, 아니면 사전소비내역이 존재하지만 응답하지 않은 경우인지는 명확히 판단하기 어려움\n",
    "<br> 또한, 전체 행인 518개 중 380개의 결측치가 발생하여 분석에 유의미한 영향을 미치기 어렵다고 판단됨\n",
    "<br> 따라서, 사전소비내역.csv는 분석에서 완전히 제외하고 이후 분석에서 다루지 않기로 결정함"
   ]
  },
  {
   "cell_type": "markdown",
   "metadata": {},
   "source": [
    "<h3>2. 분석 결과 반영하여 최종 병합 및 전처리</h3>"
   ]
  },
  {
   "cell_type": "code",
   "execution_count": 1278,
   "metadata": {},
   "outputs": [
    {
     "data": {
      "text/html": [
       "<div>\n",
       "<style scoped>\n",
       "    .dataframe tbody tr th:only-of-type {\n",
       "        vertical-align: middle;\n",
       "    }\n",
       "\n",
       "    .dataframe tbody tr th {\n",
       "        vertical-align: top;\n",
       "    }\n",
       "\n",
       "    .dataframe thead th {\n",
       "        text-align: right;\n",
       "    }\n",
       "</style>\n",
       "<table border=\"1\" class=\"dataframe\">\n",
       "  <thead>\n",
       "    <tr style=\"text-align: right;\">\n",
       "      <th></th>\n",
       "      <th>GENDER</th>\n",
       "      <th>AGE_GRP</th>\n",
       "      <th>JOB_NM</th>\n",
       "      <th>TRAVEL_TERM</th>\n",
       "      <th>TRAVEL_LIKE_SGG_1</th>\n",
       "      <th>TRAVEL_LIKE_SGG_2</th>\n",
       "      <th>TRAVEL_LIKE_SGG_3</th>\n",
       "      <th>TRAVEL_STYL_1</th>\n",
       "      <th>TRAVEL_STYL_2</th>\n",
       "      <th>TRAVEL_STYL_3</th>\n",
       "      <th>TRAVEL_STYL_4</th>\n",
       "      <th>TRAVEL_STYL_5</th>\n",
       "      <th>TRAVEL_STYL_6</th>\n",
       "      <th>TRAVEL_STYL_7</th>\n",
       "      <th>TRAVEL_STYL_8</th>\n",
       "      <th>TRAVEL_STATUS_RESIDENCE</th>\n",
       "      <th>TRAVEL_STATUS_DESTINATION</th>\n",
       "      <th>TRAVEL_STATUS_ACCOMPANY</th>\n",
       "      <th>TRAVEL_MOTIVE</th>\n",
       "      <th>TRAVEL_COMPANIONS_NUM</th>\n",
       "      <th>TRAVEL_ID</th>\n",
       "      <th>REL_CD</th>\n",
       "      <th>COMPANION_GENDER</th>\n",
       "      <th>COMPANION_AGE_GRP</th>\n",
       "      <th>TRAVEL_PURPOSE</th>\n",
       "      <th>TRAVEL_START_YMD</th>\n",
       "      <th>TRAVEL_END_YMD</th>\n",
       "      <th>TRAVEL_MISSION_CHECK</th>\n",
       "      <th>MAJOR_TRANSPORT</th>\n",
       "      <th>TOTAL_MVMN_WON</th>\n",
       "      <th>MAJOR_ACTIVITY_TYPE</th>\n",
       "      <th>TOTAL_ACTIVITY_WON</th>\n",
       "    </tr>\n",
       "  </thead>\n",
       "  <tbody>\n",
       "    <tr>\n",
       "      <th>0</th>\n",
       "      <td>남</td>\n",
       "      <td>30</td>\n",
       "      <td>판매 종사자</td>\n",
       "      <td>한달</td>\n",
       "      <td>42210</td>\n",
       "      <td>44825</td>\n",
       "      <td>41270</td>\n",
       "      <td>자연 선호(강)</td>\n",
       "      <td>자연 선호(강)</td>\n",
       "      <td>자연 선호(중)</td>\n",
       "      <td>자연 선호(강)</td>\n",
       "      <td>자연 선호(강)</td>\n",
       "      <td>도시 선호(강)</td>\n",
       "      <td>도시 선호(강)</td>\n",
       "      <td>도시 선호(강)</td>\n",
       "      <td>경기도</td>\n",
       "      <td>충남</td>\n",
       "      <td>자녀 동반 여행</td>\n",
       "      <td>쉴 수 있는 기회, 육체 피로 해결 및 정신적인 휴식</td>\n",
       "      <td>4</td>\n",
       "      <td>g_g005903</td>\n",
       "      <td>배우자</td>\n",
       "      <td>여자</td>\n",
       "      <td>30대</td>\n",
       "      <td>쇼핑;SNS 인생샷 여행;인플루언서 따라하기 여행;야외 스포츠, 레포츠 활동</td>\n",
       "      <td>2023-08-12</td>\n",
       "      <td>2023-08-15</td>\n",
       "      <td>야외 스포츠, 레포츠 활동;SNS 인생샷 여행;교육/체험 프로그램 참가</td>\n",
       "      <td>[자가용(승용/승합/트럭 등등)]</td>\n",
       "      <td>119,000.00</td>\n",
       "      <td>[취식]</td>\n",
       "      <td>336,010.00</td>\n",
       "    </tr>\n",
       "    <tr>\n",
       "      <th>1</th>\n",
       "      <td>남</td>\n",
       "      <td>30</td>\n",
       "      <td>판매 종사자</td>\n",
       "      <td>한달</td>\n",
       "      <td>42210</td>\n",
       "      <td>44825</td>\n",
       "      <td>41270</td>\n",
       "      <td>자연 선호(강)</td>\n",
       "      <td>자연 선호(강)</td>\n",
       "      <td>자연 선호(중)</td>\n",
       "      <td>자연 선호(강)</td>\n",
       "      <td>자연 선호(강)</td>\n",
       "      <td>도시 선호(강)</td>\n",
       "      <td>도시 선호(강)</td>\n",
       "      <td>도시 선호(강)</td>\n",
       "      <td>경기도</td>\n",
       "      <td>충남</td>\n",
       "      <td>자녀 동반 여행</td>\n",
       "      <td>쉴 수 있는 기회, 육체 피로 해결 및 정신적인 휴식</td>\n",
       "      <td>4</td>\n",
       "      <td>g_g005903</td>\n",
       "      <td>부모</td>\n",
       "      <td>여자</td>\n",
       "      <td>60대</td>\n",
       "      <td>쇼핑;SNS 인생샷 여행;인플루언서 따라하기 여행;야외 스포츠, 레포츠 활동</td>\n",
       "      <td>2023-08-12</td>\n",
       "      <td>2023-08-15</td>\n",
       "      <td>야외 스포츠, 레포츠 활동;SNS 인생샷 여행;교육/체험 프로그램 참가</td>\n",
       "      <td>[자가용(승용/승합/트럭 등등)]</td>\n",
       "      <td>119,000.00</td>\n",
       "      <td>[취식]</td>\n",
       "      <td>336,010.00</td>\n",
       "    </tr>\n",
       "    <tr>\n",
       "      <th>2</th>\n",
       "      <td>남</td>\n",
       "      <td>30</td>\n",
       "      <td>판매 종사자</td>\n",
       "      <td>한달</td>\n",
       "      <td>42210</td>\n",
       "      <td>44825</td>\n",
       "      <td>41270</td>\n",
       "      <td>자연 선호(강)</td>\n",
       "      <td>자연 선호(강)</td>\n",
       "      <td>자연 선호(중)</td>\n",
       "      <td>자연 선호(강)</td>\n",
       "      <td>자연 선호(강)</td>\n",
       "      <td>도시 선호(강)</td>\n",
       "      <td>도시 선호(강)</td>\n",
       "      <td>도시 선호(강)</td>\n",
       "      <td>경기도</td>\n",
       "      <td>충남</td>\n",
       "      <td>자녀 동반 여행</td>\n",
       "      <td>쉴 수 있는 기회, 육체 피로 해결 및 정신적인 휴식</td>\n",
       "      <td>4</td>\n",
       "      <td>g_g005903</td>\n",
       "      <td>자녀</td>\n",
       "      <td>여자</td>\n",
       "      <td>~9세이하</td>\n",
       "      <td>쇼핑;SNS 인생샷 여행;인플루언서 따라하기 여행;야외 스포츠, 레포츠 활동</td>\n",
       "      <td>2023-08-12</td>\n",
       "      <td>2023-08-15</td>\n",
       "      <td>야외 스포츠, 레포츠 활동;SNS 인생샷 여행;교육/체험 프로그램 참가</td>\n",
       "      <td>[자가용(승용/승합/트럭 등등)]</td>\n",
       "      <td>119,000.00</td>\n",
       "      <td>[취식]</td>\n",
       "      <td>336,010.00</td>\n",
       "    </tr>\n",
       "    <tr>\n",
       "      <th>3</th>\n",
       "      <td>남</td>\n",
       "      <td>30</td>\n",
       "      <td>판매 종사자</td>\n",
       "      <td>한달</td>\n",
       "      <td>42210</td>\n",
       "      <td>44825</td>\n",
       "      <td>41270</td>\n",
       "      <td>자연 선호(강)</td>\n",
       "      <td>자연 선호(강)</td>\n",
       "      <td>자연 선호(중)</td>\n",
       "      <td>자연 선호(강)</td>\n",
       "      <td>자연 선호(강)</td>\n",
       "      <td>도시 선호(강)</td>\n",
       "      <td>도시 선호(강)</td>\n",
       "      <td>도시 선호(강)</td>\n",
       "      <td>경기도</td>\n",
       "      <td>충남</td>\n",
       "      <td>자녀 동반 여행</td>\n",
       "      <td>쉴 수 있는 기회, 육체 피로 해결 및 정신적인 휴식</td>\n",
       "      <td>4</td>\n",
       "      <td>g_g005903</td>\n",
       "      <td>기타</td>\n",
       "      <td>여자</td>\n",
       "      <td>30대</td>\n",
       "      <td>쇼핑;SNS 인생샷 여행;인플루언서 따라하기 여행;야외 스포츠, 레포츠 활동</td>\n",
       "      <td>2023-08-12</td>\n",
       "      <td>2023-08-15</td>\n",
       "      <td>야외 스포츠, 레포츠 활동;SNS 인생샷 여행;교육/체험 프로그램 참가</td>\n",
       "      <td>[자가용(승용/승합/트럭 등등)]</td>\n",
       "      <td>119,000.00</td>\n",
       "      <td>[취식]</td>\n",
       "      <td>336,010.00</td>\n",
       "    </tr>\n",
       "    <tr>\n",
       "      <th>4</th>\n",
       "      <td>여</td>\n",
       "      <td>20</td>\n",
       "      <td>기타</td>\n",
       "      <td>한달</td>\n",
       "      <td>50130</td>\n",
       "      <td>26350</td>\n",
       "      <td>30140</td>\n",
       "      <td>자연 선호(약)</td>\n",
       "      <td>도시 선호(중)</td>\n",
       "      <td>도시 선호(중)</td>\n",
       "      <td>자연 선호(중)</td>\n",
       "      <td>자연 선호(중)</td>\n",
       "      <td>도시 선호(약)</td>\n",
       "      <td>도시 선호(중)</td>\n",
       "      <td>도시 선호(약)</td>\n",
       "      <td>충청남도</td>\n",
       "      <td>대전</td>\n",
       "      <td>2인 여행(가족 외)</td>\n",
       "      <td>일상적인 환경 및 역할에서의 탈출, 지루함 탈피</td>\n",
       "      <td>1</td>\n",
       "      <td>g_g011387</td>\n",
       "      <td>친구</td>\n",
       "      <td>여자</td>\n",
       "      <td>20대</td>\n",
       "      <td>쇼핑;Well-ness 여행;SNS 인생샷 여행;인플루언서 따라하기 여행;친환경 여...</td>\n",
       "      <td>2023-09-16</td>\n",
       "      <td>2023-09-17</td>\n",
       "      <td>지역 문화예술/공연/전시시설 관람;SNS 인생샷 여행;쇼핑</td>\n",
       "      <td>[버스 + 지하철, 새마을/무궁화열차]</td>\n",
       "      <td>15,700.00</td>\n",
       "      <td>[쇼핑 / 구매]</td>\n",
       "      <td>102,700.00</td>\n",
       "    </tr>\n",
       "    <tr>\n",
       "      <th>...</th>\n",
       "      <td>...</td>\n",
       "      <td>...</td>\n",
       "      <td>...</td>\n",
       "      <td>...</td>\n",
       "      <td>...</td>\n",
       "      <td>...</td>\n",
       "      <td>...</td>\n",
       "      <td>...</td>\n",
       "      <td>...</td>\n",
       "      <td>...</td>\n",
       "      <td>...</td>\n",
       "      <td>...</td>\n",
       "      <td>...</td>\n",
       "      <td>...</td>\n",
       "      <td>...</td>\n",
       "      <td>...</td>\n",
       "      <td>...</td>\n",
       "      <td>...</td>\n",
       "      <td>...</td>\n",
       "      <td>...</td>\n",
       "      <td>...</td>\n",
       "      <td>...</td>\n",
       "      <td>...</td>\n",
       "      <td>...</td>\n",
       "      <td>...</td>\n",
       "      <td>...</td>\n",
       "      <td>...</td>\n",
       "      <td>...</td>\n",
       "      <td>...</td>\n",
       "      <td>...</td>\n",
       "      <td>...</td>\n",
       "      <td>...</td>\n",
       "    </tr>\n",
       "    <tr>\n",
       "      <th>513</th>\n",
       "      <td>여</td>\n",
       "      <td>30</td>\n",
       "      <td>사무 종사자</td>\n",
       "      <td>한달</td>\n",
       "      <td>26710</td>\n",
       "      <td>48840</td>\n",
       "      <td>46130</td>\n",
       "      <td>도시 선호(강)</td>\n",
       "      <td>자연 선호(강)</td>\n",
       "      <td>자연 선호(강)</td>\n",
       "      <td>자연 선호(강)</td>\n",
       "      <td>자연 선호(강)</td>\n",
       "      <td>자연 선호(중)</td>\n",
       "      <td>자연 선호(중)</td>\n",
       "      <td>도시 선호(강)</td>\n",
       "      <td>전라남도</td>\n",
       "      <td>전남</td>\n",
       "      <td>3대 동반 여행(친척 포함)</td>\n",
       "      <td>쉴 수 있는 기회, 육체 피로 해결 및 정신적인 휴식</td>\n",
       "      <td>6</td>\n",
       "      <td>g_g000199</td>\n",
       "      <td>부모</td>\n",
       "      <td>여자</td>\n",
       "      <td>50대</td>\n",
       "      <td>온천/스파;SNS 인생샷 여행;시티투어</td>\n",
       "      <td>2023-05-19</td>\n",
       "      <td>2023-05-21</td>\n",
       "      <td>테마파크, 놀이시설, 동/식물원 방문;SNS 인생샷 여행;온천/스파</td>\n",
       "      <td>[자가용(승용/승합/트럭 등등)]</td>\n",
       "      <td>7,200.00</td>\n",
       "      <td>[취식]</td>\n",
       "      <td>257,350.00</td>\n",
       "    </tr>\n",
       "    <tr>\n",
       "      <th>514</th>\n",
       "      <td>여</td>\n",
       "      <td>30</td>\n",
       "      <td>사무 종사자</td>\n",
       "      <td>한달</td>\n",
       "      <td>26710</td>\n",
       "      <td>48840</td>\n",
       "      <td>46130</td>\n",
       "      <td>도시 선호(강)</td>\n",
       "      <td>자연 선호(강)</td>\n",
       "      <td>자연 선호(강)</td>\n",
       "      <td>자연 선호(강)</td>\n",
       "      <td>자연 선호(강)</td>\n",
       "      <td>자연 선호(중)</td>\n",
       "      <td>자연 선호(중)</td>\n",
       "      <td>도시 선호(강)</td>\n",
       "      <td>전라남도</td>\n",
       "      <td>전남</td>\n",
       "      <td>3대 동반 여행(친척 포함)</td>\n",
       "      <td>쉴 수 있는 기회, 육체 피로 해결 및 정신적인 휴식</td>\n",
       "      <td>6</td>\n",
       "      <td>g_g000199</td>\n",
       "      <td>자녀</td>\n",
       "      <td>여자</td>\n",
       "      <td>~9세이하</td>\n",
       "      <td>온천/스파;SNS 인생샷 여행;시티투어</td>\n",
       "      <td>2023-05-19</td>\n",
       "      <td>2023-05-21</td>\n",
       "      <td>테마파크, 놀이시설, 동/식물원 방문;SNS 인생샷 여행;온천/스파</td>\n",
       "      <td>[자가용(승용/승합/트럭 등등)]</td>\n",
       "      <td>7,200.00</td>\n",
       "      <td>[취식]</td>\n",
       "      <td>257,350.00</td>\n",
       "    </tr>\n",
       "    <tr>\n",
       "      <th>515</th>\n",
       "      <td>여</td>\n",
       "      <td>30</td>\n",
       "      <td>사무 종사자</td>\n",
       "      <td>한달</td>\n",
       "      <td>26710</td>\n",
       "      <td>48840</td>\n",
       "      <td>46130</td>\n",
       "      <td>도시 선호(강)</td>\n",
       "      <td>자연 선호(강)</td>\n",
       "      <td>자연 선호(강)</td>\n",
       "      <td>자연 선호(강)</td>\n",
       "      <td>자연 선호(강)</td>\n",
       "      <td>자연 선호(중)</td>\n",
       "      <td>자연 선호(중)</td>\n",
       "      <td>도시 선호(강)</td>\n",
       "      <td>전라남도</td>\n",
       "      <td>전남</td>\n",
       "      <td>3대 동반 여행(친척 포함)</td>\n",
       "      <td>쉴 수 있는 기회, 육체 피로 해결 및 정신적인 휴식</td>\n",
       "      <td>6</td>\n",
       "      <td>g_g000199</td>\n",
       "      <td>형제/자매</td>\n",
       "      <td>여자</td>\n",
       "      <td>30대</td>\n",
       "      <td>온천/스파;SNS 인생샷 여행;시티투어</td>\n",
       "      <td>2023-05-19</td>\n",
       "      <td>2023-05-21</td>\n",
       "      <td>테마파크, 놀이시설, 동/식물원 방문;SNS 인생샷 여행;온천/스파</td>\n",
       "      <td>[자가용(승용/승합/트럭 등등)]</td>\n",
       "      <td>7,200.00</td>\n",
       "      <td>[취식]</td>\n",
       "      <td>257,350.00</td>\n",
       "    </tr>\n",
       "    <tr>\n",
       "      <th>516</th>\n",
       "      <td>남</td>\n",
       "      <td>60</td>\n",
       "      <td>사무 종사자</td>\n",
       "      <td>1년</td>\n",
       "      <td>46910</td>\n",
       "      <td>46150</td>\n",
       "      <td>42820</td>\n",
       "      <td>자연 선호(중)</td>\n",
       "      <td>자연 선호(중)</td>\n",
       "      <td>자연 선호(강)</td>\n",
       "      <td>도시 선호(약)</td>\n",
       "      <td>자연 선호(중)</td>\n",
       "      <td>도시 선호(중)</td>\n",
       "      <td>자연 선호(중)</td>\n",
       "      <td>도시 선호(중)</td>\n",
       "      <td>광주광역시</td>\n",
       "      <td>전남</td>\n",
       "      <td>2인 가족 여행</td>\n",
       "      <td>쉴 수 있는 기회, 육체 피로 해결 및 정신적인 휴식</td>\n",
       "      <td>1</td>\n",
       "      <td>g_g004404</td>\n",
       "      <td>배우자</td>\n",
       "      <td>여자</td>\n",
       "      <td>60대</td>\n",
       "      <td>테마파크, 놀이시설, 동/식물원 방문;SNS 인생샷 여행;지역 문화예술/공연/전시시...</td>\n",
       "      <td>2023-07-27</td>\n",
       "      <td>2023-07-29</td>\n",
       "      <td>테마파크, 놀이시설, 동/식물원 방문;역사 유적지 방문;SNS 인생샷 여행</td>\n",
       "      <td>[자가용(승용/승합/트럭 등등)]</td>\n",
       "      <td>42,134.00</td>\n",
       "      <td>[단순 구경 / 산책 / 걷기]</td>\n",
       "      <td>128,000.00</td>\n",
       "    </tr>\n",
       "    <tr>\n",
       "      <th>517</th>\n",
       "      <td>여</td>\n",
       "      <td>40</td>\n",
       "      <td>사무 종사자</td>\n",
       "      <td>한달</td>\n",
       "      <td>45110</td>\n",
       "      <td>50130</td>\n",
       "      <td>42110</td>\n",
       "      <td>자연 선호(중)</td>\n",
       "      <td>도시 선호(약)</td>\n",
       "      <td>자연 선호(약)</td>\n",
       "      <td>도시 선호(중)</td>\n",
       "      <td>자연 선호(약)</td>\n",
       "      <td>중립</td>\n",
       "      <td>도시 선호(중)</td>\n",
       "      <td>도시 선호(약)</td>\n",
       "      <td>경기도</td>\n",
       "      <td>충남</td>\n",
       "      <td>2인 가족 여행</td>\n",
       "      <td>쉴 수 있는 기회, 육체 피로 해결 및 정신적인 휴식</td>\n",
       "      <td>1</td>\n",
       "      <td>g_g003811</td>\n",
       "      <td>배우자</td>\n",
       "      <td>남자</td>\n",
       "      <td>30대</td>\n",
       "      <td>쇼핑;SNS 인생샷 여행;신규 여행지 발굴;역사 유적지 방문</td>\n",
       "      <td>2023-07-08</td>\n",
       "      <td>2023-07-10</td>\n",
       "      <td>신규 여행지 발굴;역사 유적지 방문;Well-ness 여행</td>\n",
       "      <td>[자가용(승용/승합/트럭 등등)]</td>\n",
       "      <td>8,800.00</td>\n",
       "      <td>[체험 활동 / 입장 및 관람, 취식, 휴식]</td>\n",
       "      <td>96,600.00</td>\n",
       "    </tr>\n",
       "  </tbody>\n",
       "</table>\n",
       "<p>518 rows × 32 columns</p>\n",
       "</div>"
      ],
      "text/plain": [
       "    GENDER  AGE_GRP  JOB_NM TRAVEL_TERM  TRAVEL_LIKE_SGG_1  TRAVEL_LIKE_SGG_2  TRAVEL_LIKE_SGG_3 TRAVEL_STYL_1 TRAVEL_STYL_2 TRAVEL_STYL_3 TRAVEL_STYL_4 TRAVEL_STYL_5 TRAVEL_STYL_6 TRAVEL_STYL_7 TRAVEL_STYL_8 TRAVEL_STATUS_RESIDENCE TRAVEL_STATUS_DESTINATION TRAVEL_STATUS_ACCOMPANY                  TRAVEL_MOTIVE  TRAVEL_COMPANIONS_NUM  TRAVEL_ID REL_CD COMPANION_GENDER COMPANION_AGE_GRP                                     TRAVEL_PURPOSE TRAVEL_START_YMD TRAVEL_END_YMD                       TRAVEL_MISSION_CHECK        MAJOR_TRANSPORT  TOTAL_MVMN_WON        MAJOR_ACTIVITY_TYPE  TOTAL_ACTIVITY_WON\n",
       "0        남       30  판매 종사자          한달              42210              44825              41270      자연 선호(강)      자연 선호(강)      자연 선호(중)      자연 선호(강)      자연 선호(강)      도시 선호(강)      도시 선호(강)      도시 선호(강)                     경기도                        충남                자녀 동반 여행  쉴 수 있는 기회, 육체 피로 해결 및 정신적인 휴식                      4  g_g005903    배우자               여자               30대         쇼핑;SNS 인생샷 여행;인플루언서 따라하기 여행;야외 스포츠, 레포츠 활동       2023-08-12     2023-08-15    야외 스포츠, 레포츠 활동;SNS 인생샷 여행;교육/체험 프로그램 참가     [자가용(승용/승합/트럭 등등)]      119,000.00                       [취식]          336,010.00\n",
       "1        남       30  판매 종사자          한달              42210              44825              41270      자연 선호(강)      자연 선호(강)      자연 선호(중)      자연 선호(강)      자연 선호(강)      도시 선호(강)      도시 선호(강)      도시 선호(강)                     경기도                        충남                자녀 동반 여행  쉴 수 있는 기회, 육체 피로 해결 및 정신적인 휴식                      4  g_g005903     부모               여자               60대         쇼핑;SNS 인생샷 여행;인플루언서 따라하기 여행;야외 스포츠, 레포츠 활동       2023-08-12     2023-08-15    야외 스포츠, 레포츠 활동;SNS 인생샷 여행;교육/체험 프로그램 참가     [자가용(승용/승합/트럭 등등)]      119,000.00                       [취식]          336,010.00\n",
       "2        남       30  판매 종사자          한달              42210              44825              41270      자연 선호(강)      자연 선호(강)      자연 선호(중)      자연 선호(강)      자연 선호(강)      도시 선호(강)      도시 선호(강)      도시 선호(강)                     경기도                        충남                자녀 동반 여행  쉴 수 있는 기회, 육체 피로 해결 및 정신적인 휴식                      4  g_g005903     자녀               여자             ~9세이하         쇼핑;SNS 인생샷 여행;인플루언서 따라하기 여행;야외 스포츠, 레포츠 활동       2023-08-12     2023-08-15    야외 스포츠, 레포츠 활동;SNS 인생샷 여행;교육/체험 프로그램 참가     [자가용(승용/승합/트럭 등등)]      119,000.00                       [취식]          336,010.00\n",
       "3        남       30  판매 종사자          한달              42210              44825              41270      자연 선호(강)      자연 선호(강)      자연 선호(중)      자연 선호(강)      자연 선호(강)      도시 선호(강)      도시 선호(강)      도시 선호(강)                     경기도                        충남                자녀 동반 여행  쉴 수 있는 기회, 육체 피로 해결 및 정신적인 휴식                      4  g_g005903     기타               여자               30대         쇼핑;SNS 인생샷 여행;인플루언서 따라하기 여행;야외 스포츠, 레포츠 활동       2023-08-12     2023-08-15    야외 스포츠, 레포츠 활동;SNS 인생샷 여행;교육/체험 프로그램 참가     [자가용(승용/승합/트럭 등등)]      119,000.00                       [취식]          336,010.00\n",
       "4        여       20      기타          한달              50130              26350              30140      자연 선호(약)      도시 선호(중)      도시 선호(중)      자연 선호(중)      자연 선호(중)      도시 선호(약)      도시 선호(중)      도시 선호(약)                    충청남도                        대전             2인 여행(가족 외)     일상적인 환경 및 역할에서의 탈출, 지루함 탈피                      1  g_g011387     친구               여자               20대  쇼핑;Well-ness 여행;SNS 인생샷 여행;인플루언서 따라하기 여행;친환경 여...       2023-09-16     2023-09-17           지역 문화예술/공연/전시시설 관람;SNS 인생샷 여행;쇼핑  [버스 + 지하철, 새마을/무궁화열차]       15,700.00                  [쇼핑 / 구매]          102,700.00\n",
       "..     ...      ...     ...         ...                ...                ...                ...           ...           ...           ...           ...           ...           ...           ...           ...                     ...                       ...                     ...                            ...                    ...        ...    ...              ...               ...                                                ...              ...            ...                                        ...                    ...             ...                        ...                 ...\n",
       "513      여       30  사무 종사자          한달              26710              48840              46130      도시 선호(강)      자연 선호(강)      자연 선호(강)      자연 선호(강)      자연 선호(강)      자연 선호(중)      자연 선호(중)      도시 선호(강)                    전라남도                        전남         3대 동반 여행(친척 포함)  쉴 수 있는 기회, 육체 피로 해결 및 정신적인 휴식                      6  g_g000199     부모               여자               50대                              온천/스파;SNS 인생샷 여행;시티투어       2023-05-19     2023-05-21      테마파크, 놀이시설, 동/식물원 방문;SNS 인생샷 여행;온천/스파     [자가용(승용/승합/트럭 등등)]        7,200.00                       [취식]          257,350.00\n",
       "514      여       30  사무 종사자          한달              26710              48840              46130      도시 선호(강)      자연 선호(강)      자연 선호(강)      자연 선호(강)      자연 선호(강)      자연 선호(중)      자연 선호(중)      도시 선호(강)                    전라남도                        전남         3대 동반 여행(친척 포함)  쉴 수 있는 기회, 육체 피로 해결 및 정신적인 휴식                      6  g_g000199     자녀               여자             ~9세이하                              온천/스파;SNS 인생샷 여행;시티투어       2023-05-19     2023-05-21      테마파크, 놀이시설, 동/식물원 방문;SNS 인생샷 여행;온천/스파     [자가용(승용/승합/트럭 등등)]        7,200.00                       [취식]          257,350.00\n",
       "515      여       30  사무 종사자          한달              26710              48840              46130      도시 선호(강)      자연 선호(강)      자연 선호(강)      자연 선호(강)      자연 선호(강)      자연 선호(중)      자연 선호(중)      도시 선호(강)                    전라남도                        전남         3대 동반 여행(친척 포함)  쉴 수 있는 기회, 육체 피로 해결 및 정신적인 휴식                      6  g_g000199  형제/자매               여자               30대                              온천/스파;SNS 인생샷 여행;시티투어       2023-05-19     2023-05-21      테마파크, 놀이시설, 동/식물원 방문;SNS 인생샷 여행;온천/스파     [자가용(승용/승합/트럭 등등)]        7,200.00                       [취식]          257,350.00\n",
       "516      남       60  사무 종사자          1년              46910              46150              42820      자연 선호(중)      자연 선호(중)      자연 선호(강)      도시 선호(약)      자연 선호(중)      도시 선호(중)      자연 선호(중)      도시 선호(중)                   광주광역시                        전남                2인 가족 여행  쉴 수 있는 기회, 육체 피로 해결 및 정신적인 휴식                      1  g_g004404    배우자               여자               60대  테마파크, 놀이시설, 동/식물원 방문;SNS 인생샷 여행;지역 문화예술/공연/전시시...       2023-07-27     2023-07-29  테마파크, 놀이시설, 동/식물원 방문;역사 유적지 방문;SNS 인생샷 여행     [자가용(승용/승합/트럭 등등)]       42,134.00          [단순 구경 / 산책 / 걷기]          128,000.00\n",
       "517      여       40  사무 종사자          한달              45110              50130              42110      자연 선호(중)      도시 선호(약)      자연 선호(약)      도시 선호(중)      자연 선호(약)            중립      도시 선호(중)      도시 선호(약)                     경기도                        충남                2인 가족 여행  쉴 수 있는 기회, 육체 피로 해결 및 정신적인 휴식                      1  g_g003811    배우자               남자               30대                  쇼핑;SNS 인생샷 여행;신규 여행지 발굴;역사 유적지 방문       2023-07-08     2023-07-10           신규 여행지 발굴;역사 유적지 방문;Well-ness 여행     [자가용(승용/승합/트럭 등등)]        8,800.00  [체험 활동 / 입장 및 관람, 취식, 휴식]           96,600.00\n",
       "\n",
       "[518 rows x 32 columns]"
      ]
     },
     "execution_count": 1278,
     "metadata": {},
     "output_type": "execute_result"
    }
   ],
   "source": [
    "# 숙박소비내역.csv, 사전소비내역.csv 제외하고 merge\n",
    "# 첫 번째 merge\n",
    "travel_log = pd.merge(traveller_master, companion_info, on='TRAVEL_ID', how='left')\n",
    "# 두 번째 merge\n",
    "travel_log = pd.merge(travel_log, travel, on='TRAVEL_ID', how='left')\n",
    "# 세 번째 merge\n",
    "travel_log = pd.merge(travel_log, mvmn_consume_new, on='TRAVEL_ID', how='left')\n",
    "# 네 번째 merge\n",
    "travel_log = pd.merge(travel_log, activity_new, on='TRAVEL_ID', how='left')\n",
    "# 다섯 번째 merge\n",
    "travel_log = pd.merge(travel_log, activity_consume_new, on='TRAVEL_ID', how='left')\n",
    "\n",
    "# 결과 확인\n",
    "travel_log"
   ]
  },
  {
   "cell_type": "markdown",
   "metadata": {},
   "source": [
    "1. 이상치 확인 - 총소비액 변수들 이상치 확인"
   ]
  },
  {
   "cell_type": "markdown",
   "metadata": {},
   "source": [
    "<1> TOTAL_MVMN_WON"
   ]
  },
  {
   "cell_type": "code",
   "execution_count": 1279,
   "metadata": {},
   "outputs": [
    {
     "data": {
      "image/png": "[encoded data removed]",
      "text/plain": [
       "<Figure size 1000x600 with 1 Axes>"
      ]
     },
     "metadata": {},
     "output_type": "display_data"
    }
   ],
   "source": [
    "# Boxplot 그리기\n",
    "plt.figure(figsize=(10, 6))\n",
    "sns.boxplot(data=travel_log, x='TOTAL_MVMN_WON')\n",
    "plt.title('TOTAL_MVMN_WON의 Boxplot')\n",
    "plt.xlabel('TOTAL_MVMN_WON')\n",
    "plt.show()"
   ]
  },
  {
   "cell_type": "markdown",
   "metadata": {},
   "source": [
    "> BOXPLOT의 이상치 기준인 1.5IQR을 넘어서는 수치는 많지만, 해당 수치들은 대부분 모여 있으며 분석에 필요한 데이터들이므로, 350000 이상의 데이터만 제거하기로 결정함"
   ]
  },
  {
   "cell_type": "code",
   "execution_count": 1280,
   "metadata": {},
   "outputs": [
    {
     "data": {
      "image/png": "[encoded data removed]",
      "text/plain": [
       "<Figure size 1000x600 with 1 Axes>"
      ]
     },
     "metadata": {},
     "output_type": "display_data"
    }
   ],
   "source": [
    "# 'TOTAL_MVMN_WON' 400000 이상의 값 제거\n",
    "travel_log = travel_log[travel_log['TOTAL_MVMN_WON'] < 350000]\n",
    "\n",
    "# Boxplot 그리기\n",
    "plt.figure(figsize=(10, 6))\n",
    "sns.boxplot(data=travel_log, x='TOTAL_MVMN_WON')\n",
    "plt.title('TOTAL_MVMN_WON의 Boxplot')\n",
    "plt.xlabel('TOTAL_MVMN_WON')\n",
    "plt.show()\n"
   ]
  },
  {
   "cell_type": "markdown",
   "metadata": {},
   "source": [
    "<2> TOTAL_ACTIVITY_WON"
   ]
  },
  {
   "cell_type": "code",
   "execution_count": 1281,
   "metadata": {},
   "outputs": [
    {
     "data": {
      "image/png": "[encoded data removed]",
      "text/plain": [
       "<Figure size 1000x600 with 1 Axes>"
      ]
     },
     "metadata": {},
     "output_type": "display_data"
    }
   ],
   "source": [
    "# Boxplot 그리기\n",
    "plt.figure(figsize=(10, 6))\n",
    "sns.boxplot(data=travel_log, x='TOTAL_ACTIVITY_WON')\n",
    "plt.title('TOTAL_ACTIVITY_WON의 Boxplot')\n",
    "plt.xlabel('TOTAL_ACTIVITY_WON')\n",
    "plt.show()"
   ]
  },
  {
   "cell_type": "markdown",
   "metadata": {},
   "source": [
    "> BOXPLOT의 이상치 기준인 1.5IQR을 넘어서는 수치는 많지만, 해당 수치들은 대부분 모여 있으며 분석에 필요한 데이터들이므로, 현재 x축 단위인 1e6 기준으로 0.8 이상의 데이터만 제거하기로 결정함"
   ]
  },
  {
   "cell_type": "code",
   "execution_count": 1282,
   "metadata": {},
   "outputs": [
    {
     "data": {
      "image/png": "[encoded data removed]",
      "text/plain": [
       "<Figure size 1000x600 with 1 Axes>"
      ]
     },
     "metadata": {},
     "output_type": "display_data"
    }
   ],
   "source": [
    "# 1 이상인 값을 제거\n",
    "travel_log = travel_log[travel_log['TOTAL_ACTIVITY_WON'] < 800000]\n",
    "\n",
    "# Boxplot 그리기\n",
    "plt.figure(figsize=(10, 6))\n",
    "sns.boxplot(data=travel_log, x='TOTAL_ACTIVITY_WON')\n",
    "plt.title('TOTAL_ACTIVITY_WON의 Boxplot')\n",
    "plt.xlabel('TOTAL_ACTIVITY_WON')\n",
    "plt.show()\n"
   ]
  },
  {
   "cell_type": "markdown",
   "metadata": {},
   "source": [
    "2. 결측치 처리 - 동반자정보 관련 변수인 REL_CD, COMPANION_GENDER, COMPANION_AGE_GRP 발생 이유 분석 위해 '나홀로 여행'인지 검증"
   ]
  },
  {
   "cell_type": "code",
   "execution_count": 1283,
   "metadata": {},
   "outputs": [
    {
     "name": "stdout",
     "output_type": "stream",
     "text": [
      "REL_CD가 결측치이고, TRAVEL_STATUS_ACCOMPANY가 '나홀로 여행'인 데이터의 개수: 49\n"
     ]
    }
   ],
   "source": [
    "# REL_CD가 결측치이고, TRAVEL_STATUS_ACCOMPANY가 '나홀로 여행'인 데이터 필터링\n",
    "missing_rel_cd_and_solotravel = travel_log[(travel_log['REL_CD'].isnull()) & (travel_log['TRAVEL_STATUS_ACCOMPANY'] == '나홀로 여행')]\n",
    "\n",
    "# 해당 데이터의 개수\n",
    "count = missing_rel_cd_and_solotravel.shape[0]\n",
    "\n",
    "print(f\"REL_CD가 결측치이고, TRAVEL_STATUS_ACCOMPANY가 '나홀로 여행'인 데이터의 개수: {count}\")"
   ]
  },
  {
   "cell_type": "code",
   "execution_count": 1284,
   "metadata": {},
   "outputs": [
    {
     "name": "stdout",
     "output_type": "stream",
     "text": [
      "Empty DataFrame\n",
      "Columns: [GENDER, AGE_GRP, JOB_NM, TRAVEL_TERM, TRAVEL_LIKE_SGG_1, TRAVEL_LIKE_SGG_2, TRAVEL_LIKE_SGG_3, TRAVEL_STYL_1, TRAVEL_STYL_2, TRAVEL_STYL_3, TRAVEL_STYL_4, TRAVEL_STYL_5, TRAVEL_STYL_6, TRAVEL_STYL_7, TRAVEL_STYL_8, TRAVEL_STATUS_RESIDENCE, TRAVEL_STATUS_DESTINATION, TRAVEL_STATUS_ACCOMPANY, TRAVEL_MOTIVE, TRAVEL_COMPANIONS_NUM, TRAVEL_ID, REL_CD, COMPANION_GENDER, COMPANION_AGE_GRP, TRAVEL_PURPOSE, TRAVEL_START_YMD, TRAVEL_END_YMD, TRAVEL_MISSION_CHECK, MAJOR_TRANSPORT, TOTAL_MVMN_WON, MAJOR_ACTIVITY_TYPE, TOTAL_ACTIVITY_WON]\n",
      "Index: []\n"
     ]
    }
   ],
   "source": [
    "# REL_CD가 결측치이고, TRAVEL_STATUS_ACCOMPANY가 '나홀로 여행'이 아닌 데이터 필터링\n",
    "filtered_data = travel_log[travel_log['REL_CD'].isnull() & (travel_log['TRAVEL_STATUS_ACCOMPANY'] != '나홀로 여행')]\n",
    "\n",
    "# 결과 출력\n",
    "print(filtered_data)"
   ]
  },
  {
   "cell_type": "code",
   "execution_count": 1285,
   "metadata": {},
   "outputs": [
    {
     "name": "stdout",
     "output_type": "stream",
     "text": [
      "REL_CD               0\n",
      "COMPANION_GENDER     0\n",
      "COMPANION_AGE_GRP    0\n",
      "dtype: int64\n"
     ]
    }
   ],
   "source": [
    "# '나홀로 여행'인 경우 동반자 정보 결측치를 처리\n",
    "travel_log.loc[\n",
    "    (travel_log['REL_CD'].isnull()) & (travel_log['TRAVEL_STATUS_ACCOMPANY'] == '나홀로 여행'), \n",
    "    ['REL_CD', 'COMPANION_GENDER', 'COMPANION_AGE_GRP']\n",
    "] = ['없음', '없음', '없음']\n",
    "\n",
    "# '나홀로 여행'이 아닌 경우 해당 행 삭제\n",
    "travel_log = travel_log.drop(\n",
    "    travel_log[(travel_log['REL_CD'].isnull()) & (travel_log['TRAVEL_STATUS_ACCOMPANY'] != '나홀로 여행')].index\n",
    ")\n",
    "\n",
    "# 결과 확인\n",
    "null_status = travel_log[['REL_CD', 'COMPANION_GENDER', 'COMPANION_AGE_GRP']].isnull().sum()\n",
    "print(null_status)"
   ]
  },
  {
   "cell_type": "markdown",
   "metadata": {},
   "source": [
    "3. 결측치 처리 - MAJOR_TRANSPORT의 결측치는 없음으로, TOTAL_MVMN_WON의 결측치는 현재 TOTAL_MVMN_WON의 평균값으로 대체"
   ]
  },
  {
   "cell_type": "code",
   "execution_count": 1286,
   "metadata": {},
   "outputs": [
    {
     "name": "stdout",
     "output_type": "stream",
     "text": [
      "MAJOR_TRANSPORT    0\n",
      "TOTAL_MVMN_WON     0\n",
      "dtype: int64\n"
     ]
    }
   ],
   "source": [
    "# MAJOR_TRANSPORT 결측치 처리\n",
    "travel_log['MAJOR_TRANSPORT'].fillna('없음', inplace=True)\n",
    "\n",
    "# TOTAL_MVMN_WON 결측치 처리\n",
    "mean_total_mvmn_won = travel_log['TOTAL_MVMN_WON'].mean()\n",
    "travel_log['TOTAL_MVMN_WON'].fillna(mean_total_mvmn_won, inplace=True)\n",
    "\n",
    "# 결측치 처리 후 데이터 상태 확인\n",
    "null_status = travel_log[['MAJOR_TRANSPORT', 'TOTAL_MVMN_WON']].isnull().sum()\n",
    "print(null_status)"
   ]
  },
  {
   "cell_type": "markdown",
   "metadata": {},
   "source": [
    "4. 결측치 처리 - TOTAL_ACTIVITY_WON의 결측치를 현재 TOTAL_ACTIVITY_WON의 평균값으로 대체"
   ]
  },
  {
   "cell_type": "code",
   "execution_count": 1287,
   "metadata": {},
   "outputs": [
    {
     "name": "stdout",
     "output_type": "stream",
     "text": [
      "0\n"
     ]
    }
   ],
   "source": [
    "# TOTAL_ACTIVITY_WON 결측치의 평균값 계산\n",
    "mean_total_activity_won = travel_log['TOTAL_ACTIVITY_WON'].mean()\n",
    "\n",
    "# 결측치를 평균값으로 대체\n",
    "travel_log['TOTAL_ACTIVITY_WON'].fillna(mean_total_activity_won, inplace=True)\n",
    "\n",
    "# 결측치 처리 후 데이터 상태 확인\n",
    "null_status_activity = travel_log['TOTAL_ACTIVITY_WON'].isnull().sum()\n",
    "print(null_status_activity)"
   ]
  },
  {
   "cell_type": "markdown",
   "metadata": {},
   "source": [
    "5. 이후 추가 분석시 사용하기 위해 이동수단총소비액과 활동총소비액을 합친 총소비액 파생변수 추가"
   ]
  },
  {
   "cell_type": "code",
   "execution_count": 1288,
   "metadata": {},
   "outputs": [
    {
     "name": "stdout",
     "output_type": "stream",
     "text": [
      "   TOTAL_MVMN_WON  TOTAL_ACTIVITY_WON  TOTAL_WON\n",
      "0      119,000.00          336,010.00 455,010.00\n",
      "1      119,000.00          336,010.00 455,010.00\n",
      "2      119,000.00          336,010.00 455,010.00\n",
      "3      119,000.00          336,010.00 455,010.00\n",
      "4       15,700.00          102,700.00 118,400.00\n"
     ]
    }
   ],
   "source": [
    "# TOTAL_WON 파생변수 추가\n",
    "travel_log['TOTAL_WON'] = travel_log['TOTAL_MVMN_WON'] + travel_log['TOTAL_ACTIVITY_WON']\n",
    "\n",
    "# 결과 확인\n",
    "print(travel_log[['TOTAL_MVMN_WON', 'TOTAL_ACTIVITY_WON', 'TOTAL_WON']].head())"
   ]
  },
  {
   "cell_type": "markdown",
   "metadata": {},
   "source": [
    "6. 이후 추가 분석시 사용하기 위해 여행 기간 파생변수 추가"
   ]
  },
  {
   "cell_type": "code",
   "execution_count": 1289,
   "metadata": {},
   "outputs": [
    {
     "name": "stdout",
     "output_type": "stream",
     "text": [
      "   TRAVEL_START_YMD TRAVEL_END_YMD  TRAVEL_DURATION\n",
      "0        2023-08-12     2023-08-15                3\n",
      "1        2023-08-12     2023-08-15                3\n",
      "2        2023-08-12     2023-08-15                3\n",
      "3        2023-08-12     2023-08-15                3\n",
      "4        2023-09-16     2023-09-17                1\n",
      "5        2023-07-05     2023-07-06                1\n",
      "6        2023-07-05     2023-07-06                1\n",
      "7        2023-06-16     2023-06-18                2\n",
      "8        2023-09-28     2023-09-29                1\n",
      "9        2023-06-17     2023-06-19                2\n",
      "10       2023-08-11     2023-08-12                1\n",
      "11       2023-08-23     2023-08-24                1\n",
      "12       2023-08-15     2023-08-16                1\n",
      "13       2023-08-26     2023-08-28                2\n",
      "15       2023-07-14     2023-07-16                2\n",
      "16       2023-07-14     2023-07-16                2\n",
      "17       2023-09-08     2023-09-09                1\n",
      "18       2023-08-31     2023-09-01                1\n",
      "19       2023-05-20     2023-05-22                2\n",
      "20       2023-05-20     2023-05-22                2\n",
      "21       2023-09-16     2023-09-17                1\n",
      "22       2023-09-16     2023-09-17                1\n",
      "23       2023-09-16     2023-09-17                1\n",
      "24       2023-09-16     2023-09-17                1\n",
      "25       2023-05-20     2023-05-22                2\n",
      "26       2023-09-10     2023-09-11                1\n",
      "27       2023-07-22     2023-07-23                1\n",
      "28       2023-08-06     2023-08-08                2\n",
      "29       2023-09-02     2023-09-03                1\n",
      "30       2023-08-26     2023-08-28                2\n",
      "31       2023-08-26     2023-08-28                2\n",
      "32       2023-07-31     2023-08-02                2\n",
      "33       2023-07-31     2023-08-02                2\n",
      "34       2023-09-09     2023-09-10                1\n",
      "35       2023-08-29     2023-08-30                1\n",
      "36       2023-07-29     2023-07-31                2\n",
      "38       2023-08-26     2023-08-27                1\n",
      "39       2023-05-19     2023-05-21                2\n",
      "46       2023-06-29     2023-07-01                2\n",
      "47       2023-08-20     2023-08-21                1\n",
      "48       2023-08-25     2023-08-26                1\n",
      "49       2023-09-02     2023-09-03                1\n",
      "50       2023-07-02     2023-07-03                1\n",
      "51       2023-07-02     2023-07-03                1\n",
      "52       2023-07-02     2023-07-03                1\n",
      "53       2023-07-03     2023-07-05                2\n",
      "54       2023-05-27     2023-05-29                2\n",
      "55       2023-05-27     2023-05-29                2\n",
      "56       2023-05-27     2023-05-29                2\n",
      "57       2023-05-27     2023-05-29                2\n"
     ]
    }
   ],
   "source": [
    "# 날짜 변환\n",
    "travel_log['TRAVEL_START_YMD'] = pd.to_datetime(travel_log['TRAVEL_START_YMD'])\n",
    "travel_log['TRAVEL_END_YMD'] = pd.to_datetime(travel_log['TRAVEL_END_YMD'])\n",
    "\n",
    "# 여행 기간 계산\n",
    "travel_log['TRAVEL_DURATION'] = (travel_log['TRAVEL_END_YMD'] - travel_log['TRAVEL_START_YMD']).dt.days\n",
    "\n",
    "# 결과 확인\n",
    "print(travel_log[['TRAVEL_START_YMD', 'TRAVEL_END_YMD', 'TRAVEL_DURATION']].head(50))"
   ]
  },
  {
   "cell_type": "markdown",
   "metadata": {},
   "source": [
    "7. 이후 추가 분석시 사용하기 위해 여행 계절 파생변수 추가"
   ]
  },
  {
   "cell_type": "code",
   "execution_count": 1290,
   "metadata": {},
   "outputs": [
    {
     "name": "stdout",
     "output_type": "stream",
     "text": [
      "   TRAVEL_START_YMD TRAVEL_END_YMD  TRAVEL_DURATION  SEASON\n",
      "0        2023-08-12     2023-08-15                3  Summer\n",
      "1        2023-08-12     2023-08-15                3  Summer\n",
      "2        2023-08-12     2023-08-15                3  Summer\n",
      "3        2023-08-12     2023-08-15                3  Summer\n",
      "4        2023-09-16     2023-09-17                1  Autumn\n",
      "5        2023-07-05     2023-07-06                1  Summer\n",
      "6        2023-07-05     2023-07-06                1  Summer\n",
      "7        2023-06-16     2023-06-18                2  Summer\n",
      "8        2023-09-28     2023-09-29                1  Autumn\n",
      "9        2023-06-17     2023-06-19                2  Summer\n",
      "10       2023-08-11     2023-08-12                1  Summer\n",
      "11       2023-08-23     2023-08-24                1  Summer\n",
      "12       2023-08-15     2023-08-16                1  Summer\n",
      "13       2023-08-26     2023-08-28                2  Summer\n",
      "15       2023-07-14     2023-07-16                2  Summer\n",
      "16       2023-07-14     2023-07-16                2  Summer\n",
      "17       2023-09-08     2023-09-09                1  Autumn\n",
      "18       2023-08-31     2023-09-01                1  Summer\n",
      "19       2023-05-20     2023-05-22                2  Spring\n",
      "20       2023-05-20     2023-05-22                2  Spring\n",
      "21       2023-09-16     2023-09-17                1  Autumn\n",
      "22       2023-09-16     2023-09-17                1  Autumn\n",
      "23       2023-09-16     2023-09-17                1  Autumn\n",
      "24       2023-09-16     2023-09-17                1  Autumn\n",
      "25       2023-05-20     2023-05-22                2  Spring\n",
      "26       2023-09-10     2023-09-11                1  Autumn\n",
      "27       2023-07-22     2023-07-23                1  Summer\n",
      "28       2023-08-06     2023-08-08                2  Summer\n",
      "29       2023-09-02     2023-09-03                1  Autumn\n",
      "30       2023-08-26     2023-08-28                2  Summer\n",
      "31       2023-08-26     2023-08-28                2  Summer\n",
      "32       2023-07-31     2023-08-02                2  Summer\n",
      "33       2023-07-31     2023-08-02                2  Summer\n",
      "34       2023-09-09     2023-09-10                1  Autumn\n",
      "35       2023-08-29     2023-08-30                1  Summer\n",
      "36       2023-07-29     2023-07-31                2  Summer\n",
      "38       2023-08-26     2023-08-27                1  Summer\n",
      "39       2023-05-19     2023-05-21                2  Spring\n",
      "46       2023-06-29     2023-07-01                2  Summer\n",
      "47       2023-08-20     2023-08-21                1  Summer\n",
      "48       2023-08-25     2023-08-26                1  Summer\n",
      "49       2023-09-02     2023-09-03                1  Autumn\n",
      "50       2023-07-02     2023-07-03                1  Summer\n",
      "51       2023-07-02     2023-07-03                1  Summer\n",
      "52       2023-07-02     2023-07-03                1  Summer\n",
      "53       2023-07-03     2023-07-05                2  Summer\n",
      "54       2023-05-27     2023-05-29                2  Spring\n",
      "55       2023-05-27     2023-05-29                2  Spring\n",
      "56       2023-05-27     2023-05-29                2  Spring\n",
      "57       2023-05-27     2023-05-29                2  Spring\n"
     ]
    }
   ],
   "source": [
    "# 계절별 분류 함수 정의\n",
    "def categorize_season(month):\n",
    "    if month in [3, 4, 5]:\n",
    "        return 'Spring'\n",
    "    elif month in [6, 7, 8]:\n",
    "        return 'Summer'\n",
    "    elif month in [9, 10, 11]:\n",
    "        return 'Autumn'\n",
    "    else:\n",
    "        return 'Winter'\n",
    "\n",
    "# 'TRAVEL_START_YMD'에서 월을 추출하여 계절 분류\n",
    "travel_log['SEASON'] = travel_log['TRAVEL_START_YMD'].dt.month.apply(categorize_season)\n",
    "\n",
    "# 결과 확인\n",
    "print(travel_log[['TRAVEL_START_YMD', 'TRAVEL_END_YMD', 'TRAVEL_DURATION', 'SEASON']].head(50))"
   ]
  },
  {
   "cell_type": "markdown",
   "metadata": {},
   "source": [
    "<h3>3. 전처리 후 확인</h3>"
   ]
  },
  {
   "cell_type": "code",
   "execution_count": 1291,
   "metadata": {},
   "outputs": [
    {
     "name": "stdout",
     "output_type": "stream",
     "text": [
      "merge 데이터의 행, 열 개수 : \n",
      "(456, 35)\n"
     ]
    }
   ],
   "source": [
    "# 데이터의 행, 열 개수 출력\n",
    "print('merge 데이터의 행, 열 개수 : ')\n",
    "print(travel_log.shape)"
   ]
  },
  {
   "cell_type": "code",
   "execution_count": 1292,
   "metadata": {},
   "outputs": [
    {
     "name": "stdout",
     "output_type": "stream",
     "text": [
      "merge 데이터의 구조와 타입 : \n",
      "<class 'pandas.core.frame.DataFrame'>\n",
      "Index: 456 entries, 0 to 517\n",
      "Data columns (total 35 columns):\n",
      " #   Column                     Non-Null Count  Dtype         \n",
      "---  ------                     --------------  -----         \n",
      " 0   GENDER                     456 non-null    object        \n",
      " 1   AGE_GRP                    456 non-null    int64         \n",
      " 2   JOB_NM                     456 non-null    object        \n",
      " 3   TRAVEL_TERM                456 non-null    object        \n",
      " 4   TRAVEL_LIKE_SGG_1          456 non-null    int64         \n",
      " 5   TRAVEL_LIKE_SGG_2          456 non-null    int64         \n",
      " 6   TRAVEL_LIKE_SGG_3          456 non-null    int64         \n",
      " 7   TRAVEL_STYL_1              456 non-null    object        \n",
      " 8   TRAVEL_STYL_2              456 non-null    object        \n",
      " 9   TRAVEL_STYL_3              456 non-null    object        \n",
      " 10  TRAVEL_STYL_4              456 non-null    object        \n",
      " 11  TRAVEL_STYL_5              456 non-null    object        \n",
      " 12  TRAVEL_STYL_6              456 non-null    object        \n",
      " 13  TRAVEL_STYL_7              456 non-null    object        \n",
      " 14  TRAVEL_STYL_8              456 non-null    object        \n",
      " 15  TRAVEL_STATUS_RESIDENCE    456 non-null    object        \n",
      " 16  TRAVEL_STATUS_DESTINATION  456 non-null    object        \n",
      " 17  TRAVEL_STATUS_ACCOMPANY    456 non-null    object        \n",
      " 18  TRAVEL_MOTIVE              456 non-null    object        \n",
      " 19  TRAVEL_COMPANIONS_NUM      456 non-null    int64         \n",
      " 20  TRAVEL_ID                  456 non-null    object        \n",
      " 21  REL_CD                     456 non-null    object        \n",
      " 22  COMPANION_GENDER           456 non-null    object        \n",
      " 23  COMPANION_AGE_GRP          456 non-null    object        \n",
      " 24  TRAVEL_PURPOSE             456 non-null    object        \n",
      " 25  TRAVEL_START_YMD           456 non-null    datetime64[ns]\n",
      " 26  TRAVEL_END_YMD             456 non-null    datetime64[ns]\n",
      " 27  TRAVEL_MISSION_CHECK       456 non-null    object        \n",
      " 28  MAJOR_TRANSPORT            456 non-null    object        \n",
      " 29  TOTAL_MVMN_WON             456 non-null    float64       \n",
      " 30  MAJOR_ACTIVITY_TYPE        456 non-null    object        \n",
      " 31  TOTAL_ACTIVITY_WON         456 non-null    float64       \n",
      " 32  TOTAL_WON                  456 non-null    float64       \n",
      " 33  TRAVEL_DURATION            456 non-null    int64         \n",
      " 34  SEASON                     456 non-null    object        \n",
      "dtypes: datetime64[ns](2), float64(3), int64(6), object(24)\n",
      "memory usage: 128.2+ KB\n",
      "None\n"
     ]
    }
   ],
   "source": [
    "# 데이터의 구조와 타입 확인\n",
    "print('merge 데이터의 구조와 타입 : ')\n",
    "print(travel_log.info())"
   ]
  },
  {
   "cell_type": "code",
   "execution_count": 1293,
   "metadata": {},
   "outputs": [
    {
     "name": "stdout",
     "output_type": "stream",
     "text": [
      "merge 데이터.csv의 결측치 : \n",
      "GENDER                       0\n",
      "AGE_GRP                      0\n",
      "JOB_NM                       0\n",
      "TRAVEL_TERM                  0\n",
      "TRAVEL_LIKE_SGG_1            0\n",
      "TRAVEL_LIKE_SGG_2            0\n",
      "TRAVEL_LIKE_SGG_3            0\n",
      "TRAVEL_STYL_1                0\n",
      "TRAVEL_STYL_2                0\n",
      "TRAVEL_STYL_3                0\n",
      "TRAVEL_STYL_4                0\n",
      "TRAVEL_STYL_5                0\n",
      "TRAVEL_STYL_6                0\n",
      "TRAVEL_STYL_7                0\n",
      "TRAVEL_STYL_8                0\n",
      "TRAVEL_STATUS_RESIDENCE      0\n",
      "TRAVEL_STATUS_DESTINATION    0\n",
      "TRAVEL_STATUS_ACCOMPANY      0\n",
      "TRAVEL_MOTIVE                0\n",
      "TRAVEL_COMPANIONS_NUM        0\n",
      "TRAVEL_ID                    0\n",
      "REL_CD                       0\n",
      "COMPANION_GENDER             0\n",
      "COMPANION_AGE_GRP            0\n",
      "TRAVEL_PURPOSE               0\n",
      "TRAVEL_START_YMD             0\n",
      "TRAVEL_END_YMD               0\n",
      "TRAVEL_MISSION_CHECK         0\n",
      "MAJOR_TRANSPORT              0\n",
      "TOTAL_MVMN_WON               0\n",
      "MAJOR_ACTIVITY_TYPE          0\n",
      "TOTAL_ACTIVITY_WON           0\n",
      "TOTAL_WON                    0\n",
      "TRAVEL_DURATION              0\n",
      "SEASON                       0\n",
      "dtype: int64\n"
     ]
    }
   ],
   "source": [
    "# 데이터의 결측치 확인\n",
    "print('merge 데이터.csv의 결측치 : ')\n",
    "print(travel_log.isnull().sum())"
   ]
  },
  {
   "cell_type": "markdown",
   "metadata": {},
   "source": [
    "<h3>4. 병합 CSV 저장</h3>"
   ]
  },
  {
   "cell_type": "code",
   "execution_count": 1294,
   "metadata": {},
   "outputs": [],
   "source": [
    "travel_log.to_csv('data/validation/merged_data/merge_validation.csv',index=False)"
   ]
  }
 ],
 "metadata": {
  "kernelspec": {
   "display_name": "base",
   "language": "python",
   "name": "python3"
  },
  "language_info": {
   "codemirror_mode": {
    "name": "ipython",
    "version": 3
   },
   "file_extension": ".py",
   "mimetype": "text/x-python",
   "name": "python",
   "nbconvert_exporter": "python",
   "pygments_lexer": "ipython3",
   "version": "3.11.7"
  }
 },
 "nbformat": 4,
 "nbformat_minor": 2
}
